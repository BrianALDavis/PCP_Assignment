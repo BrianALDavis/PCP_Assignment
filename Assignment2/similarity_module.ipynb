{
 "cells": [
  {
   "cell_type": "markdown",
   "metadata": {},
   "source": [
    "### PCP Assignment 2 Module 2 - similarity_module"
   ]
  },
  {
   "cell_type": "code",
   "execution_count": 1,
   "metadata": {},
   "outputs": [],
   "source": [
    "from load_dataset_module import read_File\n",
    "from load_dataset_module import Artist, Song, Track, IterRegistry, Extras   # Classes\n",
    "import pandas as pd\n",
    "import numpy as np\n",
    "import math\n",
    "from scipy.spatial import distance \n",
    "from numpy.linalg import norm\n",
    "from sklearn.metrics.pairwise import manhattan_distances\n",
    "from sklearn.metrics.pairwise import cosine_similarity\n",
    "\n",
    "# Disable warnings, these are not required for the user to see (might be removed)\n",
    "import warnings\n",
    "warnings.filterwarnings('ignore')\n",
    "\n",
    "# These will change over time\n",
    "from elasticsearch import Elasticsearch, RequestsHttpConnection\n",
    "from aws_requests_auth.boto_utils import BotoAWSRequestsAuth"
   ]
  },
  {
   "cell_type": "code",
   "execution_count": 2,
   "metadata": {},
   "outputs": [
    {
     "name": "stderr",
     "output_type": "stream",
     "text": [
      "WARNING:root:Watch out!\n"
     ]
    }
   ],
   "source": [
    "# Creating logging capabilities\n",
    "\n",
    "import logging\n",
    "logging.warning('Watch out!')  # will print a message to the console\n",
    "logging.info('I told you so')  # will not print anything"
   ]
  },
  {
   "cell_type": "code",
   "execution_count": 3,
   "metadata": {},
   "outputs": [],
   "source": [
    "#print(help(Track))"
   ]
  },
  {
   "cell_type": "code",
   "execution_count": 4,
   "metadata": {},
   "outputs": [],
   "source": [
    "# new_artist = read_wholeFile()\n",
    "# #print(new_artist[45].getName())\n",
    "\n",
    "# fname = 'Carl'\n",
    "# lname = \"W\"\n",
    "\n",
    "# i = 0\n",
    "# for i in range(0, len(new_artist)):\n",
    "#     if fname + \" \" + lname in new_artist[i].getName():\n",
    "#         print(\"Index\", i ,\":\",new_artist[i].getName())"
   ]
  },
  {
   "cell_type": "code",
   "execution_count": 5,
   "metadata": {},
   "outputs": [],
   "source": [
    "def search_artist(list_name):\n",
    "    try:\n",
    "        fName = str(input(\"Please enter the first name of the artist you want to find: \").strip().capitalize())\n",
    "        lName = str(input(\"Please enter the surname of the artist you want to find. At least an Initial entry is required: \"\\\n",
    "                         ).strip().capitalize())\n",
    "    \n",
    "        # Create empty dictionary and lists for the inputs\n",
    "        results_dict = {}\n",
    "        result_names = []\n",
    "        result_songs = []\n",
    "        result_id = []\n",
    "        num = 0 # Index for printing results\n",
    "        \n",
    "        # Loop through the dictionary, extract all matching artist + song values\n",
    "        for i in range(0, len(list_name)): # range of the whole class-based list\n",
    "            if fName + \" \" + lName in list_name[i].getName():\n",
    "                result_names.append(list_name[i].getName())\n",
    "                result_songs.append(list_name[i].getSongName())\n",
    "                result_id.append(i) \n",
    "                \n",
    "        if len(result_id) == 0: # If the length of the list above is 0, we found no matches\n",
    "            print(\"Your search returned no results.\")\n",
    "        else:\n",
    "            # return an assignable dictionary using the First Name and Surname Initial for the indexable ID\n",
    "            print(\"Your search returned {} results.\".format(len(result_id)))\n",
    "            output = str(input(\"Would you like to view results? \").strip().capitalize())\n",
    "            if output == \"Yes\":\n",
    "                for k in range(0, len(result_id)):\n",
    "                    print(\"ID: {} | {} | {} | \".format(result_id[num], result_names[num], result_songs[num]))\n",
    "                    num+=1\n",
    "            else:\n",
    "                print(\"Search complete.\")\n",
    "    \n",
    "    # Error handling for the function is written here\n",
    "    except KeyError:\n",
    "        return(print(\"You have entered an incorrect value, please check your entry.\"))\n",
    "    except TypeError:\n",
    "        return(print(\"You can't enter a number or symbol here, please enter a string dictionary name.\"))\n",
    "    except IndexError:\n",
    "        return(print(\"You must enter at least an Initial into the Surname box.\"))"
   ]
  },
  {
   "cell_type": "code",
   "execution_count": 6,
   "metadata": {},
   "outputs": [],
   "source": [
    "def search_song(list_name):\n",
    "    try:\n",
    "        song_name = input(\"Please insert the word/s you would like to find in a song: \").capitalize()\n",
    "        song_name = song_name.rstrip()   # remove end of input whitespace\n",
    "        song_name = song_name.split(' ') # split the words into individual words to detect how many we have\n",
    "\n",
    "        result_id = []\n",
    "        result_names = []\n",
    "        result_songs = []\n",
    "        num = 0 # Index for printing results\n",
    "        \n",
    "        if len(song_name) == 1: # Check if the input is 1 word or many words\n",
    "            song_name = ''.join(song_name) # if it is 1 word, reconnect the word through the join command\n",
    "            for i in range(0, len(list_name)): # range of the whole class-based list\n",
    "                if song_name in list_name[i].getSongName():\n",
    "                    # Add matching values to assignable lists \n",
    "                    result_id.append(i)      \n",
    "                    result_names.append(list_name[i].getName())\n",
    "                    result_songs.append(list_name[i].getSongName()) \n",
    "                    \n",
    "        else: # Loop the list and match each word with a value\n",
    "            for i in range(0, len(list_name)): # range of the whole dictionary +1 as end of dictionary is missed otherwise\n",
    "                song_name = [item.capitalize() for item in song_name] # capitalise each string\n",
    "                for j in range(0, len(song_name)):\n",
    "                    if song_name[j] in list_name[i].getSongName(): # search each word for a match\n",
    "                        # Add matching values to assignable lists\n",
    "                        result_id.append(i)     \n",
    "                        result_names.append(list_name[i].getName())\n",
    "                        result_songs.append(list_name[i].getSongName())\n",
    "\n",
    "        if len(result_id) == 0: # If the length of the list is 0, we found no matches\n",
    "            print(\"Your search returned no results.\")\n",
    "        else:\n",
    "            print(\"Your search returned {} results.\".format(len(result_id)))\n",
    "            output = str(input(\"Would you like to view results? \").capitalize().rstrip())\n",
    "            if output == \"Yes\":\n",
    "                for k in range(0, len(result_id)):\n",
    "                    print(\"ID: {} | {} | {}\".format(result_id[num], result_names[num], result_songs[num]))\n",
    "                    num+=1\n",
    "            else:\n",
    "                print(\"Search complete.\")\n",
    "                    \n",
    "    # Error handling for the function is written here\n",
    "    except KeyError as keyerror:\n",
    "        return(print(\"You have entered an incorrect value, please check your entry.\", keyerror))\n",
    "    except TypeError as typeerror:\n",
    "        return(print(\"You can't enter a number or symbol here, please enter a string dictionary name.\", typeerror)) "
   ]
  },
  {
   "cell_type": "code",
   "execution_count": 7,
   "metadata": {},
   "outputs": [
    {
     "name": "stdout",
     "output_type": "stream",
     "text": [
      "Finished reading the command for file loading.\n"
     ]
    }
   ],
   "source": [
    "song_searcher = read_File()"
   ]
  },
  {
   "cell_type": "code",
   "execution_count": 10,
   "metadata": {},
   "outputs": [
    {
     "data": {
      "text/plain": [
       "'Duration: 158648, Explicit: 0, Instrumentalness: 0.563, Key: 10, Mode: 1, Release Date: 1928'"
      ]
     },
     "execution_count": 10,
     "metadata": {},
     "output_type": "execute_result"
    }
   ],
   "source": [
    "song_searcher[0].getExtras()"
   ]
  },
  {
   "cell_type": "code",
   "execution_count": 8,
   "metadata": {
    "scrolled": true
   },
   "outputs": [],
   "source": [
    "# search_for = search_artist(song_searcher)\n",
    "# search_for"
   ]
  },
  {
   "cell_type": "code",
   "execution_count": 57,
   "metadata": {},
   "outputs": [],
   "source": [
    "class similarity_metric(object):\n",
    "    def __init__(self, value1, value2):\n",
    "        __metaclass__ = IterRegistry\n",
    "        _registry = []\n",
    "        \n",
    "    # These do work for x by x conversion however\n",
    "        # Our defined target chosen by the user\n",
    "        self.target = value1\n",
    "        # Our defined library of all other values\n",
    "        self.library = value2\n",
    "        \n",
    "    # Returns object in string format for readability\n",
    "    def __repr__(self):\n",
    "        return f'Target: {self.target}, Comparison: {self.library}'\n",
    "    #TODO change the above names later\n",
    "    \n",
    "    def euclidean(self):\n",
    "        a = np.array(self.target)\n",
    "        b = np.array(self.library)\n",
    "        return np.linalg.norm(a - b)\n",
    "        \n",
    "    def manhattan(self):\n",
    "        a = np.array(self.target)\n",
    "        b = np.array(self.library)\n",
    "        #return np.abs(a - b) # This works\n",
    "        return manhattan_distances([a, b])\n",
    "        \n",
    "    def cosine(self):\n",
    "        a = np.array(self.target)\n",
    "        b = np.array(self.library)\n",
    "        #return np.dot(a, b)/(norm(a)*norm(b))\n",
    "        #return cosine_similarity([[a], [b]])\n",
    "        return 1 - distance.cosine(a, b)\n",
    "        #return distance.cosine(a, b)\n",
    "\n",
    "    def jaccard(self):\n",
    "        a = np.array(self.target)\n",
    "        b = np.array(self.library)\n",
    "        return distance.jaccard(a, b)\n",
    "    \n",
    "    def pearson(self):\n",
    "        a = np.array(self.target)\n",
    "        b = np.array(self.library)\n",
    "        return np.corrcoef([a, b])\n"
   ]
  },
  {
   "cell_type": "code",
   "execution_count": 12,
   "metadata": {},
   "outputs": [],
   "source": [
    "# Class for Similar Artist, inherits from the SM class\n",
    "class similar_artist(similarity_metric):\n",
    "    pass"
   ]
  },
  {
   "cell_type": "code",
   "execution_count": 13,
   "metadata": {},
   "outputs": [],
   "source": [
    "# Class for Similar Music, inherits from the SM class\n",
    "class similar_music(similarity_metric):\n",
    "    pass"
   ]
  },
  {
   "cell_type": "code",
   "execution_count": 14,
   "metadata": {},
   "outputs": [],
   "source": [
    "# Class for All similarities, inherits from the SM class\n",
    "class similar_all(similarity_metric):\n",
    "    pass"
   ]
  },
  {
   "cell_type": "code",
   "execution_count": 15,
   "metadata": {},
   "outputs": [],
   "source": [
    "# Function to create the df and do the similarity comparison\n",
    "\n",
    "def similarity_caller(list_name):\n",
    "    pass"
   ]
  },
  {
   "cell_type": "code",
   "execution_count": 37,
   "metadata": {},
   "outputs": [],
   "source": [
    "# Create a dataframe from the class object Track\n",
    "\n",
    "from sklearn import preprocessing\n",
    "\n",
    "df = pd.DataFrame.from_records([s.to_dict() for s in song_searcher])\n",
    "df = df.drop(['Music_ID', 'Release Date', 'Duration in ms'], axis = 1)\n",
    "# TODO these need to be removed from the Track class' to_dict method\n",
    "\n",
    "# x = df.values #returns a numpy array\n",
    "# min_max_scaler = preprocessing.MinMaxScaler()\n",
    "# x_scaled = min_max_scaler.fit_transform(x)\n",
    "# df = pd.DataFrame(x_scaled)\n",
    "\n",
    "#print(df['Acousticness'][4000])"
   ]
  },
  {
   "cell_type": "code",
   "execution_count": 38,
   "metadata": {},
   "outputs": [
    {
     "data": {
      "text/html": [
       "<div>\n",
       "<style scoped>\n",
       "    .dataframe tbody tr th:only-of-type {\n",
       "        vertical-align: middle;\n",
       "    }\n",
       "\n",
       "    .dataframe tbody tr th {\n",
       "        vertical-align: top;\n",
       "    }\n",
       "\n",
       "    .dataframe thead th {\n",
       "        text-align: right;\n",
       "    }\n",
       "</style>\n",
       "<table border=\"1\" class=\"dataframe\">\n",
       "  <thead>\n",
       "    <tr style=\"text-align: right;\">\n",
       "      <th></th>\n",
       "      <th>Acousticness</th>\n",
       "      <th>Danceability</th>\n",
       "      <th>Energy</th>\n",
       "      <th>Liveness</th>\n",
       "      <th>Loudness</th>\n",
       "      <th>Popularity</th>\n",
       "      <th>Speechiness</th>\n",
       "      <th>Tempo</th>\n",
       "      <th>Valence</th>\n",
       "      <th>Explicit</th>\n",
       "      <th>Key</th>\n",
       "      <th>Instrumentalness</th>\n",
       "    </tr>\n",
       "  </thead>\n",
       "  <tbody>\n",
       "    <tr>\n",
       "      <th>0</th>\n",
       "      <td>0.995</td>\n",
       "      <td>0.708</td>\n",
       "      <td>0.1950</td>\n",
       "      <td>0.1510</td>\n",
       "      <td>-12.428</td>\n",
       "      <td>0</td>\n",
       "      <td>0.0506</td>\n",
       "      <td>118.469</td>\n",
       "      <td>0.7790</td>\n",
       "      <td>0</td>\n",
       "      <td>10</td>\n",
       "      <td>0.563</td>\n",
       "    </tr>\n",
       "    <tr>\n",
       "      <th>1</th>\n",
       "      <td>0.994</td>\n",
       "      <td>0.379</td>\n",
       "      <td>0.0135</td>\n",
       "      <td>0.0763</td>\n",
       "      <td>-28.454</td>\n",
       "      <td>0</td>\n",
       "      <td>0.0462</td>\n",
       "      <td>83.972</td>\n",
       "      <td>0.0767</td>\n",
       "      <td>0</td>\n",
       "      <td>8</td>\n",
       "      <td>0.901</td>\n",
       "    </tr>\n",
       "    <tr>\n",
       "      <th>2</th>\n",
       "      <td>0.604</td>\n",
       "      <td>0.749</td>\n",
       "      <td>0.2200</td>\n",
       "      <td>0.1190</td>\n",
       "      <td>-19.924</td>\n",
       "      <td>0</td>\n",
       "      <td>0.9290</td>\n",
       "      <td>107.177</td>\n",
       "      <td>0.8800</td>\n",
       "      <td>0</td>\n",
       "      <td>5</td>\n",
       "      <td>0.000</td>\n",
       "    </tr>\n",
       "    <tr>\n",
       "      <th>3</th>\n",
       "      <td>0.995</td>\n",
       "      <td>0.781</td>\n",
       "      <td>0.1300</td>\n",
       "      <td>0.1110</td>\n",
       "      <td>-14.734</td>\n",
       "      <td>0</td>\n",
       "      <td>0.0926</td>\n",
       "      <td>108.003</td>\n",
       "      <td>0.7200</td>\n",
       "      <td>0</td>\n",
       "      <td>1</td>\n",
       "      <td>0.887</td>\n",
       "    </tr>\n",
       "    <tr>\n",
       "      <th>4</th>\n",
       "      <td>0.990</td>\n",
       "      <td>0.210</td>\n",
       "      <td>0.2040</td>\n",
       "      <td>0.0980</td>\n",
       "      <td>-16.829</td>\n",
       "      <td>1</td>\n",
       "      <td>0.0424</td>\n",
       "      <td>62.149</td>\n",
       "      <td>0.0693</td>\n",
       "      <td>0</td>\n",
       "      <td>11</td>\n",
       "      <td>0.908</td>\n",
       "    </tr>\n",
       "  </tbody>\n",
       "</table>\n",
       "</div>"
      ],
      "text/plain": [
       "   Acousticness  Danceability  Energy  Liveness  Loudness  Popularity  \\\n",
       "0         0.995         0.708  0.1950    0.1510   -12.428           0   \n",
       "1         0.994         0.379  0.0135    0.0763   -28.454           0   \n",
       "2         0.604         0.749  0.2200    0.1190   -19.924           0   \n",
       "3         0.995         0.781  0.1300    0.1110   -14.734           0   \n",
       "4         0.990         0.210  0.2040    0.0980   -16.829           1   \n",
       "\n",
       "   Speechiness    Tempo  Valence  Explicit  Key  Instrumentalness  \n",
       "0       0.0506  118.469   0.7790         0   10             0.563  \n",
       "1       0.0462   83.972   0.0767         0    8             0.901  \n",
       "2       0.9290  107.177   0.8800         0    5             0.000  \n",
       "3       0.0926  108.003   0.7200         0    1             0.887  \n",
       "4       0.0424   62.149   0.0693         0   11             0.908  "
      ]
     },
     "execution_count": 38,
     "metadata": {},
     "output_type": "execute_result"
    }
   ],
   "source": [
    "df.head()"
   ]
  },
  {
   "cell_type": "markdown",
   "metadata": {},
   "source": [
    "https://towardsdatascience.com/how-to-build-a-recommendation-engine-quick-and-simple-aec8c71a823e\n",
    "https://towardsdatascience.com/evaluate-your-recommendation-engine-using-ndcg-759a851452d1\n",
    "https://spark.apache.org/docs/2.2.0/ml-collaborative-filtering.html\n",
    "https://www.elastic.co/guide/en/elasticsearch/reference/current/search-aggregations-bucket-significantterms-aggregation.html\n",
    "https://realpython.com/build-recommendation-engine-collaborative-filtering/  \n",
    "https://towardsdatascience.com/how-to-build-a-simple-song-recommender-296fcbc8c85"
   ]
  },
  {
   "cell_type": "code",
   "execution_count": null,
   "metadata": {},
   "outputs": [],
   "source": []
  },
  {
   "cell_type": "code",
   "execution_count": null,
   "metadata": {},
   "outputs": [],
   "source": []
  },
  {
   "cell_type": "code",
   "execution_count": null,
   "metadata": {},
   "outputs": [],
   "source": []
  },
  {
   "cell_type": "code",
   "execution_count": null,
   "metadata": {},
   "outputs": [],
   "source": []
  },
  {
   "cell_type": "code",
   "execution_count": null,
   "metadata": {},
   "outputs": [],
   "source": []
  },
  {
   "cell_type": "code",
   "execution_count": null,
   "metadata": {},
   "outputs": [],
   "source": []
  },
  {
   "cell_type": "code",
   "execution_count": null,
   "metadata": {},
   "outputs": [],
   "source": []
  },
  {
   "cell_type": "code",
   "execution_count": 58,
   "metadata": {},
   "outputs": [
    {
     "name": "stdout",
     "output_type": "stream",
     "text": [
      "[[1.         0.99597011]\n",
      " [0.99597011 1.        ]]\n",
      "0.996276401017956\n",
      "[[ 0.    53.127]\n",
      " [53.127  0.   ]]\n",
      "46.14960778814919\n",
      "1.0\n",
      "\n",
      "\n",
      "[  0.995   0.767   0.23    0.133 -10.728   0.      0.199 119.985   0.868\n",
      "   0.      2.      0.605]\n",
      "[  0.984   0.361   0.295   0.72  -11.717   1.      0.078  73.966   0.18\n",
      "   0.      5.      0.846]\n"
     ]
    }
   ],
   "source": [
    "# Testing out 9 feature values vs 9 feature values using the metrics\n",
    "\n",
    "feature = 'Tempo'\n",
    "id_num = 30\n",
    "feature_list = []\n",
    "manhattan_list = []\n",
    "i = 0\n",
    "\n",
    "#one = np.array([[20,30,40,20,10,30,20,10,23.44]])\n",
    "#two = np.array([[10,1000,328.4,100,109,293,10,45,3291]])\n",
    "\n",
    "#print(df[1])\n",
    "\n",
    "one = np.array(df)[id_num].round(3)\n",
    "two = np.array(df)[90000].round(3)\n",
    "#one = np.sum(one)\n",
    "#two = np.sum(two)\n",
    "\n",
    "new_entry = similarity_metric(one,two) \n",
    "print(new_entry.pearson())\n",
    "print(new_entry.cosine())\n",
    "print(new_entry.manhattan())\n",
    "print(new_entry.euclidean())\n",
    "print(new_entry.jaccard())\n",
    "print('\\n')\n",
    "print(one)\n",
    "print(two)\n",
    "\n",
    "one = np.sum(one)\n",
    "two = np.sum(two)\n",
    "\n",
    "# for val in df[id_num]:\n",
    "#     print(val)"
   ]
  },
  {
   "cell_type": "code",
   "execution_count": 29,
   "metadata": {
    "scrolled": true
   },
   "outputs": [
    {
     "data": {
      "text/plain": [
       "169909"
      ]
     },
     "execution_count": 29,
     "metadata": {},
     "output_type": "execute_result"
    }
   ],
   "source": [
    "len(df)"
   ]
  },
  {
   "cell_type": "code",
   "execution_count": 31,
   "metadata": {},
   "outputs": [
    {
     "name": "stdout",
     "output_type": "stream",
     "text": [
      "[9.033985831292851, 44.832061072406646, 20.23000741472923, 18.949651711838925, 64.78488095227156, 63.49951574618502, 46.44036606229542, 6.801683615105891, 9.152928493110823, 45.89545838097709, 15.795385402072332, 43.43815718927312, 30.736671908324748, 51.96411261630472, 46.71674004037524]\n",
      "Wall time: 122 ms\n"
     ]
    }
   ],
   "source": [
    "%%time\n",
    "\n",
    "cosine_list = []\n",
    "id_num = 300\n",
    "i = 0\n",
    "\n",
    "target = np.array(df)[id_num].round(2)\n",
    "\n",
    "for i in range(0, 15):\n",
    "    compare = np.array(df)[i].round(2)\n",
    "    result = (similarity_metric(target, compare)).euclidean()\n",
    "    cosine_list.append(result)\n",
    "    #i += 1 \n",
    "print(cosine_list)"
   ]
  },
  {
   "cell_type": "markdown",
   "metadata": {},
   "source": [
    "## Testing Manhattan - need to fix, dont run for now"
   ]
  },
  {
   "cell_type": "code",
   "execution_count": 77,
   "metadata": {},
   "outputs": [],
   "source": [
    "# The code basis for one target to all values in the same column\n",
    "\n",
    "\n",
    "feature = 'Tempo'\n",
    "feature_list = []\n",
    "manhattan_list = []\n",
    "i = 0\n",
    "\n",
    "for val in df[feature]: \n",
    "    feature_list.append(similarity_metric(df[feature][45000], val))\n",
    "    manhattan_score = feature_list[i].manhattan()\n",
    "    manhattan_list.append(manhattan_score)\n",
    "    i += 1 \n",
    "\n",
    "#print(euclidean_list)\n",
    "#print(tempo_list) #Indent this if you want one-by-one printing\n",
    "#tempo_list = np.array(tempo_list)"
   ]
  },
  {
   "cell_type": "markdown",
   "metadata": {},
   "source": [
    "### Need this for later"
   ]
  },
  {
   "cell_type": "code",
   "execution_count": null,
   "metadata": {},
   "outputs": [],
   "source": [
    "# for i in range(0,9): # Loop through the 9 expected features\n",
    "# for value in feature_list, feature_list2: # take values over the loop and compare them\n",
    "# x = (feature_list[i]) \n",
    "# y = (feature_list2[i]) \n",
    "# distance = math.sqrt((x - y) ** 2 ) #one-dimensional euclidean formula\n",
    "# print(key_list[i].strip('[]').strip(' '), round(distance, 3)) # print all feature metrics"
   ]
  },
  {
   "cell_type": "code",
   "execution_count": null,
   "metadata": {
    "scrolled": true
   },
   "outputs": [],
   "source": [
    "print(len(manhattan_list))\n",
    "print(manhattan_list[25:35])"
   ]
  },
  {
   "cell_type": "code",
   "execution_count": null,
   "metadata": {},
   "outputs": [],
   "source": [
    "for i in range(0, len(manhattan_list)):\n",
    "    if abs(manhattan_list[i]) <= 0:\n",
    "        print(i,':', manhattan_list[i])"
   ]
  },
  {
   "cell_type": "markdown",
   "metadata": {},
   "source": [
    "## Testing Cosine"
   ]
  },
  {
   "cell_type": "code",
   "execution_count": 59,
   "metadata": {},
   "outputs": [
    {
     "name": "stdout",
     "output_type": "stream",
     "text": [
      "Wall time: 7.84 s\n"
     ]
    }
   ],
   "source": [
    "%%time\n",
    "# The code basis for one target to all values in the same column\n",
    " \n",
    "feature = 'Tempo'\n",
    "#feature_list = []\n",
    "cosine_list = []\n",
    "i = 0\n",
    "\n",
    "for val in df[feature]:   \n",
    "    result = (similarity_metric(df[feature][45000], val)).cosine()\n",
    "    cosine_list.append(result)\n",
    "#     cosine_score = feature_list[i].cosine()\n",
    "#     cosine_list.append(cosine_score)\n",
    "    i += 1\n",
    "\n",
    "#print(euclidean_list)\n",
    "#print(tempo_list) #Indent this if you want one-by-one printing\n",
    "#tempo_list = np.array(tempo_list)"
   ]
  },
  {
   "cell_type": "code",
   "execution_count": 60,
   "metadata": {},
   "outputs": [
    {
     "name": "stdout",
     "output_type": "stream",
     "text": [
      "169909\n",
      "[1.0, 1.0, 1.0, 1.0, 1.0, 1.0, 1.0, 1.0, 1.0, 1.0, 1.0, 1.0, 1.0, 1.0, 1.0, 0.9999999999999998, 1.0, 1.0, 1.0, 1.0, 1.0, 1.0, 1.0, 1.0, 1.0, 0.9999999999999998, 1.0, 1.0, 1.0, 1.0, 1.0, 1.0, 1.0000000000000002, 1.0, 1.0, 0.9999999999999999, 1.0, 1.0000000000000002, 1.0, 1.0, 1.0, 1.0, 1.0000000000000002, 1.0, 0.9999999999999999, 1.0, 1.0, 1.0, 1.0, 1.0, 1.0, 1.0, 1.0, 1.0, 1.0, 1.0, 1.0, 1.0, 1.0, 1.0, 0.9999999999999998, 1.0, 1.0000000000000002, 1.0, 1.0, 0.9999999999999999, 1.0, 1.0, 1.0, 1.0, 1.0, 1.0, 1.0, 1.0, 1.0]\n"
     ]
    }
   ],
   "source": [
    "print(len(cosine_list))\n",
    "print(cosine_list[25:100])"
   ]
  },
  {
   "cell_type": "code",
   "execution_count": 62,
   "metadata": {
    "scrolled": true
   },
   "outputs": [
    {
     "name": "stdout",
     "output_type": "stream",
     "text": [
      "158323\n"
     ]
    }
   ],
   "source": [
    "addition = 0\n",
    "\n",
    "for i in range(0, len(cosine_list)):\n",
    "    if abs(cosine_list[i]) <= 1:\n",
    "        addition +=1\n",
    "print(addition)"
   ]
  },
  {
   "cell_type": "markdown",
   "metadata": {},
   "source": [
    "## Testing Jaccard"
   ]
  },
  {
   "cell_type": "code",
   "execution_count": 92,
   "metadata": {},
   "outputs": [
    {
     "name": "stdout",
     "output_type": "stream",
     "text": [
      "Wall time: 5.34 s\n"
     ]
    }
   ],
   "source": [
    "%%time\n",
    "\n",
    "feature = 'Valence'\n",
    "feature_list = []\n",
    "jaccard_list = []\n",
    "id_num = 45000\n",
    "i = 0\n",
    "\n",
    "for val in df[feature]:   \n",
    "    \n",
    "    feature_list.append(similarity_metric(df[feature][id_num], val))\n",
    "    jaccard_score = feature_list[i].jaccard()\n",
    "    jaccard_list.append(jaccard_score)\n",
    "    i += 1"
   ]
  },
  {
   "cell_type": "code",
   "execution_count": 93,
   "metadata": {},
   "outputs": [
    {
     "name": "stdout",
     "output_type": "stream",
     "text": [
      "169909\n",
      "[1.0, 1.0, 1.0, 1.0, 1.0, 1.0, 1.0, 1.0, 1.0, 1.0]\n"
     ]
    }
   ],
   "source": [
    "print(len(jaccard_list))\n",
    "print(jaccard_list[25:35])"
   ]
  },
  {
   "cell_type": "code",
   "execution_count": 94,
   "metadata": {},
   "outputs": [
    {
     "name": "stdout",
     "output_type": "stream",
     "text": [
      "1245 : 0.0\n",
      "1340 : 0.0\n",
      "5276 : 0.0\n",
      "6050 : 0.0\n",
      "6182 : 0.0\n",
      "6233 : 0.0\n",
      "7058 : 0.0\n",
      "7555 : 0.0\n",
      "8361 : 0.0\n",
      "8943 : 0.0\n",
      "9386 : 0.0\n",
      "9555 : 0.0\n",
      "9749 : 0.0\n",
      "11551 : 0.0\n",
      "12517 : 0.0\n",
      "12818 : 0.0\n",
      "15231 : 0.0\n",
      "16276 : 0.0\n",
      "18650 : 0.0\n",
      "20355 : 0.0\n",
      "23191 : 0.0\n",
      "23597 : 0.0\n",
      "23709 : 0.0\n",
      "24481 : 0.0\n",
      "24562 : 0.0\n",
      "24676 : 0.0\n",
      "26056 : 0.0\n",
      "26609 : 0.0\n",
      "26660 : 0.0\n",
      "29788 : 0.0\n",
      "31220 : 0.0\n",
      "31358 : 0.0\n",
      "31669 : 0.0\n",
      "31877 : 0.0\n",
      "33887 : 0.0\n",
      "34000 : 0.0\n",
      "36187 : 0.0\n",
      "36782 : 0.0\n",
      "37515 : 0.0\n",
      "37700 : 0.0\n",
      "38317 : 0.0\n",
      "39151 : 0.0\n",
      "39363 : 0.0\n",
      "39481 : 0.0\n",
      "40163 : 0.0\n",
      "40468 : 0.0\n",
      "41216 : 0.0\n",
      "41692 : 0.0\n",
      "41835 : 0.0\n",
      "41922 : 0.0\n",
      "42328 : 0.0\n",
      "42617 : 0.0\n",
      "45000 : 0.0\n",
      "46926 : 0.0\n",
      "47643 : 0.0\n",
      "47668 : 0.0\n",
      "51876 : 0.0\n",
      "52122 : 0.0\n",
      "52321 : 0.0\n",
      "52426 : 0.0\n",
      "52853 : 0.0\n",
      "53812 : 0.0\n",
      "56490 : 0.0\n",
      "57247 : 0.0\n",
      "57629 : 0.0\n",
      "59687 : 0.0\n",
      "63435 : 0.0\n",
      "63646 : 0.0\n",
      "65933 : 0.0\n",
      "67042 : 0.0\n",
      "67406 : 0.0\n",
      "68480 : 0.0\n",
      "69726 : 0.0\n",
      "69734 : 0.0\n",
      "70248 : 0.0\n",
      "70272 : 0.0\n",
      "70984 : 0.0\n",
      "71659 : 0.0\n",
      "72084 : 0.0\n",
      "73366 : 0.0\n",
      "75350 : 0.0\n",
      "77527 : 0.0\n",
      "78295 : 0.0\n",
      "80640 : 0.0\n",
      "81563 : 0.0\n",
      "83374 : 0.0\n",
      "84538 : 0.0\n",
      "84959 : 0.0\n",
      "85260 : 0.0\n",
      "88547 : 0.0\n",
      "91763 : 0.0\n",
      "91813 : 0.0\n",
      "93388 : 0.0\n",
      "93509 : 0.0\n",
      "94433 : 0.0\n",
      "94532 : 0.0\n",
      "94691 : 0.0\n",
      "95475 : 0.0\n",
      "97896 : 0.0\n",
      "98508 : 0.0\n",
      "98649 : 0.0\n",
      "99685 : 0.0\n",
      "99914 : 0.0\n",
      "100706 : 0.0\n",
      "100766 : 0.0\n",
      "102777 : 0.0\n",
      "104893 : 0.0\n",
      "106133 : 0.0\n",
      "107481 : 0.0\n",
      "108837 : 0.0\n",
      "108858 : 0.0\n",
      "109377 : 0.0\n",
      "110107 : 0.0\n",
      "114430 : 0.0\n",
      "114710 : 0.0\n",
      "114918 : 0.0\n",
      "115131 : 0.0\n",
      "116980 : 0.0\n",
      "118050 : 0.0\n",
      "119708 : 0.0\n",
      "119989 : 0.0\n",
      "120993 : 0.0\n",
      "122854 : 0.0\n",
      "123677 : 0.0\n",
      "125503 : 0.0\n",
      "126090 : 0.0\n",
      "126226 : 0.0\n",
      "126527 : 0.0\n",
      "131327 : 0.0\n",
      "132412 : 0.0\n",
      "136658 : 0.0\n",
      "137110 : 0.0\n",
      "137473 : 0.0\n",
      "139723 : 0.0\n",
      "140136 : 0.0\n",
      "141582 : 0.0\n",
      "142519 : 0.0\n",
      "142555 : 0.0\n",
      "143115 : 0.0\n",
      "143892 : 0.0\n",
      "145292 : 0.0\n",
      "146081 : 0.0\n",
      "146912 : 0.0\n",
      "147555 : 0.0\n",
      "148417 : 0.0\n",
      "148932 : 0.0\n",
      "151815 : 0.0\n",
      "153268 : 0.0\n",
      "154851 : 0.0\n",
      "155519 : 0.0\n",
      "159217 : 0.0\n",
      "161844 : 0.0\n",
      "161884 : 0.0\n",
      "163273 : 0.0\n",
      "163627 : 0.0\n",
      "164992 : 0.0\n",
      "168923 : 0.0\n"
     ]
    }
   ],
   "source": [
    "for i in range(0, len(jaccard_list)):\n",
    "    if jaccard_list[i] <= 0:\n",
    "        print(i,':', jaccard_list[i])"
   ]
  },
  {
   "cell_type": "markdown",
   "metadata": {},
   "source": [
    "## Testing Pearson"
   ]
  },
  {
   "cell_type": "code",
   "execution_count": 95,
   "metadata": {},
   "outputs": [
    {
     "name": "stdout",
     "output_type": "stream",
     "text": [
      "Wall time: 9.88 s\n"
     ]
    }
   ],
   "source": [
    "%%time\n",
    "\n",
    "feature = 'Energy'\n",
    "feature_list = []\n",
    "pearson_list = []\n",
    "i = 0\n",
    "\n",
    "for val in df[feature]:   \n",
    "#     val = np.array([val])\n",
    "    feature_list.append(similarity_metric(df[feature][45000], val))\n",
    "    pearson_score = feature_list[i].pearson()\n",
    "    pearson_list.append(pearson_score)\n",
    "    i += 1"
   ]
  },
  {
   "cell_type": "code",
   "execution_count": 96,
   "metadata": {},
   "outputs": [
    {
     "name": "stdout",
     "output_type": "stream",
     "text": [
      "169909\n",
      "[1.0, 1.0, 1.0, 1.0, 1.0, 1.0, 1.0, 1.0, 1.0, 1.0]\n"
     ]
    }
   ],
   "source": [
    "print(len(pearson_list))\n",
    "print(pearson_list[25:35])"
   ]
  },
  {
   "cell_type": "code",
   "execution_count": 97,
   "metadata": {},
   "outputs": [],
   "source": [
    "for i in range(0, len(pearson_list)):\n",
    "    if pearson_list[i] <= 0:\n",
    "        print(i,':', pearson_list[i])"
   ]
  },
  {
   "cell_type": "markdown",
   "metadata": {},
   "source": [
    "## Testing Euclidean"
   ]
  },
  {
   "cell_type": "code",
   "execution_count": 98,
   "metadata": {},
   "outputs": [
    {
     "name": "stdout",
     "output_type": "stream",
     "text": [
      "Wall time: 3.86 s\n"
     ]
    }
   ],
   "source": [
    "%%time\n",
    "\n",
    "# The code basis for one target to all values in the same column\n",
    " \n",
    "feature_list = []\n",
    "euclidean_list = []\n",
    "\n",
    "feature = 'Tempo'\n",
    "id_num = 4500 \n",
    "i = 0 # Index\n",
    "\n",
    "# lines = iter(open('something.txt', 'r'))\n",
    "# for val in lines:\n",
    "#     if val == \"!\":\n",
    "#         lines.next()\n",
    "#         continue\n",
    "#     <etc>\n",
    "\n",
    "for val in df[feature]: \n",
    "    \n",
    "    #TODO fix this, need to assign 1 when the number is the same\n",
    "    feature_list.append(similarity_metric(df[feature][id_num], val))\n",
    "    #if i == id_num:\n",
    "    #    val = 1.0\n",
    "    euclidean_score = feature_list[i].euclidean()\n",
    "    euclidean_list.append(euclidean_score)\n",
    "    i += 1 \n",
    "    \n",
    "#print(euclidean_list)\n",
    "#print(tempo_list) #Indent this if you want one-by-one printing\n",
    "#tempo_list = np.array(tempo_list)"
   ]
  },
  {
   "cell_type": "code",
   "execution_count": 99,
   "metadata": {},
   "outputs": [
    {
     "name": "stdout",
     "output_type": "stream",
     "text": [
      "169909\n",
      "[26.33699999999999, 17.11099999999999, 32.152, 18.776999999999973, 13.361000000000004, 20.132000000000005, 2.0490000000000066, 12.146, 72.468, 20.700000000000003]\n"
     ]
    }
   ],
   "source": [
    "print(len(euclidean_list))\n",
    "print(euclidean_list[25:35])"
   ]
  },
  {
   "cell_type": "code",
   "execution_count": 100,
   "metadata": {},
   "outputs": [
    {
     "name": "stdout",
     "output_type": "stream",
     "text": [
      "4500 : 0.0\n",
      "13760 : 0.0\n"
     ]
    }
   ],
   "source": [
    "for i in range(0, len(euclidean_list)):\n",
    "    if euclidean_list[i] <= 0:\n",
    "        print(i,':', euclidean_list[i])"
   ]
  },
  {
   "cell_type": "code",
   "execution_count": 105,
   "metadata": {},
   "outputs": [
    {
     "data": {
      "text/plain": [
       "213.01864418167722"
      ]
     },
     "execution_count": 105,
     "metadata": {},
     "output_type": "execute_result"
    }
   ],
   "source": [
    "new_value = [[25.223, 25],[220.110, 111]]\n",
    "new_value = similarity_metric(new_value[0],new_value[1]).euclidean()\n",
    "new_value"
   ]
  },
  {
   "cell_type": "code",
   "execution_count": null,
   "metadata": {},
   "outputs": [],
   "source": [
    "def euclidean_similarity(dict_name, id1, id2):\n",
    "    import math\n",
    "    \n",
    "    def feature_select():\n",
    "        feature_select = [\"Accoustiness\", \"Danceability\", \"Energy\", \"Liveness\", \"Loudness\", \"Popularity\", \"Speechiness\", \"Tempo\", \"Valence\"]\n",
    "        for number, feature in enumerate(feature_select, start=1):\n",
    "            print(number, feature) # Present a list of options to the user for feature choice\n",
    "    \n",
    "    try:   \n",
    "        dict_name = dict_name\n",
    "    \n",
    "        if id1 == '': # If the positional argument is entered as '', then ask for an int ID\n",
    "            id1 = int(input(\"Please insert your first id for music features: \"))\n",
    "        else:\n",
    "            id1 = id1\n",
    "        \n",
    "        if id2 == '': # If the positional argument is entered as '', then ask for an int ID\n",
    "            id2 = int(input(\"Please insert your second id for music features: \"))\n",
    "        else:\n",
    "            id2 = id2\n",
    "                \n",
    "        if id1 == id2: # check to make sure the user is not entering the same ID twice\n",
    "            print(\"You can't have the same ID, please choose 2 different IDs.\")\n",
    "            euclidean_similarity(dict_name, '','')\n",
    "        else:\n",
    "            print(\"If you are working with defined artist lists, enter 'Artist'\")\n",
    "            feature_select()\n",
    "            query = input(\"Which feature do you want to use for comparison? Enter the feature name or enter 'No' to compare all features. \").capitalize().rstrip()\n",
    "\n",
    "            if query == '' or query == \"No\".capitalize(): # if query entry is no or left empty, go here\n",
    "                print(\"Comparing all respective features using Euclidean.\\n\")\n",
    "                # take values from the dictionary from the end,to avoid the string values at the beginning\n",
    "                feature_list = list(dict_name[id1].values())[-9:] \n",
    "                feature_list2 = list(dict_name[id2].values())[-9:]\n",
    "                key_list = str(list(dict_name[id1].keys())[-9:]).split(',') # take the associated key names\n",
    "            \n",
    "                for i in range(0,9): # Loop through the 9 expected features\n",
    "                    for value in feature_list, feature_list2: # take values over the loop and compare them\n",
    "                        x = (feature_list[i]) \n",
    "                        y = (feature_list2[i]) \n",
    "                        distance = math.sqrt((x - y) ** 2 ) #one-dimensional euclidean formula\n",
    "                    print(key_list[i].strip('[]').strip(' '), round(distance, 3)) # print all feature metrics\n",
    "            \n",
    "            else:\n",
    "                if query == 'Artist' and len(dict_name) == 2: # must be working with chosen artists\n",
    "                    x = []\n",
    "                    y = []\n",
    "                    \n",
    "                    # To avoid issues with math such as sqrt, create 2 new lists and assign all values to those lists\n",
    "                    for value in dict_name[id1]:\n",
    "                        x.append(value)\n",
    "                    for value in dict_name[id2]:\n",
    "                        y.append(value)\n",
    "                    distance = math.sqrt(sum([(a - b) ** 2 for a, b in zip(x, y)])) # multi-dimensional euclidean\n",
    "                    return(print(\"Euclidean distance of {} and {}:\".format(id1, id2), round(distance, 3)))\n",
    "                \n",
    "                else: # must be working with default dictionary and values\n",
    "                    # Assign our queried features to our x and y variables\n",
    "                    x = dict_name[id1][query]\n",
    "                    y = dict_name[id2][query]\n",
    "                    distance = math.sqrt((x - y) ** 2 ) #one-dimensional euclidean formula   \n",
    "                    print(\"Euclidean Distance of {} for ID {} and ID {} is\".format(query, id1, id2), round(distance, 3))\n",
    "            \n",
    "    # Error handling for the function is written here\n",
    "    except KeyError as keyerror:\n",
    "        print(\"That feature doesn't exist.\", keyerror)\n",
    "        euclidean_similarity(dict_name,'','')\n",
    "    except ValueError as valueerror:\n",
    "        print(\"Your entry is invalid, please make sure your entry was the correct format.\")\n",
    "        euclidean_similarity(dict_name,'','')\n",
    "    except TypeError as typeerror:\n",
    "        print(\"Invalid type entered.\")\n",
    "    except IndexError:\n",
    "        print(\"There was a problem, did you enter your dictionary name correctly?\")\n",
    "    except ZeroDivisionError:\n",
    "        print(\"Sorry, but you cannot divide by 0, metric will restart.\")\n",
    "        euclidean_similarity(dict_name,'','')\n",
    "    except AttributeError:\n",
    "        print(\"You can't compare all features of an artist you have defined.\")\n",
    "        euclidean_similarity(dict_name,'','')"
   ]
  },
  {
   "cell_type": "markdown",
   "metadata": {},
   "source": [
    "## Functions for the Metric choices\n",
    "### Needs to be adjusted for current use, might be removed"
   ]
  },
  {
   "cell_type": "code",
   "execution_count": null,
   "metadata": {},
   "outputs": [],
   "source": [
    "# Function for metric selection\n",
    "def metric_choice(dict_name):\n",
    "    metric = int(input(\"Which metric would you like to use from the selection: Enter the number: \"))\n",
    "    if metric == 1:\n",
    "        euclidean_similarity(dict_name, '', '')\n",
    "    elif metric == 2:\n",
    "        cosine_similarity(dict_name, '', '')\n",
    "    elif metric == 3:\n",
    "        pearson_similarity(dict_name, '', '')\n",
    "    elif metric == 4:\n",
    "        jaccard_similarity(dict_name, '', '')\n",
    "    elif metric == 5:\n",
    "        manhattan_similarity(dict_name, '', '')\n",
    "    else:\n",
    "        print(\"Your selection is incorrect.\")\n",
    "        if metric == '': # If entry is blank, end the program\n",
    "            print(\"You entered nothing, the program will end.\")\n",
    "        else:\n",
    "            metric_choice(dict_name) # Restart the metric choice\n",
    "                \n",
    "def metric_selection():\n",
    "    metric_select = [\"Euclidean\", \"Cosine\", \"Pearson\", \"Jaccard\", \"Manhattan\"]\n",
    "    for number, metric in enumerate(metric_select, start=1):\n",
    "        print(number, metric) # Present a list of options to the user for metric choice                "
   ]
  }
 ],
 "metadata": {
  "kernelspec": {
   "display_name": "Python 3",
   "language": "python",
   "name": "python3"
  },
  "language_info": {
   "codemirror_mode": {
    "name": "ipython",
    "version": 3
   },
   "file_extension": ".py",
   "mimetype": "text/x-python",
   "name": "python",
   "nbconvert_exporter": "python",
   "pygments_lexer": "ipython3",
   "version": "3.7.4"
  }
 },
 "nbformat": 4,
 "nbformat_minor": 4
}
