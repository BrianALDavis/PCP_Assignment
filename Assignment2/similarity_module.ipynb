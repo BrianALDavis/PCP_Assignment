{
 "cells": [
  {
   "cell_type": "markdown",
   "metadata": {},
   "source": [
    "### PCP Assignment 2 Module 2 - similarity_module"
   ]
  },
  {
   "cell_type": "code",
   "execution_count": 1,
   "metadata": {},
   "outputs": [],
   "source": [
    "from load_dataset_module import Artist, Song, Track, IterRegistry, Extras, File_loader   # Classes\n",
    "import pandas as pd\n",
    "import numpy as np\n",
    "import math\n",
    "import seaborn as sns\n",
    "import matplotlib.pyplot as plt\n",
    "from scipy.spatial import distance \n",
    "from numpy.linalg import norm\n",
    "from sklearn.metrics.pairwise import manhattan_distances\n",
    "from sklearn.metrics.pairwise import cosine_similarity\n",
    "\n",
    "# Disable warnings, these are not required for the user to see (might be removed)\n",
    "import warnings\n",
    "warnings.filterwarnings('ignore')\n",
    "\n",
    "# These will change over time\n",
    "from sklearn.model_selection import train_test_split\n",
    "from sklearn.metrics import mean_squared_error as mse\n",
    "from sklearn.metrics import mean_absolute_error as mae\n",
    "from sklearn.metrics import accuracy_score\n",
    "from sklearn.neighbors import KNeighborsClassifier\n",
    "from sklearn.neighbors import NearestNeighbors as knn\n",
    "from sklearn.preprocessing import StandardScaler\n",
    "from sklearn.preprocessing import MinMaxScaler\n",
    "from sklearn.neural_network import MLPClassifier as nne"
   ]
  },
  {
   "cell_type": "code",
   "execution_count": null,
   "metadata": {},
   "outputs": [],
   "source": [
    "# Creating logging capabilities\n",
    "\n",
    "# import logging\n",
    "# logging.warning('Watch out!')  # will print a message to the console\n",
    "# logging.info('I told you so')  # will not print anything"
   ]
  },
  {
   "cell_type": "code",
   "execution_count": 2,
   "metadata": {},
   "outputs": [
    {
     "name": "stdout",
     "output_type": "stream",
     "text": [
      "Finished reading the command for file loading.\n"
     ]
    }
   ],
   "source": [
    "song_searcher = File_loader().read_file()"
   ]
  },
  {
   "cell_type": "code",
   "execution_count": 3,
   "metadata": {},
   "outputs": [
    {
     "name": "stdout",
     "output_type": "stream",
     "text": [
      "   Acousticness  Danceability  Energy  Liveness  Loudness  Popularity  \\\n",
      "0         0.995         0.708   0.195     0.151   -12.428           0   \n",
      "1         0.604         0.749   0.220     0.119   -19.924           0   \n",
      "\n",
      "   Speechiness    Tempo  Valence  Explicit  Instrumentalness  \n",
      "0       0.0506  118.469    0.779         0             0.563  \n",
      "1       0.9290  107.177    0.880         0             0.000  \n"
     ]
    }
   ],
   "source": [
    "music_df = pd.DataFrame.from_records([s.to_dict() for s in song_searcher])\n",
    "\n",
    "#features_df = music_df # This will be scaled later, so a copy needs to be made here\n",
    "\n",
    "#print(features_df[:2])\n",
    "print(music_df[:2])"
   ]
  },
  {
   "cell_type": "code",
   "execution_count": 4,
   "metadata": {},
   "outputs": [
    {
     "data": {
      "text/plain": [
       "Artist/s: 'Edna St. Vincent Millay', Song: Fatal Interview: Sonnet XI, ID: 2ALjYTnVOy0LINGcpm0LqA, Acousticness: 0.992, Danceability: 0.6809999999999999, Energy: 0.324, Liveness: 0.11900000000000001, Loudness: -15.855, Popularity: 3, Speechiness: 0.935, Tempo: 127.41, Valence: 0.265"
      ]
     },
     "execution_count": 4,
     "metadata": {},
     "output_type": "execute_result"
    }
   ],
   "source": [
    "song_searcher[15665]"
   ]
  },
  {
   "cell_type": "code",
   "execution_count": 5,
   "metadata": {},
   "outputs": [
    {
     "data": {
      "text/plain": [
       "'Duration: 83952, Explicit: 0, Instrumentalness: 0.436, Key: 8, Mode: 0, Release Date: 1955'"
      ]
     },
     "execution_count": 5,
     "metadata": {},
     "output_type": "execute_result"
    }
   ],
   "source": [
    "song_searcher[15665].getExtras()"
   ]
  },
  {
   "cell_type": "code",
   "execution_count": 6,
   "metadata": {},
   "outputs": [],
   "source": [
    "class Searcher(object):\n",
    "    __metaclass__ = IterRegistry\n",
    "    _registry = []\n",
    "    \n",
    "    def __init__(self, list_name):\n",
    "        self.list_name = list_name\n",
    "        \n",
    "    def search_artist(self):\n",
    "        list_name = self.list_name\n",
    "        \n",
    "        try:\n",
    "            fName = str(input(\"Please enter the first name of the artist you want to find: \").strip().capitalize())\n",
    "            lName = str(input(\"Please enter the surname of the artist you want to find: \").strip().capitalize())\n",
    "    \n",
    "            # Create empty lists for the inputs\n",
    "            result_names = []\n",
    "            result_songs = []\n",
    "            result_id = []\n",
    "            num = 0 # Index for printing results\n",
    "            \n",
    "            # Loop through the dictionary, extract all matching artist + song values\n",
    "            for i in range(len(list_name)): # range of the whole class-based list\n",
    "                if lName != \"\":  # If the last name entry is not left blank\n",
    "                    if fName + \" \" + lName in list_name[i].getName():\n",
    "                        result_names.append(list_name[i].getName())\n",
    "                        result_songs.append(list_name[i].getSongName())\n",
    "                        result_id.append(i) \n",
    "                else:  # If the artist only has one name e.g. Nirvana\n",
    "                    if fName in list_name[i].getName():\n",
    "                        result_names.append(list_name[i].getName())\n",
    "                        result_songs.append(list_name[i].getSongName())\n",
    "                        result_id.append(i) \n",
    "                \n",
    "            if len(result_id) == 0: # If the length of the list above is 0, we found no matches\n",
    "                print(\"Your search returned no results.\")\n",
    "            else:\n",
    "                # return an assignable dictionary using the First Name and Surname Initial for the indexable ID\n",
    "                print(\"Your search returned {} results.\".format(len(result_id)))\n",
    "                output = str(input(\"Would you like to view results? \").strip().capitalize())\n",
    "                if output == \"Yes\":\n",
    "                    for k in range(0, len(result_id)):\n",
    "                        print(\"ID: {} | {} | {} | \".format(result_id[num], result_names[num], result_songs[num]))\n",
    "                        num+=1\n",
    "                else:\n",
    "                    print(\"Search complete.\")\n",
    "            \n",
    "            return result_id  # Return the id to pull details if wanted\n",
    "    \n",
    "        # Error handling for the function is written here\n",
    "        except KeyError:\n",
    "            return(print(\"You have entered an incorrect value, please check your entry.\"))\n",
    "        except TypeError:\n",
    "            return(print(\"You can't enter a number or symbol here, please enter a string dictionary name.\"))\n",
    "        except IndexError:\n",
    "            return(print(\"You must enter at least an Initial into the Surname box.\"))\n",
    "        \n",
    "    def search_song(self):\n",
    "        list_name = self.list_name\n",
    "        \n",
    "        try:\n",
    "            song_name = input(\"Please insert the word/s you would like to find in a song: \").capitalize()\n",
    "            song_name = song_name.rstrip()   # remove end of input whitespace\n",
    "            song_name = song_name.split(' ') # split the words into individual words to detect how many we have\n",
    "\n",
    "            result_id = []\n",
    "            result_names = []\n",
    "            result_songs = []\n",
    "            num = 0 # Index for printing results\n",
    "        \n",
    "            if len(song_name) == 1: # Check if the input is 1 word or many words\n",
    "                song_name = ''.join(song_name) # if it is 1 word, reconnect the word through the join command\n",
    "                for i in range(0, len(list_name)): # range of the whole class-based list\n",
    "                    if song_name in list_name[i].getSongName():\n",
    "                        # Add matching values to assignable lists \n",
    "                        result_id.append(i)      \n",
    "                        result_names.append(list_name[i].getName())\n",
    "                        result_songs.append(list_name[i].getSongName()) \n",
    "                    \n",
    "            else: # Loop the list and match each word with a value\n",
    "                for i in range(0, len(list_name)): # range of the whole dictionary +1 as end of dictionary is missed otherwise\n",
    "                    song_name = [item.capitalize() for item in song_name] # capitalise each string\n",
    "                    for j in range(0, len(song_name)):\n",
    "                        if song_name[j] in list_name[i].getSongName(): # search each word for a match\n",
    "                            # Add matching values to assignable lists\n",
    "                            result_id.append(i)     \n",
    "                            result_names.append(list_name[i].getName())\n",
    "                            result_songs.append(list_name[i].getSongName())\n",
    "\n",
    "            if len(result_id) == 0: # If the length of the list is 0, we found no matches\n",
    "                print(\"Your search returned no results.\")\n",
    "            else:\n",
    "                print(\"Your search returned {} results.\".format(len(result_id)))\n",
    "                output = str(input(\"Would you like to view results? \").strip().capitalize())\n",
    "                if output == \"Yes\":\n",
    "                    for k in range(0, len(result_id)):\n",
    "                        print(\"ID: {} | {} | {}\".format(result_id[num], result_names[num], result_songs[num]))\n",
    "                        num+=1\n",
    "                else:\n",
    "                    print(\"Search complete.\")\n",
    "                    \n",
    "        # Error handling for the function is written here\n",
    "        except KeyError as keyerror:\n",
    "            return(print(\"You have entered an incorrect value, please check your entry.\", keyerror))\n",
    "        except TypeError as typeerror:\n",
    "            return(print(\"You can't enter a number or symbol here, please enter a string dictionary name.\", typeerror)) "
   ]
  },
  {
   "cell_type": "code",
   "execution_count": null,
   "metadata": {
    "scrolled": true
   },
   "outputs": [],
   "source": [
    "search = Searcher(song_searcher).search_artist()"
   ]
  },
  {
   "cell_type": "code",
   "execution_count": 7,
   "metadata": {},
   "outputs": [],
   "source": [
    "class Similarity_metric(object):\n",
    "    __metaclass__ = IterRegistry\n",
    "    _registry = []\n",
    "    \n",
    "    def __init__(self, list_name, value1, value2):\n",
    "        self.list_name = list_name\n",
    "        self.target = value1\n",
    "        self.library = value2\n",
    "        \n",
    "    # Returns object in string format for readability\n",
    "    def __repr__(self):\n",
    "        return f'Target: {self.target}, Comparison: {self.library}'\n",
    "    \n",
    "    def euclidean(self):\n",
    "        a = self.target\n",
    "        b = self.library\n",
    "        return np.linalg.norm(a - b)\n",
    "        \n",
    "    def manhattan(self):\n",
    "        a = self.target\n",
    "        b = self.library\n",
    "        #return np.abs(a - b) # This works\n",
    "        return manhattan_distances([a, b])[1,0]\n",
    "        \n",
    "    def cosine(self):\n",
    "        a = self.target\n",
    "        b = self.library\n",
    "        return 1 - distance.cosine(a, b)\n",
    "\n",
    "    def jaccard(self):\n",
    "        a = self.target\n",
    "        b = self.library\n",
    "        return distance.jaccard(a, b)\n",
    "    \n",
    "    def pearson(self):\n",
    "        a = self.target\n",
    "        b = self.library\n",
    "        return np.corrcoef([a, b])[1,0]\n",
    "    \n",
    "    def feature_select(self):\n",
    "        feature_select = [\"Acousticness\", \"Danceability\", \"Energy\", \"Liveness\", \"Loudness\", \"Popularity\", \"Speechiness\", \"Tempo\", \"Valence\", \"Explicit\", \"Instrumentalness\"]\n",
    "        for number, feature in enumerate(feature_select, start=1):\n",
    "            print(number, feature) # Present a list of options to the user for feature choice\n",
    "    \n",
    "    def metric_choice(self):\n",
    "        id1 = self.target\n",
    "        id2 = self.library\n",
    "        \n",
    "        metric = int(input(\"Which metric would you like to use from the selection: Enter the number: \"))\n",
    "        if metric == 1:\n",
    "            return Similarity_metric(self.list_name, id1, id2).euclidean()\n",
    "        elif metric == 2:\n",
    "            return Similarity_metric(self.list_name, id1, id2).cosine()\n",
    "        elif metric == 3:\n",
    "            return np.corrcoef([id1, id2]) # Issues with Pearson, do it manually\n",
    "        elif metric == 4:\n",
    "            return Similarity_metric(self.list_name, id1, id2).jaccard()\n",
    "        elif metric == 5:\n",
    "            return Similarity_metric(self.list_name, [id1], [id2]).manhattan()\n",
    "        else:\n",
    "            print(\"Your selection is incorrect. Defaulting to Euclidean.\")\n",
    "            return Similarity_metric(self.list_name, id1, id2).euclidean()\n",
    "    \n",
    "    def metric_selection(self):\n",
    "        metric_select = [\"Euclidean\", \"Cosine\", \"Pearson\", \"Jaccard\", \"Manhattan\"]\n",
    "        for number, metric in enumerate(metric_select, start=1):\n",
    "            print(number, metric) # Present a list of options to the user for metric choice "
   ]
  },
  {
   "cell_type": "code",
   "execution_count": 8,
   "metadata": {},
   "outputs": [],
   "source": [
    "# Part 1 Code is here\n",
    "class Comparison(Similarity_metric):\n",
    "    __metaclass__ = IterRegistry\n",
    "    _registry = []\n",
    "    \n",
    "    def __init__(self, list_name, id1, id2):\n",
    "        self.list_name = list_name\n",
    "        self.target = id1\n",
    "        self.library = id2\n",
    "\n",
    "    def measure_feature(self):\n",
    "        list_name = self.list_name\n",
    "        id1 = self.target\n",
    "        id2 = self.library\n",
    "        \n",
    "        try:\n",
    "            id1 = id1\n",
    "            id2 = id2\n",
    "            #id1 = int(input(\"Please insert your first id for music features: \"))\n",
    "            #id2 = int(input(\"Please insert your second id for music features: \"))\n",
    "\n",
    "            if id1 == id2: # check to see if the IDs match\n",
    "                print(\"Similarity measure for ID {} and ID {} is 1\".format(id1, id2))\n",
    "            else:\n",
    "                Comparison(list_name, id1, id2).feature_select()\n",
    "                query = input(\"Which feature do you want to use for comparison? Enter the feature name or enter 'No' to compare all features. \").strip().capitalize()\n",
    "\n",
    "                if query == '' or query == \"No\".strip().capitalize(): # if query entry is no or left empty, go here\n",
    "                    print(\"Comparing all respective features. \\n\")\n",
    "                    Comparison(list_name, id1, id2).metric_selection()\n",
    "                    response = int(input(\"Which metric would you like to use from the selection: Enter the number: \"))\n",
    "                    # take values from the dictionary from the end,to avoid the string values at the beginning\n",
    "                    feature_list = list(list_name.iloc[id1])\n",
    "                    feature_list2 = list(list_name.iloc[id2])\n",
    "                    column_list = [str(i) for i in list_name] # take the associated column names\n",
    "            \n",
    "                    for i in range(0,11): # Loop through the 11 expected features\n",
    "                        # take values over the loop and compare them\n",
    "                        for value in feature_list, feature_list2: \n",
    "                            x = (feature_list[i])\n",
    "                            y = (feature_list2[i])\n",
    "                            if response == 1:\n",
    "                                distance = Comparison(list_name, x, y).euclidean()\n",
    "                            elif response == 2:\n",
    "                                distance = Comparison(list_name, x, y).cosine()\n",
    "                            elif response == 3: # Issues with Pearson, do it manually\n",
    "                                distance = np.corrcoef([x, y])\n",
    "                            elif response == 4:\n",
    "                                distance = Comparison(list_name, x, y).jaccard()\n",
    "                            else: # Response is 5\n",
    "                                distance = Comparison(list_name, [x],[y]).manhattan()\n",
    "\n",
    "                        print(column_list[i] + ':', round(distance, 3)) # print all feature metrics\n",
    "                else:\n",
    "                    x = list_name[query][id1]\n",
    "                    y = list_name[query][id2]\n",
    "                    Comparison(list_name, id1, id2).metric_selection()\n",
    "                    distance = Comparison(list_name, x, y).metric_choice() \n",
    "                    print(\"Similarity of {} for ID {} and ID {} is\".format(query, id1, id2), round(distance, 3))\n",
    "       \n",
    "        except KeyError as keyerror:\n",
    "            print(\"That feature doesn't exist.\", keyerror)\n",
    "            #euclidean_similarity(list_name,'','')\n",
    "        except ValueError as valueerror:\n",
    "            print(\"Your entry is invalid, please make sure your entry was the correct format.\", valueerror)\n",
    "            #euclidean_similarity(list_name,'','')\n",
    "        except TypeError as typeerror:\n",
    "            print(\"Invalid type entered.\", typeerror)\n",
    "        #except IndexError as index:\n",
    "        #    print(\"There was a problem, did you enter your dictionary name correctly?\", index)\n",
    "        except ZeroDivisionError:\n",
    "            print(\"Sorry, but you cannot divide by 0, metric will restart.\")\n",
    "            #euclidean_similarity(list_name,'','')\n",
    "        except AttributeError as attrerror:\n",
    "            print(attrerror)\n",
    "            #euclidean_similarity(list_name,'','')"
   ]
  },
  {
   "cell_type": "code",
   "execution_count": 9,
   "metadata": {},
   "outputs": [
    {
     "name": "stdout",
     "output_type": "stream",
     "text": [
      "1 Acousticness\n",
      "2 Danceability\n",
      "3 Energy\n",
      "4 Liveness\n",
      "5 Loudness\n",
      "6 Popularity\n",
      "7 Speechiness\n",
      "8 Tempo\n",
      "9 Valence\n",
      "10 Explicit\n",
      "11 Instrumentalness\n",
      "Which feature do you want to use for comparison? Enter the feature name or enter 'No' to compare all features. tempo\n",
      "1 Euclidean\n",
      "2 Cosine\n",
      "3 Pearson\n",
      "4 Jaccard\n",
      "5 Manhattan\n",
      "Which metric would you like to use from the selection: Enter the number: 1\n",
      "Similarity of Tempo for ID 340 and ID 200 is 48.63\n"
     ]
    }
   ],
   "source": [
    "song = Comparison(music_df, 340, 200).measure_feature()\n",
    "song"
   ]
  },
  {
   "cell_type": "code",
   "execution_count": 10,
   "metadata": {},
   "outputs": [],
   "source": [
    "class Recommendation(Similarity_metric):\n",
    "    \n",
    "    def __init__(self, list_name, class_list):\n",
    "        self.list_name = list_name\n",
    "        self.class_list = class_list\n",
    "        \n",
    "    def metric_choice(self):\n",
    "        metric = int(input(\"Which metric would you like to use from the selection: Enter the number: \"))\n",
    "        if metric == 1:\n",
    "            return 1\n",
    "        elif metric == 2:\n",
    "            return 2\n",
    "        elif metric == 3:\n",
    "            return 3\n",
    "        elif metric == 4:\n",
    "            return 4\n",
    "        elif metric == 5:\n",
    "            return 5\n",
    "        else:\n",
    "            print(\"Your selection is incorrect. Defaulting to Euclidean.\")\n",
    "            return 1   \n",
    "\n",
    "    def get_artist_recommendation(self):\n",
    "        list_name = self.list_name\n",
    "        class_list = self.class_list\n",
    "        scaler = MinMaxScaler() # To normalise the values for the engine\n",
    "        \n",
    "        # Define needed variables\n",
    "        results = []\n",
    "        id_num = int(input(\"Please enter the ID number of an artist: \"))\n",
    "        i = 0\n",
    "        j = 0\n",
    "        \n",
    "        Recommendation(list_name, class_list).metric_selection()\n",
    "        response = Recommendation(list_name, class_list).metric_choice()\n",
    "        n = int(input(\"Please specify how many recommendations you want as a multiple of 5: \"))\n",
    "        if n % 5 == 0:\n",
    "            # Create a scaler transformed copy of the dataframe\n",
    "            copy_df = scaler.fit_transform(list_name) \n",
    "            \n",
    "            # Assign the target\n",
    "            target = copy_df[id_num]  \n",
    "            \n",
    "            # Remove the entered value from the dataframe using 'drop'\n",
    "            list_name = list_name.drop([id_num])\n",
    "            \n",
    "            # Apply a scalar transform to the dataframe\n",
    "            list_name = scaler.fit_transform(list_name) \n",
    "                \n",
    "            # Loop to get the similarity score for each song against the target\n",
    "            for i in range(len(list_name)):\n",
    "                compare = list_name[i]\n",
    "                if response == 1:\n",
    "                        metric_inUse = Similarity_metric(list_name, target, compare).euclidean()\n",
    "                elif response == 2:\n",
    "                        metric_inUse = Similarity_metric(list_name, target, compare).cosine()\n",
    "                elif response == 3: # Issues with Pearson, do it manually\n",
    "                        metric_inUse = Similarity_metric(list_name, target, compare).pearson()\n",
    "                elif response == 4:\n",
    "                        metric_inUse = Similarity_metric(list_name, target, compare).jaccard()\n",
    "                else: # Response is 5\n",
    "                    metric_inUse = Similarity_metric(list_name, target, compare).manhattan()\n",
    "                \n",
    "                results.append(metric_inUse)\n",
    "    \n",
    "            # Round each result by 5 decimal places\n",
    "            results = [i.round(5) for i in results]\n",
    "            \n",
    "            if response == 1 or response == 4 or response == 5:\n",
    "                sorted_results = sorted(range(len(results)), key=lambda x: results[x], reverse=False)\n",
    "            else:\n",
    "                # Sort the results, if cosine or pearson we need to reverse these results\n",
    "                sorted_results = sorted(range(len(results)), key=lambda x: results[x], reverse=True)\n",
    "    \n",
    "            # Print the chosen artist to the user\n",
    "            print('Your Chosen '+ class_list[id_num].getName())\n",
    "            print('The {} most similar artists to your chosen artist are: '.format(n))\n",
    "\n",
    "            # Print the n recommendations for the user\n",
    "            for element in sorted_results:\n",
    "                print(class_list[element].getName())\n",
    "                j += 1\n",
    "                if j >= n:\n",
    "                    break\n",
    "        else:\n",
    "            print(\"Please select an n value as a multiple of 5.\")\n",
    "            Recommendation(list_name).get_artist_recommendation()\n",
    "    \n",
    "    def get_song_recommendation(self):\n",
    "        list_name = self.list_name\n",
    "        class_list = self.class_list\n",
    "        scaler = MinMaxScaler()\n",
    "        \n",
    "        # Define needed variables\n",
    "        results = []\n",
    "        id_num = int(input(\"Please enter the ID number of a song: \"))\n",
    "        i = 0\n",
    "        j = 0\n",
    "        \n",
    "        Recommendation(list_name, class_list).metric_selection()\n",
    "        response = Recommendation(list_name, class_list).metric_choice()\n",
    "        n = int(input(\"Please specify how many recommendations you want as a multiple of 5: \"))\n",
    "        if n % 5 == 0:\n",
    "            # Create a scaler transformed copy of the dataframe\n",
    "            copy_df = scaler.fit_transform(list_name) \n",
    "            \n",
    "            # Assign the target\n",
    "            target = copy_df[id_num]  \n",
    "            \n",
    "            # Remove the entered value from the dataframe using 'drop'\n",
    "            list_name = list_name.drop([id_num])\n",
    "            \n",
    "            # Apply a scalar transform to the dataframe\n",
    "            list_name = scaler.fit_transform(list_name)\n",
    "                \n",
    "            # Loop to get the similarity score for each song against the target\n",
    "            for i in range(len(list_name)):\n",
    "                compare = list_name[i]\n",
    "                if response == 1:\n",
    "                        metric_inUse = Similarity_metric(list_name, target, compare).euclidean()\n",
    "                elif response == 2:\n",
    "                        metric_inUse = Similarity_metric(list_name, target, compare).cosine()\n",
    "                elif response == 3: # Issues with Pearson, do it manually\n",
    "                        metric_inUse = Similarity_metric(list_name, target, compare).pearson()\n",
    "                elif response == 4:\n",
    "                        metric_inUse = Similarity_metric(list_name, target, compare).jaccard()\n",
    "                else: # Response is 5\n",
    "                    metric_inUse = Similarity_metric(list_name, target, compare).manhattan()\n",
    "            \n",
    "                results.append(metric_inUse)\n",
    "    \n",
    "            # Round each result by 5 decimal places\n",
    "            results = [i.round(5) for i in results]\n",
    "            \n",
    "            if response == 1 or response == 4 or response == 5:\n",
    "                sorted_results = sorted(range(len(results)), key=lambda x: results[x], reverse=False)\n",
    "            else:\n",
    "                # Sort the results, if cosine or pearson we need to reverse these results\n",
    "                sorted_results = sorted(range(len(results)), key=lambda x: results[x], reverse=True)\n",
    "    \n",
    "            # Print the chosen artist to the user\n",
    "            print('Your Chosen '+ class_list[id_num].getSongName())\n",
    "            print('The {} most similar songs to your song are: '.format(n))\n",
    "\n",
    "            # Print the n recommendations for the user\n",
    "            for element in sorted_results:\n",
    "                print(class_list[element].getSongName(), \"by\", class_list[element].getName())\n",
    "                j += 1\n",
    "                if j >= n:\n",
    "                    break\n",
    "        else:\n",
    "            print(\"Please select an n value as a multiple of 5.\")\n",
    "            Recommendation(list_name).get_song_recommendation()    \n",
    "    \n",
    "    def get_target_recommendation(self):\n",
    "        list_name = self.list_name\n",
    "        class_list = self.class_list\n",
    "        scaler = MinMaxScaler()\n",
    "        \n",
    "        # Define needed variables\n",
    "        results = []\n",
    "        id_num = int(input(\"Please enter the ID number of the artist: \"))\n",
    "        i = 0\n",
    "        j = 0\n",
    "        \n",
    "        Recommendation(list_name, class_list).metric_selection()\n",
    "        response = Recommendation(list_name, class_list).metric_choice()\n",
    "        n = int(input(\"Please specify how many recommendations you want as a multiple of 5: \"))\n",
    "        if n % 5 == 0:\n",
    "            # Create a scaler transformed copy of the dataframe\n",
    "            copy_df = scaler.fit_transform(list_name) \n",
    "            \n",
    "            # Assign the target\n",
    "            target = copy_df[id_num]  \n",
    "            \n",
    "            # Remove the entered value from the dataframe using 'drop'\n",
    "            list_name = list_name.drop([id_num])\n",
    "            \n",
    "            # Apply a scalar transform to the dataframe\n",
    "            list_name = scaler.fit_transform(list_name) \n",
    "                \n",
    "            # Loop to get the similarity score for each song against the target\n",
    "            for i in range(len(list_name)):\n",
    "                compare = list_name[i]\n",
    "                if response == 1:\n",
    "                        metric_inUse = Similarity_metric(list_name, target, compare).euclidean()\n",
    "                elif response == 2:\n",
    "                        metric_inUse = Similarity_metric(list_name, target, compare).cosine()\n",
    "                elif response == 3: # Issues with Pearson, do it manually\n",
    "                        metric_inUse = Similarity_metric(list_name, target, compare).pearson()\n",
    "                elif response == 4:\n",
    "                        metric_inUse = Similarity_metric(list_name, target, compare).jaccard()\n",
    "                else: # Response is 5\n",
    "                    metric_inUse = Similarity_metric(list_name, target, compare).manhattan()\n",
    "                \n",
    "                results.append(metric_inUse)\n",
    "    \n",
    "            # Round each result by 5 decimal places\n",
    "            results = [i.round(5) for i in results]\n",
    "            \n",
    "            if response == 1 or response == 4 or response == 5:\n",
    "                sorted_results = sorted(range(len(results)), key=lambda x: results[x], reverse=False)\n",
    "            else:\n",
    "                # Sort the results, if cosine or pearson we need to reverse these results\n",
    "                sorted_results = sorted(range(len(results)), key=lambda x: results[x], reverse=True)\n",
    "    \n",
    "            # Print the chosen artist to the user\n",
    "            print('Your Chosen '+ class_list[id_num].getName())\n",
    "            print('The {} most similar Tracks to your Artist are: '.format(n))\n",
    "\n",
    "            # Print the n recommendations for the user\n",
    "            for element in sorted_results:\n",
    "                print(class_list[element].getSongName())\n",
    "                j += 1\n",
    "                if j >= n:\n",
    "                    break\n",
    "        else:\n",
    "            print(\"Please select an n value as a multiple of 5.\")\n",
    "            Recommendation(list_name).get_target_recommendation()"
   ]
  },
  {
   "cell_type": "code",
   "execution_count": 11,
   "metadata": {},
   "outputs": [
    {
     "data": {
      "text/plain": [
       "Artist/s: 'Giorgos Papasideris', 'Tasos Xalkias-Klarino', Song: Aetos, ID: 2RTHkjcQSIfuFmnheAKQAZ, Acousticness: 0.97, Danceability: 0.36, Energy: 0.5589999999999999, Liveness: 0.247, Loudness: -7.053999999999999, Popularity: 0, Speechiness: 0.0335, Tempo: 100.411, Valence: 0.73"
      ]
     },
     "execution_count": 11,
     "metadata": {},
     "output_type": "execute_result"
    }
   ],
   "source": [
    "song_searcher[333]"
   ]
  },
  {
   "cell_type": "code",
   "execution_count": 12,
   "metadata": {},
   "outputs": [
    {
     "name": "stdout",
     "output_type": "stream",
     "text": [
      "Please enter the ID number of a song: 1221\n",
      "1 Euclidean\n",
      "2 Cosine\n",
      "3 Pearson\n",
      "4 Jaccard\n",
      "5 Manhattan\n",
      "Which metric would you like to use from the selection: Enter the number: 2\n",
      "Please specify how many recommendations you want as a multiple of 5: 5\n",
      "Your Chosen Song: Mele Kalikimaka - Jingle Bells\n",
      "The 5 most similar songs to your song are: \n",
      "Song: Κατεργάρα μου Ειρήνη by Artist/s: 'Αντώνης Νταλγκάς'\n",
      "Song: Puccini: Turandot, Act 2: \"In questa Reggia\" (Turandot) by Artist/s: 'Giacomo Puccini', 'Maria Callas', 'Tullio Serafin', 'Philharmonia Orchestra'\n",
      "Song: The Sheriff by Artist/s: 'The Modern Jazz Quartet'\n",
      "Song: Αραμπέλλα by Artist/s: 'Νίκος Γούναρης'\n",
      "Song: See See Rider by Artist/s: 'Ernestine Anderson'\n"
     ]
    }
   ],
   "source": [
    "new = Recommendation(music_df, song_searcher)\n",
    "new.get_song_recommendation()"
   ]
  },
  {
   "cell_type": "code",
   "execution_count": null,
   "metadata": {},
   "outputs": [],
   "source": [
    "new = Recommendation(music_df, song_searcher)\n",
    "new.get_artist_recommendation()"
   ]
  },
  {
   "cell_type": "code",
   "execution_count": null,
   "metadata": {},
   "outputs": [],
   "source": [
    "new = Recommendation(music_df, song_searcher)\n",
    "new.get_target_recommendation()"
   ]
  },
  {
   "cell_type": "code",
   "execution_count": 13,
   "metadata": {},
   "outputs": [
    {
     "data": {
      "text/html": [
       "<div>\n",
       "<style scoped>\n",
       "    .dataframe tbody tr th:only-of-type {\n",
       "        vertical-align: middle;\n",
       "    }\n",
       "\n",
       "    .dataframe tbody tr th {\n",
       "        vertical-align: top;\n",
       "    }\n",
       "\n",
       "    .dataframe thead th {\n",
       "        text-align: right;\n",
       "    }\n",
       "</style>\n",
       "<table border=\"1\" class=\"dataframe\">\n",
       "  <thead>\n",
       "    <tr style=\"text-align: right;\">\n",
       "      <th></th>\n",
       "      <th>Acousticness</th>\n",
       "      <th>Danceability</th>\n",
       "      <th>Energy</th>\n",
       "      <th>Liveness</th>\n",
       "      <th>Loudness</th>\n",
       "      <th>Popularity</th>\n",
       "      <th>Speechiness</th>\n",
       "      <th>Tempo</th>\n",
       "      <th>Valence</th>\n",
       "      <th>Explicit</th>\n",
       "      <th>Instrumentalness</th>\n",
       "    </tr>\n",
       "  </thead>\n",
       "  <tbody>\n",
       "    <tr>\n",
       "      <th>0</th>\n",
       "      <td>0.995</td>\n",
       "      <td>0.708</td>\n",
       "      <td>0.195</td>\n",
       "      <td>0.151</td>\n",
       "      <td>-12.428</td>\n",
       "      <td>0</td>\n",
       "      <td>0.0506</td>\n",
       "      <td>118.469</td>\n",
       "      <td>0.779</td>\n",
       "      <td>0</td>\n",
       "      <td>0.563</td>\n",
       "    </tr>\n",
       "    <tr>\n",
       "      <th>1</th>\n",
       "      <td>0.604</td>\n",
       "      <td>0.749</td>\n",
       "      <td>0.220</td>\n",
       "      <td>0.119</td>\n",
       "      <td>-19.924</td>\n",
       "      <td>0</td>\n",
       "      <td>0.9290</td>\n",
       "      <td>107.177</td>\n",
       "      <td>0.880</td>\n",
       "      <td>0</td>\n",
       "      <td>0.000</td>\n",
       "    </tr>\n",
       "    <tr>\n",
       "      <th>2</th>\n",
       "      <td>0.995</td>\n",
       "      <td>0.781</td>\n",
       "      <td>0.130</td>\n",
       "      <td>0.111</td>\n",
       "      <td>-14.734</td>\n",
       "      <td>0</td>\n",
       "      <td>0.0926</td>\n",
       "      <td>108.003</td>\n",
       "      <td>0.720</td>\n",
       "      <td>0</td>\n",
       "      <td>0.887</td>\n",
       "    </tr>\n",
       "    <tr>\n",
       "      <th>3</th>\n",
       "      <td>0.988</td>\n",
       "      <td>0.555</td>\n",
       "      <td>0.421</td>\n",
       "      <td>0.105</td>\n",
       "      <td>-9.878</td>\n",
       "      <td>0</td>\n",
       "      <td>0.0474</td>\n",
       "      <td>123.310</td>\n",
       "      <td>0.857</td>\n",
       "      <td>0</td>\n",
       "      <td>0.836</td>\n",
       "    </tr>\n",
       "    <tr>\n",
       "      <th>4</th>\n",
       "      <td>0.995</td>\n",
       "      <td>0.683</td>\n",
       "      <td>0.207</td>\n",
       "      <td>0.337</td>\n",
       "      <td>-9.801</td>\n",
       "      <td>0</td>\n",
       "      <td>0.1270</td>\n",
       "      <td>119.833</td>\n",
       "      <td>0.493</td>\n",
       "      <td>0</td>\n",
       "      <td>0.206</td>\n",
       "    </tr>\n",
       "  </tbody>\n",
       "</table>\n",
       "</div>"
      ],
      "text/plain": [
       "   Acousticness  Danceability  Energy  Liveness  Loudness  Popularity  \\\n",
       "0         0.995         0.708   0.195     0.151   -12.428           0   \n",
       "1         0.604         0.749   0.220     0.119   -19.924           0   \n",
       "2         0.995         0.781   0.130     0.111   -14.734           0   \n",
       "3         0.988         0.555   0.421     0.105    -9.878           0   \n",
       "4         0.995         0.683   0.207     0.337    -9.801           0   \n",
       "\n",
       "   Speechiness    Tempo  Valence  Explicit  Instrumentalness  \n",
       "0       0.0506  118.469    0.779         0             0.563  \n",
       "1       0.9290  107.177    0.880         0             0.000  \n",
       "2       0.0926  108.003    0.720         0             0.887  \n",
       "3       0.0474  123.310    0.857         0             0.836  \n",
       "4       0.1270  119.833    0.493         0             0.206  "
      ]
     },
     "execution_count": 13,
     "metadata": {},
     "output_type": "execute_result"
    }
   ],
   "source": [
    "music_df.head()"
   ]
  },
  {
   "cell_type": "code",
   "execution_count": null,
   "metadata": {},
   "outputs": [],
   "source": [
    "%%time\n",
    "\n",
    "#music_df = pd.DataFrame.from_records([s.to_dict() for s in song_searcher])\n",
    "#music_df = music_df.drop(['Artist/s', 'Song Name'], axis = 1)\n",
    "\n",
    "results = []\n",
    "id_num = 12310\n",
    "i = 0\n",
    "\n",
    "#----------This section needs to be added to the methods---DONE-------#\n",
    "#---------------------------------------------------------------------#\n",
    "copy_df = scaler.fit_transform(music_df)\n",
    "\n",
    "target = copy_df[id_num]\n",
    "\n",
    "music_df = music_df.drop([id_num])\n",
    "\n",
    "music_df = scaler.fit_transform(music_df)\n",
    "#---------------------------------------------------------------------#\n",
    "\n",
    "\n",
    "for i in range(len(music_df)):\n",
    "    compare = music_df[i]\n",
    "    results.append(Similarity_metric(music_df, target, compare).jaccard())\n",
    "    #i += 1 \n",
    "\n",
    "results = [i.round(5) for i in results]\n",
    "\n",
    "sorted_results = sorted(range(len(results)), key=lambda x: results[x], reverse=False) #cosine and pearson need reverse true\n",
    "#sorted_results.pop(0) #Drop the first value as we don't need it\n",
    "sorted_results[0:10]\n",
    "\n",
    "j = 1\n",
    "n = 10\n",
    "final = []\n",
    "\n",
    "print('Your Chosen Artist/s:', song_searcher[id_num].getName())\n",
    "print('The {} most similar Tracks to your Artist are: '.format(n))\n",
    "\n",
    "for element in sorted_results:\n",
    "    print(element, song_searcher[element].getName(), song_searcher[element].getSongName(), ', Score:', results[element])\n",
    "    j += 1\n",
    "    if j > n:\n",
    "        break"
   ]
  },
  {
   "cell_type": "markdown",
   "metadata": {},
   "source": [
    "## Data Cleaning"
   ]
  },
  {
   "cell_type": "code",
   "execution_count": 15,
   "metadata": {},
   "outputs": [
    {
     "data": {
      "text/plain": [
       "Acousticness        0\n",
       "Danceability        0\n",
       "Energy              0\n",
       "Liveness            0\n",
       "Loudness            0\n",
       "Popularity          0\n",
       "Speechiness         0\n",
       "Tempo               0\n",
       "Valence             0\n",
       "Explicit            0\n",
       "Instrumentalness    0\n",
       "dtype: int64"
      ]
     },
     "execution_count": 15,
     "metadata": {},
     "output_type": "execute_result"
    }
   ],
   "source": [
    "music_df.isnull().sum()\n",
    "# No empty values present"
   ]
  },
  {
   "cell_type": "code",
   "execution_count": 16,
   "metadata": {},
   "outputs": [
    {
     "data": {
      "text/plain": [
       "<bound method DataFrame.info of         Acousticness  Danceability  Energy  Liveness  Loudness  Popularity  \\\n",
       "0             0.9950         0.708   0.195    0.1510   -12.428           0   \n",
       "1             0.6040         0.749   0.220    0.1190   -19.924           0   \n",
       "2             0.9950         0.781   0.130    0.1110   -14.734           0   \n",
       "3             0.9880         0.555   0.421    0.1050    -9.878           0   \n",
       "4             0.9950         0.683   0.207    0.3370    -9.801           0   \n",
       "...              ...           ...     ...       ...       ...         ...   \n",
       "156603        0.1730         0.875   0.443    0.0891    -7.461          75   \n",
       "156604        0.0167         0.719   0.385    0.1110   -10.907          64   \n",
       "156605        0.5380         0.514   0.539    0.1080    -9.332          70   \n",
       "156606        0.0714         0.646   0.761    0.2220    -2.557          70   \n",
       "156607        0.1090         0.512   0.428    0.1050    -7.387          65   \n",
       "\n",
       "        Speechiness    Tempo  Valence  Explicit  Instrumentalness  \n",
       "0            0.0506  118.469    0.779         0          0.563000  \n",
       "1            0.9290  107.177    0.880         0          0.000000  \n",
       "2            0.0926  108.003    0.720         0          0.887000  \n",
       "3            0.0474  123.310    0.857         0          0.836000  \n",
       "4            0.1270  119.833    0.493         0          0.206000  \n",
       "...             ...      ...      ...       ...               ...  \n",
       "156603       0.1430  100.012    0.306         1          0.000032  \n",
       "156604       0.0403  128.000    0.270         0          0.031300  \n",
       "156605       0.1050  123.700    0.153         0          0.002330  \n",
       "156606       0.0385  129.916    0.472         0          0.000000  \n",
       "156607       0.0271   80.588    0.366         0          0.000000  \n",
       "\n",
       "[156608 rows x 11 columns]>"
      ]
     },
     "execution_count": 16,
     "metadata": {},
     "output_type": "execute_result"
    }
   ],
   "source": [
    "music_df.info"
   ]
  },
  {
   "cell_type": "code",
   "execution_count": 17,
   "metadata": {},
   "outputs": [
    {
     "data": {
      "text/html": [
       "<div>\n",
       "<style scoped>\n",
       "    .dataframe tbody tr th:only-of-type {\n",
       "        vertical-align: middle;\n",
       "    }\n",
       "\n",
       "    .dataframe tbody tr th {\n",
       "        vertical-align: top;\n",
       "    }\n",
       "\n",
       "    .dataframe thead th {\n",
       "        text-align: right;\n",
       "    }\n",
       "</style>\n",
       "<table border=\"1\" class=\"dataframe\">\n",
       "  <thead>\n",
       "    <tr style=\"text-align: right;\">\n",
       "      <th></th>\n",
       "      <th>Acousticness</th>\n",
       "      <th>Danceability</th>\n",
       "      <th>Energy</th>\n",
       "      <th>Liveness</th>\n",
       "      <th>Loudness</th>\n",
       "      <th>Popularity</th>\n",
       "      <th>Speechiness</th>\n",
       "      <th>Tempo</th>\n",
       "      <th>Valence</th>\n",
       "      <th>Explicit</th>\n",
       "      <th>Instrumentalness</th>\n",
       "    </tr>\n",
       "  </thead>\n",
       "  <tbody>\n",
       "    <tr>\n",
       "      <th>count</th>\n",
       "      <td>156608.000000</td>\n",
       "      <td>156608.000000</td>\n",
       "      <td>156608.000000</td>\n",
       "      <td>156608.000000</td>\n",
       "      <td>156608.000000</td>\n",
       "      <td>156608.000000</td>\n",
       "      <td>156608.000000</td>\n",
       "      <td>156608.000000</td>\n",
       "      <td>156608.000000</td>\n",
       "      <td>156608.000000</td>\n",
       "      <td>156608.000000</td>\n",
       "    </tr>\n",
       "    <tr>\n",
       "      <th>mean</th>\n",
       "      <td>0.495746</td>\n",
       "      <td>0.537487</td>\n",
       "      <td>0.486990</td>\n",
       "      <td>0.207584</td>\n",
       "      <td>-11.395847</td>\n",
       "      <td>31.287501</td>\n",
       "      <td>0.096372</td>\n",
       "      <td>116.883611</td>\n",
       "      <td>0.531091</td>\n",
       "      <td>0.087122</td>\n",
       "      <td>0.163088</td>\n",
       "    </tr>\n",
       "    <tr>\n",
       "      <th>std</th>\n",
       "      <td>0.376870</td>\n",
       "      <td>0.175619</td>\n",
       "      <td>0.267354</td>\n",
       "      <td>0.177469</td>\n",
       "      <td>5.666878</td>\n",
       "      <td>21.519560</td>\n",
       "      <td>0.154508</td>\n",
       "      <td>30.780865</td>\n",
       "      <td>0.262416</td>\n",
       "      <td>0.282015</td>\n",
       "      <td>0.309921</td>\n",
       "    </tr>\n",
       "    <tr>\n",
       "      <th>min</th>\n",
       "      <td>0.000000</td>\n",
       "      <td>0.000000</td>\n",
       "      <td>0.000000</td>\n",
       "      <td>0.000000</td>\n",
       "      <td>-60.000000</td>\n",
       "      <td>0.000000</td>\n",
       "      <td>0.000000</td>\n",
       "      <td>0.000000</td>\n",
       "      <td>0.000000</td>\n",
       "      <td>0.000000</td>\n",
       "      <td>0.000000</td>\n",
       "    </tr>\n",
       "    <tr>\n",
       "      <th>25%</th>\n",
       "      <td>0.095800</td>\n",
       "      <td>0.416000</td>\n",
       "      <td>0.262000</td>\n",
       "      <td>0.098700</td>\n",
       "      <td>-14.518000</td>\n",
       "      <td>12.000000</td>\n",
       "      <td>0.035000</td>\n",
       "      <td>93.339750</td>\n",
       "      <td>0.321000</td>\n",
       "      <td>0.000000</td>\n",
       "      <td>0.000000</td>\n",
       "    </tr>\n",
       "    <tr>\n",
       "      <th>50%</th>\n",
       "      <td>0.499000</td>\n",
       "      <td>0.547000</td>\n",
       "      <td>0.478000</td>\n",
       "      <td>0.136000</td>\n",
       "      <td>-10.503500</td>\n",
       "      <td>33.000000</td>\n",
       "      <td>0.045300</td>\n",
       "      <td>114.747000</td>\n",
       "      <td>0.543000</td>\n",
       "      <td>0.000000</td>\n",
       "      <td>0.000213</td>\n",
       "    </tr>\n",
       "    <tr>\n",
       "      <th>75%</th>\n",
       "      <td>0.890000</td>\n",
       "      <td>0.667000</td>\n",
       "      <td>0.707000</td>\n",
       "      <td>0.264000</td>\n",
       "      <td>-7.135000</td>\n",
       "      <td>48.000000</td>\n",
       "      <td>0.076800</td>\n",
       "      <td>135.719500</td>\n",
       "      <td>0.748000</td>\n",
       "      <td>0.000000</td>\n",
       "      <td>0.092025</td>\n",
       "    </tr>\n",
       "    <tr>\n",
       "      <th>max</th>\n",
       "      <td>0.996000</td>\n",
       "      <td>0.988000</td>\n",
       "      <td>1.000000</td>\n",
       "      <td>1.000000</td>\n",
       "      <td>3.855000</td>\n",
       "      <td>100.000000</td>\n",
       "      <td>0.969000</td>\n",
       "      <td>244.091000</td>\n",
       "      <td>1.000000</td>\n",
       "      <td>1.000000</td>\n",
       "      <td>1.000000</td>\n",
       "    </tr>\n",
       "  </tbody>\n",
       "</table>\n",
       "</div>"
      ],
      "text/plain": [
       "        Acousticness   Danceability         Energy       Liveness  \\\n",
       "count  156608.000000  156608.000000  156608.000000  156608.000000   \n",
       "mean        0.495746       0.537487       0.486990       0.207584   \n",
       "std         0.376870       0.175619       0.267354       0.177469   \n",
       "min         0.000000       0.000000       0.000000       0.000000   \n",
       "25%         0.095800       0.416000       0.262000       0.098700   \n",
       "50%         0.499000       0.547000       0.478000       0.136000   \n",
       "75%         0.890000       0.667000       0.707000       0.264000   \n",
       "max         0.996000       0.988000       1.000000       1.000000   \n",
       "\n",
       "            Loudness     Popularity    Speechiness          Tempo  \\\n",
       "count  156608.000000  156608.000000  156608.000000  156608.000000   \n",
       "mean      -11.395847      31.287501       0.096372     116.883611   \n",
       "std         5.666878      21.519560       0.154508      30.780865   \n",
       "min       -60.000000       0.000000       0.000000       0.000000   \n",
       "25%       -14.518000      12.000000       0.035000      93.339750   \n",
       "50%       -10.503500      33.000000       0.045300     114.747000   \n",
       "75%        -7.135000      48.000000       0.076800     135.719500   \n",
       "max         3.855000     100.000000       0.969000     244.091000   \n",
       "\n",
       "             Valence       Explicit  Instrumentalness  \n",
       "count  156608.000000  156608.000000     156608.000000  \n",
       "mean        0.531091       0.087122          0.163088  \n",
       "std         0.262416       0.282015          0.309921  \n",
       "min         0.000000       0.000000          0.000000  \n",
       "25%         0.321000       0.000000          0.000000  \n",
       "50%         0.543000       0.000000          0.000213  \n",
       "75%         0.748000       0.000000          0.092025  \n",
       "max         1.000000       1.000000          1.000000  "
      ]
     },
     "execution_count": 17,
     "metadata": {},
     "output_type": "execute_result"
    }
   ],
   "source": [
    "music_df.describe()"
   ]
  },
  {
   "cell_type": "code",
   "execution_count": null,
   "metadata": {},
   "outputs": [],
   "source": [
    "# Testing out 9 feature values vs 9 feature values using the metrics\n",
    "# Doesn't work is music_df hasn't been transformed yet\n",
    "\n",
    "# id_num = 30\n",
    "\n",
    "# one = music_df[id_num]\n",
    "# two = music_df[90000]\n",
    "\n",
    "# new_entry = Similarity_metric(music_df, one,two) \n",
    "# print(new_entry.euclidean())\n",
    "# print(new_entry.cosine())\n",
    "# print(new_entry.pearson())\n",
    "# print(new_entry.jaccard())\n",
    "# print(new_entry.manhattan())\n",
    "# print(one)\n",
    "# print(two)\n",
    "\n",
    "# one = np.sum(one)\n",
    "# two = np.sum(two)"
   ]
  },
  {
   "cell_type": "markdown",
   "metadata": {},
   "source": [
    "## Part 3 - KNN Recommendation"
   ]
  },
  {
   "cell_type": "code",
   "execution_count": 96,
   "metadata": {},
   "outputs": [],
   "source": [
    "#%%time\n",
    "\n",
    "scaler = MinMaxScaler()\n",
    "music_df = pd.DataFrame.from_records([s.to_dict() for s in song_searcher])\n",
    "\n",
    "results = []\n",
    "id_num = 78001\n",
    "i = 0\n",
    "\n",
    "copy_df = scaler.fit_transform(music_df)\n",
    "\n",
    "target = copy_df[id_num]\n",
    "\n",
    "music_df = music_df.drop([id_num])\n",
    "\n",
    "music_df = scaler.fit_transform(music_df)\n",
    "\n",
    "for i in range(len(music_df)):\n",
    "    compare = music_df[i]\n",
    "    results.append(Similarity_metric(music_df, target, compare).pearson())\n",
    "    #i += 1 \n",
    "\n",
    "results = [i for i in results]\n",
    "\n",
    "sorted_results = sorted(range(len(results)), key=lambda x: results[x], reverse=True) #cosine and pearson need reverse true\n",
    "first_ten = sorted_results[0:10]\n",
    "\n",
    "sim_result = []\n",
    "sim_result.append(first_ten)"
   ]
  },
  {
   "cell_type": "code",
   "execution_count": 97,
   "metadata": {},
   "outputs": [],
   "source": [
    "sim_result = np.array(sim_result)\n",
    "sim_result = sim_result.flatten()"
   ]
  },
  {
   "cell_type": "code",
   "execution_count": 98,
   "metadata": {},
   "outputs": [
    {
     "data": {
      "text/plain": [
       "NearestNeighbors(algorithm='auto', leaf_size=30, metric='correlation',\n",
       "                 metric_params=None, n_jobs=1, n_neighbors=10, p=2, radius=1.0)"
      ]
     },
     "execution_count": 98,
     "metadata": {},
     "output_type": "execute_result"
    }
   ],
   "source": [
    "id_num = 78001\n",
    "\n",
    "scaler = MinMaxScaler()\n",
    "music_df = pd.DataFrame.from_records([s.to_dict() for s in song_searcher])\n",
    "\n",
    "copy_df = scaler.fit_transform(music_df)\n",
    "\n",
    "target = copy_df[id_num]\n",
    "target = target.reshape(1,-1)\n",
    "\n",
    "music_df = music_df.drop([id_num])\n",
    "\n",
    "music_df = scaler.fit_transform(music_df)\n",
    "\n",
    "#music_df = np.delete(music_df, target)\n",
    "\n",
    "neigh = knn(metric='correlation', n_neighbors=10, n_jobs=1)\n",
    "neigh.fit(music_df)"
   ]
  },
  {
   "cell_type": "code",
   "execution_count": 99,
   "metadata": {},
   "outputs": [],
   "source": [
    "knn_result = neigh.kneighbors(target, return_distance=False)"
   ]
  },
  {
   "cell_type": "code",
   "execution_count": 100,
   "metadata": {
    "scrolled": false
   },
   "outputs": [],
   "source": [
    "knn_result = knn_result.flatten()"
   ]
  },
  {
   "cell_type": "code",
   "execution_count": 101,
   "metadata": {},
   "outputs": [
    {
     "name": "stdout",
     "output_type": "stream",
     "text": [
      "[ 21407 113624  86713 139614  86696  28717  70530 130801  14314 147896]\n",
      "[ 21407 113624  86713  86696  28717  70530  14314  86602  95538  56964]\n",
      "Accuracy is 0.30\n",
      "-217480788.1\n",
      "42528.1\n"
     ]
    }
   ],
   "source": [
    "from sklearn.metrics import average_precision_score as aps\n",
    "from sklearn.metrics import precision_recall_curve\n",
    "\n",
    "print(knn_result)\n",
    "print(sim_result)\n",
    "\n",
    "acc = accuracy_score(knn_result, sim_result)\n",
    "print(\"Accuracy is %0.2f\" % acc)\n",
    "\n",
    "#rmse = math.sqrt(mse(knn_result, sim_result))\n",
    "\n",
    "print(mse(knn_result, sim_result))\n",
    "print(mae(knn_result, sim_result))\n",
    "#print(aps(knn_result, sim_result))\n",
    "#precision, recall, thresholds = precision_recall_curve(knn_result, sim_result)"
   ]
  },
  {
   "cell_type": "markdown",
   "metadata": {},
   "source": [
    "# Testing section"
   ]
  },
  {
   "cell_type": "markdown",
   "metadata": {},
   "source": [
    "## Use a KNN Classifier"
   ]
  },
  {
   "cell_type": "code",
   "execution_count": null,
   "metadata": {},
   "outputs": [],
   "source": []
  },
  {
   "cell_type": "code",
   "execution_count": null,
   "metadata": {},
   "outputs": [],
   "source": []
  },
  {
   "cell_type": "code",
   "execution_count": null,
   "metadata": {},
   "outputs": [],
   "source": []
  },
  {
   "cell_type": "code",
   "execution_count": null,
   "metadata": {},
   "outputs": [],
   "source": []
  },
  {
   "cell_type": "code",
   "execution_count": null,
   "metadata": {},
   "outputs": [],
   "source": []
  },
  {
   "cell_type": "code",
   "execution_count": null,
   "metadata": {},
   "outputs": [],
   "source": []
  },
  {
   "cell_type": "markdown",
   "metadata": {},
   "source": [
    "## Testing Manhattan "
   ]
  },
  {
   "cell_type": "code",
   "execution_count": 102,
   "metadata": {},
   "outputs": [],
   "source": [
    "features_df = pd.DataFrame.from_records([s.to_dict() for s in song_searcher])"
   ]
  },
  {
   "cell_type": "code",
   "execution_count": 103,
   "metadata": {},
   "outputs": [
    {
     "name": "stdout",
     "output_type": "stream",
     "text": [
      "Wall time: 10.6 s\n"
     ]
    }
   ],
   "source": [
    "%%time\n",
    "# The code basis for one target to all values in the same column\n",
    "\n",
    "feature = 'Tempo'\n",
    "feature_list = []\n",
    "manhattan_list = []\n",
    "i = 0\n",
    "\n",
    "for val in features_df[feature]: \n",
    "    feature_list.append(Similarity_metric(features_df, [features_df[feature][45000]], [val]))\n",
    "    manhattan_score = feature_list[i].manhattan()\n",
    "    manhattan_list.append(manhattan_score)\n",
    "    i += 1 "
   ]
  },
  {
   "cell_type": "code",
   "execution_count": null,
   "metadata": {
    "scrolled": true
   },
   "outputs": [],
   "source": [
    "print(len(manhattan_list))\n",
    "print(manhattan_list[25:30])"
   ]
  },
  {
   "cell_type": "code",
   "execution_count": null,
   "metadata": {},
   "outputs": [],
   "source": [
    "for i in range(0, len(manhattan_list)):\n",
    "    if abs(manhattan_list[i]) <= 0:\n",
    "        print(i,':', manhattan_list[i])"
   ]
  },
  {
   "cell_type": "markdown",
   "metadata": {},
   "source": [
    "## Testing Cosine"
   ]
  },
  {
   "cell_type": "code",
   "execution_count": null,
   "metadata": {},
   "outputs": [],
   "source": [
    "%%time\n",
    "# The code basis for one target to all values in the same column\n",
    " \n",
    "feature = 'Tempo'\n",
    "cosine_list = []\n",
    "i = 0\n",
    "\n",
    "for val in features_df[feature]:   \n",
    "    result = (Similarity_metric(features_df, features_df[feature][45000], val)).cosine()\n",
    "    cosine_list.append(result)\n",
    "    i += 1\n"
   ]
  },
  {
   "cell_type": "code",
   "execution_count": null,
   "metadata": {},
   "outputs": [],
   "source": [
    "print(len(cosine_list))\n",
    "print(cosine_list[25:100])"
   ]
  },
  {
   "cell_type": "code",
   "execution_count": null,
   "metadata": {
    "scrolled": true
   },
   "outputs": [],
   "source": [
    "addition = 0\n",
    "\n",
    "for i in range(0, len(cosine_list)):\n",
    "    if abs(cosine_list[i]) <= 1:\n",
    "        addition +=1\n",
    "print(addition)"
   ]
  },
  {
   "cell_type": "markdown",
   "metadata": {},
   "source": [
    "## Testing Jaccard"
   ]
  },
  {
   "cell_type": "code",
   "execution_count": null,
   "metadata": {},
   "outputs": [],
   "source": [
    "%%time\n",
    "\n",
    "feature = 'Valence'\n",
    "feature_list = []\n",
    "jaccard_list = []\n",
    "id_num = 45000\n",
    "i = 0\n",
    "\n",
    "for val in features_df[feature]:   \n",
    "    \n",
    "    feature_list.append(Similarity_metric(features_df, features_df[feature][id_num], val))\n",
    "    jaccard_score = feature_list[i].jaccard()\n",
    "    jaccard_list.append(jaccard_score)\n",
    "    i += 1"
   ]
  },
  {
   "cell_type": "code",
   "execution_count": null,
   "metadata": {},
   "outputs": [],
   "source": [
    "print(len(jaccard_list))\n",
    "print(jaccard_list[25:35])"
   ]
  },
  {
   "cell_type": "code",
   "execution_count": null,
   "metadata": {},
   "outputs": [],
   "source": [
    "addition = 0\n",
    "\n",
    "for i in range(0, len(jaccard_list)):\n",
    "    if jaccard_list[i] <= 0:\n",
    "        addition +=1\n",
    "print(addition)"
   ]
  },
  {
   "cell_type": "markdown",
   "metadata": {},
   "source": [
    "## Testing Pearson"
   ]
  },
  {
   "cell_type": "code",
   "execution_count": null,
   "metadata": {},
   "outputs": [],
   "source": [
    "%%time\n",
    "\n",
    "id_num = 30\n",
    "\n",
    "one = music_df[id_num].round(3)\n",
    "two = music_df[90000].round(3)\n",
    "\n",
    "new_entry = Similarity_metric(music_df, one,two) \n",
    "print(new_entry.pearson())"
   ]
  },
  {
   "cell_type": "code",
   "execution_count": null,
   "metadata": {},
   "outputs": [],
   "source": [
    "print(len(pearson_list))\n",
    "print(pearson_list[25:35])"
   ]
  },
  {
   "cell_type": "code",
   "execution_count": null,
   "metadata": {},
   "outputs": [],
   "source": [
    "for i in range(0, len(pearson_list)):\n",
    "    if pearson_list[i] <= 0:\n",
    "        print(i,':', pearson_list[i])"
   ]
  },
  {
   "cell_type": "markdown",
   "metadata": {},
   "source": [
    "## Testing Euclidean"
   ]
  },
  {
   "cell_type": "code",
   "execution_count": null,
   "metadata": {},
   "outputs": [],
   "source": [
    "%%time\n",
    "\n",
    "# The code basis for one target to all values in the same column\n",
    " \n",
    "feature_list = []\n",
    "euclidean_list = []\n",
    "\n",
    "feature = 'Tempo'\n",
    "id_num = 4500 \n",
    "i = 0 # Index\n",
    "\n",
    "# lines = iter(open('something.txt', 'r'))\n",
    "# for val in lines:\n",
    "#     if val == \"!\":\n",
    "#         lines.next()\n",
    "#         continue\n",
    "#     <etc>\n",
    "\n",
    "for val in features_df[feature]: \n",
    "    feature_list.append(Similarity_metric(features_df, features_df[feature][id_num], val))\n",
    "    euclidean_score = feature_list[i].euclidean()\n",
    "    euclidean_list.append(euclidean_score)\n",
    "    i += 1 \n",
    "    \n",
    "#print(euclidean_list)\n",
    "#print(tempo_list) #Indent this if you want one-by-one printing\n",
    "#tempo_list = np.array(tempo_list)"
   ]
  },
  {
   "cell_type": "code",
   "execution_count": null,
   "metadata": {},
   "outputs": [],
   "source": [
    "print(len(euclidean_list))\n",
    "print(euclidean_list[25:35])"
   ]
  },
  {
   "cell_type": "code",
   "execution_count": null,
   "metadata": {},
   "outputs": [],
   "source": [
    "for i in range(0, len(euclidean_list)):\n",
    "    if euclidean_list[i] <= 0:\n",
    "        print(i,':', euclidean_list[i])"
   ]
  },
  {
   "cell_type": "code",
   "execution_count": null,
   "metadata": {},
   "outputs": [],
   "source": []
  },
  {
   "cell_type": "code",
   "execution_count": null,
   "metadata": {},
   "outputs": [],
   "source": [
    "search = Searcher(song_searcher).search_artist()"
   ]
  },
  {
   "cell_type": "code",
   "execution_count": null,
   "metadata": {},
   "outputs": [],
   "source": [
    "song = Comparison(music_df, 340, 200).measure_feature()\n",
    "song"
   ]
  },
  {
   "cell_type": "code",
   "execution_count": null,
   "metadata": {},
   "outputs": [],
   "source": [
    "new = Recommendation(music_df, song_searcher)\n",
    "new.get_song_recommendation()"
   ]
  },
  {
   "cell_type": "code",
   "execution_count": null,
   "metadata": {},
   "outputs": [],
   "source": [
    "print(knn_result)\n",
    "print(sim_result)\n",
    "\n",
    "acc = accuracy_score(knn_result, sim_result)\n",
    "print(\"Accuracy is %0.2f\" % acc)\n",
    "\n",
    "#rmse = math.sqrt(mse(knn_result, sim_result))\n",
    "\n",
    "print(mse(knn_result, sim_result))\n",
    "print(mae(knn_result, sim_result))"
   ]
  },
  {
   "cell_type": "code",
   "execution_count": null,
   "metadata": {},
   "outputs": [],
   "source": []
  }
 ],
 "metadata": {
  "kernelspec": {
   "display_name": "Python 3",
   "language": "python",
   "name": "python3"
  },
  "language_info": {
   "codemirror_mode": {
    "name": "ipython",
    "version": 3
   },
   "file_extension": ".py",
   "mimetype": "text/x-python",
   "name": "python",
   "nbconvert_exporter": "python",
   "pygments_lexer": "ipython3",
   "version": "3.7.4"
  }
 },
 "nbformat": 4,
 "nbformat_minor": 4
}
