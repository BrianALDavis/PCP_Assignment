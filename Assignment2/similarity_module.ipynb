{
 "cells": [
  {
   "cell_type": "markdown",
   "metadata": {},
   "source": [
    "### PCP Assignment 2 Module 2 - similarity_module"
   ]
  },
  {
   "cell_type": "code",
   "execution_count": 1,
   "metadata": {},
   "outputs": [],
   "source": [
    "from load_dataset_module import Artist, Song, Track, IterRegistry, Extras, File_loader   # Classes\n",
    "import pandas as pd\n",
    "import numpy as np\n",
    "import math\n",
    "from scipy.spatial import distance \n",
    "from numpy.linalg import norm\n",
    "from sklearn.metrics.pairwise import manhattan_distances\n",
    "from sklearn.metrics.pairwise import cosine_similarity\n",
    "\n",
    "# Disable warnings, these are not required for the user to see (might be removed)\n",
    "import warnings\n",
    "warnings.filterwarnings('ignore')\n",
    "\n",
    "# These will change over time\n",
    "from sklearn.model_selection import train_test_split\n",
    "from sklearn.metrics import mean_squared_error\n",
    "from sklearn.preprocessing import StandardScaler  # Not currently used\n",
    "from sklearn.preprocessing import MinMaxScaler\n",
    "from sklearn.neural_network import MLPClassifier\n"
   ]
  },
  {
   "cell_type": "code",
   "execution_count": 2,
   "metadata": {},
   "outputs": [],
   "source": [
    "# Creating logging capabilities\n",
    "\n",
    "# import logging\n",
    "# logging.warning('Watch out!')  # will print a message to the console\n",
    "# logging.info('I told you so')  # will not print anything"
   ]
  },
  {
   "cell_type": "code",
   "execution_count": 3,
   "metadata": {},
   "outputs": [
    {
     "name": "stdout",
     "output_type": "stream",
     "text": [
      "Finished reading the command for file loading.\n"
     ]
    }
   ],
   "source": [
    "song_searcher = File_loader().read_file()"
   ]
  },
  {
   "cell_type": "code",
   "execution_count": 4,
   "metadata": {},
   "outputs": [
    {
     "name": "stdout",
     "output_type": "stream",
     "text": [
      "   Acousticness  Danceability  Energy  Liveness  Loudness  Popularity  \\\n",
      "0         0.995         0.708   0.195     0.151   -12.428           0   \n",
      "1         0.604         0.749   0.220     0.119   -19.924           0   \n",
      "\n",
      "   Speechiness    Tempo  Valence  Explicit  Instrumentalness  \n",
      "0       0.0506  118.469    0.779         0             0.563  \n",
      "1       0.9290  107.177    0.880         0             0.000  \n",
      "\n",
      " [[0.99899598 0.71659919 0.195      0.151      0.74500039 0.\n",
      "  0.05221878 0.48534768 0.779      0.         0.563     ]\n",
      " [0.6064257  0.75809717 0.22       0.119      0.62760943 0.\n",
      "  0.95872033 0.43908624 0.88       0.         0.        ]]\n"
     ]
    }
   ],
   "source": [
    "music_df = pd.DataFrame.from_records([s.to_dict() for s in song_searcher])\n",
    "\n",
    "full_df = music_df\n",
    "\n",
    "music_df = music_df.drop(['Artist/s', 'Song Name'], axis = 1)\n",
    "\n",
    "features_df = music_df\n",
    "\n",
    "scaler = MinMaxScaler()\n",
    "music_df = scaler.fit_transform(music_df)\n",
    "\n",
    "print(features_df[:2])\n",
    "print('\\n', music_df[:2])"
   ]
  },
  {
   "cell_type": "code",
   "execution_count": 5,
   "metadata": {},
   "outputs": [
    {
     "data": {
      "text/html": [
       "<div>\n",
       "<style scoped>\n",
       "    .dataframe tbody tr th:only-of-type {\n",
       "        vertical-align: middle;\n",
       "    }\n",
       "\n",
       "    .dataframe tbody tr th {\n",
       "        vertical-align: top;\n",
       "    }\n",
       "\n",
       "    .dataframe thead th {\n",
       "        text-align: right;\n",
       "    }\n",
       "</style>\n",
       "<table border=\"1\" class=\"dataframe\">\n",
       "  <thead>\n",
       "    <tr style=\"text-align: right;\">\n",
       "      <th></th>\n",
       "      <th>Acousticness</th>\n",
       "      <th>Danceability</th>\n",
       "      <th>Energy</th>\n",
       "      <th>Liveness</th>\n",
       "      <th>Loudness</th>\n",
       "      <th>Popularity</th>\n",
       "      <th>Speechiness</th>\n",
       "      <th>Tempo</th>\n",
       "      <th>Valence</th>\n",
       "      <th>Explicit</th>\n",
       "      <th>Instrumentalness</th>\n",
       "    </tr>\n",
       "  </thead>\n",
       "  <tbody>\n",
       "    <tr>\n",
       "      <th>0</th>\n",
       "      <td>0.995</td>\n",
       "      <td>0.708</td>\n",
       "      <td>0.195</td>\n",
       "      <td>0.151</td>\n",
       "      <td>-12.428</td>\n",
       "      <td>0</td>\n",
       "      <td>0.0506</td>\n",
       "      <td>118.469</td>\n",
       "      <td>0.779</td>\n",
       "      <td>0</td>\n",
       "      <td>0.563</td>\n",
       "    </tr>\n",
       "    <tr>\n",
       "      <th>1</th>\n",
       "      <td>0.604</td>\n",
       "      <td>0.749</td>\n",
       "      <td>0.220</td>\n",
       "      <td>0.119</td>\n",
       "      <td>-19.924</td>\n",
       "      <td>0</td>\n",
       "      <td>0.9290</td>\n",
       "      <td>107.177</td>\n",
       "      <td>0.880</td>\n",
       "      <td>0</td>\n",
       "      <td>0.000</td>\n",
       "    </tr>\n",
       "    <tr>\n",
       "      <th>2</th>\n",
       "      <td>0.995</td>\n",
       "      <td>0.781</td>\n",
       "      <td>0.130</td>\n",
       "      <td>0.111</td>\n",
       "      <td>-14.734</td>\n",
       "      <td>0</td>\n",
       "      <td>0.0926</td>\n",
       "      <td>108.003</td>\n",
       "      <td>0.720</td>\n",
       "      <td>0</td>\n",
       "      <td>0.887</td>\n",
       "    </tr>\n",
       "    <tr>\n",
       "      <th>3</th>\n",
       "      <td>0.988</td>\n",
       "      <td>0.555</td>\n",
       "      <td>0.421</td>\n",
       "      <td>0.105</td>\n",
       "      <td>-9.878</td>\n",
       "      <td>0</td>\n",
       "      <td>0.0474</td>\n",
       "      <td>123.310</td>\n",
       "      <td>0.857</td>\n",
       "      <td>0</td>\n",
       "      <td>0.836</td>\n",
       "    </tr>\n",
       "    <tr>\n",
       "      <th>4</th>\n",
       "      <td>0.995</td>\n",
       "      <td>0.683</td>\n",
       "      <td>0.207</td>\n",
       "      <td>0.337</td>\n",
       "      <td>-9.801</td>\n",
       "      <td>0</td>\n",
       "      <td>0.1270</td>\n",
       "      <td>119.833</td>\n",
       "      <td>0.493</td>\n",
       "      <td>0</td>\n",
       "      <td>0.206</td>\n",
       "    </tr>\n",
       "  </tbody>\n",
       "</table>\n",
       "</div>"
      ],
      "text/plain": [
       "   Acousticness  Danceability  Energy  Liveness  Loudness  Popularity  \\\n",
       "0         0.995         0.708   0.195     0.151   -12.428           0   \n",
       "1         0.604         0.749   0.220     0.119   -19.924           0   \n",
       "2         0.995         0.781   0.130     0.111   -14.734           0   \n",
       "3         0.988         0.555   0.421     0.105    -9.878           0   \n",
       "4         0.995         0.683   0.207     0.337    -9.801           0   \n",
       "\n",
       "   Speechiness    Tempo  Valence  Explicit  Instrumentalness  \n",
       "0       0.0506  118.469    0.779         0             0.563  \n",
       "1       0.9290  107.177    0.880         0             0.000  \n",
       "2       0.0926  108.003    0.720         0             0.887  \n",
       "3       0.0474  123.310    0.857         0             0.836  \n",
       "4       0.1270  119.833    0.493         0             0.206  "
      ]
     },
     "execution_count": 5,
     "metadata": {},
     "output_type": "execute_result"
    }
   ],
   "source": [
    "features_df.head()"
   ]
  },
  {
   "cell_type": "code",
   "execution_count": 6,
   "metadata": {
    "scrolled": true
   },
   "outputs": [],
   "source": [
    "# search = Searcher(song_searcher).search_song()\n",
    "# search"
   ]
  },
  {
   "cell_type": "code",
   "execution_count": 7,
   "metadata": {},
   "outputs": [
    {
     "data": {
      "text/plain": [
       "Artist Name/s: 'Edna St. Vincent Millay', Song Name: Fatal Interview: Sonnet XI, ID: 2ALjYTnVOy0LINGcpm0LqA, Acousticness: 0.992, Danceability: 0.6809999999999999, Energy: 0.324, Liveness: 0.11900000000000001, Loudness: -15.855, Popularity: 3, Speechiness: 0.935, Tempo: 127.41, Valence: 0.265"
      ]
     },
     "execution_count": 7,
     "metadata": {},
     "output_type": "execute_result"
    }
   ],
   "source": [
    "song_searcher[15665]"
   ]
  },
  {
   "cell_type": "code",
   "execution_count": 8,
   "metadata": {},
   "outputs": [
    {
     "data": {
      "text/plain": [
       "'Duration: 83952, Explicit: 0, Instrumentalness: 0.436, Key: 8, Mode: 0, Release Date: 1955'"
      ]
     },
     "execution_count": 8,
     "metadata": {},
     "output_type": "execute_result"
    }
   ],
   "source": [
    "song_searcher[15665].getExtras()"
   ]
  },
  {
   "cell_type": "code",
   "execution_count": 9,
   "metadata": {},
   "outputs": [],
   "source": [
    "class Searcher(object):\n",
    "    __metaclass__ = IterRegistry\n",
    "    _registry = []\n",
    "    \n",
    "    def __init__(self, list_name):\n",
    "        self.list_name = list_name\n",
    "        \n",
    "    def search_artist(self):\n",
    "        try:\n",
    "            fName = str(input(\"Please enter the first name of the artist you want to find: \").strip().capitalize())\n",
    "            lName = str(input(\"Please enter the surname of the artist you want to find: \"\\\n",
    "                             ).strip().capitalize())\n",
    "    \n",
    "            # Create empty lists for the inputs\n",
    "            result_names = []\n",
    "            result_songs = []\n",
    "            result_id = []\n",
    "            num = 0 # Index for printing results\n",
    "            \n",
    "            # Loop through the dictionary, extract all matching artist + song values\n",
    "            for i in range(len(self.list_name)): # range of the whole class-based list\n",
    "                if lName != \"\":  # If the last name entry is not left blank\n",
    "                    if fName + \" \" + lName in self.list_name[i].getName():\n",
    "                        result_names.append(self.list_name[i].getName())\n",
    "                        result_songs.append(self.list_name[i].getSongName())\n",
    "                        result_id.append(i) \n",
    "                else:  # If the artist only has one name e.g. Nirvana\n",
    "                    if fName in self.list_name[i].getName():\n",
    "                        result_names.append(self.list_name[i].getName())\n",
    "                        result_songs.append(self.list_name[i].getSongName())\n",
    "                        result_id.append(i) \n",
    "                \n",
    "            if len(result_id) == 0: # If the length of the list above is 0, we found no matches\n",
    "                print(\"Your search returned no results.\")\n",
    "            else:\n",
    "                # return an assignable dictionary using the First Name and Surname Initial for the indexable ID\n",
    "                print(\"Your search returned {} results.\".format(len(result_id)))\n",
    "                output = str(input(\"Would you like to view results? \").strip().capitalize())\n",
    "                if output == \"Yes\":\n",
    "                    for k in range(0, len(result_id)):\n",
    "                        print(\"ID: {} | {} | {} | \".format(result_id[num], result_names[num], result_songs[num]))\n",
    "                        num+=1\n",
    "                else:\n",
    "                    print(\"Search complete.\")\n",
    "    \n",
    "        # Error handling for the function is written here\n",
    "        except KeyError:\n",
    "            return(print(\"You have entered an incorrect value, please check your entry.\"))\n",
    "        except TypeError:\n",
    "            return(print(\"You can't enter a number or symbol here, please enter a string dictionary name.\"))\n",
    "        except IndexError:\n",
    "            return(print(\"You must enter at least an Initial into the Surname box.\"))\n",
    "        \n",
    "    def search_song(self):\n",
    "        try:\n",
    "            song_name = input(\"Please insert the word/s you would like to find in a song: \").capitalize()\n",
    "            song_name = song_name.rstrip()   # remove end of input whitespace\n",
    "            song_name = song_name.split(' ') # split the words into individual words to detect how many we have\n",
    "\n",
    "            result_id = []\n",
    "            result_names = []\n",
    "            result_songs = []\n",
    "            num = 0 # Index for printing results\n",
    "        \n",
    "            if len(song_name) == 1: # Check if the input is 1 word or many words\n",
    "                song_name = ''.join(song_name) # if it is 1 word, reconnect the word through the join command\n",
    "                for i in range(0, len(self.list_name)): # range of the whole class-based list\n",
    "                    if song_name in self.list_name[i].getSongName():\n",
    "                        # Add matching values to assignable lists \n",
    "                        result_id.append(i)      \n",
    "                        result_names.append(self.list_name[i].getName())\n",
    "                        result_songs.append(self.list_name[i].getSongName()) \n",
    "                    \n",
    "            else: # Loop the list and match each word with a value\n",
    "                for i in range(0, len(self.list_name)): # range of the whole dictionary +1 as end of dictionary is missed otherwise\n",
    "                    song_name = [item.capitalize() for item in song_name] # capitalise each string\n",
    "                    for j in range(0, len(song_name)):\n",
    "                        if song_name[j] in self.list_name[i].getSongName(): # search each word for a match\n",
    "                            # Add matching values to assignable lists\n",
    "                            result_id.append(i)     \n",
    "                            result_names.append(self.list_name[i].getName())\n",
    "                            result_songs.append(self.list_name[i].getSongName())\n",
    "\n",
    "            if len(result_id) == 0: # If the length of the list is 0, we found no matches\n",
    "                print(\"Your search returned no results.\")\n",
    "            else:\n",
    "                print(\"Your search returned {} results.\".format(len(result_id)))\n",
    "                output = str(input(\"Would you like to view results? \").strip().capitalize())\n",
    "                if output == \"Yes\":\n",
    "                    for k in range(0, len(result_id)):\n",
    "                        print(\"ID: {} | {} | {}\".format(result_id[num], result_names[num], result_songs[num]))\n",
    "                        num+=1\n",
    "                else:\n",
    "                    print(\"Search complete.\")\n",
    "                    \n",
    "        # Error handling for the function is written here\n",
    "        except KeyError as keyerror:\n",
    "            return(print(\"You have entered an incorrect value, please check your entry.\", keyerror))\n",
    "        except TypeError as typeerror:\n",
    "            return(print(\"You can't enter a number or symbol here, please enter a string dictionary name.\", typeerror)) "
   ]
  },
  {
   "cell_type": "code",
   "execution_count": 16,
   "metadata": {},
   "outputs": [],
   "source": [
    "class Similarity_metric(object):\n",
    "    __metaclass__ = IterRegistry\n",
    "    _registry = []\n",
    "    \n",
    "    def __init__(self, list_name, value1, value2):\n",
    "        self.list_name = list_name\n",
    "    # These do work for x by x conversion however\n",
    "        # Our defined target chosen by the user\n",
    "        self.target = value1\n",
    "        # Our defined library of all other values\n",
    "        self.library = value2\n",
    "        \n",
    "    # Returns object in string format for readability\n",
    "    def __repr__(self):\n",
    "        return f'Target: {self.target}, Comparison: {self.library}'\n",
    "    \n",
    "    def euclidean(self):\n",
    "        a = self.target\n",
    "        b = self.library\n",
    "        return np.linalg.norm(a - b)\n",
    "        \n",
    "    def manhattan(self):\n",
    "        a = self.target\n",
    "        b = self.library\n",
    "        #return np.abs(a - b) # This works\n",
    "        return manhattan_distances([a, b])[1,0]\n",
    "        \n",
    "    def cosine(self):\n",
    "        a = self.target\n",
    "        b = self.library\n",
    "        return 1 - distance.cosine(a, b)\n",
    "\n",
    "    def jaccard(self):\n",
    "        a = self.target\n",
    "        b = self.library\n",
    "        return distance.jaccard(a, b)\n",
    "    \n",
    "    def pearson(self):\n",
    "        a = self.target\n",
    "        b = self.library\n",
    "        return np.corrcoef([a, b])[1,0]\n",
    "    \n",
    "    def feature_select(self):\n",
    "        feature_select = [\"Accoustiness\", \"Danceability\", \"Energy\", \"Liveness\", \"Loudness\", \"Popularity\", \"Speechiness\", \"Tempo\", \"Valence\"]\n",
    "        for number, feature in enumerate(feature_select, start=1):\n",
    "            print(number, feature) # Present a list of options to the user for feature choice\n",
    "    \n",
    "    def metric_choice(self):\n",
    "        id1 = self.target\n",
    "        id2 = self.library\n",
    "        \n",
    "        metric = int(input(\"Which metric would you like to use from the selection: Enter the number: \"))\n",
    "        if metric == 1:\n",
    "            return Similarity_metric(self.list_name, id1, id2).euclidean()\n",
    "        elif metric == 2:\n",
    "            return Similarity_metric(self.list_name, id1, id2).cosine()\n",
    "        elif metric == 3:\n",
    "            return np.corrcoef([id1, id2]) # Issues with Pearson, do it manually\n",
    "        elif metric == 4:\n",
    "            return Similarity_metric(self.list_name, id1, id2).jaccard()\n",
    "        elif metric == 5:\n",
    "            return Similarity_metric(self.list_name, [id1], [id2]).manhattan()\n",
    "        else:\n",
    "            print(\"Your selection is incorrect.\")\n",
    "            response = Similarity_metric(self.list_name, id1, id2).metric_choice()\n",
    "            return response\n",
    "    \n",
    "    def metric_selection(self):\n",
    "        metric_select = [\"Euclidean\", \"Cosine\", \"Pearson\", \"Jaccard\", \"Manhattan\"]\n",
    "        for number, metric in enumerate(metric_select, start=1):\n",
    "            print(number, metric) # Present a list of options to the user for metric choice \n",
    "    \n",
    "    # Assignment 1 section as OOP\n",
    "    def measure_feature(self):\n",
    "        list_name = self.list_name\n",
    "        id1 = self.target\n",
    "        id2 = self.library\n",
    "        \n",
    "        try:\n",
    "            id1 = int(input(\"Please insert your first id for music features: \"))\n",
    "            id2 = int(input(\"Please insert your second id for music features: \"))\n",
    "\n",
    "            if id1 == id2: # check to see if the IDs match\n",
    "                print(\"Similarity measure for ID {} and ID {} is 1\".format(id1, id2))\n",
    "            else:\n",
    "                Similarity_metric(list_name, id1, id2).metric_selection()\n",
    "                query = input(\"Which feature do you want to use for comparison? Enter the feature name or enter 'No' to compare all features. \").strip().capitalize()\n",
    "\n",
    "                if query == '' or query == \"No\".capitalize(): # if query entry is no or left empty, go here\n",
    "                    print(\"Comparing all respective features.\\n\")\n",
    "                    response = int(input(\"Which m would you like to use from the selection: Enter the number: \"))\n",
    "                    # take values from the dictionary from the end,to avoid the string values at the beginning\n",
    "                    feature_list = list(list_name.iloc[id1])\n",
    "                    feature_list2 = list(list_name.iloc[id2])\n",
    "                    column_list = [str(i) for i in list_name] # take the associated column names\n",
    "            \n",
    "                    for i in range(0,11): # Loop through the 11 expected features\n",
    "                        # take values over the loop and compare them\n",
    "                        for value in feature_list, feature_list2: \n",
    "                            x = (feature_list[i])\n",
    "                            y = (feature_list2[i])\n",
    "                            if response == 1:\n",
    "                                distance = Similarity_metric(list_name, x, y).euclidean()\n",
    "                            elif response == 2:\n",
    "                                distance = Similarity_metric(list_name, x, y).cosine()\n",
    "                            elif response == 3: # Issues with Pearson, do it manually\n",
    "                                distance = np.corrcoef([x, y])\n",
    "                            elif response == 4:\n",
    "                                distance = Similarity_metric(list_name, x, y).jaccard()\n",
    "                            elif response == 5:\n",
    "                                distance = Similarity_metric(list_name, [x],[y]).manhattan()\n",
    "                            else:\n",
    "                                response = 1\n",
    "                                print(\"Your entry was invalid, defaulting to Euclidean.\")\n",
    "                                distance = Similarity_metric(list_name, x, y).euclidean()\n",
    "                        print(column_list[i] + ':', round(distance, 3)) # print all feature metrics\n",
    "                else:\n",
    "                    x = list_name[query][id1]\n",
    "                    y = list_name[query][id2]\n",
    "                    distance = Similarity_metric(list_name, x, y).metric_choice() \n",
    "                    print(\"Similarity of {} for ID {} and ID {} is\".format(query, id1, id2), round(distance, 3))\n",
    "       \n",
    "        except KeyError as keyerror:\n",
    "            print(\"That feature doesn't exist.\", keyerror)\n",
    "            #euclidean_similarity(list_name,'','')\n",
    "        except ValueError as valueerror:\n",
    "            print(\"Your entry is invalid, please make sure your entry was the correct format.\", valueerror)\n",
    "            #euclidean_similarity(list_name,'','')\n",
    "        except TypeError as typeerror:\n",
    "            print(\"Invalid type entered.\", typeerror)\n",
    "        #except IndexError as index:\n",
    "        #    print(\"There was a problem, did you enter your dictionary name correctly?\", index)\n",
    "        except ZeroDivisionError:\n",
    "            print(\"Sorry, but you cannot divide by 0, metric will restart.\")\n",
    "            #euclidean_similarity(list_name,'','')\n",
    "        except AttributeError as attrerror:\n",
    "            print(attrerror)\n",
    "            #euclidean_similarity(list_name,'','')"
   ]
  },
  {
   "cell_type": "code",
   "execution_count": 17,
   "metadata": {},
   "outputs": [
    {
     "name": "stdout",
     "output_type": "stream",
     "text": [
      "Please insert your first id for music features: 33\n",
      "Please insert your second id for music features: 44\n",
      "1 Euclidean\n",
      "2 Cosine\n",
      "3 Pearson\n",
      "4 Jaccard\n",
      "5 Manhattan\n",
      "Which feature do you want to use for comparison? Enter the feature name or enter 'No' to compare all features. \n",
      "Comparing all respective features.\n",
      "\n",
      "Which m would you like to use from the selection: Enter the number: 4\n",
      "Acousticness: 1.0\n",
      "Danceability: 1.0\n",
      "Energy: 1.0\n",
      "Liveness: 1.0\n",
      "Loudness: 1.0\n",
      "Popularity: 0\n",
      "Speechiness: 1.0\n",
      "Tempo: 1.0\n",
      "Valence: 1.0\n",
      "Explicit: 0\n",
      "Instrumentalness: 1.0\n"
     ]
    }
   ],
   "source": [
    "song = Similarity_metric(features_df, '', '').measure_feature()\n",
    "song"
   ]
  },
  {
   "cell_type": "code",
   "execution_count": 49,
   "metadata": {},
   "outputs": [],
   "source": [
    "#### Class for recommendations\n",
    "class Recommendation(Similarity_metric):\n",
    "    \n",
    "    def __init__(self, list_name):\n",
    "        self.list_name = list_name\n",
    "        \n",
    "    def get_artist_recommendation(self):\n",
    "        pass\n",
    "    \n",
    "    \n",
    "    \n",
    "    \n",
    "    \n",
    "    def get_song_recommendation(self):\n",
    "        pass\n",
    "    \n",
    "    \n",
    "    \n",
    "    \n",
    "    \n",
    "    \n",
    "    def get_target_recommendation(self):\n",
    "        list_name = self.list_name\n",
    "        \n",
    "        # Define needed variables\n",
    "        results = []\n",
    "        id_num = int(input(\"Please enter the ID number of the artist: \"))\n",
    "        i = 0\n",
    "        j = 0\n",
    "        \n",
    "        # TODO check if input is divisible by 5 before using it\n",
    "        n = int(input(\"Please specify how many recommendations you want as a multiple of 5: \"))\n",
    "        if n % 5 == 0:\n",
    "            target = list_name[id_num]\n",
    "        \n",
    "            # Loop to get the similarity score for each song against the target\n",
    "            for i in range(len(list_name)):\n",
    "                compare = list_name[i]\n",
    "                results.append(Similarity_metric(list_name, target, compare).euclidean())\n",
    "    \n",
    "            # Round each result by 5 decimal places\n",
    "            results = [i.round(5) for i in results]\n",
    "\n",
    "            # Sort the results, if cosine or pearson we need to reverse these results\n",
    "            sorted_results = sorted(range(len(results)), key=lambda x: results[x], reverse=True)\n",
    "            sorted_results.pop(0) #Drop the first value as we don't need it\n",
    "            #print(sorted_results[:10])\n",
    "\n",
    "            # Print the chosen artist to the user\n",
    "            print('Your Chosen Artist/s:', song_searcher[id_num].getName())\n",
    "            print('The {} most similar Tracks to your Artist are: '.format(n))\n",
    "\n",
    "            # Print the n recommendations for the user\n",
    "            for element in sorted_results:\n",
    "                #print('ID:', element, song_searcher[element].getName(), song_searcher[element].getSongName(), ', Score:', results[element])\n",
    "                print(song_searcher[element].getName(), song_searcher[element].getSongName())\n",
    "                j += 1\n",
    "                if j > n:\n",
    "                    break\n",
    "        else:\n",
    "            print(\"Please select an n value as a multiple of 5.\")\n",
    "            Recommendation(list_name).get_target_recommendation()\n",
    "            "
   ]
  },
  {
   "cell_type": "code",
   "execution_count": 20,
   "metadata": {},
   "outputs": [
    {
     "name": "stdout",
     "output_type": "stream",
     "text": [
      "Please enter the ID number of the artist: 34\n",
      "Please specify how many recommendations you want as a multiple of 5: 10\n",
      "Your Chosen Artist/s: Artist Name/s: 'Ignacio Corsini'\n",
      "The 10 most similar Tracks to your Artist are: \n",
      "Artist Name/s: \"Guns N' Roses\" Song Name: Get In The Ring\n",
      "Artist Name/s: 'blink-182' Song Name: Dammit - Live/1999\n",
      "Artist Name/s: 'Eminem', 'Royce Da 5\\'9\"' Song Name: Bad Meets Evil\n",
      "Artist Name/s: 'Metallica' Song Name: Seek & Destroy (Live - Seattle '89)\n",
      "Artist Name/s: 'Metallica' Song Name: Fade to Black (Live - Seattle '89)\n",
      "Artist Name/s: 'Buckcherry' Song Name: Crazy Bitch\n",
      "Artist Name/s: 'Kid Rock' Song Name: Motherfucker Quite Like Me - Live\n",
      "Artist Name/s: 'Metallica' Song Name: Whiplash (Live - Seattle '89)\n",
      "Artist Name/s: 'The Used' Song Name: Pretty Handsome Awkward\n",
      "Artist Name/s: 'Subhumans' Song Name: All Gone Dead\n",
      "Artist Name/s: 'blink-182' Song Name: Family Reunion - Live/1999\n"
     ]
    }
   ],
   "source": [
    "new = Recommendation(music_df)\n",
    "new.get_target_recommendation()"
   ]
  },
  {
   "cell_type": "code",
   "execution_count": 27,
   "metadata": {},
   "outputs": [
    {
     "data": {
      "text/plain": [
       "Acousticness          0.752\n",
       "Danceability          0.641\n",
       "Energy                0.304\n",
       "Liveness              0.322\n",
       "Loudness            -12.750\n",
       "Popularity           40.000\n",
       "Speechiness           0.489\n",
       "Tempo               137.238\n",
       "Valence               0.719\n",
       "Explicit              0.000\n",
       "Instrumentalness      0.000\n",
       "Name: 12310, dtype: float64"
      ]
     },
     "execution_count": 27,
     "metadata": {},
     "output_type": "execute_result"
    }
   ],
   "source": [
    "features_df.iloc[id_num]"
   ]
  },
  {
   "cell_type": "code",
   "execution_count": 25,
   "metadata": {},
   "outputs": [
    {
     "name": "stdout",
     "output_type": "stream",
     "text": [
      "Your Chosen Artist/s: Artist Name/s: 'Michael Berresse', 'Bebe Neuwirth'\n",
      "The 10 most similar Tracks to your Artist are: \n",
      "Artist Name/s: 'Megadeth' Song Name: My Last Words - Remastered , Score: 0.7\n",
      "Artist Name/s: 'Linkin Park', 'Zion I' Song Name: Plc.4 Mie Hæd (Amp Live Reanimation) [feat. Zion] , Score: 0.77778\n",
      "Artist Name/s: 'Sreeradha Banerjee', 'Saikat Mitra' Song Name: Tomaar Aamaar Mukhetey , Score: 0.77778\n",
      "Artist Name/s: 'Ι.Κυριαζής', 'Στ.Χασκίλ', 'Α.Καλδάρας' Song Name: Εβίβα ρεμπέτες , Score: 0.77778\n",
      "Artist Name/s: 'Faye Wong' Song Name: 棋子 , Score: 0.77778\n",
      "Artist Name/s: 'Caifanes' Song Name: El Elefante , Score: 0.77778\n",
      "Artist Name/s: 'Pancho Barraza' Song Name: Formas De Vivir , Score: 0.77778\n",
      "Artist Name/s: 'Town Mountain' Song Name: Snowin' On Raton , Score: 0.77778\n",
      "Artist Name/s: 'Laura Story' Song Name: Grace , Score: 0.77778\n",
      "Artist Name/s: 'Carmen McRae' Song Name: You Took Advantage Of Me , Score: 0.77778\n",
      "Wall time: 3.93 s\n"
     ]
    }
   ],
   "source": [
    "%%time\n",
    "\n",
    "results = []\n",
    "id_num = 12310\n",
    "i = 0\n",
    "\n",
    "target = music_df[id_num].round(3)\n",
    "\n",
    "for i in range(len(music_df)):\n",
    "    compare = music_df[i].round(3)\n",
    "    results.append(Similarity_metric(music_df, target, compare).jaccard())\n",
    "    #i += 1 \n",
    "\n",
    "results = [i.round(5) for i in results]\n",
    "\n",
    "sorted_results = sorted(range(len(results)), key=lambda x: results[x], reverse=False) #cosine and pearson need reverse true\n",
    "sorted_results.pop(0) #Drop the first value as we don't need it\n",
    "sorted_results[0:10]\n",
    "\n",
    "j = 1\n",
    "n = 10\n",
    "final = []\n",
    "\n",
    "print('Your Chosen Artist/s:', song_searcher[id_num].getName())\n",
    "print('The {} most similar Tracks to your Artist are: '.format(n))\n",
    "\n",
    "for element in sorted_results:\n",
    "    print(song_searcher[element].getName(), song_searcher[element].getSongName(), ', Score:', results[element])\n",
    "    j += 1\n",
    "    if j > n:\n",
    "        break"
   ]
  },
  {
   "cell_type": "code",
   "execution_count": 107,
   "metadata": {},
   "outputs": [],
   "source": [
    "# %%time \n",
    "# # This is to measure how long the calculations take to make improvements if necessary\n",
    "\n",
    "# # Define variables\n",
    "# results = []\n",
    "# id_num = 4391\n",
    "# i = 0\n",
    "# j = 0\n",
    "# n = 10\n",
    "\n",
    "# # Select the target\n",
    "# target = music_df[id_num]\n",
    "\n",
    "# # Loop to get the similarity score for each song against the target\n",
    "# for i in range(len(music_df)):\n",
    "#     compare = music_df[i]\n",
    "#     results.append(Similarity_metric(music_df, target, compare).pearson())\n",
    "    \n",
    "# # Round each result by 5 decimal places\n",
    "# results = [i.round(5) for i in results]\n",
    "\n",
    "# # Sort the results, if cosine or pearson we need to reverse these results\n",
    "# sorted_results = sorted(range(len(results)), key=lambda x: results[x], reverse=True)\n",
    "# sorted_results.pop(0) #Drop the first value as we don't need it\n",
    "# #print(sorted_results[:10])\n",
    "\n",
    "# # Print the chosen artist to the user\n",
    "# print('Your Chosen Artist/s:', song_searcher[id_num].getName())\n",
    "# print('The {} most similar Tracks to your Artist are: '.format(n))\n",
    "\n",
    "# # Print the n recommendations for the user\n",
    "# for element in sorted_results:\n",
    "#     print('ID:', element, song_searcher[element].getName(), song_searcher[element].getSongName(), ', Score:', results[element])\n",
    "#     j += 1\n",
    "#     if j > n:\n",
    "#         break"
   ]
  },
  {
   "cell_type": "code",
   "execution_count": 11,
   "metadata": {},
   "outputs": [],
   "source": [
    "# Class for Similar Music, inherits from the SM class\n",
    "class Similar_music(Similarity_metric):\n",
    "    pass"
   ]
  },
  {
   "cell_type": "code",
   "execution_count": 12,
   "metadata": {},
   "outputs": [],
   "source": [
    "# Class for All similarities, inherits from the SM class\n",
    "class Similar_all(Similarity_metric):\n",
    "    pass"
   ]
  },
  {
   "cell_type": "code",
   "execution_count": 13,
   "metadata": {},
   "outputs": [],
   "source": [
    "# Function to create the df and do the similarity comparison\n",
    "def similarity_caller(list_name):\n",
    "    pass"
   ]
  },
  {
   "cell_type": "markdown",
   "metadata": {},
   "source": [
    "## Data Cleaning"
   ]
  },
  {
   "cell_type": "code",
   "execution_count": 15,
   "metadata": {},
   "outputs": [
    {
     "data": {
      "text/plain": [
       "Acousticness        0\n",
       "Danceability        0\n",
       "Energy              0\n",
       "Liveness            0\n",
       "Loudness            0\n",
       "Popularity          0\n",
       "Speechiness         0\n",
       "Tempo               0\n",
       "Valence             0\n",
       "Explicit            0\n",
       "Instrumentalness    0\n",
       "dtype: int64"
      ]
     },
     "execution_count": 15,
     "metadata": {},
     "output_type": "execute_result"
    }
   ],
   "source": [
    "features_df.isnull().sum()\n",
    "# No empty values present"
   ]
  },
  {
   "cell_type": "code",
   "execution_count": 16,
   "metadata": {},
   "outputs": [
    {
     "data": {
      "text/plain": [
       "Acousticness        float64\n",
       "Danceability        float64\n",
       "Energy              float64\n",
       "Liveness            float64\n",
       "Loudness            float64\n",
       "Popularity            int64\n",
       "Speechiness         float64\n",
       "Tempo               float64\n",
       "Valence             float64\n",
       "Explicit              int64\n",
       "Instrumentalness    float64\n",
       "dtype: object"
      ]
     },
     "execution_count": 16,
     "metadata": {},
     "output_type": "execute_result"
    }
   ],
   "source": [
    "features_df.dtypes"
   ]
  },
  {
   "cell_type": "code",
   "execution_count": 17,
   "metadata": {},
   "outputs": [
    {
     "data": {
      "text/html": [
       "<div>\n",
       "<style scoped>\n",
       "    .dataframe tbody tr th:only-of-type {\n",
       "        vertical-align: middle;\n",
       "    }\n",
       "\n",
       "    .dataframe tbody tr th {\n",
       "        vertical-align: top;\n",
       "    }\n",
       "\n",
       "    .dataframe thead th {\n",
       "        text-align: right;\n",
       "    }\n",
       "</style>\n",
       "<table border=\"1\" class=\"dataframe\">\n",
       "  <thead>\n",
       "    <tr style=\"text-align: right;\">\n",
       "      <th></th>\n",
       "      <th>Acousticness</th>\n",
       "      <th>Danceability</th>\n",
       "      <th>Energy</th>\n",
       "      <th>Liveness</th>\n",
       "      <th>Loudness</th>\n",
       "      <th>Popularity</th>\n",
       "      <th>Speechiness</th>\n",
       "      <th>Tempo</th>\n",
       "      <th>Valence</th>\n",
       "      <th>Explicit</th>\n",
       "      <th>Instrumentalness</th>\n",
       "    </tr>\n",
       "  </thead>\n",
       "  <tbody>\n",
       "    <tr>\n",
       "      <th>count</th>\n",
       "      <td>156608.000000</td>\n",
       "      <td>156608.000000</td>\n",
       "      <td>156608.000000</td>\n",
       "      <td>156608.000000</td>\n",
       "      <td>156608.000000</td>\n",
       "      <td>156608.000000</td>\n",
       "      <td>156608.000000</td>\n",
       "      <td>156608.000000</td>\n",
       "      <td>156608.000000</td>\n",
       "      <td>156608.000000</td>\n",
       "      <td>156608.000000</td>\n",
       "    </tr>\n",
       "    <tr>\n",
       "      <th>mean</th>\n",
       "      <td>0.495746</td>\n",
       "      <td>0.537487</td>\n",
       "      <td>0.486990</td>\n",
       "      <td>0.207584</td>\n",
       "      <td>-11.395847</td>\n",
       "      <td>31.287501</td>\n",
       "      <td>0.096372</td>\n",
       "      <td>116.883611</td>\n",
       "      <td>0.531091</td>\n",
       "      <td>0.087122</td>\n",
       "      <td>0.163088</td>\n",
       "    </tr>\n",
       "    <tr>\n",
       "      <th>std</th>\n",
       "      <td>0.376870</td>\n",
       "      <td>0.175619</td>\n",
       "      <td>0.267354</td>\n",
       "      <td>0.177469</td>\n",
       "      <td>5.666878</td>\n",
       "      <td>21.519560</td>\n",
       "      <td>0.154508</td>\n",
       "      <td>30.780865</td>\n",
       "      <td>0.262416</td>\n",
       "      <td>0.282015</td>\n",
       "      <td>0.309921</td>\n",
       "    </tr>\n",
       "    <tr>\n",
       "      <th>min</th>\n",
       "      <td>0.000000</td>\n",
       "      <td>0.000000</td>\n",
       "      <td>0.000000</td>\n",
       "      <td>0.000000</td>\n",
       "      <td>-60.000000</td>\n",
       "      <td>0.000000</td>\n",
       "      <td>0.000000</td>\n",
       "      <td>0.000000</td>\n",
       "      <td>0.000000</td>\n",
       "      <td>0.000000</td>\n",
       "      <td>0.000000</td>\n",
       "    </tr>\n",
       "    <tr>\n",
       "      <th>25%</th>\n",
       "      <td>0.095800</td>\n",
       "      <td>0.416000</td>\n",
       "      <td>0.262000</td>\n",
       "      <td>0.098700</td>\n",
       "      <td>-14.518000</td>\n",
       "      <td>12.000000</td>\n",
       "      <td>0.035000</td>\n",
       "      <td>93.339750</td>\n",
       "      <td>0.321000</td>\n",
       "      <td>0.000000</td>\n",
       "      <td>0.000000</td>\n",
       "    </tr>\n",
       "    <tr>\n",
       "      <th>50%</th>\n",
       "      <td>0.499000</td>\n",
       "      <td>0.547000</td>\n",
       "      <td>0.478000</td>\n",
       "      <td>0.136000</td>\n",
       "      <td>-10.503500</td>\n",
       "      <td>33.000000</td>\n",
       "      <td>0.045300</td>\n",
       "      <td>114.747000</td>\n",
       "      <td>0.543000</td>\n",
       "      <td>0.000000</td>\n",
       "      <td>0.000213</td>\n",
       "    </tr>\n",
       "    <tr>\n",
       "      <th>75%</th>\n",
       "      <td>0.890000</td>\n",
       "      <td>0.667000</td>\n",
       "      <td>0.707000</td>\n",
       "      <td>0.264000</td>\n",
       "      <td>-7.135000</td>\n",
       "      <td>48.000000</td>\n",
       "      <td>0.076800</td>\n",
       "      <td>135.719500</td>\n",
       "      <td>0.748000</td>\n",
       "      <td>0.000000</td>\n",
       "      <td>0.092025</td>\n",
       "    </tr>\n",
       "    <tr>\n",
       "      <th>max</th>\n",
       "      <td>0.996000</td>\n",
       "      <td>0.988000</td>\n",
       "      <td>1.000000</td>\n",
       "      <td>1.000000</td>\n",
       "      <td>3.855000</td>\n",
       "      <td>100.000000</td>\n",
       "      <td>0.969000</td>\n",
       "      <td>244.091000</td>\n",
       "      <td>1.000000</td>\n",
       "      <td>1.000000</td>\n",
       "      <td>1.000000</td>\n",
       "    </tr>\n",
       "  </tbody>\n",
       "</table>\n",
       "</div>"
      ],
      "text/plain": [
       "        Acousticness   Danceability         Energy       Liveness  \\\n",
       "count  156608.000000  156608.000000  156608.000000  156608.000000   \n",
       "mean        0.495746       0.537487       0.486990       0.207584   \n",
       "std         0.376870       0.175619       0.267354       0.177469   \n",
       "min         0.000000       0.000000       0.000000       0.000000   \n",
       "25%         0.095800       0.416000       0.262000       0.098700   \n",
       "50%         0.499000       0.547000       0.478000       0.136000   \n",
       "75%         0.890000       0.667000       0.707000       0.264000   \n",
       "max         0.996000       0.988000       1.000000       1.000000   \n",
       "\n",
       "            Loudness     Popularity    Speechiness          Tempo  \\\n",
       "count  156608.000000  156608.000000  156608.000000  156608.000000   \n",
       "mean      -11.395847      31.287501       0.096372     116.883611   \n",
       "std         5.666878      21.519560       0.154508      30.780865   \n",
       "min       -60.000000       0.000000       0.000000       0.000000   \n",
       "25%       -14.518000      12.000000       0.035000      93.339750   \n",
       "50%       -10.503500      33.000000       0.045300     114.747000   \n",
       "75%        -7.135000      48.000000       0.076800     135.719500   \n",
       "max         3.855000     100.000000       0.969000     244.091000   \n",
       "\n",
       "             Valence       Explicit  Instrumentalness  \n",
       "count  156608.000000  156608.000000     156608.000000  \n",
       "mean        0.531091       0.087122          0.163088  \n",
       "std         0.262416       0.282015          0.309921  \n",
       "min         0.000000       0.000000          0.000000  \n",
       "25%         0.321000       0.000000          0.000000  \n",
       "50%         0.543000       0.000000          0.000213  \n",
       "75%         0.748000       0.000000          0.092025  \n",
       "max         1.000000       1.000000          1.000000  "
      ]
     },
     "execution_count": 17,
     "metadata": {},
     "output_type": "execute_result"
    }
   ],
   "source": [
    "features_df.describe()"
   ]
  },
  {
   "cell_type": "markdown",
   "metadata": {},
   "source": [
    "# Chosen Method - Content-Based Filtering"
   ]
  },
  {
   "cell_type": "code",
   "execution_count": 81,
   "metadata": {},
   "outputs": [
    {
     "name": "stdout",
     "output_type": "stream",
     "text": [
      "0.31515078818626574\n",
      "0.7345093575383077\n",
      "2.75\n",
      "1.2931009241354676\n",
      "1.0\n",
      "\n",
      "\n",
      "[0.463 0.742 0.613 0.122 0.803 0.    0.04  0.504 0.26  0.    0.951]\n",
      "[0.924 0.572 0.492 0.123 0.773 0.28  0.076 0.549 0.915 0.    0.   ]\n"
     ]
    }
   ],
   "source": [
    "# Testing out 9 feature values vs 9 feature values using the metrics\n",
    "\n",
    "id_num = 30\n",
    "\n",
    "one = music_df[id_num].round(3)\n",
    "two = music_df[90000].round(3)\n",
    "\n",
    "new_entry = Similarity_metric(music_df, one,two) \n",
    "print(new_entry.pearson())\n",
    "print(new_entry.cosine())\n",
    "print(new_entry.manhattan())\n",
    "print(new_entry.euclidean())\n",
    "print(new_entry.jaccard())\n",
    "print('\\n')\n",
    "print(one)\n",
    "print(two)\n",
    "\n",
    "one = np.sum(one)\n",
    "two = np.sum(two)"
   ]
  },
  {
   "cell_type": "code",
   "execution_count": 51,
   "metadata": {},
   "outputs": [],
   "source": [
    "# search = Searcher(song_searcher).search_artist()\n",
    "# search"
   ]
  },
  {
   "cell_type": "code",
   "execution_count": null,
   "metadata": {},
   "outputs": [],
   "source": []
  },
  {
   "cell_type": "markdown",
   "metadata": {},
   "source": [
    "## Models?"
   ]
  },
  {
   "cell_type": "code",
   "execution_count": 22,
   "metadata": {},
   "outputs": [],
   "source": [
    "train_data, test_data = train_test_split(features_df, test_size = 0.20)"
   ]
  },
  {
   "cell_type": "code",
   "execution_count": 23,
   "metadata": {},
   "outputs": [
    {
     "data": {
      "text/html": [
       "<div>\n",
       "<style scoped>\n",
       "    .dataframe tbody tr th:only-of-type {\n",
       "        vertical-align: middle;\n",
       "    }\n",
       "\n",
       "    .dataframe tbody tr th {\n",
       "        vertical-align: top;\n",
       "    }\n",
       "\n",
       "    .dataframe thead th {\n",
       "        text-align: right;\n",
       "    }\n",
       "</style>\n",
       "<table border=\"1\" class=\"dataframe\">\n",
       "  <thead>\n",
       "    <tr style=\"text-align: right;\">\n",
       "      <th></th>\n",
       "      <th>Acousticness</th>\n",
       "      <th>Danceability</th>\n",
       "      <th>Energy</th>\n",
       "      <th>Liveness</th>\n",
       "      <th>Loudness</th>\n",
       "      <th>Popularity</th>\n",
       "      <th>Speechiness</th>\n",
       "      <th>Tempo</th>\n",
       "      <th>Valence</th>\n",
       "      <th>Explicit</th>\n",
       "      <th>Instrumentalness</th>\n",
       "    </tr>\n",
       "  </thead>\n",
       "  <tbody>\n",
       "    <tr>\n",
       "      <th>122455</th>\n",
       "      <td>0.06700</td>\n",
       "      <td>0.631</td>\n",
       "      <td>0.599</td>\n",
       "      <td>0.0952</td>\n",
       "      <td>-6.137</td>\n",
       "      <td>73</td>\n",
       "      <td>0.0878</td>\n",
       "      <td>170.122</td>\n",
       "      <td>0.727</td>\n",
       "      <td>0</td>\n",
       "      <td>0.000000</td>\n",
       "    </tr>\n",
       "    <tr>\n",
       "      <th>129606</th>\n",
       "      <td>0.00807</td>\n",
       "      <td>0.539</td>\n",
       "      <td>0.814</td>\n",
       "      <td>0.0916</td>\n",
       "      <td>-4.643</td>\n",
       "      <td>54</td>\n",
       "      <td>0.0771</td>\n",
       "      <td>143.280</td>\n",
       "      <td>0.646</td>\n",
       "      <td>0</td>\n",
       "      <td>0.000014</td>\n",
       "    </tr>\n",
       "    <tr>\n",
       "      <th>120275</th>\n",
       "      <td>0.00826</td>\n",
       "      <td>0.715</td>\n",
       "      <td>0.738</td>\n",
       "      <td>0.2600</td>\n",
       "      <td>-10.139</td>\n",
       "      <td>63</td>\n",
       "      <td>0.1570</td>\n",
       "      <td>97.877</td>\n",
       "      <td>0.573</td>\n",
       "      <td>0</td>\n",
       "      <td>0.000000</td>\n",
       "    </tr>\n",
       "    <tr>\n",
       "      <th>112780</th>\n",
       "      <td>0.09990</td>\n",
       "      <td>0.675</td>\n",
       "      <td>0.377</td>\n",
       "      <td>0.0846</td>\n",
       "      <td>-8.816</td>\n",
       "      <td>57</td>\n",
       "      <td>0.0324</td>\n",
       "      <td>108.059</td>\n",
       "      <td>0.414</td>\n",
       "      <td>0</td>\n",
       "      <td>0.000000</td>\n",
       "    </tr>\n",
       "    <tr>\n",
       "      <th>8689</th>\n",
       "      <td>0.83300</td>\n",
       "      <td>0.528</td>\n",
       "      <td>0.231</td>\n",
       "      <td>0.0922</td>\n",
       "      <td>-13.990</td>\n",
       "      <td>7</td>\n",
       "      <td>0.0811</td>\n",
       "      <td>90.401</td>\n",
       "      <td>0.494</td>\n",
       "      <td>0</td>\n",
       "      <td>0.000000</td>\n",
       "    </tr>\n",
       "  </tbody>\n",
       "</table>\n",
       "</div>"
      ],
      "text/plain": [
       "        Acousticness  Danceability  Energy  Liveness  Loudness  Popularity  \\\n",
       "122455       0.06700         0.631   0.599    0.0952    -6.137          73   \n",
       "129606       0.00807         0.539   0.814    0.0916    -4.643          54   \n",
       "120275       0.00826         0.715   0.738    0.2600   -10.139          63   \n",
       "112780       0.09990         0.675   0.377    0.0846    -8.816          57   \n",
       "8689         0.83300         0.528   0.231    0.0922   -13.990           7   \n",
       "\n",
       "        Speechiness    Tempo  Valence  Explicit  Instrumentalness  \n",
       "122455       0.0878  170.122    0.727         0          0.000000  \n",
       "129606       0.0771  143.280    0.646         0          0.000014  \n",
       "120275       0.1570   97.877    0.573         0          0.000000  \n",
       "112780       0.0324  108.059    0.414         0          0.000000  \n",
       "8689         0.0811   90.401    0.494         0          0.000000  "
      ]
     },
     "execution_count": 23,
     "metadata": {},
     "output_type": "execute_result"
    }
   ],
   "source": [
    "train_data.head()"
   ]
  },
  {
   "cell_type": "code",
   "execution_count": 24,
   "metadata": {
    "scrolled": false
   },
   "outputs": [
    {
     "data": {
      "text/plain": [
       "array([[6.72690763e-02, 6.38663968e-01, 5.99000000e-01, 9.53907816e-02,\n",
       "        8.44989332e-01, 7.30000000e-01, 9.06088751e-02, 6.96961379e-01,\n",
       "        7.27000000e-01, 0.00000000e+00, 0.00000000e+00],\n",
       "       [8.10240964e-03, 5.45546559e-01, 8.14000000e-01, 9.17835671e-02,\n",
       "        8.68426832e-01, 5.40000000e-01, 7.95665635e-02, 5.86994195e-01,\n",
       "        6.46000000e-01, 0.00000000e+00, 1.36000000e-05],\n",
       "       [8.29317269e-03, 7.23684211e-01, 7.38000000e-01, 2.60521042e-01,\n",
       "        7.82206953e-01, 6.30000000e-01, 1.62022704e-01, 4.00985698e-01,\n",
       "        5.73000000e-01, 0.00000000e+00, 0.00000000e+00],\n",
       "       [1.00301205e-01, 6.83198381e-01, 3.77000000e-01, 8.47695391e-02,\n",
       "        8.02961847e-01, 5.70000000e-01, 3.34365325e-02, 4.42699649e-01,\n",
       "        4.14000000e-01, 0.00000000e+00, 0.00000000e+00],\n",
       "       [8.36345382e-01, 5.34412955e-01, 2.31000000e-01, 9.23847695e-02,\n",
       "        7.21793424e-01, 7.00000000e-02, 8.36945304e-02, 3.70357776e-01,\n",
       "        4.94000000e-01, 0.00000000e+00, 0.00000000e+00]])"
      ]
     },
     "execution_count": 24,
     "metadata": {},
     "output_type": "execute_result"
    }
   ],
   "source": [
    "scaler = MinMaxScaler()\n",
    "train_data = scaler.fit_transform(train_data)\n",
    "\n",
    "train_data[:5]"
   ]
  },
  {
   "cell_type": "code",
   "execution_count": 25,
   "metadata": {},
   "outputs": [
    {
     "data": {
      "text/html": [
       "<div>\n",
       "<style scoped>\n",
       "    .dataframe tbody tr th:only-of-type {\n",
       "        vertical-align: middle;\n",
       "    }\n",
       "\n",
       "    .dataframe tbody tr th {\n",
       "        vertical-align: top;\n",
       "    }\n",
       "\n",
       "    .dataframe thead th {\n",
       "        text-align: right;\n",
       "    }\n",
       "</style>\n",
       "<table border=\"1\" class=\"dataframe\">\n",
       "  <thead>\n",
       "    <tr style=\"text-align: right;\">\n",
       "      <th></th>\n",
       "      <th>Acousticness</th>\n",
       "      <th>Danceability</th>\n",
       "      <th>Energy</th>\n",
       "      <th>Liveness</th>\n",
       "      <th>Loudness</th>\n",
       "      <th>Popularity</th>\n",
       "      <th>Speechiness</th>\n",
       "      <th>Tempo</th>\n",
       "      <th>Valence</th>\n",
       "      <th>Explicit</th>\n",
       "      <th>Instrumentalness</th>\n",
       "    </tr>\n",
       "  </thead>\n",
       "  <tbody>\n",
       "    <tr>\n",
       "      <th>146794</th>\n",
       "      <td>0.00285</td>\n",
       "      <td>0.534</td>\n",
       "      <td>0.763</td>\n",
       "      <td>0.0655</td>\n",
       "      <td>-6.348</td>\n",
       "      <td>48</td>\n",
       "      <td>0.0304</td>\n",
       "      <td>109.971</td>\n",
       "      <td>0.634</td>\n",
       "      <td>0</td>\n",
       "      <td>0.000000</td>\n",
       "    </tr>\n",
       "    <tr>\n",
       "      <th>84292</th>\n",
       "      <td>0.62400</td>\n",
       "      <td>0.619</td>\n",
       "      <td>0.677</td>\n",
       "      <td>0.0589</td>\n",
       "      <td>-11.728</td>\n",
       "      <td>56</td>\n",
       "      <td>0.0746</td>\n",
       "      <td>177.873</td>\n",
       "      <td>0.571</td>\n",
       "      <td>0</td>\n",
       "      <td>0.000065</td>\n",
       "    </tr>\n",
       "    <tr>\n",
       "      <th>26011</th>\n",
       "      <td>0.31400</td>\n",
       "      <td>0.573</td>\n",
       "      <td>0.458</td>\n",
       "      <td>0.0845</td>\n",
       "      <td>-13.196</td>\n",
       "      <td>34</td>\n",
       "      <td>0.0292</td>\n",
       "      <td>103.719</td>\n",
       "      <td>0.748</td>\n",
       "      <td>0</td>\n",
       "      <td>0.002160</td>\n",
       "    </tr>\n",
       "    <tr>\n",
       "      <th>55357</th>\n",
       "      <td>0.42200</td>\n",
       "      <td>0.689</td>\n",
       "      <td>0.714</td>\n",
       "      <td>0.1020</td>\n",
       "      <td>-4.378</td>\n",
       "      <td>38</td>\n",
       "      <td>0.0343</td>\n",
       "      <td>192.142</td>\n",
       "      <td>0.968</td>\n",
       "      <td>0</td>\n",
       "      <td>0.000000</td>\n",
       "    </tr>\n",
       "    <tr>\n",
       "      <th>39902</th>\n",
       "      <td>0.78600</td>\n",
       "      <td>0.399</td>\n",
       "      <td>0.509</td>\n",
       "      <td>0.7900</td>\n",
       "      <td>-11.425</td>\n",
       "      <td>29</td>\n",
       "      <td>0.0725</td>\n",
       "      <td>138.679</td>\n",
       "      <td>0.406</td>\n",
       "      <td>0</td>\n",
       "      <td>0.000216</td>\n",
       "    </tr>\n",
       "  </tbody>\n",
       "</table>\n",
       "</div>"
      ],
      "text/plain": [
       "        Acousticness  Danceability  Energy  Liveness  Loudness  Popularity  \\\n",
       "146794       0.00285         0.534   0.763    0.0655    -6.348          48   \n",
       "84292        0.62400         0.619   0.677    0.0589   -11.728          56   \n",
       "26011        0.31400         0.573   0.458    0.0845   -13.196          34   \n",
       "55357        0.42200         0.689   0.714    0.1020    -4.378          38   \n",
       "39902        0.78600         0.399   0.509    0.7900   -11.425          29   \n",
       "\n",
       "        Speechiness    Tempo  Valence  Explicit  Instrumentalness  \n",
       "146794       0.0304  109.971    0.634         0          0.000000  \n",
       "84292        0.0746  177.873    0.571         0          0.000065  \n",
       "26011        0.0292  103.719    0.748         0          0.002160  \n",
       "55357        0.0343  192.142    0.968         0          0.000000  \n",
       "39902        0.0725  138.679    0.406         0          0.000216  "
      ]
     },
     "execution_count": 25,
     "metadata": {},
     "output_type": "execute_result"
    }
   ],
   "source": [
    "test_data[:5]"
   ]
  },
  {
   "cell_type": "markdown",
   "metadata": {},
   "source": [
    "## Testing Manhattan "
   ]
  },
  {
   "cell_type": "code",
   "execution_count": 28,
   "metadata": {},
   "outputs": [],
   "source": [
    "%%time\n",
    "# The code basis for one target to all values in the same column\n",
    "\n",
    "\n",
    "feature = 'Tempo'\n",
    "feature_list = []\n",
    "manhattan_list = []\n",
    "i = 0\n",
    "\n",
    "for val in features_df[feature]: \n",
    "    feature_list.append(Similarity_metric(features_df, [features_df[feature][45000]], [val]))\n",
    "    manhattan_score = feature_list[i].manhattan()\n",
    "    manhattan_list.append(manhattan_score)\n",
    "    i += 1 \n",
    "\n",
    "#print(euclidean_list)\n",
    "#print(tempo_list) #Indent this if you want one-by-one printing\n",
    "#tempo_list = np.array(tempo_list)"
   ]
  },
  {
   "cell_type": "code",
   "execution_count": 29,
   "metadata": {
    "scrolled": true
   },
   "outputs": [
    {
     "name": "stdout",
     "output_type": "stream",
     "text": [
      "156608\n",
      "[61.17, 33.123000000000005, 32.937, 3.9590000000000316, 36.206]\n"
     ]
    }
   ],
   "source": [
    "print(len(manhattan_list))\n",
    "print(manhattan_list[25:30])"
   ]
  },
  {
   "cell_type": "code",
   "execution_count": 30,
   "metadata": {},
   "outputs": [
    {
     "name": "stdout",
     "output_type": "stream",
     "text": [
      "45000 : 0.0\n",
      "139383 : 0.0\n"
     ]
    }
   ],
   "source": [
    "for i in range(0, len(manhattan_list)):\n",
    "    if abs(manhattan_list[i]) <= 0:\n",
    "        print(i,':', manhattan_list[i])"
   ]
  },
  {
   "cell_type": "markdown",
   "metadata": {},
   "source": [
    "## Testing Cosine"
   ]
  },
  {
   "cell_type": "code",
   "execution_count": 32,
   "metadata": {},
   "outputs": [
    {
     "name": "stdout",
     "output_type": "stream",
     "text": [
      "Wall time: 7.41 s\n"
     ]
    }
   ],
   "source": [
    "%%time\n",
    "# The code basis for one target to all values in the same column\n",
    " \n",
    "feature = 'Tempo'\n",
    "cosine_list = []\n",
    "i = 0\n",
    "\n",
    "for val in features_df[feature]:   \n",
    "    result = (Similarity_metric(features_df, features_df[feature][45000], val)).cosine()\n",
    "    cosine_list.append(result)\n",
    "    i += 1\n"
   ]
  },
  {
   "cell_type": "code",
   "execution_count": 33,
   "metadata": {},
   "outputs": [
    {
     "name": "stdout",
     "output_type": "stream",
     "text": [
      "156608\n",
      "[1.0000000000000002, 1.0, 1.0, 1.0, 1.0, 1.0, 1.0000000000000002, 1.0, 1.0000000000000002, 1.0, 1.0, 1.0000000000000002, 1.0, 1.0, 1.0, 1.0000000000000002, 1.0, 1.0, 1.0, 1.0, 1.0, 1.0000000000000002, 1.0, 1.0000000000000002, 1.0, 1.0000000000000002, 1.0, 1.0, 1.0, 1.0, 1.0, 1.0000000000000002, 1.0000000000000002, 1.0, 0.9999999999999999, 1.0000000000000002, 1.0, 1.0, 1.0000000000000002, 1.0, 1.0, 1.0000000000000002, 1.0, 0.9999999999999998, 1.0, 1.0, 1.0, 1.0, 0.9999999999999999, 1.0, 1.0, 1.0, 1.0, 1.0, 1.0, 1.0, 1.0, 1.0, 1.0000000000000002, 1.0, 1.0, 1.0, 1.0, 1.0, 1.0, 1.0000000000000002, 1.0, 1.0, 1.0, 1.0000000000000002, 1.0, 1.0, 1.0, 1.0, 1.0]\n"
     ]
    }
   ],
   "source": [
    "print(len(cosine_list))\n",
    "print(cosine_list[25:100])"
   ]
  },
  {
   "cell_type": "code",
   "execution_count": 34,
   "metadata": {
    "scrolled": true
   },
   "outputs": [
    {
     "name": "stdout",
     "output_type": "stream",
     "text": [
      "126497\n"
     ]
    }
   ],
   "source": [
    "addition = 0\n",
    "\n",
    "for i in range(0, len(cosine_list)):\n",
    "    if abs(cosine_list[i]) <= 1:\n",
    "        addition +=1\n",
    "print(addition)"
   ]
  },
  {
   "cell_type": "markdown",
   "metadata": {},
   "source": [
    "## Testing Jaccard"
   ]
  },
  {
   "cell_type": "code",
   "execution_count": 36,
   "metadata": {},
   "outputs": [
    {
     "name": "stdout",
     "output_type": "stream",
     "text": [
      "Wall time: 5.18 s\n"
     ]
    }
   ],
   "source": [
    "%%time\n",
    "\n",
    "feature = 'Valence'\n",
    "feature_list = []\n",
    "jaccard_list = []\n",
    "id_num = 45000\n",
    "i = 0\n",
    "\n",
    "for val in features_df[feature]:   \n",
    "    \n",
    "    feature_list.append(Similarity_metric(features_df, features_df[feature][id_num], val))\n",
    "    jaccard_score = feature_list[i].jaccard()\n",
    "    jaccard_list.append(jaccard_score)\n",
    "    i += 1"
   ]
  },
  {
   "cell_type": "code",
   "execution_count": 37,
   "metadata": {},
   "outputs": [
    {
     "name": "stdout",
     "output_type": "stream",
     "text": [
      "156608\n",
      "[1.0, 1.0, 1.0, 1.0, 1.0, 1.0, 1.0, 1.0, 1.0, 1.0]\n"
     ]
    }
   ],
   "source": [
    "print(len(jaccard_list))\n",
    "print(jaccard_list[25:35])"
   ]
  },
  {
   "cell_type": "code",
   "execution_count": 38,
   "metadata": {},
   "outputs": [
    {
     "name": "stdout",
     "output_type": "stream",
     "text": [
      "121\n"
     ]
    }
   ],
   "source": [
    "addition = 0\n",
    "\n",
    "for i in range(0, len(jaccard_list)):\n",
    "    if jaccard_list[i] <= 0:\n",
    "        addition +=1\n",
    "print(addition)"
   ]
  },
  {
   "cell_type": "markdown",
   "metadata": {},
   "source": [
    "## Testing Pearson"
   ]
  },
  {
   "cell_type": "code",
   "execution_count": 83,
   "metadata": {},
   "outputs": [
    {
     "name": "stdout",
     "output_type": "stream",
     "text": [
      "0.31515078818626574\n",
      "Wall time: 0 ns\n"
     ]
    }
   ],
   "source": [
    "%%time\n",
    "\n",
    "id_num = 30\n",
    "\n",
    "one = music_df[id_num].round(3)\n",
    "two = music_df[90000].round(3)\n",
    "\n",
    "new_entry = Similarity_metric(music_df, one,two) \n",
    "print(new_entry.pearson())"
   ]
  },
  {
   "cell_type": "code",
   "execution_count": 84,
   "metadata": {},
   "outputs": [
    {
     "name": "stdout",
     "output_type": "stream",
     "text": [
      "0\n",
      "[]\n"
     ]
    }
   ],
   "source": [
    "print(len(pearson_list))\n",
    "print(pearson_list[25:35])"
   ]
  },
  {
   "cell_type": "code",
   "execution_count": 85,
   "metadata": {},
   "outputs": [],
   "source": [
    "for i in range(0, len(pearson_list)):\n",
    "    if pearson_list[i] <= 0:\n",
    "        print(i,':', pearson_list[i])"
   ]
  },
  {
   "cell_type": "markdown",
   "metadata": {},
   "source": [
    "## Testing Euclidean"
   ]
  },
  {
   "cell_type": "code",
   "execution_count": 47,
   "metadata": {},
   "outputs": [
    {
     "name": "stdout",
     "output_type": "stream",
     "text": [
      "Wall time: 3.21 s\n"
     ]
    }
   ],
   "source": [
    "%%time\n",
    "\n",
    "# The code basis for one target to all values in the same column\n",
    " \n",
    "feature_list = []\n",
    "euclidean_list = []\n",
    "\n",
    "feature = 'Tempo'\n",
    "id_num = 4500 \n",
    "i = 0 # Index\n",
    "\n",
    "# lines = iter(open('something.txt', 'r'))\n",
    "# for val in lines:\n",
    "#     if val == \"!\":\n",
    "#         lines.next()\n",
    "#         continue\n",
    "#     <etc>\n",
    "\n",
    "for val in features_df[feature]: \n",
    "    feature_list.append(Similarity_metric(features_df, features_df[feature][id_num], val))\n",
    "    euclidean_score = feature_list[i].euclidean()\n",
    "    euclidean_list.append(euclidean_score)\n",
    "    i += 1 \n",
    "    \n",
    "#print(euclidean_list)\n",
    "#print(tempo_list) #Indent this if you want one-by-one printing\n",
    "#tempo_list = np.array(tempo_list)"
   ]
  },
  {
   "cell_type": "code",
   "execution_count": 48,
   "metadata": {},
   "outputs": [
    {
     "name": "stdout",
     "output_type": "stream",
     "text": [
      "156608\n",
      "[18.342, 9.704999999999998, 9.891000000000005, 38.86899999999997, 6.622, 0.7489999999999952, 9.900999999999996, 16.21799999999999, 45.851, 56.535]\n"
     ]
    }
   ],
   "source": [
    "print(len(euclidean_list))\n",
    "print(euclidean_list[25:35])"
   ]
  },
  {
   "cell_type": "code",
   "execution_count": 49,
   "metadata": {},
   "outputs": [
    {
     "name": "stdout",
     "output_type": "stream",
     "text": [
      "4500 : 0.0\n",
      "62335 : 0.0\n"
     ]
    }
   ],
   "source": [
    "for i in range(0, len(euclidean_list)):\n",
    "    if euclidean_list[i] <= 0:\n",
    "        print(i,':', euclidean_list[i])"
   ]
  },
  {
   "cell_type": "code",
   "execution_count": null,
   "metadata": {},
   "outputs": [],
   "source": []
  }
 ],
 "metadata": {
  "kernelspec": {
   "display_name": "Python 3",
   "language": "python",
   "name": "python3"
  },
  "language_info": {
   "codemirror_mode": {
    "name": "ipython",
    "version": 3
   },
   "file_extension": ".py",
   "mimetype": "text/x-python",
   "name": "python",
   "nbconvert_exporter": "python",
   "pygments_lexer": "ipython3",
   "version": "3.7.4"
  }
 },
 "nbformat": 4,
 "nbformat_minor": 4
}
