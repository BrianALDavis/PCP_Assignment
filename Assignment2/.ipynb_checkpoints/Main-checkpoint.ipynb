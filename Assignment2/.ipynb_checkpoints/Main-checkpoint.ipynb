{
 "cells": [
  {
   "cell_type": "markdown",
   "metadata": {
    "deletable": false,
    "editable": false
   },
   "source": [
    "# PCP Assignment 2 - Main Notebook: Created by Brian Davis"
   ]
  },
  {
   "cell_type": "markdown",
   "metadata": {
    "deletable": false,
    "editable": false
   },
   "source": [
    "## Welcome to the Intelligent Recommendation Service!"
   ]
  },
  {
   "cell_type": "markdown",
   "metadata": {
    "deletable": false
   },
   "source": [
    "All code needed to execute the program can be found here.  \n",
    "\n",
    "The module calls needed if a user wants to run individual metrics; \n",
    "\n",
    "For Comparison:\n",
    "* Euclidean Distance\n",
    "    * Similarity metric(dataframe_name, first_id, second_id).euclidean()\n",
    "* Cosine Similarity\n",
    "    * Similarity_metric(dataframe_name, first_id, second_id).cosine()\n",
    "* Pearson Correlation\n",
    "    * Similarity_metric(dataframe_name, first_id, second_id).pearson()\n",
    "* Jaccard Similarity\n",
    "    * Similarity_metric(dataframe_name, first_id, second_id).jaccard()\n",
    "* Manhattan Distance\n",
    "    * Similarity_metric(dataframe_name, first_id, second_id).manhattan()\n",
    "    \n",
    "For Recommendation:\n",
    "* Artist Recommendation\n",
    "    * Recommendation(dataframe_name, class_list_name).get_song_recommendation()\n",
    "* Song Recommendation\n",
    "    * Recommendation(dataframe_name, class_list_name).get_song_recommendation()\n",
    "* Track Recomendation\n",
    "    * Recommendation(dataframe_name, class_list_name).get_song_recommendation()\n",
    "* K Nearest Neighbor Algorithm Recommendation\n",
    "    * Recommendation(dataframe_name, class_list_name).get_song_recommendation()\n",
    "\n",
    "Please make sure to run the code from top to bottom, the first few code blocks create the program.  \n",
    "The data structures are created before the main function is called.  \n",
    "\n",
    "Individual code blocks can be found below the main function if the user prefers this method."
   ]
  },
  {
   "cell_type": "markdown",
   "metadata": {
    "deletable": false,
    "editable": false
   },
   "source": [
    "### Import the required modules"
   ]
  },
  {
   "cell_type": "code",
   "execution_count": null,
   "metadata": {
    "deletable": false
   },
   "outputs": [],
   "source": [
    "from load_dataset_module import Artist, Song, Track, IterRegistry, Extras, File_loader # Classes\n",
    "from similarity_module import Searcher, Similarity_metric, Comparison, Recommendation\n",
    "import pandas as pd\n",
    "import numpy as np\n",
    "import math\n",
    "import seaborn as sns\n",
    "import matplotlib.pyplot as plt\n",
    "from scipy.spatial import distance \n",
    "from numpy.linalg import norm\n",
    "from sklearn.metrics.pairwise import manhattan_distances\n",
    "from sklearn.metrics import mean_squared_error as mse\n",
    "from sklearn.metrics import mean_absolute_error as mae\n",
    "from sklearn.metrics import accuracy_score\n",
    "from sklearn.neighbors import NearestNeighbors as knn\n",
    "from sklearn.preprocessing import MinMaxScaler\n",
    "\n",
    "# Disable warnings, these are not required for the user to see (might be removed)\n",
    "import warnings\n",
    "warnings.filterwarnings('ignore')"
   ]
  },
  {
   "cell_type": "markdown",
   "metadata": {
    "deletable": false
   },
   "source": [
    "### Requirements for data use are loaded here"
   ]
  },
  {
   "cell_type": "code",
   "execution_count": null,
   "metadata": {
    "deletable": false
   },
   "outputs": [],
   "source": [
    "# Define the data structures by calling their modules and assigning them\n",
    "song_searcher = File_loader().read_file()\n",
    "music_df = pd.DataFrame.from_records([s.to_dict() for s in song_searcher])"
   ]
  },
  {
   "cell_type": "markdown",
   "metadata": {
    "deletable": false
   },
   "source": [
    "### Main Execution Class"
   ]
  },
  {
   "cell_type": "code",
   "execution_count": null,
   "metadata": {
    "deletable": false
   },
   "outputs": [],
   "source": [
    "class Main():\n",
    "    def __init__(self, list_name, class_list):\n",
    "        self.list_name = list_name\n",
    "        self.class_list = class_list\n",
    "        \n",
    "    # Print the list of valid recommendation options\n",
    "    def recommend_select(self):\n",
    "        recommend_select = [\"Artist Recommendation\", \"Song Recommendation\", \"Target Recommendation\", \"Algorithmic Recommendation (KNN)\"]\n",
    "        for number, option in enumerate(recommend_select, start=1):\n",
    "            print(number, option) # Present a list of options to the user for recommendation\n",
    "\n",
    "    # Define the direction of the UI\n",
    "    def direction(self):\n",
    "        list_name = self.list_name\n",
    "        class_list = self.class_list\n",
    "        \n",
    "        selection = str(input(\"What would you like to do? Please enter 'Comparison' or 'Recommendation'. \").strip().capitalize())\n",
    "        if selection == \"Comparison\" or selection == \"Compare\":\n",
    "            Comparison(list_name, '','').measure_feature()\n",
    "        \n",
    "        elif selection == \"Recommendation\" or selection == \"Recommend\":\n",
    "            Main(list_name,class_list).recommend_select()\n",
    "            response = int(input(\"Please select an option from the list: \"))\n",
    "            if response == 1:\n",
    "                 Recommendation(list_name, class_list).get_artist_recommendation()\n",
    "            elif response == 2:\n",
    "                 Recommendation(list_name, class_list).get_song_recommendation()\n",
    "            elif response == 3: \n",
    "                 Recommendation(list_name, class_list).get_target_recommendation()\n",
    "            elif response == 4: \n",
    "                 Recommendation(list_name, class_list).get_knn_recommendation()\n",
    "            else:\n",
    "                print(\"No valid response entered, the program will use the Algorithmic option.\")\n",
    "                Recommendation(list_name, class_list).get_knn_recommendation()\n",
    "        else:\n",
    "            print(\"No valid option chosen, the program will end.\")\n",
    "        \n",
    "    def UI(self):\n",
    "        list_name = self.list_name\n",
    "        class_list = self.class_list\n",
    "        \n",
    "        try:\n",
    "            print(\"Welcome to the Intelligent Recommendation Service!\")\n",
    "            # printing length of dataframe\n",
    "            print(\"We have {} Songs in our Library!\".format(len(list_name), \"\\n\"))\n",
    "\n",
    "            # Ask the user the first question\n",
    "            known_value = str(input(\"Do you know the ID number/s of the Artist/s / Songs you want to use? Please enter yes or no. \").strip().capitalize())\n",
    "            if known_value == \"Yes\":\n",
    "                Main(list_name, class_list).direction()\n",
    "            elif known_value == \"No\":\n",
    "                increment = 0\n",
    "                while known_value == \"No\": \n",
    "                    increment += 1\n",
    "                    remain = 4 - increment\n",
    "                    which_search = str(input(\"What would you like to search for? Enter Artist or Song: \").strip().capitalize())\n",
    "                    if which_search == \"Artist\":\n",
    "                        Searcher(class_list).search_artist()\n",
    "                        query = str(input(\"Do you want to search again, or continue? Please enter search or continue: \"))\n",
    "                        if query == \"continue\":\n",
    "                            Main(list_name, class_list).direction()\n",
    "                            known_value = \"\"\n",
    "\n",
    "                        while query == \"search\":\n",
    "                            Searcher(class_list).search_artist()\n",
    "                            query = str(input(\"Do you want to search again, or continue? Please enter search or continue: \"))\n",
    "                            if query == \"continue\":\n",
    "                                Main(list_name, class_list).direction()\n",
    "                                known_value = \"\"\n",
    "                                \n",
    "                    elif which_search == \"Song\":\n",
    "                        Searcher(class_list).search_song()\n",
    "                        query = str(input(\"Do you want to search again, or continue? Please enter search or continue: \"))\n",
    "                        if query == \"continue\":\n",
    "                            Main(list_name, class_list).direction()\n",
    "                            known_value = \"\"\n",
    "\n",
    "                        while query == \"search\":\n",
    "                            Searcher(class_list).search_song()\n",
    "                            query = str(input(\"Do you want to search again, or continue? Please enter search or continue: \"))\n",
    "                            if query == \"continue\":\n",
    "                                Main(list_name, class_list).direction()\n",
    "                                known_value = \"\"\n",
    "                    else:\n",
    "                        if increment == 4:\n",
    "                            print(\"You have entered an incorrect value 3 times, the program will end. \")\n",
    "                            break    # Program ends\n",
    "                        else:\n",
    "                            print(\"Your input wasn't recognised, please try again. Attempts remaining: {}\".format(remain))\n",
    "            else:\n",
    "                print(\"No valid option entered, the program will end.\")\n",
    "\n",
    "        except ValueError:\n",
    "            print(\"You have entered an incorrect value, the program will end.\")\n",
    "        except NameError as nameerr: # Shouldn't get here in normal use\n",
    "            print(\"Error in declaring a name, please check your entries.\", nameerr)"
   ]
  },
  {
   "cell_type": "markdown",
   "metadata": {
    "deletable": false,
    "editable": false
   },
   "source": [
    "# Main Program Execution"
   ]
  },
  {
   "cell_type": "code",
   "execution_count": null,
   "metadata": {
    "deletable": false
   },
   "outputs": [],
   "source": [
    "# Runs the program - requires the dictionary names as arguments\n",
    "try: \n",
    "    Main(music_df, song_searcher).UI()\n",
    "    print(\"\\n\",\"Thanks for using our Service! See you again soon!\")\n",
    "except NameError:\n",
    "    print(\"Dictionary Name/s is missing, did you forget to run the code blocks above?\")"
   ]
  },
  {
   "cell_type": "markdown",
   "metadata": {
    "deletable": false,
    "editable": false
   },
   "source": [
    "## Individual code blocks are below to run single sections of the Program"
   ]
  },
  {
   "cell_type": "markdown",
   "metadata": {
    "deletable": false,
    "editable": false
   },
   "source": [
    "You can use the code blocks below if you prefer not to run the single main function above.  \n",
    "Please make sure that the code blocks above for the dictionaries are loaded beforehand.  "
   ]
  },
  {
   "cell_type": "markdown",
   "metadata": {
    "deletable": false,
    "editable": false
   },
   "source": [
    "### Dictionary Query Function"
   ]
  },
  {
   "cell_type": "markdown",
   "metadata": {
    "deletable": false,
    "editable": false
   },
   "source": [
    "Search options are defined as;\n",
    "* dictionary_name[numerical ID][feature_name]"
   ]
  },
  {
   "cell_type": "code",
   "execution_count": null,
   "metadata": {},
   "outputs": [],
   "source": [
    "# Use this to find artists based on their ID\n",
    "# Use the search function below to find out the ID if you don't know it\n",
    "\n",
    "artists[1] # Change as necessary"
   ]
  },
  {
   "cell_type": "code",
   "execution_count": null,
   "metadata": {},
   "outputs": [],
   "source": [
    "# Use this to find music features based on their ID\n",
    "# Use the search function below to find out the ID if you don't know it\n",
    "\n",
    "features[1] # Change as necessary"
   ]
  },
  {
   "cell_type": "markdown",
   "metadata": {},
   "source": [
    "### Artist Search Function Call"
   ]
  },
  {
   "cell_type": "code",
   "execution_count": null,
   "metadata": {
    "scrolled": true
   },
   "outputs": [],
   "source": [
    "# Search for your first artist\n",
    "artist_search = search_artist(artists)"
   ]
  },
  {
   "cell_type": "code",
   "execution_count": null,
   "metadata": {
    "scrolled": true
   },
   "outputs": [],
   "source": [
    "# Search for your second artist\n",
    "artist_search2 = search_artist(artists)"
   ]
  },
  {
   "cell_type": "markdown",
   "metadata": {},
   "source": [
    "### Dictionary Join Function Call"
   ]
  },
  {
   "cell_type": "code",
   "execution_count": null,
   "metadata": {},
   "outputs": [],
   "source": [
    "# Join the dictionaries together, removing unique IDs\n",
    "new_dict = join_artist_dict(artist_search, artist_search2)"
   ]
  },
  {
   "cell_type": "code",
   "execution_count": null,
   "metadata": {},
   "outputs": [],
   "source": [
    "# Check to make sure it worked correctly by printing the new dictionary\n",
    "print(new_dict)"
   ]
  },
  {
   "cell_type": "markdown",
   "metadata": {},
   "source": [
    "#### Define keys for function call"
   ]
  },
  {
   "cell_type": "code",
   "execution_count": null,
   "metadata": {},
   "outputs": [],
   "source": [
    "# Get the keys and assign them to variables\n",
    "key_list = str(list(new_dict.keys())).split(',') # take the associated key names\n",
    "key_list = [key.strip('[]').strip(' ') for key in key_list]\n",
    "key1 = ''.join(map(str, key_list[0])).strip(\"''\")\n",
    "key2 = ''.join(map(str, key_list[1])).strip(\"''\")"
   ]
  },
  {
   "cell_type": "markdown",
   "metadata": {},
   "source": [
    "### Euclidean Metric Call"
   ]
  },
  {
   "cell_type": "code",
   "execution_count": null,
   "metadata": {},
   "outputs": [],
   "source": [
    "# Euclidean against Artist Dictionary\n",
    "euclidean_similarity(artists, '', '')"
   ]
  },
  {
   "cell_type": "code",
   "execution_count": null,
   "metadata": {},
   "outputs": [],
   "source": [
    "# Euclidean against Music Dictionary\n",
    "euclidean_similarity(features, '', '')"
   ]
  },
  {
   "cell_type": "code",
   "execution_count": null,
   "metadata": {},
   "outputs": [],
   "source": [
    "# Euclidean against Defined Artist Dictionary\n",
    "euclidean_similarity(new_dict, key1, key2)"
   ]
  },
  {
   "cell_type": "markdown",
   "metadata": {},
   "source": [
    "### Cosine Metric Call"
   ]
  },
  {
   "cell_type": "code",
   "execution_count": null,
   "metadata": {},
   "outputs": [],
   "source": [
    "# Cosine against Artist Dictionary\n",
    "cosine_similarity(artists, '', '')"
   ]
  },
  {
   "cell_type": "code",
   "execution_count": null,
   "metadata": {},
   "outputs": [],
   "source": [
    "# Cosine against Music Dictionary\n",
    "cosine_similarity(features, '','')"
   ]
  },
  {
   "cell_type": "code",
   "execution_count": null,
   "metadata": {},
   "outputs": [],
   "source": [
    "# Cosine against Defined Artist Dictionary\n",
    "cosine_similarity(new_dict, key1, key2)"
   ]
  },
  {
   "cell_type": "markdown",
   "metadata": {},
   "source": [
    "### Pearson Metric Call"
   ]
  },
  {
   "cell_type": "code",
   "execution_count": null,
   "metadata": {},
   "outputs": [],
   "source": [
    "# Pearson against Artist Dictionary\n",
    "pearson_similarity(artists, '', '')"
   ]
  },
  {
   "cell_type": "code",
   "execution_count": null,
   "metadata": {},
   "outputs": [],
   "source": [
    "# Pearson against Music Dictionary\n",
    "pearson_similarity(features, '','')"
   ]
  },
  {
   "cell_type": "code",
   "execution_count": null,
   "metadata": {},
   "outputs": [],
   "source": [
    "# Pearson against Defined Artist Dictionary - Expect not to work if list sizes differ\n",
    "pearson_similarity(new_dict, key1, key2)"
   ]
  },
  {
   "cell_type": "markdown",
   "metadata": {},
   "source": [
    "### Jaccard Metric Call"
   ]
  },
  {
   "cell_type": "code",
   "execution_count": null,
   "metadata": {},
   "outputs": [],
   "source": [
    "# Jaccard against Artist Dictionary\n",
    "jaccard_similarity(artists, '', '')"
   ]
  },
  {
   "cell_type": "code",
   "execution_count": null,
   "metadata": {},
   "outputs": [],
   "source": [
    "# Jaccard against Music Dictionary\n",
    "jaccard_similarity(features, '','')"
   ]
  },
  {
   "cell_type": "code",
   "execution_count": null,
   "metadata": {},
   "outputs": [],
   "source": [
    "# Jaccard against Defined Artist Dictionary\n",
    "jaccard_similarity(new_dict, key1, key2)"
   ]
  },
  {
   "cell_type": "markdown",
   "metadata": {},
   "source": [
    "### Manhattan Metric Call"
   ]
  },
  {
   "cell_type": "code",
   "execution_count": null,
   "metadata": {},
   "outputs": [],
   "source": [
    "# Manhattan against Artist Dictionary\n",
    "manhattan_similarity(artists, '', '')"
   ]
  },
  {
   "cell_type": "code",
   "execution_count": null,
   "metadata": {},
   "outputs": [],
   "source": [
    "# Manhattan against Music Dictionary\n",
    "manhattan_similarity(features, '','')"
   ]
  },
  {
   "cell_type": "code",
   "execution_count": null,
   "metadata": {},
   "outputs": [],
   "source": [
    "# Manhattan against Defined Artist Dictionary\n",
    "manhattan_similarity(new_dict, key1, key2)"
   ]
  },
  {
   "cell_type": "markdown",
   "metadata": {},
   "source": [
    "## Evaluations"
   ]
  },
  {
   "cell_type": "code",
   "execution_count": null,
   "metadata": {},
   "outputs": [],
   "source": []
  }
 ],
 "metadata": {
  "kernelspec": {
   "display_name": "Python 3",
   "language": "python",
   "name": "python3"
  },
  "language_info": {
   "codemirror_mode": {
    "name": "ipython",
    "version": 3
   },
   "file_extension": ".py",
   "mimetype": "text/x-python",
   "name": "python",
   "nbconvert_exporter": "python",
   "pygments_lexer": "ipython3",
   "version": "3.7.4"
  }
 },
 "nbformat": 4,
 "nbformat_minor": 4
}
