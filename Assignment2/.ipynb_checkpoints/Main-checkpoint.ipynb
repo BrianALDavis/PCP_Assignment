{
 "cells": [
  {
   "cell_type": "markdown",
   "metadata": {
    "deletable": false,
    "editable": false
   },
   "source": [
    "# PCP Assignment 2 - Main Notebook: Created by Brian Davis"
   ]
  },
  {
   "cell_type": "markdown",
   "metadata": {
    "deletable": false,
    "editable": false
   },
   "source": [
    "## Welcome to the Intelligent Recommendation Service!"
   ]
  },
  {
   "cell_type": "markdown",
   "metadata": {
    "deletable": false
   },
   "source": [
    "All code needed to execute the program can be found here.  \n",
    "\n",
    "The module calls needed if a user wants to run individual metrics; \n",
    "\n",
    "For Comparison:\n",
    "* Euclidean Distance\n",
    "    * Similarity metric(dataframe_name, first_id, second_id).euclidean()\n",
    "* Cosine Similarity\n",
    "    * Similarity_metric(dataframe_name, first_id, second_id).cosine()\n",
    "* Pearson Correlation\n",
    "    * Similarity_metric(dataframe_name, first_id, second_id).pearson()\n",
    "* Jaccard Similarity\n",
    "    * Similarity_metric(dataframe_name, first_id, second_id).jaccard()\n",
    "* Manhattan Distance\n",
    "    * Similarity_metric(dataframe_name, first_id, second_id).manhattan()\n",
    "    \n",
    "For Recommendation:\n",
    "* Artist Recommendation\n",
    "    * Recommendation(dataframe_name, class_list_name).get_artist_recommendation()\n",
    "* Song Recommendation\n",
    "    * Recommendation(dataframe_name, class_list_name).get_song_recommendation()\n",
    "* Track Recommendation\n",
    "    * Recommendation(dataframe_name, class_list_name).get_target_recommendation()\n",
    "* K Nearest Neighbor Algorithm Recommendation\n",
    "    * Recommendation(dataframe_name, class_list_name).get_knn_recommendation()\n",
    "\n",
    "Please make sure to run the code from top to bottom, the first few code blocks create the program.  \n",
    "The data structures are created before the main function is called.  \n",
    "\n",
    "Individual code blocks can be found below the main function if the user prefers this method."
   ]
  },
  {
   "cell_type": "markdown",
   "metadata": {
    "deletable": false,
    "editable": false
   },
   "source": [
    "### Import the required modules"
   ]
  },
  {
   "cell_type": "code",
   "execution_count": 2,
   "metadata": {
    "deletable": false
   },
   "outputs": [],
   "source": [
    "from load_dataset_module import Artist, Song, Track, IterRegistry, Extras, File_loader # Classes\n",
    "from similarity_module import Searcher, Similarity_metric, Comparison, Recommendation\n",
    "import pandas as pd\n",
    "import numpy as np\n",
    "import math\n",
    "from scipy.spatial import distance \n",
    "from numpy.linalg import norm\n",
    "from sklearn.metrics.pairwise import manhattan_distances\n",
    "from sklearn.neighbors import NearestNeighbors as knn\n",
    "from sklearn.preprocessing import MinMaxScaler\n",
    "\n",
    "# For evaluation purposes\n",
    "from sklearn.metrics import mean_squared_error as mse\n",
    "from sklearn.metrics import mean_absolute_error as mae\n",
    "from sklearn.metrics import accuracy_score\n",
    "import seaborn as sns\n",
    "import matplotlib.pyplot as plt\n",
    "\n",
    "# Disable warnings, these are not required for the user to see (might be removed)\n",
    "import warnings\n",
    "warnings.filterwarnings('ignore')"
   ]
  },
  {
   "cell_type": "markdown",
   "metadata": {
    "deletable": false
   },
   "source": [
    "### Requirements for data use are loaded here"
   ]
  },
  {
   "cell_type": "code",
   "execution_count": 3,
   "metadata": {
    "deletable": false
   },
   "outputs": [
    {
     "name": "stdout",
     "output_type": "stream",
     "text": [
      "Finished reading the command for file loading.\n"
     ]
    }
   ],
   "source": [
    "# Define the data structures by assigning them\n",
    "\n",
    "# Class List\n",
    "song_searcher = File_loader().read_file()\n",
    "\n",
    "# Dataframe\n",
    "music_df = pd.DataFrame.from_records([s.to_dict() for s in song_searcher])"
   ]
  },
  {
   "cell_type": "code",
   "execution_count": 4,
   "metadata": {},
   "outputs": [],
   "source": [
    "# Creating logging capabilities\n",
    "\n",
    "# import logging\n",
    "# logging.warning('Watch out!')  # will print a message to the console\n",
    "# logging.info('I told you so')  # will not print anything"
   ]
  },
  {
   "cell_type": "markdown",
   "metadata": {
    "deletable": false
   },
   "source": [
    "### Main Execution Class"
   ]
  },
  {
   "cell_type": "code",
   "execution_count": 16,
   "metadata": {
    "deletable": false
   },
   "outputs": [],
   "source": [
    "class Main():\n",
    "    def __init__(self, list_name, class_list):\n",
    "        self.list_name = list_name\n",
    "        self.class_list = class_list\n",
    "        \n",
    "    # Print the list of valid recommendation options\n",
    "    def recommend_select(self):\n",
    "        recommendSelect = [\"Artist Recommendation\", \"Song Recommendation\", \"Target Recommendation\", \"Algorithmic Recommendation (KNN)\"]\n",
    "        for number, option in enumerate(recommendSelect, start=1):\n",
    "            print(number, option) # Present a list of options to the user for recommendation\n",
    "\n",
    "    # Define the direction of the UI\n",
    "    def direction(self):\n",
    "        list_name = self.list_name\n",
    "        class_list = self.class_list\n",
    "        \n",
    "        # Let the user choose an option here\n",
    "        selection = str(input(\"What would you like to do? Please enter 'Comparison' or 'Recommendation'. \").strip().capitalize())\n",
    "        if selection == \"Comparison\" or selection == \"Compare\":\n",
    "            # Call the Comparison class measure feature method\n",
    "            Comparison(list_name, '','').measure_feature()\n",
    "        \n",
    "        elif selection == \"Recommendation\" or selection == \"Recommend\":\n",
    "            # Call the recommend select method\n",
    "            Main(list_name,class_list).recommend_select()\n",
    "            # Dependant on response from user, call the Recommendation class' specific method\n",
    "            response = int(input(\"Please select an option from the list. Enter the number: \"))\n",
    "            if response == 1:\n",
    "                 Recommendation(list_name, class_list).get_artist_recommendation()\n",
    "            elif response == 2:\n",
    "                 Recommendation(list_name, class_list).get_song_recommendation()\n",
    "            elif response == 3: \n",
    "                 Recommendation(list_name, class_list).get_target_recommendation()\n",
    "            elif response == 4: \n",
    "                 Recommendation(list_name, class_list).get_knn_recommendation()\n",
    "            else:\n",
    "                print(\"No valid response entered, the program will use the Algorithmic(KNN) option.\")\n",
    "                Recommendation(list_name, class_list).get_knn_recommendation()\n",
    "        else:\n",
    "            print(\"No valid option chosen, the program will end.\")\n",
    "        \n",
    "    def UI(self):\n",
    "        list_name = self.list_name\n",
    "        class_list = self.class_list\n",
    "        increment = 0\n",
    "        \n",
    "        try:\n",
    "            print(\"Welcome to the Intelligent Recommendation Service!\")\n",
    "            # printing length of dataframe\n",
    "            print(\"We have {} Songs in our Library!\".format(len(list_name), \"\\n\"))\n",
    "            print(\"This program takes ID numbers as inputs.\", \"\\nIf you don't know the ID number, please start by searching the library.\")\n",
    "\n",
    "            # Ask the user for their input\n",
    "            user_input = str(input(\"Do you want to initiate a Search? Please enter Yes or No. \").strip().capitalize())\n",
    "            if user_input == \"No\":\n",
    "                Main(list_name, class_list).direction()\n",
    "            elif user_input == \"Yes\":\n",
    "                user_input = str(input(\"What would you like to search for? Enter Artist or Song: \").strip().capitalize())\n",
    "                    # Call the Searcher class search artist method\n",
    "                if user_input == \"Artist\":\n",
    "                    Searcher(class_list).search_artist()\n",
    "                    query = str(input(\"Do you want to search again, or continue? Please enter search or continue: \"))\n",
    "                    if query == \"continue\":\n",
    "                        Main(list_name, class_list).direction()\n",
    "                            \n",
    "                        # Loop while the user wants to keep searching\n",
    "                    while query == \"search\":\n",
    "                        Searcher(class_list).search_artist()\n",
    "                        query = str(input(\"Do you want to search again, or continue? Please enter search or continue: \"))\n",
    "                        # When user wants to continue, move the program forward\n",
    "                        if query == \"continue\":\n",
    "                            Main(list_name, class_list).direction()\n",
    "                        \n",
    "                    # Call the Searcher class search song method\n",
    "                elif user_input == \"Song\":\n",
    "                    Searcher(class_list).search_song()\n",
    "                    query = str(input(\"Do you want to search again, or continue? Please enter search or continue: \"))\n",
    "                    if query == \"continue\":\n",
    "                        Main(list_name, class_list).direction()\n",
    "\n",
    "                    # Loop while the user wants to keep searching\n",
    "                    while query == \"search\":\n",
    "                        Searcher(class_list).search_song()\n",
    "                        query = str(input(\"Do you want to search again, or continue? Please enter search or continue: \"))\n",
    "                        # When user wants to continue, move the program forward\n",
    "                        if query == \"continue\":\n",
    "                            Main(list_name, class_list).direction()\n",
    "                else:\n",
    "                    print(\"No valid option entered, the program will end.\")\n",
    "            else:\n",
    "                print(\"No valid option entered, the program will end.\")\n",
    "\n",
    "        except ValueError:\n",
    "            print(\"You have entered an incorrect value, the program will end.\")\n",
    "        except NameError as nameerr: # Shouldn't get here in normal use\n",
    "            print(\"Error in declaring a name, please check your entries.\", nameerr)"
   ]
  },
  {
   "cell_type": "markdown",
   "metadata": {
    "deletable": false,
    "editable": false
   },
   "source": [
    "# Main Program Execution"
   ]
  },
  {
   "cell_type": "code",
   "execution_count": 17,
   "metadata": {
    "deletable": false,
    "scrolled": false
   },
   "outputs": [
    {
     "name": "stdout",
     "output_type": "stream",
     "text": [
      "Welcome to the Intelligent Recommendation Service!\n",
      "We have 156608 Songs in our Library!\n",
      "This program takes ID numbers as inputs. \n",
      "If you don't know the ID number, please start by searching the library.\n",
      "Do you want to initiate a Search? Please enter Yes or No. yes\n",
      "What would you like to search for? Enter Artist or Song: song\n",
      "Please insert the word/s you would like to find in a song: damn\n",
      "Your search returned 53 results.\n",
      "Would you like to view results? no\n",
      "Search complete.\n",
      "Do you want to search again, or continue? Please enter search or continue: search\n",
      "Please insert the word/s you would like to find in a song: damnation yes\n",
      "Your search returned 183 results.\n",
      "Would you like to view results? no\n",
      "Search complete.\n",
      "Do you want to search again, or continue? Please enter search or continue: continue\n",
      "What would you like to do? Please enter 'Comparison' or 'Recommendation'. compare\n",
      "Please insert your first id for music features: 40\n",
      "Please insert your second id for music features: 2000\n",
      "1 Acousticness\n",
      "2 Danceability\n",
      "3 Energy\n",
      "4 Liveness\n",
      "5 Loudness\n",
      "6 Popularity\n",
      "7 Speechiness\n",
      "8 Tempo\n",
      "9 Valence\n",
      "10 Explicit\n",
      "11 Instrumentalness\n",
      "Which feature do you want to use for comparison? Enter the feature name or enter 'No' to compare all features. no\n",
      "Comparing all respective features. \n",
      "\n",
      "1 Euclidean\n",
      "2 Cosine\n",
      "3 Pearson\n",
      "4 Jaccard\n",
      "5 Manhattan\n",
      "Which metric would you like to use from the selection: Enter the number: 3\n",
      "Acousticness: 1.0\n",
      "Danceability: 1.0\n",
      "Energy: 1.0\n",
      "Liveness: 1.0\n",
      "Loudness: 1.0\n",
      "Popularity: 1.0\n",
      "Speechiness: 1.0\n",
      "Tempo: 1.0\n",
      "Valence: 1.0\n",
      "Explicit: nan\n",
      "Instrumentalness: 1.0\n",
      "\n",
      "Thanks for using our Service! See you again soon!\n"
     ]
    }
   ],
   "source": [
    "# Runs the program - requires the dictionary names as arguments\n",
    "try: \n",
    "    Main(music_df, song_searcher).UI()\n",
    "    print(\"\\nThanks for using our Service! See you again soon!\")\n",
    "except NameError:\n",
    "    print(\"Dictionary Name/s is missing, did you forget to run the code blocks above?\")"
   ]
  },
  {
   "cell_type": "markdown",
   "metadata": {
    "deletable": false,
    "editable": false
   },
   "source": [
    "## Individual code blocks are below to run single sections of the Program"
   ]
  },
  {
   "cell_type": "markdown",
   "metadata": {
    "deletable": false
   },
   "source": [
    "You can use the code blocks below if you prefer not to run the single main function above.  \n",
    "Please make sure that the code blocks above are loaded beforehand.  \n",
    "Error catching is not provided here unless necessary, please load the data code block to avoid errors."
   ]
  },
  {
   "cell_type": "markdown",
   "metadata": {},
   "source": [
    "### Artist Searching"
   ]
  },
  {
   "cell_type": "code",
   "execution_count": null,
   "metadata": {
    "scrolled": true
   },
   "outputs": [],
   "source": [
    "# Search for an artist\n",
    "artist = Searcher(song_searcher).search_artist()"
   ]
  },
  {
   "cell_type": "markdown",
   "metadata": {},
   "source": [
    "### Song Searching"
   ]
  },
  {
   "cell_type": "code",
   "execution_count": null,
   "metadata": {
    "scrolled": true
   },
   "outputs": [],
   "source": [
    "# Search for a song\n",
    "song = Searcher(song_searcher).search_song()"
   ]
  },
  {
   "cell_type": "markdown",
   "metadata": {},
   "source": [
    "### Get All Information based on ID"
   ]
  },
  {
   "cell_type": "code",
   "execution_count": null,
   "metadata": {},
   "outputs": [],
   "source": [
    "# Enter the ID you want\n",
    "# Run the below command, change the ID to the one you want information for\n",
    "# NOTE: Extra features are not printed by default, see the GET EXTRAS code block below\n",
    "\n",
    "song_searcher[0]"
   ]
  },
  {
   "cell_type": "markdown",
   "metadata": {
    "deletable": false
   },
   "source": [
    "### Get Artist Name"
   ]
  },
  {
   "cell_type": "code",
   "execution_count": null,
   "metadata": {},
   "outputs": [],
   "source": [
    "# Enter the ID you want\n",
    "# Use the getName() method to get the ID artist name\n",
    "\n",
    "song_searcher[0].getName()"
   ]
  },
  {
   "cell_type": "markdown",
   "metadata": {},
   "source": [
    "### Get Song Name"
   ]
  },
  {
   "cell_type": "code",
   "execution_count": null,
   "metadata": {},
   "outputs": [],
   "source": [
    "# Enter the ID you want\n",
    "# Use the getSongName() method to get the ID song name\n",
    "\n",
    "song_searcher[0].getSongName()"
   ]
  },
  {
   "cell_type": "markdown",
   "metadata": {},
   "source": [
    "### Get Features"
   ]
  },
  {
   "cell_type": "code",
   "execution_count": null,
   "metadata": {},
   "outputs": [],
   "source": [
    "# Enter the ID you want\n",
    "# Use the getFeatures() method to get the ID features\n",
    "\n",
    "song_searcher[0].getFeatures()"
   ]
  },
  {
   "cell_type": "markdown",
   "metadata": {},
   "source": [
    "### Get Comparison Features"
   ]
  },
  {
   "cell_type": "code",
   "execution_count": null,
   "metadata": {},
   "outputs": [],
   "source": [
    "# Enter the ID you want\n",
    "# Use the getComparisonFeatures() method to get the ID features without song name or music ID\n",
    "\n",
    "song_searcher[0].getComparisonFeatures()"
   ]
  },
  {
   "cell_type": "markdown",
   "metadata": {},
   "source": [
    "### Get Extras "
   ]
  },
  {
   "cell_type": "code",
   "execution_count": null,
   "metadata": {},
   "outputs": [],
   "source": [
    "# Enter the ID you want\n",
    "# Use the getFExtras() method to get only the extra feature values\n",
    "\n",
    "song_searcher[0].getExtras()"
   ]
  },
  {
   "cell_type": "markdown",
   "metadata": {},
   "source": [
    "### Comparison Class Call"
   ]
  },
  {
   "cell_type": "code",
   "execution_count": null,
   "metadata": {},
   "outputs": [],
   "source": [
    "# Run this code to instantiate the Comparison section of the UI\n",
    "# Metric choice is made within\n",
    "\n",
    "Comparison(music_df, '', '').measure_feature()"
   ]
  },
  {
   "cell_type": "markdown",
   "metadata": {},
   "source": [
    "### Euclidean Comparison"
   ]
  },
  {
   "cell_type": "code",
   "execution_count": null,
   "metadata": {},
   "outputs": [],
   "source": [
    "# Enter two numbers to get the Euclidean Comparison Result\n",
    "\n",
    "Comparison(music_df, 0, 0).euclidean()"
   ]
  },
  {
   "cell_type": "markdown",
   "metadata": {},
   "source": [
    "### Cosine Comparison"
   ]
  },
  {
   "cell_type": "code",
   "execution_count": null,
   "metadata": {},
   "outputs": [],
   "source": [
    "# Enter two numbers to get the Cosine Comparison Result\n",
    "\n",
    "Comparison(music_df, 0, 0).cosine()"
   ]
  },
  {
   "cell_type": "markdown",
   "metadata": {},
   "source": [
    "### Pearson Correlation Comparison"
   ]
  },
  {
   "cell_type": "code",
   "execution_count": null,
   "metadata": {},
   "outputs": [],
   "source": [
    "# Enter two numbers to get the Pearson Comparison Result\n",
    "# NOTE: Issues with the pearson correlation mean \n",
    "# it is not callable outside of the Recommendation section the program\n",
    "\n",
    "#Comparison(music_df, 0, 0).pearson()\n",
    "np.corrcoef([0,0])"
   ]
  },
  {
   "cell_type": "markdown",
   "metadata": {},
   "source": [
    "### Jaccard Comparison"
   ]
  },
  {
   "cell_type": "code",
   "execution_count": null,
   "metadata": {},
   "outputs": [],
   "source": [
    "# Enter two numbers to get the Jaccard Comparison Result\n",
    "\n",
    "Comparison(music_df, 0, 0).jaccard()"
   ]
  },
  {
   "cell_type": "markdown",
   "metadata": {},
   "source": [
    "### Manhattan Comparison"
   ]
  },
  {
   "cell_type": "code",
   "execution_count": null,
   "metadata": {},
   "outputs": [],
   "source": [
    "# Enter two numbers to get the Manhattan Comparison Result\n",
    "# NOTE: DO NOT remove the square brackets around the input numbers or the metric will break\n",
    "\n",
    "try: \n",
    "    manhattan = Comparison(music_df, [0], [0]).manhattan()\n",
    "except ValueError:\n",
    "    print(\"Don't remove the square brackets.\")\n",
    "print(manhattan)"
   ]
  },
  {
   "cell_type": "markdown",
   "metadata": {},
   "source": [
    "### Artist Recommendation"
   ]
  },
  {
   "cell_type": "code",
   "execution_count": null,
   "metadata": {},
   "outputs": [],
   "source": [
    "# This code will run the artist recommendation method\n",
    "\n",
    "Recommendation(music_df, song_searcher).get_artist_recommendation()"
   ]
  },
  {
   "cell_type": "markdown",
   "metadata": {},
   "source": [
    "### Song Recommendation"
   ]
  },
  {
   "cell_type": "code",
   "execution_count": null,
   "metadata": {},
   "outputs": [],
   "source": [
    "# This code will run the song recommendation method\n",
    "\n",
    "Recommendation(music_df, song_searcher).get_song_recommendation()"
   ]
  },
  {
   "cell_type": "markdown",
   "metadata": {},
   "source": [
    "### Target Recommendation"
   ]
  },
  {
   "cell_type": "code",
   "execution_count": null,
   "metadata": {},
   "outputs": [],
   "source": [
    "# This code will run the target recommendation method\n",
    "\n",
    "Recommendation(music_df, song_searcher).get_target_recommendation()"
   ]
  },
  {
   "cell_type": "markdown",
   "metadata": {},
   "source": [
    "### Algorithmic (KNN) Recommendation"
   ]
  },
  {
   "cell_type": "code",
   "execution_count": null,
   "metadata": {},
   "outputs": [],
   "source": [
    "# This code will run the knn recommendation method\n",
    "\n",
    "Recommendation(music_df, song_searcher).get_knn_recommendation()"
   ]
  },
  {
   "cell_type": "markdown",
   "metadata": {},
   "source": [
    "## Evaluations"
   ]
  },
  {
   "cell_type": "markdown",
   "metadata": {},
   "source": [
    "This section contains the evaluations done, these can be ran if the user wants to see the results of this.   \n",
    "The code is kept here for some informational purposes."
   ]
  },
  {
   "cell_type": "code",
   "execution_count": null,
   "metadata": {},
   "outputs": [],
   "source": [
    "%%time\n",
    "\n",
    "scaler = MinMaxScaler()\n",
    "\n",
    "#This is here to revert the transformation each time\n",
    "#music_df = pd.DataFrame.from_records([s.to_dict() for s in song_searcher])\n",
    "\n",
    "pearson_result = []\n",
    "cosine_result = []\n",
    "euclidean_result = []\n",
    "jaccard_result = []\n",
    "manhattan_result = []\n",
    "id_num = 76110\n",
    "i = 0\n",
    "\n",
    "copy_df = scaler.fit_transform(music_df)\n",
    "\n",
    "target = copy_df[id_num]\n",
    "\n",
    "track_df = music_df.drop([id_num])\n",
    "\n",
    "track_df = scaler.fit_transform(track_df)\n",
    "\n",
    "for i in range(len(track_df)):\n",
    "    compare = track_df[i]\n",
    "    pearson_result.append(Similarity_metric(track_df, target, compare).pearson())\n",
    "    cosine_result.append(Similarity_metric(track_df, target, compare).cosine())\n",
    "    euclidean_result.append(Similarity_metric(track_df, target, compare).euclidean())\n",
    "    jaccard_result.append(Similarity_metric(track_df, target, compare).jaccard())\n",
    "    manhattan_result.append(Similarity_metric(track_df, target, compare).manhattan())\n",
    "\n",
    "sorted_pearson = sorted(range(len(pearson_result)), key=lambda x: pearson_result[x], reverse=True) #cosine and pearson need reverse true\n",
    "sorted_cosine = sorted(range(len(cosine_result)), key=lambda x: cosine_result[x], reverse=True) #cosine and pearson need reverse true\n",
    "sorted_euclidean = sorted(range(len(euclidean_result)), key=lambda x: euclidean_result[x], reverse=False) #cosine and pearson need reverse true\n",
    "sorted_jaccard = sorted(range(len(jaccard_result)), key=lambda x: jaccard_result[x], reverse=False) #cosine and pearson need reverse true\n",
    "sorted_manhattan = sorted(range(len(manhattan_result)), key=lambda x: manhattan_result[x], reverse=False) #cosine and pearson need reverse true\n",
    "\n",
    "pearson_ten = np.array(sorted_pearson[:10])\n",
    "cosine_ten = np.array(sorted_cosine[:10])\n",
    "euclidean_ten = np.array(sorted_euclidean[:10])\n",
    "jaccard_ten = np.array(sorted_jaccard[:10])\n",
    "manhattan_ten = np.array(sorted_manhattan[:10])\n",
    "\n",
    "print('Based on our target ID '+ str(id_num),'These are the top 10 results from each metric.')\n",
    "print(pearson_ten)\n",
    "print(cosine_ten)\n",
    "print(euclidean_ten)\n",
    "print(jaccard_ten)\n",
    "print(manhattan_ten)"
   ]
  },
  {
   "cell_type": "markdown",
   "metadata": {},
   "source": [
    "### Graphing the top 10 metric results vs Target using the Sum\n"
   ]
  },
  {
   "cell_type": "code",
   "execution_count": null,
   "metadata": {
    "scrolled": true
   },
   "outputs": [],
   "source": [
    "#-----COSINE------------------------------------------------------------------------------\n",
    "\n",
    "target_value = np.mean(track_df[id_num], axis = 0)\n",
    "graph_results = []\n",
    "graph_results.append(target_value)\n",
    "\n",
    "for rec in cosine_ten:\n",
    "    graph_results.append(np.mean(track_df[rec]))\n",
    "    \n",
    "%matplotlib inline\n",
    "plt.style.use('ggplot')\n",
    "\n",
    "x = ['Target','1',\"2\", \"3\",\"4\",\"5\",\"6\",\"7\",\"8\",\"9\",\"10\"]\n",
    "y = graph_results\n",
    "\n",
    "x_pos = [i for i, _ in enumerate(x)]\n",
    "plt.bar(x_pos, y, color='red')\n",
    "plt.xlabel('Recommendations')\n",
    "plt.ylabel('Mean of Features')\n",
    "plt.title('Target vs Top 10 Cosine Recommendations')\n",
    "\n",
    "plt.xticks(x_pos, x)\n",
    "plt.show()\n",
    "\n",
    "#----PEARSON-------------------------------------------------------------------------------\n",
    "\n",
    "target_value = np.mean(track_df[id_num], axis = 0)\n",
    "graph_results = []\n",
    "graph_results.append(target_value)\n",
    "\n",
    "for rec in pearson_ten:\n",
    "    graph_results.append(np.mean(track_df[rec]))\n",
    "    \n",
    "plt.style.use('ggplot')\n",
    "\n",
    "x = ['Target','1',\"2\", \"3\",\"4\",\"5\",\"6\",\"7\",\"8\",\"9\",\"10\"]\n",
    "y = graph_results\n",
    "\n",
    "x_pos = [i for i, _ in enumerate(x)]\n",
    "plt.bar(x_pos, y, color='blue')\n",
    "plt.xlabel('Recommendations')\n",
    "plt.ylabel('Mean of Features')\n",
    "plt.title('Target vs Top 10 Pearson Recommendations')\n",
    "\n",
    "plt.xticks(x_pos, x)\n",
    "plt.show()\n",
    "\n",
    "#----EUCLIDEAN----------------------------------------------------------------------------\n",
    "\n",
    "target_value = np.mean(track_df[id_num], axis = 0)\n",
    "graph_results = []\n",
    "graph_results.append(target_value)\n",
    "\n",
    "for rec in euclidean_ten:\n",
    "    graph_results.append(np.mean(track_df[rec]))\n",
    "    \n",
    "plt.style.use('ggplot')\n",
    "\n",
    "x = ['Target','1',\"2\", \"3\",\"4\",\"5\",\"6\",\"7\",\"8\",\"9\",\"10\"]\n",
    "y = graph_results\n",
    "\n",
    "x_pos = [i for i, _ in enumerate(x)]\n",
    "plt.bar(x_pos, y, color='green')\n",
    "plt.xlabel('Recommendations')\n",
    "plt.ylabel('Mean of Features')\n",
    "plt.title('Target vs Top 10 Euclidean Recommendations')\n",
    "\n",
    "plt.xticks(x_pos, x)\n",
    "plt.show()\n",
    "\n",
    "#----MANHATTAN----------------------------------------------------------------------------\n",
    "\n",
    "target_value = np.mean(track_df[id_num], axis = 0)\n",
    "graph_results = []\n",
    "graph_results.append(target_value)\n",
    "\n",
    "for rec in manhattan_ten:\n",
    "    graph_results.append(np.mean(track_df[rec]))\n",
    "    \n",
    "plt.style.use('ggplot')\n",
    "\n",
    "x = ['Target','1',\"2\", \"3\",\"4\",\"5\",\"6\",\"7\",\"8\",\"9\",\"10\"]\n",
    "y = graph_results\n",
    "\n",
    "x_pos = [i for i, _ in enumerate(x)]\n",
    "plt.bar(x_pos, y, color='purple')\n",
    "plt.xlabel('Recommendations')\n",
    "plt.ylabel('Mean of Features')\n",
    "plt.title('Target vs Top 10 Manhattan Recommendations')\n",
    "\n",
    "plt.xticks(x_pos, x)\n",
    "plt.show()\n",
    "\n",
    "#----JACCARD----------------------------------------------------------------------------\n",
    "\n",
    "target_value = np.mean(track_df[id_num], axis = 0)\n",
    "graph_results = []\n",
    "graph_results.append(target_value)\n",
    "\n",
    "for rec in jaccard_ten:\n",
    "    graph_results.append(np.mean(track_df[rec]))\n",
    "    \n",
    "plt.style.use('ggplot')\n",
    "\n",
    "x = ['Target','1',\"2\", \"3\",\"4\",\"5\",\"6\",\"7\",\"8\",\"9\",\"10\"]\n",
    "y = graph_results\n",
    "\n",
    "x_pos = [i for i, _ in enumerate(x)]\n",
    "plt.bar(x_pos, y, color='black')\n",
    "plt.xlabel('Recommendations')\n",
    "plt.ylabel('Mean of Features')\n",
    "plt.title('Target vs Top 10 Jaccard Recommendations')\n",
    "\n",
    "plt.xticks(x_pos, x)\n",
    "plt.show()"
   ]
  },
  {
   "cell_type": "markdown",
   "metadata": {},
   "source": [
    "### Compare the top 5 recommendations based on individual features"
   ]
  },
  {
   "cell_type": "code",
   "execution_count": null,
   "metadata": {},
   "outputs": [],
   "source": [
    "print('Based on our target ID '+ str(id_num),'These are the top 10 results from each metric.')\n",
    "print(pearson_ten)\n",
    "print(cosine_ten)\n",
    "print(euclidean_ten)\n",
    "print(jaccard_ten)\n",
    "print(manhattan_ten)\n",
    "\n",
    "# Create the comparison graph\n",
    "n = 10\n",
    "ind = np.arange(n)\n",
    "width = 0.35\n",
    "plt.bar(ind, euclidean_ten, width, label=\"Euclidean\")\n",
    "plt.bar(ind + width, manhattan_ten, width, label=\"Manhattan\")\n",
    "plt.xlabel('Recommendations')\n",
    "plt.ylabel('Recommendation ID')\n",
    "plt.title('Top 10 of Metric A vs Metric B')\n",
    "\n",
    "plt.xticks(ind + width / 2, ('1', '2', '3', '4', '5', '6', '7', '8', '9', '10'))\n",
    "plt.legend(loc='best')\n",
    "plt.show()\n",
    "\n",
    "# Calculate the accuracy of recommendations\n",
    "pvc = accuracy_score(euclidean_ten, manhattan_ten)\n",
    "print(\"Accuracy of Euclidean vs Manhattan is %0.2f\" % pvc)"
   ]
  },
  {
   "cell_type": "code",
   "execution_count": null,
   "metadata": {},
   "outputs": [],
   "source": [
    "print('Target Feature Value is',round(song_searcher[id_num].tempo,3))\n",
    "\n",
    "target_feature = []\n",
    "recom_feature = []\n",
    "\n",
    "for rec in euclidean_ten:\n",
    "    target_feature.append(song_searcher[id_num].tempo)\n",
    "    recom_feature.append(song_searcher[rec].tempo)\n",
    "    \n",
    "# Create the comparison graph\n",
    "n = 10\n",
    "ind = np.arange(n)\n",
    "width = 0.35\n",
    "plt.bar(ind, target_feature, width, label=\"Target\")\n",
    "plt.bar(ind + width, recom_feature, width, label=\"Recom\")\n",
    "plt.xlabel('Recommendations')\n",
    "plt.ylabel('Feature Score')\n",
    "plt.title('Euclidean Target Value vs Recom Value')\n",
    "\n",
    "plt.xticks(ind + width / 2, ('1', '2', '3', '4', '5', '6', '7', '8', '9', '10'))\n",
    "plt.legend(loc='best')\n",
    "plt.show()\n",
    "\n",
    "print('Feature values of Recommendations',recom_feature)"
   ]
  },
  {
   "cell_type": "code",
   "execution_count": null,
   "metadata": {},
   "outputs": [],
   "source": [
    "print('Target Feature Value is',round(song_searcher[id_num].tempo,3))\n",
    "\n",
    "target_feature = []\n",
    "recom_feature = []\n",
    "\n",
    "for rec in cosine_ten:\n",
    "    target_feature.append(song_searcher[id_num].tempo)\n",
    "    recom_feature.append(song_searcher[rec].tempo)\n",
    "    \n",
    "# Create the comparison graph\n",
    "n = 10\n",
    "ind = np.arange(n)\n",
    "width = 0.35\n",
    "plt.bar(ind, target_feature, width, label=\"Target\")\n",
    "plt.bar(ind + width, recom_feature, width, label=\"Recom\")\n",
    "plt.xlabel('Recommendations')\n",
    "plt.ylabel('Feature Score')\n",
    "plt.title('Cosine Target Value vs Recom Value')\n",
    "\n",
    "plt.xticks(ind + width / 2, ('1', '2', '3', '4', '5', '6', '7', '8', '9', '10'))\n",
    "plt.legend(loc='best')\n",
    "plt.show()\n",
    "\n",
    "print('Feature values of Recommendations',recom_feature)"
   ]
  },
  {
   "cell_type": "code",
   "execution_count": null,
   "metadata": {},
   "outputs": [],
   "source": [
    "print('Target Feature Value is',round(song_searcher[id_num].tempo,3))\n",
    "\n",
    "target_feature = []\n",
    "recom_feature = []\n",
    "\n",
    "for rec in pearson_ten:\n",
    "    target_feature.append(song_searcher[id_num].tempo)\n",
    "    recom_feature.append(song_searcher[rec].tempo)\n",
    "    \n",
    "# Create the comparison graph\n",
    "n = 10\n",
    "ind = np.arange(n)\n",
    "width = 0.35\n",
    "plt.bar(ind, target_feature, width, label=\"Target\")\n",
    "plt.bar(ind + width, recom_feature, width, label=\"Recom\")\n",
    "plt.xlabel('Recommendations')\n",
    "plt.ylabel('Feature Score')\n",
    "plt.title('Pearson Target Value vs Recom Value')\n",
    "\n",
    "plt.xticks(ind + width / 2, ('1', '2', '3', '4', '5', '6', '7', '8', '9', '10'))\n",
    "plt.legend(loc='best')\n",
    "plt.show()\n",
    "\n",
    "print('Feature values of Recommendations',recom_feature)"
   ]
  },
  {
   "cell_type": "code",
   "execution_count": null,
   "metadata": {},
   "outputs": [],
   "source": [
    "print('Target Feature Value is',round(song_searcher[id_num].tempo,3))\n",
    "\n",
    "target_feature = []\n",
    "recom_feature = []\n",
    "\n",
    "for rec in jaccard_ten:\n",
    "    target_feature.append(song_searcher[id_num].tempo)\n",
    "    recom_feature.append(song_searcher[rec].tempo)\n",
    "    \n",
    "# Create the comparison graph\n",
    "n = 10\n",
    "ind = np.arange(n)\n",
    "width = 0.35\n",
    "plt.bar(ind, target_feature, width, label=\"Target\")\n",
    "plt.bar(ind + width, recom_feature, width, label=\"Recom\")\n",
    "plt.xlabel('Recommendations')\n",
    "plt.ylabel('Feature Score')\n",
    "plt.title('Jaccard Target Value vs Recom Value')\n",
    "\n",
    "plt.xticks(ind + width / 2, ('1', '2', '3', '4', '5', '6', '7', '8', '9', '10'))\n",
    "plt.legend(loc='best')\n",
    "plt.show()\n",
    "\n",
    "print('Feature values of Recommendations',recom_feature)"
   ]
  },
  {
   "cell_type": "code",
   "execution_count": null,
   "metadata": {
    "scrolled": false
   },
   "outputs": [],
   "source": [
    "print('Target Feature Value is',round(song_searcher[id_num].tempo,3))\n",
    "\n",
    "target_feature = []\n",
    "recom_feature = []\n",
    "\n",
    "for rec in manhattan_ten:\n",
    "    target_feature.append(song_searcher[id_num].tempo)\n",
    "    recom_feature.append(song_searcher[rec].tempo)\n",
    "    \n",
    "# Create the comparison graph\n",
    "n = 10\n",
    "ind = np.arange(n)\n",
    "width = 0.35\n",
    "plt.bar(ind, target_feature, width, label=\"Target\")\n",
    "plt.bar(ind + width, recom_feature, width, label=\"Recom\")\n",
    "plt.xlabel('Recommendations')\n",
    "plt.ylabel('Feature Score')\n",
    "plt.title('Manhattan Target Value vs Recom Value')\n",
    "\n",
    "plt.xticks(ind + width / 2, ('1', '2', '3', '4', '5', '6', '7', '8', '9', '10'))\n",
    "plt.legend(loc='best')\n",
    "plt.show()\n",
    "\n",
    "print('Feature values of Recommendations',recom_feature)"
   ]
  },
  {
   "cell_type": "markdown",
   "metadata": {},
   "source": [
    "### Lets Create a dummy set of 10 tracks and 1 target\n",
    "Lets see how the metrics order these tracks, and how accurate they are.  \n",
    "Lets do a defined target track and see which tracks get recommended back.  \n",
    "Lets also create 10 custom tracks with features designed to attract specific tracks."
   ]
  },
  {
   "cell_type": "code",
   "execution_count": null,
   "metadata": {},
   "outputs": [],
   "source": [
    "dummy_target = np.array([0.1, 0.554, 0.1132, 0.108, -19.1123, 0,  0.990, 150.1, 0.441, 1, 0.00881])\n",
    "dummy_target"
   ]
  },
  {
   "cell_type": "markdown",
   "metadata": {},
   "source": [
    "Change only a couple of feature values to see how the ordering will happen"
   ]
  },
  {
   "cell_type": "code",
   "execution_count": null,
   "metadata": {},
   "outputs": [],
   "source": [
    "dummy_set = [[0.1, 0.1, 0.1132, 0.108, -19.1123, 0,  0.990, 150.1, 0.441, 1, 0.00881],\\\n",
    "             [0.9, 0.554, 0.1132, 0.108, -19.1123, 10,  0.990, 150.1, 0.441, 1, 0.00881],\\\n",
    "             [0.1, 0.554, 1.5, 0.108, -19.1123, 0,  0.990, 150.1, 0.441, 0, 0.00881],\\\n",
    "             [0.1, 0.554, 0.1132, 0.2231, -19.1123, 0,  0.990, 150.1, 0.441, 1, 0.00881],\\\n",
    "             [0.1, 0.554, 0.1132, 0.108, 150, 0,  0.990, 150.1, 0.441, 1, 0.00881],\\\n",
    "             [0.1, 0.554, 0.1132, 0.108, -19.1123, 40,  0.990, 150.1, 0.441, 1, 0.00881],\\\n",
    "             [0.1, 0.554, 0.1132, 0.108, -19.1123, 0,  0.12, 150.1, 0.441, 1, 0.00881],\\\n",
    "             [0.1, 0.554, 0.1132, 0.108, -19.1123, 0,  0.990, 20, 0.441, 0, 0.00881],\\\n",
    "             [0.1, 0.554, 0.1132, 0.108, -19.1123, 0,  0.990, 134, 0.557, 1, 0.00881],\\\n",
    "             [0.1, 0.554, 0.1132, 0.108, -19.1123, 0,  0.990, 150.1, 0.441, 0, 0.00881]]\n",
    "\n",
    "dummy_set = np.array(dummy_set)"
   ]
  },
  {
   "cell_type": "code",
   "execution_count": null,
   "metadata": {},
   "outputs": [],
   "source": [
    "pearson_result = []\n",
    "cosine_result = []\n",
    "euclidean_result = []\n",
    "jaccard_result = []\n",
    "manhattan_result = []\n",
    "\n",
    "for i in range(len(dummy_set)):\n",
    "    compare = dummy_set[i]\n",
    "    pearson_result.append(Similarity_metric(track_df, dummy_target, compare).pearson())\n",
    "    cosine_result.append(Similarity_metric(track_df, dummy_target, compare).cosine())\n",
    "    euclidean_result.append(Similarity_metric(track_df, dummy_target, compare).euclidean())\n",
    "    jaccard_result.append(Similarity_metric(track_df, dummy_target, compare).jaccard())\n",
    "    manhattan_result.append(Similarity_metric(track_df, dummy_target, compare).manhattan())\n",
    "\n",
    "sorted_pearson = sorted(range(len(pearson_result)), key=lambda x: pearson_result[x], reverse=True) #cosine and pearson need reverse true\n",
    "sorted_cosine = sorted(range(len(cosine_result)), key=lambda x: cosine_result[x], reverse=True) #cosine and pearson need reverse true\n",
    "sorted_euclidean = sorted(range(len(euclidean_result)), key=lambda x: euclidean_result[x], reverse=False) #cosine and pearson need reverse true\n",
    "sorted_jaccard = sorted(range(len(jaccard_result)), key=lambda x: jaccard_result[x], reverse=False) #cosine and pearson need reverse true\n",
    "sorted_manhattan = sorted(range(len(manhattan_result)), key=lambda x: manhattan_result[x], reverse=False) #cosine and pearson need reverse true\n",
    "\n",
    "pearson_ten = np.array(sorted_pearson[:10])\n",
    "cosine_ten = np.array(sorted_cosine[:10])\n",
    "euclidean_ten = np.array(sorted_euclidean[:10])\n",
    "jaccard_ten = np.array(sorted_jaccard[:10])\n",
    "manhattan_ten = np.array(sorted_manhattan[:10])\n",
    "\n",
    "print('Based on our target, this is the order of the dummy set.')\n",
    "print('Pearson:   ',pearson_ten)\n",
    "print('Cosine:    ',cosine_ten)\n",
    "print('Euclidean: ',euclidean_ten)\n",
    "print('Jaccard:   ',jaccard_ten)\n",
    "print('Manhattan: ',manhattan_ten)"
   ]
  },
  {
   "cell_type": "code",
   "execution_count": null,
   "metadata": {},
   "outputs": [],
   "source": [
    "acc = accuracy_score(euclidean_ten, jaccard_ten)\n",
    "print(\"Accuracy of Euclidean vs Jaccard is %0.2f\" % acc)\n",
    "\n",
    "acc = accuracy_score(euclidean_ten, manhattan_ten)\n",
    "print(\"Accuracy of Euclidean vs Manhattan is %0.2f\" % acc)"
   ]
  },
  {
   "cell_type": "code",
   "execution_count": null,
   "metadata": {},
   "outputs": [],
   "source": [
    "target_value = np.mean(dummy_target)\n",
    "graph_results = []\n",
    "graph_results.append(target_value)\n",
    "\n",
    "for rec in euclidean_ten:\n",
    "    graph_results.append(np.mean(dummy_set[rec]))\n",
    "    \n",
    "plt.style.use('ggplot')\n",
    "\n",
    "x = ['Target','1',\"2\", \"3\",\"4\",\"5\",\"6\",\"7\",\"8\",\"9\",\"10\"]\n",
    "y = graph_results\n",
    "\n",
    "x_pos = [i for i, _ in enumerate(x)]\n",
    "plt.bar(x_pos, y, color='red')\n",
    "plt.xlabel('Recommendations')\n",
    "plt.ylabel('Mean of Features')\n",
    "plt.title('Target vs Top 10 Dummy Recommendations')\n",
    "\n",
    "plt.xticks(x_pos, x)\n",
    "plt.show()"
   ]
  },
  {
   "cell_type": "code",
   "execution_count": null,
   "metadata": {},
   "outputs": [],
   "source": []
  }
 ],
 "metadata": {
  "kernelspec": {
   "display_name": "Python 3",
   "language": "python",
   "name": "python3"
  },
  "language_info": {
   "codemirror_mode": {
    "name": "ipython",
    "version": 3
   },
   "file_extension": ".py",
   "mimetype": "text/x-python",
   "name": "python",
   "nbconvert_exporter": "python",
   "pygments_lexer": "ipython3",
   "version": "3.7.4"
  }
 },
 "nbformat": 4,
 "nbformat_minor": 4
}
