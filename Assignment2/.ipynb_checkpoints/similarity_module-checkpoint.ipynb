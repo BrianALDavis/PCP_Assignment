{
 "cells": [
  {
   "cell_type": "markdown",
   "metadata": {},
   "source": [
    "### PCP Assignment 2 Module 2 - similarity_module"
   ]
  },
  {
   "cell_type": "code",
   "execution_count": 161,
   "metadata": {},
   "outputs": [],
   "source": [
    "from load_dataset_module import Artist, Song, Track, IterRegistry, Extras, File_loader   # Classes\n",
    "import pandas as pd\n",
    "import numpy as np\n",
    "import math\n",
    "from scipy.spatial import distance \n",
    "from numpy.linalg import norm\n",
    "from sklearn.metrics.pairwise import manhattan_distances\n",
    "from sklearn.metrics.pairwise import cosine_similarity\n",
    "\n",
    "# Disable warnings, these are not required for the user to see (might be removed)\n",
    "import warnings\n",
    "warnings.filterwarnings('ignore')\n",
    "\n",
    "# These will change over time\n",
    "#from sklearn.model_selection import train_test_split\n",
    "from sklearn.metrics import mean_squared_error\n",
    "#from sklearn.preprocessing import StandardScaler\n",
    "from sklearn.preprocessing import MinMaxScaler\n",
    "#from sklearn.neural_network import MLPClassifier"
   ]
  },
  {
   "cell_type": "code",
   "execution_count": 162,
   "metadata": {},
   "outputs": [],
   "source": [
    "# Creating logging capabilities\n",
    "\n",
    "# import logging\n",
    "# logging.warning('Watch out!')  # will print a message to the console\n",
    "# logging.info('I told you so')  # will not print anything"
   ]
  },
  {
   "cell_type": "code",
   "execution_count": 173,
   "metadata": {},
   "outputs": [
    {
     "name": "stdout",
     "output_type": "stream",
     "text": [
      "Finished reading the command for file loading.\n"
     ]
    }
   ],
   "source": [
    "song_searcher = File_loader().read_file()"
   ]
  },
  {
   "cell_type": "code",
   "execution_count": 174,
   "metadata": {},
   "outputs": [
    {
     "name": "stdout",
     "output_type": "stream",
     "text": [
      "   Acousticness  Danceability  Energy  Liveness  Loudness  Popularity  \\\n",
      "0         0.995         0.708   0.195     0.151   -12.428           0   \n",
      "1         0.604         0.749   0.220     0.119   -19.924           0   \n",
      "\n",
      "   Speechiness    Tempo  Valence  Explicit  Instrumentalness  \n",
      "0       0.0506  118.469    0.779         0             0.563  \n",
      "1       0.9290  107.177    0.880         0             0.000  \n",
      "\n",
      " [[0.99899598 0.71659919 0.195      0.151      0.74500039 0.\n",
      "  0.05221878 0.48534768 0.779      0.         0.563     ]\n",
      " [0.6064257  0.75809717 0.22       0.119      0.62760943 0.\n",
      "  0.95872033 0.43908624 0.88       0.         0.        ]]\n"
     ]
    }
   ],
   "source": [
    "music_df = pd.DataFrame.from_records([s.to_dict() for s in song_searcher])\n",
    "\n",
    "full_df = music_df\n",
    "\n",
    "music_df = music_df.drop(['Artist/s', 'Song Name'], axis = 1)\n",
    "\n",
    "features_df = music_df\n",
    "\n",
    "scaler = MinMaxScaler()\n",
    "music_df = scaler.fit_transform(music_df)\n",
    "\n",
    "print(features_df[:2])\n",
    "print('\\n', music_df[:2])"
   ]
  },
  {
   "cell_type": "code",
   "execution_count": 5,
   "metadata": {},
   "outputs": [
    {
     "data": {
      "text/html": [
       "<div>\n",
       "<style scoped>\n",
       "    .dataframe tbody tr th:only-of-type {\n",
       "        vertical-align: middle;\n",
       "    }\n",
       "\n",
       "    .dataframe tbody tr th {\n",
       "        vertical-align: top;\n",
       "    }\n",
       "\n",
       "    .dataframe thead th {\n",
       "        text-align: right;\n",
       "    }\n",
       "</style>\n",
       "<table border=\"1\" class=\"dataframe\">\n",
       "  <thead>\n",
       "    <tr style=\"text-align: right;\">\n",
       "      <th></th>\n",
       "      <th>Artist/s</th>\n",
       "      <th>Song Name</th>\n",
       "      <th>Acousticness</th>\n",
       "      <th>Danceability</th>\n",
       "      <th>Energy</th>\n",
       "      <th>Liveness</th>\n",
       "      <th>Loudness</th>\n",
       "      <th>Popularity</th>\n",
       "      <th>Speechiness</th>\n",
       "      <th>Tempo</th>\n",
       "      <th>Valence</th>\n",
       "      <th>Explicit</th>\n",
       "      <th>Instrumentalness</th>\n",
       "    </tr>\n",
       "  </thead>\n",
       "  <tbody>\n",
       "    <tr>\n",
       "      <th>0</th>\n",
       "      <td>['Carl Woitschach']</td>\n",
       "      <td>Singende Bataillone 1. Teil</td>\n",
       "      <td>0.995</td>\n",
       "      <td>0.708</td>\n",
       "      <td>0.195</td>\n",
       "      <td>0.151</td>\n",
       "      <td>-12.428</td>\n",
       "      <td>0</td>\n",
       "      <td>0.0506</td>\n",
       "      <td>118.469</td>\n",
       "      <td>0.779</td>\n",
       "      <td>0</td>\n",
       "      <td>0.563</td>\n",
       "    </tr>\n",
       "    <tr>\n",
       "      <th>1</th>\n",
       "      <td>['Seweryn Goszczyński']</td>\n",
       "      <td>Chapter 1.18 - Zamek kaniowski</td>\n",
       "      <td>0.604</td>\n",
       "      <td>0.749</td>\n",
       "      <td>0.220</td>\n",
       "      <td>0.119</td>\n",
       "      <td>-19.924</td>\n",
       "      <td>0</td>\n",
       "      <td>0.9290</td>\n",
       "      <td>107.177</td>\n",
       "      <td>0.880</td>\n",
       "      <td>0</td>\n",
       "      <td>0.000</td>\n",
       "    </tr>\n",
       "    <tr>\n",
       "      <th>2</th>\n",
       "      <td>['Francisco Canaro']</td>\n",
       "      <td>Bebamos Juntos - Instrumental (Remasterizado)</td>\n",
       "      <td>0.995</td>\n",
       "      <td>0.781</td>\n",
       "      <td>0.130</td>\n",
       "      <td>0.111</td>\n",
       "      <td>-14.734</td>\n",
       "      <td>0</td>\n",
       "      <td>0.0926</td>\n",
       "      <td>108.003</td>\n",
       "      <td>0.720</td>\n",
       "      <td>0</td>\n",
       "      <td>0.887</td>\n",
       "    </tr>\n",
       "    <tr>\n",
       "      <th>3</th>\n",
       "      <td>['Carl Woitschach']</td>\n",
       "      <td>Per aspera ad astra</td>\n",
       "      <td>0.988</td>\n",
       "      <td>0.555</td>\n",
       "      <td>0.421</td>\n",
       "      <td>0.105</td>\n",
       "      <td>-9.878</td>\n",
       "      <td>0</td>\n",
       "      <td>0.0474</td>\n",
       "      <td>123.310</td>\n",
       "      <td>0.857</td>\n",
       "      <td>0</td>\n",
       "      <td>0.836</td>\n",
       "    </tr>\n",
       "    <tr>\n",
       "      <th>4</th>\n",
       "      <td>['Francisco Canaro', 'Charlo']</td>\n",
       "      <td>Moneda Corriente - Remasterizado</td>\n",
       "      <td>0.995</td>\n",
       "      <td>0.683</td>\n",
       "      <td>0.207</td>\n",
       "      <td>0.337</td>\n",
       "      <td>-9.801</td>\n",
       "      <td>0</td>\n",
       "      <td>0.1270</td>\n",
       "      <td>119.833</td>\n",
       "      <td>0.493</td>\n",
       "      <td>0</td>\n",
       "      <td>0.206</td>\n",
       "    </tr>\n",
       "  </tbody>\n",
       "</table>\n",
       "</div>"
      ],
      "text/plain": [
       "                         Artist/s  \\\n",
       "0             ['Carl Woitschach']   \n",
       "1         ['Seweryn Goszczyński']   \n",
       "2            ['Francisco Canaro']   \n",
       "3             ['Carl Woitschach']   \n",
       "4  ['Francisco Canaro', 'Charlo']   \n",
       "\n",
       "                                       Song Name  Acousticness  Danceability  \\\n",
       "0                    Singende Bataillone 1. Teil         0.995         0.708   \n",
       "1                 Chapter 1.18 - Zamek kaniowski         0.604         0.749   \n",
       "2  Bebamos Juntos - Instrumental (Remasterizado)         0.995         0.781   \n",
       "3                            Per aspera ad astra         0.988         0.555   \n",
       "4               Moneda Corriente - Remasterizado         0.995         0.683   \n",
       "\n",
       "   Energy  Liveness  Loudness  Popularity  Speechiness    Tempo  Valence  \\\n",
       "0   0.195     0.151   -12.428           0       0.0506  118.469    0.779   \n",
       "1   0.220     0.119   -19.924           0       0.9290  107.177    0.880   \n",
       "2   0.130     0.111   -14.734           0       0.0926  108.003    0.720   \n",
       "3   0.421     0.105    -9.878           0       0.0474  123.310    0.857   \n",
       "4   0.207     0.337    -9.801           0       0.1270  119.833    0.493   \n",
       "\n",
       "   Explicit  Instrumentalness  \n",
       "0         0             0.563  \n",
       "1         0             0.000  \n",
       "2         0             0.887  \n",
       "3         0             0.836  \n",
       "4         0             0.206  "
      ]
     },
     "execution_count": 5,
     "metadata": {},
     "output_type": "execute_result"
    }
   ],
   "source": [
    "full_df.head()"
   ]
  },
  {
   "cell_type": "code",
   "execution_count": 6,
   "metadata": {},
   "outputs": [
    {
     "data": {
      "text/plain": [
       "Artist/s: 'Edna St. Vincent Millay', Song Name: Fatal Interview: Sonnet XI, ID: 2ALjYTnVOy0LINGcpm0LqA, Acousticness: 0.992, Danceability: 0.6809999999999999, Energy: 0.324, Liveness: 0.11900000000000001, Loudness: -15.855, Popularity: 3, Speechiness: 0.935, Tempo: 127.41, Valence: 0.265"
      ]
     },
     "execution_count": 6,
     "metadata": {},
     "output_type": "execute_result"
    }
   ],
   "source": [
    "song_searcher[15665]"
   ]
  },
  {
   "cell_type": "code",
   "execution_count": 7,
   "metadata": {},
   "outputs": [
    {
     "data": {
      "text/plain": [
       "'Duration: 83952, Explicit: 0, Instrumentalness: 0.436, Key: 8, Mode: 0, Release Date: 1955'"
      ]
     },
     "execution_count": 7,
     "metadata": {},
     "output_type": "execute_result"
    }
   ],
   "source": [
    "song_searcher[15665].getExtras()"
   ]
  },
  {
   "cell_type": "code",
   "execution_count": 12,
   "metadata": {},
   "outputs": [],
   "source": [
    "class Searcher(object):\n",
    "    __metaclass__ = IterRegistry\n",
    "    _registry = []\n",
    "    \n",
    "    def __init__(self, list_name):\n",
    "        self.list_name = list_name\n",
    "        \n",
    "    def search_artist(self):\n",
    "        try:\n",
    "            fName = str(input(\"Please enter the first name of the artist you want to find: \").strip().capitalize())\n",
    "            lName = str(input(\"Please enter the surname of the artist you want to find: \"\\\n",
    "                             ).strip().capitalize())\n",
    "    \n",
    "            # Create empty lists for the inputs\n",
    "            result_names = []\n",
    "            result_songs = []\n",
    "            result_id = []\n",
    "            num = 0 # Index for printing results\n",
    "            \n",
    "            # Loop through the dictionary, extract all matching artist + song values\n",
    "            for i in range(len(self.list_name)): # range of the whole class-based list\n",
    "                if lName != \"\":  # If the last name entry is not left blank\n",
    "                    if fName + \" \" + lName in self.list_name[i].getName():\n",
    "                        result_names.append(self.list_name[i].getName())\n",
    "                        result_songs.append(self.list_name[i].getSongName())\n",
    "                        result_id.append(i) \n",
    "                else:  # If the artist only has one name e.g. Nirvana\n",
    "                    if fName in self.list_name[i].getName():\n",
    "                        result_names.append(self.list_name[i].getName())\n",
    "                        result_songs.append(self.list_name[i].getSongName())\n",
    "                        result_id.append(i) \n",
    "                \n",
    "            if len(result_id) == 0: # If the length of the list above is 0, we found no matches\n",
    "                print(\"Your search returned no results.\")\n",
    "            else:\n",
    "                # return an assignable dictionary using the First Name and Surname Initial for the indexable ID\n",
    "                print(\"Your search returned {} results.\".format(len(result_id)))\n",
    "                output = str(input(\"Would you like to view results? \").strip().capitalize())\n",
    "                if output == \"Yes\":\n",
    "                    for k in range(0, len(result_id)):\n",
    "                        print(\"ID: {} | {} | {} | \".format(result_id[num], result_names[num], result_songs[num]))\n",
    "                        num+=1\n",
    "                else:\n",
    "                    print(\"Search complete.\")\n",
    "            \n",
    "            return result_id  # Return the id to pull details if wanted\n",
    "    \n",
    "        # Error handling for the function is written here\n",
    "        except KeyError:\n",
    "            return(print(\"You have entered an incorrect value, please check your entry.\"))\n",
    "        except TypeError:\n",
    "            return(print(\"You can't enter a number or symbol here, please enter a string dictionary name.\"))\n",
    "        except IndexError:\n",
    "            return(print(\"You must enter at least an Initial into the Surname box.\"))\n",
    "        \n",
    "    def search_song(self):\n",
    "        try:\n",
    "            song_name = input(\"Please insert the word/s you would like to find in a song: \").capitalize()\n",
    "            song_name = song_name.rstrip()   # remove end of input whitespace\n",
    "            song_name = song_name.split(' ') # split the words into individual words to detect how many we have\n",
    "\n",
    "            result_id = []\n",
    "            result_names = []\n",
    "            result_songs = []\n",
    "            num = 0 # Index for printing results\n",
    "        \n",
    "            if len(song_name) == 1: # Check if the input is 1 word or many words\n",
    "                song_name = ''.join(song_name) # if it is 1 word, reconnect the word through the join command\n",
    "                for i in range(0, len(self.list_name)): # range of the whole class-based list\n",
    "                    if song_name in self.list_name[i].getSongName():\n",
    "                        # Add matching values to assignable lists \n",
    "                        result_id.append(i)      \n",
    "                        result_names.append(self.list_name[i].getName())\n",
    "                        result_songs.append(self.list_name[i].getSongName()) \n",
    "                    \n",
    "            else: # Loop the list and match each word with a value\n",
    "                for i in range(0, len(self.list_name)): # range of the whole dictionary +1 as end of dictionary is missed otherwise\n",
    "                    song_name = [item.capitalize() for item in song_name] # capitalise each string\n",
    "                    for j in range(0, len(song_name)):\n",
    "                        if song_name[j] in self.list_name[i].getSongName(): # search each word for a match\n",
    "                            # Add matching values to assignable lists\n",
    "                            result_id.append(i)     \n",
    "                            result_names.append(self.list_name[i].getName())\n",
    "                            result_songs.append(self.list_name[i].getSongName())\n",
    "\n",
    "            if len(result_id) == 0: # If the length of the list is 0, we found no matches\n",
    "                print(\"Your search returned no results.\")\n",
    "            else:\n",
    "                print(\"Your search returned {} results.\".format(len(result_id)))\n",
    "                output = str(input(\"Would you like to view results? \").strip().capitalize())\n",
    "                if output == \"Yes\":\n",
    "                    for k in range(0, len(result_id)):\n",
    "                        print(\"ID: {} | {} | {}\".format(result_id[num], result_names[num], result_songs[num]))\n",
    "                        num+=1\n",
    "                else:\n",
    "                    print(\"Search complete.\")\n",
    "                    \n",
    "        # Error handling for the function is written here\n",
    "        except KeyError as keyerror:\n",
    "            return(print(\"You have entered an incorrect value, please check your entry.\", keyerror))\n",
    "        except TypeError as typeerror:\n",
    "            return(print(\"You can't enter a number or symbol here, please enter a string dictionary name.\", typeerror)) "
   ]
  },
  {
   "cell_type": "code",
   "execution_count": 9,
   "metadata": {},
   "outputs": [],
   "source": [
    "class Similarity_metric(object):\n",
    "    __metaclass__ = IterRegistry\n",
    "    _registry = []\n",
    "    \n",
    "    def __init__(self, list_name, value1, value2):\n",
    "        self.list_name = list_name\n",
    "    # These do work for x by x conversion however\n",
    "        # Our defined target chosen by the user\n",
    "        self.target = value1\n",
    "        # Our defined library of all other values\n",
    "        self.library = value2\n",
    "        \n",
    "    # Returns object in string format for readability\n",
    "    def __repr__(self):\n",
    "        return f'Target: {self.target}, Comparison: {self.library}'\n",
    "    \n",
    "    def euclidean(self):\n",
    "        a = self.target\n",
    "        b = self.library\n",
    "        return np.linalg.norm(a - b)\n",
    "        \n",
    "    def manhattan(self):\n",
    "        a = self.target\n",
    "        b = self.library\n",
    "        #return np.abs(a - b) # This works\n",
    "        return manhattan_distances([a, b])[1,0]\n",
    "        \n",
    "    def cosine(self):\n",
    "        a = self.target\n",
    "        b = self.library\n",
    "        return 1 - distance.cosine(a, b)\n",
    "\n",
    "    def jaccard(self):\n",
    "        a = self.target\n",
    "        b = self.library\n",
    "        return distance.jaccard(a, b)\n",
    "    \n",
    "    def pearson(self):\n",
    "        a = self.target\n",
    "        b = self.library\n",
    "        return np.corrcoef([a, b])[1,0]\n",
    "    \n",
    "    def feature_select(self):\n",
    "        feature_select = [\"Accoustiness\", \"Danceability\", \"Energy\", \"Liveness\", \"Loudness\", \"Popularity\", \"Speechiness\", \"Tempo\", \"Valence\", \"Explicit\", \"Instrumentalness\"]\n",
    "        for number, feature in enumerate(feature_select, start=1):\n",
    "            print(number, feature) # Present a list of options to the user for feature choice\n",
    "    \n",
    "    def metric_choice(self):\n",
    "        id1 = self.target\n",
    "        id2 = self.library\n",
    "        \n",
    "        metric = int(input(\"Which metric would you like to use from the selection: Enter the number: \"))\n",
    "        if metric == 1:\n",
    "            return Similarity_metric(self.list_name, id1, id2).euclidean()\n",
    "        elif metric == 2:\n",
    "            return Similarity_metric(self.list_name, id1, id2).cosine()\n",
    "        elif metric == 3:\n",
    "            return np.corrcoef([id1, id2]) # Issues with Pearson, do it manually\n",
    "        elif metric == 4:\n",
    "            return Similarity_metric(self.list_name, id1, id2).jaccard()\n",
    "        elif metric == 5:\n",
    "            return Similarity_metric(self.list_name, [id1], [id2]).manhattan()\n",
    "        else:\n",
    "            print(\"Your selection is incorrect. Defaulting to Euclidean.\")\n",
    "            return Similarity_metric(self.list_name, id1, id2).euclidean()\n",
    "    \n",
    "    def metric_selection(self):\n",
    "        metric_select = [\"Euclidean\", \"Cosine\", \"Pearson\", \"Jaccard\", \"Manhattan\"]\n",
    "        for number, metric in enumerate(metric_select, start=1):\n",
    "            print(number, metric) # Present a list of options to the user for metric choice \n",
    "    \n",
    "    # Assignment 1 section as OOP\n",
    "    def measure_feature(self):\n",
    "        list_name = self.list_name\n",
    "        id1 = self.target\n",
    "        id2 = self.library\n",
    "        \n",
    "        try:\n",
    "            id1 = id1\n",
    "            id2 = id2\n",
    "            #id1 = int(input(\"Please insert your first id for music features: \"))\n",
    "            #id2 = int(input(\"Please insert your second id for music features: \"))\n",
    "\n",
    "            if id1 == id2: # check to see if the IDs match\n",
    "                print(\"Similarity measure for ID {} and ID {} is 1\".format(id1, id2))\n",
    "            else:\n",
    "                Similarity_metric(list_name, id1, id2).feature_select()\n",
    "                query = input(\"Which feature do you want to use for comparison? Enter the feature name or enter 'No' to compare all features. \").strip().capitalize()\n",
    "\n",
    "                if query == '' or query == \"No\".capitalize(): # if query entry is no or left empty, go here\n",
    "                    print(\"Comparing all respective features.\\n\")\n",
    "                    Similarity_metric(list_name, id1, id2).metric_selection()\n",
    "                    response = int(input(\"Which metric would you like to use from the selection: Enter the number: \"))\n",
    "                    # take values from the dictionary from the end,to avoid the string values at the beginning\n",
    "                    feature_list = list(list_name.iloc[id1])\n",
    "                    feature_list2 = list(list_name.iloc[id2])\n",
    "                    column_list = [str(i) for i in list_name] # take the associated column names\n",
    "            \n",
    "                    for i in range(0,11): # Loop through the 11 expected features\n",
    "                        # take values over the loop and compare them\n",
    "                        for value in feature_list, feature_list2: \n",
    "                            x = (feature_list[i])\n",
    "                            y = (feature_list2[i])\n",
    "                            if response == 1:\n",
    "                                distance = Similarity_metric(list_name, x, y).euclidean()\n",
    "                            elif response == 2:\n",
    "                                distance = Similarity_metric(list_name, x, y).cosine()\n",
    "                            elif response == 3: # Issues with Pearson, do it manually\n",
    "                                distance = np.corrcoef([x, y])\n",
    "                            elif response == 4:\n",
    "                                distance = Similarity_metric(list_name, x, y).jaccard()\n",
    "                            elif response == 5:\n",
    "                                distance = Similarity_metric(list_name, [x],[y]).manhattan()\n",
    "                            else:\n",
    "                                response = 1\n",
    "                                print(\"Your selection is incorrect. Defaulting to Euclidean.\")\n",
    "                                distance = Similarity_metric(list_name, x, y).euclidean()\n",
    "                        print(column_list[i] + ':', round(distance, 3)) # print all feature metrics\n",
    "                else:\n",
    "                    x = list_name[query][id1]\n",
    "                    y = list_name[query][id2]\n",
    "                    Similarity_metric(list_name, id1, id2).metric_selection()\n",
    "                    distance = Similarity_metric(list_name, x, y).metric_choice() \n",
    "                    print(\"Similarity of {} for ID {} and ID {} is\".format(query, id1, id2), round(distance, 3))\n",
    "       \n",
    "        except KeyError as keyerror:\n",
    "            print(\"That feature doesn't exist.\", keyerror)\n",
    "            #euclidean_similarity(list_name,'','')\n",
    "        except ValueError as valueerror:\n",
    "            print(\"Your entry is invalid, please make sure your entry was the correct format.\", valueerror)\n",
    "            #euclidean_similarity(list_name,'','')\n",
    "        except TypeError as typeerror:\n",
    "            print(\"Invalid type entered.\", typeerror)\n",
    "        #except IndexError as index:\n",
    "        #    print(\"There was a problem, did you enter your dictionary name correctly?\", index)\n",
    "        except ZeroDivisionError:\n",
    "            print(\"Sorry, but you cannot divide by 0, metric will restart.\")\n",
    "            #euclidean_similarity(list_name,'','')\n",
    "        except AttributeError as attrerror:\n",
    "            print(attrerror)\n",
    "            #euclidean_similarity(list_name,'','')"
   ]
  },
  {
   "cell_type": "code",
   "execution_count": 10,
   "metadata": {},
   "outputs": [
    {
     "name": "stdout",
     "output_type": "stream",
     "text": [
      "1 Accoustiness\n",
      "2 Danceability\n",
      "3 Energy\n",
      "4 Liveness\n",
      "5 Loudness\n",
      "6 Popularity\n",
      "7 Speechiness\n",
      "8 Tempo\n",
      "9 Valence\n",
      "10 Explicit\n",
      "11 Instrumentalness\n",
      "Which feature do you want to use for comparison? Enter the feature name or enter 'No' to compare all features. tempo\n",
      "1 Euclidean\n",
      "2 Cosine\n",
      "3 Pearson\n",
      "4 Jaccard\n",
      "5 Manhattan\n",
      "Which metric would you like to use from the selection: Enter the number: 1\n",
      "Similarity of Tempo for ID 340 and ID 200 is 48.63\n"
     ]
    }
   ],
   "source": [
    "song = Similarity_metric(features_df, 340, 200).measure_feature()\n",
    "song"
   ]
  },
  {
   "cell_type": "code",
   "execution_count": 13,
   "metadata": {},
   "outputs": [
    {
     "name": "stdout",
     "output_type": "stream",
     "text": [
      "Please enter the first name of the artist you want to find: nirvana\n",
      "Please enter the surname of the artist you want to find: \n",
      "Your search returned 83 results.\n",
      "Would you like to view results? no\n",
      "Search complete.\n"
     ]
    }
   ],
   "source": [
    "search = Searcher(song_searcher).search_artist()"
   ]
  },
  {
   "cell_type": "code",
   "execution_count": 14,
   "metadata": {},
   "outputs": [
    {
     "name": "stdout",
     "output_type": "stream",
     "text": [
      "[4639, 4657, 19108, 20456, 20467, 27679, 27701, 33282, 40472, 41549, 47468, 47627, 54684, 61545, 68457, 69270, 76465, 76482, 76486, 84379, 84444, 84453, 84677, 84685, 84706, 84731, 84876, 85588, 92975, 93153, 93421, 101702, 102030, 102115, 102158, 110737, 110852, 110951, 111028, 111067, 112644, 119661, 119838, 119872, 119873, 119935, 120048, 121173, 128181, 128241, 128398, 128415, 128454, 128590, 128607, 128627, 136725, 136942, 137025, 137124, 137140, 138021, 145074, 145087, 145306, 145311, 145345, 145370, 145411, 145440, 145470, 145506, 145508, 145545, 145557, 153638, 153661, 153703, 153776, 153798, 153802, 153864, 154978]\n"
     ]
    }
   ],
   "source": [
    "print(search)\n",
    "\n",
    "# #full_df.iloc[31]['Artist/s'].strip(\"'[]'\").split(\" \")\n",
    "\n",
    "# features_to_take = []\n",
    "# #print(features_to_take.empty)\n",
    "# #features_to_take = scaler.fit_transform(features_to_take)\n",
    "\n",
    "# for i in range(len(search)):\n",
    "#     print(features_df['Acousticness'][i])\n",
    "    \n",
    "# #print(features_to_take[:1])"
   ]
  },
  {
   "cell_type": "code",
   "execution_count": 15,
   "metadata": {},
   "outputs": [],
   "source": [
    "#### Class for recommendations\n",
    "class Recommendation(Similarity_metric):\n",
    "    \n",
    "    def __init__(self, list_name):\n",
    "        self.list_name = list_name\n",
    "        \n",
    "    def metric_choice(self):\n",
    "        metric = int(input(\"Which metric would you like to use from the selection: Enter the number: \"))\n",
    "        if metric == 1:\n",
    "            return 1\n",
    "        elif metric == 2:\n",
    "            return 2\n",
    "        elif metric == 3:\n",
    "            return 3\n",
    "        elif metric == 4:\n",
    "            return 4\n",
    "        elif metric == 5:\n",
    "            return 5\n",
    "        else:\n",
    "            print(\"Your selection is incorrect. Defaulting to Euclidean.\")\n",
    "            return 1   \n",
    "\n",
    "    def get_artist_recommendation(self):\n",
    "        list_name = self.list_name\n",
    "        \n",
    "        # Define needed variables\n",
    "        results = []\n",
    "        id_num = int(input(\"Please enter the ID number of an artist: \"))\n",
    "        i = 0\n",
    "        j = 0\n",
    "        \n",
    "        Recommendation(list_name).metric_selection()\n",
    "        response = Recommendation(list_name).metric_choice()\n",
    "        n = int(input(\"Please specify how many recommendations you want as a multiple of 5: \"))\n",
    "        if n % 5 == 0:\n",
    "            target = list_name[id_num]  \n",
    "                \n",
    "            # Loop to get the similarity score for each song against the target\n",
    "            for i in range(len(list_name)):\n",
    "                compare = list_name[i]\n",
    "                if response == 1:\n",
    "                        metric_inUse = Similarity_metric(list_name, target, compare).euclidean()\n",
    "                elif response == 2:\n",
    "                        metric_inUse = Similarity_metric(list_name, target, compare).cosine()\n",
    "                elif response == 3: # Issues with Pearson, do it manually\n",
    "                        metric_inUse = Similarity_metric(list_name, target, compare).pearson()\n",
    "                elif response == 4:\n",
    "                        metric_inUse = Similarity_metric(list_name, target, compare).jaccard()\n",
    "                else: # Response is 5\n",
    "                    metric_inUse = Similarity_metric(list_name, target, compare).manhattan()\n",
    "                \n",
    "                results.append(metric_inUse)\n",
    "    \n",
    "            # Round each result by 5 decimal places\n",
    "            results = [i.round(5) for i in results]\n",
    "            \n",
    "            if response == 1 or response == 4 or response == 5:\n",
    "                sorted_results = sorted(range(len(results)), key=lambda x: results[x], reverse=False)\n",
    "                sorted_results.pop(0) #Drop the first value as we don't need it\n",
    "            else:\n",
    "                # Sort the results, if cosine or pearson we need to reverse these results\n",
    "                sorted_results = sorted(range(len(results)), key=lambda x: results[x], reverse=True)\n",
    "                sorted_results.pop(0) #Drop the first value as we don't need it\n",
    "    \n",
    "            # Print the chosen artist to the user\n",
    "            print('Your Chosen '+ song_searcher[id_num].getName())\n",
    "            print('The {} most similar artists to your chosen artist are: '.format(n))\n",
    "\n",
    "            # Print the n recommendations for the user\n",
    "            for element in sorted_results:\n",
    "                print(song_searcher[element].getName())\n",
    "                j += 1\n",
    "                if j >= n:\n",
    "                    break\n",
    "        else:\n",
    "            print(\"Please select an n value as a multiple of 5.\")\n",
    "            Recommendation(list_name).get_artist_recommendation()\n",
    "    \n",
    "    def get_song_recommendation(self):\n",
    "        list_name = self.list_name\n",
    "        \n",
    "        # Define needed variables\n",
    "        results = []\n",
    "        id_num = int(input(\"Please enter the ID number of a song: \"))\n",
    "        i = 0\n",
    "        j = 0\n",
    "        \n",
    "        Recommendation(list_name).metric_selection()\n",
    "        response = Recommendation(list_name).metric_choice()\n",
    "        n = int(input(\"Please specify how many recommendations you want as a multiple of 5: \"))\n",
    "        if n % 5 == 0:\n",
    "            target = list_name[id_num]  \n",
    "                \n",
    "            # Loop to get the similarity score for each song against the target\n",
    "            for i in range(len(list_name)):\n",
    "                compare = list_name[i]\n",
    "                if response == 1:\n",
    "                        metric_inUse = Similarity_metric(list_name, target, compare).euclidean()\n",
    "                elif response == 2:\n",
    "                        metric_inUse = Similarity_metric(list_name, target, compare).cosine()\n",
    "                elif response == 3: # Issues with Pearson, do it manually\n",
    "                        metric_inUse = Similarity_metric(list_name, target, compare).pearson()\n",
    "                elif response == 4:\n",
    "                        metric_inUse = Similarity_metric(list_name, target, compare).jaccard()\n",
    "                else: # Response is 5\n",
    "                    metric_inUse = Similarity_metric(list_name, target, compare).manhattan()\n",
    "            \n",
    "                results.append(metric_inUse)\n",
    "    \n",
    "            # Round each result by 5 decimal places\n",
    "            results = [i.round(5) for i in results]\n",
    "            \n",
    "            if response == 1 or response == 4 or response == 5:\n",
    "                sorted_results = sorted(range(len(results)), key=lambda x: results[x], reverse=False)\n",
    "                sorted_results.pop(0) #Drop the first value as we don't need it\n",
    "            else:\n",
    "                # Sort the results, if cosine or pearson we need to reverse these results\n",
    "                sorted_results = sorted(range(len(results)), key=lambda x: results[x], reverse=True)\n",
    "                sorted_results.pop(0) #Drop the first value as we don't need it\n",
    "    \n",
    "            # Print the chosen artist to the user\n",
    "            print('Your Chosen'+ song_searcher[id_num].getSongName())\n",
    "            print('The {} most similar songs to your song are: '.format(n))\n",
    "\n",
    "            # Print the n recommendations for the user\n",
    "            for element in sorted_results:\n",
    "                print(song_searcher[element].getSongName(), \"by\", song_searcher[element].getName())\n",
    "                j += 1\n",
    "                if j >= n:\n",
    "                    break\n",
    "        else:\n",
    "            print(\"Please select an n value as a multiple of 5.\")\n",
    "            Recommendation(list_name).get_song_recommendation()    \n",
    "    \n",
    "    def get_target_recommendation(self):\n",
    "        list_name = self.list_name\n",
    "        \n",
    "        # Define needed variables\n",
    "        results = []\n",
    "        id_num = int(input(\"Please enter the ID number of the artist: \"))\n",
    "        i = 0\n",
    "        j = 0\n",
    "        \n",
    "        Recommendation(list_name).metric_selection()\n",
    "        response = Recommendation(list_name).metric_choice()\n",
    "        n = int(input(\"Please specify how many recommendations you want as a multiple of 5: \"))\n",
    "        if n % 5 == 0:\n",
    "            target = list_name[id_num]  \n",
    "                \n",
    "            # Loop to get the similarity score for each song against the target\n",
    "            for i in range(len(list_name)):\n",
    "                compare = list_name[i]\n",
    "                if response == 1:\n",
    "                        metric_inUse = Similarity_metric(list_name, target, compare).euclidean()\n",
    "                elif response == 2:\n",
    "                        metric_inUse = Similarity_metric(list_name, target, compare).cosine()\n",
    "                elif response == 3: # Issues with Pearson, do it manually\n",
    "                        metric_inUse = Similarity_metric(list_name, target, compare).pearson()\n",
    "                elif response == 4:\n",
    "                        metric_inUse = Similarity_metric(list_name, target, compare).jaccard()\n",
    "                else: # Response is 5\n",
    "                    metric_inUse = Similarity_metric(list_name, target, compare).manhattan()\n",
    "                \n",
    "                results.append(metric_inUse)\n",
    "    \n",
    "            # Round each result by 5 decimal places\n",
    "            results = [i.round(5) for i in results]\n",
    "            \n",
    "            if response == 1 or response == 4 or response == 5:\n",
    "                sorted_results = sorted(range(len(results)), key=lambda x: results[x], reverse=False)\n",
    "                sorted_results.pop(0) #Drop the first value as we don't need it\n",
    "            else:\n",
    "                # Sort the results, if cosine or pearson we need to reverse these results\n",
    "                sorted_results = sorted(range(len(results)), key=lambda x: results[x], reverse=True)\n",
    "                sorted_results.pop(0) #Drop the first value as we don't need it\n",
    "    \n",
    "            # Print the chosen artist to the user\n",
    "            print('Your Chosen '+ song_searcher[id_num].getName())\n",
    "            print('The {} most similar Tracks to your Artist are: '.format(n))\n",
    "\n",
    "            # Print the n recommendations for the user\n",
    "            for element in sorted_results:\n",
    "                print(song_searcher[element].getName(), song_searcher[element].getSongName())\n",
    "                j += 1\n",
    "                if j >= n:\n",
    "                    break\n",
    "        else:\n",
    "            print(\"Please select an n value as a multiple of 5.\")\n",
    "            Recommendation(list_name).get_target_recommendation()"
   ]
  },
  {
   "cell_type": "code",
   "execution_count": 16,
   "metadata": {},
   "outputs": [
    {
     "name": "stdout",
     "output_type": "stream",
     "text": [
      "Please enter the ID number of the artist: 222\n",
      "1 Euclidean\n",
      "2 Cosine\n",
      "3 Pearson\n",
      "4 Jaccard\n",
      "5 Manhattan\n",
      "Which metric would you like to use from the selection: Enter the number: 7\n",
      "Your selection is incorrect. Defaulting to Euclidean.\n",
      "Please specify how many recommendations you want as a multiple of 5: 10\n",
      "Your Chosen Artist/s: 'Carl Verheyen'\n",
      "The 10 most similar Tracks to your Artist are: \n",
      "Artist/s: 'Elmer Bernstein' Song Name: Clark Street: The Top / Homecoming / Antek's\n",
      "Artist/s: 'Ramsey Lewis' Song Name: Mother Nature's Son\n",
      "Artist/s: 'Noe Fajardo Y Su Orquesta' Song Name: Juárez\n",
      "Artist/s: 'Noe Fajardo Y Su Orquesta' Song Name: España\n",
      "Artist/s: 'Neal Hefti Orchestra' Song Name: Rhumbacito\n",
      "Artist/s: 'Lacerenza Michele' Song Name: Concerto per un killer (titoli)\n",
      "Artist/s: 'Claudio Villa' Song Name: Na sera 'e maggio\n",
      "Artist/s: 'Benny Goodman Big Band' Song Name: One O'Clock Jump - Live\n",
      "Artist/s: 'Martin Denny' Song Name: Swamp Fire\n",
      "Artist/s: 'The Chantays' Song Name: Riders In The Sky\n"
     ]
    }
   ],
   "source": [
    "new = Recommendation(music_df)\n",
    "new.get_target_recommendation()"
   ]
  },
  {
   "cell_type": "code",
   "execution_count": 17,
   "metadata": {},
   "outputs": [
    {
     "name": "stdout",
     "output_type": "stream",
     "text": [
      "Your Chosen Artist/s: Artist/s: 'Michael Berresse', 'Bebe Neuwirth'\n",
      "The 10 most similar Tracks to your Artist are: \n",
      "Artist/s: 'Megadeth' Song Name: My Last Words - Remastered , Score: 0.7\n",
      "Artist/s: 'Linkin Park', 'Zion I' Song Name: Plc.4 Mie Hæd (Amp Live Reanimation) [feat. Zion] , Score: 0.77778\n",
      "Artist/s: 'Sreeradha Banerjee', 'Saikat Mitra' Song Name: Tomaar Aamaar Mukhetey , Score: 0.77778\n",
      "Artist/s: 'Ι.Κυριαζής', 'Στ.Χασκίλ', 'Α.Καλδάρας' Song Name: Εβίβα ρεμπέτες , Score: 0.77778\n",
      "Artist/s: 'Faye Wong' Song Name: 棋子 , Score: 0.77778\n",
      "Artist/s: 'Caifanes' Song Name: El Elefante , Score: 0.77778\n",
      "Artist/s: 'Pancho Barraza' Song Name: Formas De Vivir , Score: 0.77778\n",
      "Artist/s: 'Town Mountain' Song Name: Snowin' On Raton , Score: 0.77778\n",
      "Artist/s: 'Laura Story' Song Name: Grace , Score: 0.77778\n",
      "Artist/s: 'Carmen McRae' Song Name: You Took Advantage Of Me , Score: 0.77778\n",
      "Wall time: 4.01 s\n"
     ]
    }
   ],
   "source": [
    "%%time\n",
    "\n",
    "results = []\n",
    "id_num = 12310\n",
    "i = 0\n",
    "\n",
    "target = music_df[id_num].round(3)\n",
    "\n",
    "for i in range(len(music_df)):\n",
    "    compare = music_df[i].round(3)\n",
    "    results.append(Similarity_metric(music_df, target, compare).jaccard())\n",
    "    #i += 1 \n",
    "\n",
    "results = [i.round(5) for i in results]\n",
    "\n",
    "sorted_results = sorted(range(len(results)), key=lambda x: results[x], reverse=False) #cosine and pearson need reverse true\n",
    "sorted_results.pop(0) #Drop the first value as we don't need it\n",
    "sorted_results[0:10]\n",
    "\n",
    "j = 1\n",
    "n = 10\n",
    "final = []\n",
    "\n",
    "print('Your Chosen Artist/s:', song_searcher[id_num].getName())\n",
    "print('The {} most similar Tracks to your Artist are: '.format(n))\n",
    "\n",
    "for element in sorted_results:\n",
    "    print(song_searcher[element].getName(), song_searcher[element].getSongName(), ', Score:', results[element])\n",
    "    j += 1\n",
    "    if j > n:\n",
    "        break"
   ]
  },
  {
   "cell_type": "code",
   "execution_count": null,
   "metadata": {},
   "outputs": [],
   "source": [
    "# %%time \n",
    "# # This is to measure how long the calculations take to make improvements if necessary\n",
    "\n",
    "# # Define variables\n",
    "# results = []\n",
    "# id_num = 4391\n",
    "# i = 0\n",
    "# j = 0\n",
    "# n = 10\n",
    "\n",
    "# # Select the target\n",
    "# target = music_df[id_num]\n",
    "\n",
    "# # Loop to get the similarity score for each song against the target\n",
    "# for i in range(len(music_df)):\n",
    "#     compare = music_df[i]\n",
    "#     results.append(Similarity_metric(music_df, target, compare).pearson())\n",
    "    \n",
    "# # Round each result by 5 decimal places\n",
    "# results = [i.round(5) for i in results]\n",
    "\n",
    "# # Sort the results, if cosine or pearson we need to reverse these results\n",
    "# sorted_results = sorted(range(len(results)), key=lambda x: results[x], reverse=True)\n",
    "# sorted_results.pop(0) #Drop the first value as we don't need it\n",
    "# #print(sorted_results[:10])\n",
    "\n",
    "# # Print the chosen artist to the user\n",
    "# print('Your Chosen Artist/s:', song_searcher[id_num].getName())\n",
    "# print('The {} most similar Tracks to your Artist are: '.format(n))\n",
    "\n",
    "# # Print the n recommendations for the user\n",
    "# for element in sorted_results:\n",
    "#     print('ID:', element, song_searcher[element].getName(), song_searcher[element].getSongName(), ', Score:', results[element])\n",
    "#     j += 1\n",
    "#     if j > n:\n",
    "#         break"
   ]
  },
  {
   "cell_type": "markdown",
   "metadata": {},
   "source": [
    "## Data Cleaning"
   ]
  },
  {
   "cell_type": "code",
   "execution_count": null,
   "metadata": {},
   "outputs": [],
   "source": [
    "features_df.isnull().sum()\n",
    "# No empty values present"
   ]
  },
  {
   "cell_type": "code",
   "execution_count": null,
   "metadata": {},
   "outputs": [],
   "source": [
    "features_df.dtypes"
   ]
  },
  {
   "cell_type": "code",
   "execution_count": null,
   "metadata": {},
   "outputs": [],
   "source": [
    "features_df.describe()"
   ]
  },
  {
   "cell_type": "code",
   "execution_count": 210,
   "metadata": {},
   "outputs": [
    {
     "name": "stdout",
     "output_type": "stream",
     "text": [
      "0.31515078818626574\n",
      "0.7345093575383077\n",
      "2.75\n",
      "1.2931009241354676\n",
      "1.0\n",
      "[0.463 0.742 0.613 0.122 0.803 0.    0.04  0.504 0.26  0.    0.951]\n",
      "[0.924 0.572 0.492 0.123 0.773 0.28  0.076 0.549 0.915 0.    0.   ]\n"
     ]
    }
   ],
   "source": [
    "# Testing out 9 feature values vs 9 feature values using the metrics\n",
    "\n",
    "id_num = 30\n",
    "\n",
    "one = music_df[id_num].round(3)\n",
    "two = music_df[90000].round(3)\n",
    "\n",
    "new_entry = Similarity_metric(music_df, one,two) \n",
    "print(new_entry.pearson())\n",
    "print(new_entry.cosine())\n",
    "print(new_entry.manhattan())\n",
    "print(new_entry.euclidean())\n",
    "print(new_entry.jaccard())\n",
    "print(one)\n",
    "print(two)\n",
    "\n",
    "one = np.sum(one)\n",
    "two = np.sum(two)"
   ]
  },
  {
   "cell_type": "markdown",
   "metadata": {},
   "source": [
    "## Part 3 - KNN Recommendation"
   ]
  },
  {
   "cell_type": "code",
   "execution_count": 215,
   "metadata": {},
   "outputs": [
    {
     "name": "stdout",
     "output_type": "stream",
     "text": [
      "[128044]\n",
      "[24849]\n",
      "[127641]\n",
      "[151453]\n",
      "[3503]\n",
      "[46563]\n",
      "[108955]\n",
      "[18781]\n",
      "[144658]\n",
      "[145417]\n",
      "Wall time: 1.88 s\n"
     ]
    }
   ],
   "source": [
    "%%time\n",
    "\n",
    "results = []\n",
    "id_num = 25411\n",
    "i = 0\n",
    "\n",
    "target = music_df[id_num]\n",
    "\n",
    "for i in range(len(music_df)):\n",
    "    compare = music_df[i]\n",
    "    results.append(Similarity_metric(music_df, target, compare).euclidean())\n",
    "    #i += 1 \n",
    "\n",
    "results = [i.round(5) for i in results]\n",
    "\n",
    "sorted_results = sorted(range(len(results)), key=lambda x: results[x], reverse=False) #cosine and pearson need reverse true\n",
    "sorted_results.pop(0) #Drop the first value as we don't need it\n",
    "sorted_results[0:10]\n",
    "\n",
    "j = 1\n",
    "n = 10\n",
    "final = []\n",
    "\n",
    "for element in sorted_results:\n",
    "    print([element])\n",
    "    j += 1\n",
    "    if j > n:\n",
    "        break"
   ]
  },
  {
   "cell_type": "code",
   "execution_count": 213,
   "metadata": {
    "scrolled": false
   },
   "outputs": [
    {
     "name": "stdout",
     "output_type": "stream",
     "text": [
      "128044\n",
      "24849\n",
      "127641\n",
      "151453\n",
      "3503\n",
      "46563\n",
      "108955\n",
      "18781\n",
      "144658\n",
      "145417\n"
     ]
    }
   ],
   "source": [
    "result = result.flatten()\n",
    "\n",
    "for entry in result:\n",
    "    if entry == id_num:\n",
    "        continue\n",
    "    print(entry)\n",
    "\n",
    "#result # KNN"
   ]
  },
  {
   "cell_type": "code",
   "execution_count": 211,
   "metadata": {},
   "outputs": [
    {
     "data": {
      "text/plain": [
       "NearestNeighbors(algorithm='brute', leaf_size=30, metric='euclidean',\n",
       "                 metric_params=None, n_jobs=1, n_neighbors=11, p=2, radius=1.0)"
      ]
     },
     "execution_count": 211,
     "metadata": {},
     "output_type": "execute_result"
    }
   ],
   "source": [
    "from sklearn.neighbors import NearestNeighbors as knn\n",
    "\n",
    "id_num = 25411\n",
    "target = music_df[id_num]\n",
    "target = target.reshape(1,-1)\n",
    "\n",
    "#music_df = np.delete(music_df, target)\n",
    "\n",
    "neigh = knn(metric='euclidean', algorithm = 'brute', n_neighbors=11, n_jobs=1)\n",
    "neigh.fit(music_df)"
   ]
  },
  {
   "cell_type": "code",
   "execution_count": 212,
   "metadata": {},
   "outputs": [],
   "source": [
    "result = neigh.kneighbors(target, return_distance=False)"
   ]
  },
  {
   "cell_type": "markdown",
   "metadata": {},
   "source": [
    "# Testing section"
   ]
  },
  {
   "cell_type": "markdown",
   "metadata": {},
   "source": [
    "## Testing Manhattan "
   ]
  },
  {
   "cell_type": "code",
   "execution_count": null,
   "metadata": {},
   "outputs": [],
   "source": [
    "%%time\n",
    "# The code basis for one target to all values in the same column\n",
    "\n",
    "feature = 'Tempo'\n",
    "feature_list = []\n",
    "manhattan_list = []\n",
    "i = 0\n",
    "\n",
    "for val in features_df[feature]: \n",
    "    feature_list.append(Similarity_metric(features_df, [features_df[feature][45000]], [val]))\n",
    "    manhattan_score = feature_list[i].manhattan()\n",
    "    manhattan_list.append(manhattan_score)\n",
    "    i += 1 "
   ]
  },
  {
   "cell_type": "code",
   "execution_count": null,
   "metadata": {
    "scrolled": true
   },
   "outputs": [],
   "source": [
    "print(len(manhattan_list))\n",
    "print(manhattan_list[25:30])"
   ]
  },
  {
   "cell_type": "code",
   "execution_count": null,
   "metadata": {},
   "outputs": [],
   "source": [
    "for i in range(0, len(manhattan_list)):\n",
    "    if abs(manhattan_list[i]) <= 0:\n",
    "        print(i,':', manhattan_list[i])"
   ]
  },
  {
   "cell_type": "markdown",
   "metadata": {},
   "source": [
    "## Testing Cosine"
   ]
  },
  {
   "cell_type": "code",
   "execution_count": null,
   "metadata": {},
   "outputs": [],
   "source": [
    "%%time\n",
    "# The code basis for one target to all values in the same column\n",
    " \n",
    "feature = 'Tempo'\n",
    "cosine_list = []\n",
    "i = 0\n",
    "\n",
    "for val in features_df[feature]:   \n",
    "    result = (Similarity_metric(features_df, features_df[feature][45000], val)).cosine()\n",
    "    cosine_list.append(result)\n",
    "    i += 1\n"
   ]
  },
  {
   "cell_type": "code",
   "execution_count": null,
   "metadata": {},
   "outputs": [],
   "source": [
    "print(len(cosine_list))\n",
    "print(cosine_list[25:100])"
   ]
  },
  {
   "cell_type": "code",
   "execution_count": null,
   "metadata": {
    "scrolled": true
   },
   "outputs": [],
   "source": [
    "addition = 0\n",
    "\n",
    "for i in range(0, len(cosine_list)):\n",
    "    if abs(cosine_list[i]) <= 1:\n",
    "        addition +=1\n",
    "print(addition)"
   ]
  },
  {
   "cell_type": "markdown",
   "metadata": {},
   "source": [
    "## Testing Jaccard"
   ]
  },
  {
   "cell_type": "code",
   "execution_count": null,
   "metadata": {},
   "outputs": [],
   "source": [
    "%%time\n",
    "\n",
    "feature = 'Valence'\n",
    "feature_list = []\n",
    "jaccard_list = []\n",
    "id_num = 45000\n",
    "i = 0\n",
    "\n",
    "for val in features_df[feature]:   \n",
    "    \n",
    "    feature_list.append(Similarity_metric(features_df, features_df[feature][id_num], val))\n",
    "    jaccard_score = feature_list[i].jaccard()\n",
    "    jaccard_list.append(jaccard_score)\n",
    "    i += 1"
   ]
  },
  {
   "cell_type": "code",
   "execution_count": null,
   "metadata": {},
   "outputs": [],
   "source": [
    "print(len(jaccard_list))\n",
    "print(jaccard_list[25:35])"
   ]
  },
  {
   "cell_type": "code",
   "execution_count": null,
   "metadata": {},
   "outputs": [],
   "source": [
    "addition = 0\n",
    "\n",
    "for i in range(0, len(jaccard_list)):\n",
    "    if jaccard_list[i] <= 0:\n",
    "        addition +=1\n",
    "print(addition)"
   ]
  },
  {
   "cell_type": "markdown",
   "metadata": {},
   "source": [
    "## Testing Pearson"
   ]
  },
  {
   "cell_type": "code",
   "execution_count": null,
   "metadata": {},
   "outputs": [],
   "source": [
    "%%time\n",
    "\n",
    "id_num = 30\n",
    "\n",
    "one = music_df[id_num].round(3)\n",
    "two = music_df[90000].round(3)\n",
    "\n",
    "new_entry = Similarity_metric(music_df, one,two) \n",
    "print(new_entry.pearson())"
   ]
  },
  {
   "cell_type": "code",
   "execution_count": null,
   "metadata": {},
   "outputs": [],
   "source": [
    "print(len(pearson_list))\n",
    "print(pearson_list[25:35])"
   ]
  },
  {
   "cell_type": "code",
   "execution_count": null,
   "metadata": {},
   "outputs": [],
   "source": [
    "for i in range(0, len(pearson_list)):\n",
    "    if pearson_list[i] <= 0:\n",
    "        print(i,':', pearson_list[i])"
   ]
  },
  {
   "cell_type": "markdown",
   "metadata": {},
   "source": [
    "## Testing Euclidean"
   ]
  },
  {
   "cell_type": "code",
   "execution_count": null,
   "metadata": {},
   "outputs": [],
   "source": [
    "%%time\n",
    "\n",
    "# The code basis for one target to all values in the same column\n",
    " \n",
    "feature_list = []\n",
    "euclidean_list = []\n",
    "\n",
    "feature = 'Tempo'\n",
    "id_num = 4500 \n",
    "i = 0 # Index\n",
    "\n",
    "# lines = iter(open('something.txt', 'r'))\n",
    "# for val in lines:\n",
    "#     if val == \"!\":\n",
    "#         lines.next()\n",
    "#         continue\n",
    "#     <etc>\n",
    "\n",
    "for val in features_df[feature]: \n",
    "    feature_list.append(Similarity_metric(features_df, features_df[feature][id_num], val))\n",
    "    euclidean_score = feature_list[i].euclidean()\n",
    "    euclidean_list.append(euclidean_score)\n",
    "    i += 1 \n",
    "    \n",
    "#print(euclidean_list)\n",
    "#print(tempo_list) #Indent this if you want one-by-one printing\n",
    "#tempo_list = np.array(tempo_list)"
   ]
  },
  {
   "cell_type": "code",
   "execution_count": null,
   "metadata": {},
   "outputs": [],
   "source": [
    "print(len(euclidean_list))\n",
    "print(euclidean_list[25:35])"
   ]
  },
  {
   "cell_type": "code",
   "execution_count": null,
   "metadata": {},
   "outputs": [],
   "source": [
    "for i in range(0, len(euclidean_list)):\n",
    "    if euclidean_list[i] <= 0:\n",
    "        print(i,':', euclidean_list[i])"
   ]
  },
  {
   "cell_type": "code",
   "execution_count": null,
   "metadata": {},
   "outputs": [],
   "source": []
  }
 ],
 "metadata": {
  "kernelspec": {
   "display_name": "Python 3",
   "language": "python",
   "name": "python3"
  },
  "language_info": {
   "codemirror_mode": {
    "name": "ipython",
    "version": 3
   },
   "file_extension": ".py",
   "mimetype": "text/x-python",
   "name": "python",
   "nbconvert_exporter": "python",
   "pygments_lexer": "ipython3",
   "version": "3.7.4"
  }
 },
 "nbformat": 4,
 "nbformat_minor": 4
}
