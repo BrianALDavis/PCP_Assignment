{
 "cells": [
  {
   "cell_type": "markdown",
   "metadata": {},
   "source": [
    "### PCP Assignment 2 Module 2 - similarity_module"
   ]
  },
  {
   "cell_type": "code",
   "execution_count": 6,
   "metadata": {},
   "outputs": [],
   "source": [
    "from load_dataset_module import Artist, Song, Track, IterRegistry, Extras, file_loader   # Classes\n",
    "import pandas as pd\n",
    "import numpy as np\n",
    "import math\n",
    "from scipy.spatial import distance \n",
    "from numpy.linalg import norm\n",
    "from sklearn.metrics.pairwise import manhattan_distances\n",
    "from sklearn.metrics.pairwise import cosine_similarity\n",
    "\n",
    "# Disable warnings, these are not required for the user to see (might be removed)\n",
    "import warnings\n",
    "warnings.filterwarnings('ignore')\n",
    "\n",
    "# These will change over time\n",
    "from sklearn.model_selection import train_test_split\n",
    "from sklearn.metrics import mean_squared_error\n",
    "from sklearn.preprocessing import StandardScaler  # Not currently used\n",
    "from sklearn.preprocessing import MinMaxScaler\n",
    "from sklearn.neural_network import MLPClassifier\n"
   ]
  },
  {
   "cell_type": "code",
   "execution_count": 7,
   "metadata": {},
   "outputs": [],
   "source": [
    "# Creating logging capabilities\n",
    "\n",
    "# import logging\n",
    "# logging.warning('Watch out!')  # will print a message to the console\n",
    "# logging.info('I told you so')  # will not print anything"
   ]
  },
  {
   "cell_type": "markdown",
   "metadata": {},
   "source": [
    "#### TODO: Add these into a class as methods"
   ]
  },
  {
   "cell_type": "code",
   "execution_count": 147,
   "metadata": {},
   "outputs": [],
   "source": [
    "def search_artist(list_name):\n",
    "    try:\n",
    "        fName = str(input(\"Please enter the first name of the artist you want to find: \").strip().capitalize())\n",
    "        lName = str(input(\"Please enter the surname of the artist you want to find: \"\\\n",
    "                         ).strip().capitalize())\n",
    "    \n",
    "        # Create empty lists for the inputs\n",
    "        result_names = []\n",
    "        result_songs = []\n",
    "        result_id = []\n",
    "        num = 0 # Index for printing results\n",
    "        \n",
    "        # Loop through the dictionary, extract all matching artist + song values\n",
    "        for i in range(len(list_name)): # range of the whole class-based list\n",
    "            if lName != \"\":  # If the last name entry is not left blank\n",
    "                if fName + \" \" + lName in list_name[i].getName():\n",
    "                    result_names.append(list_name[i].getName())\n",
    "                    result_songs.append(list_name[i].getSongName())\n",
    "                    result_id.append(i) \n",
    "            else:  # If the artist only has one name e.g. Nirvana\n",
    "                if fName in list_name[i].getName():\n",
    "                    result_names.append(list_name[i].getName())\n",
    "                    result_songs.append(list_name[i].getSongName())\n",
    "                    result_id.append(i) \n",
    "                \n",
    "        if len(result_id) == 0: # If the length of the list above is 0, we found no matches\n",
    "            print(\"Your search returned no results.\")\n",
    "        else:\n",
    "            # return an assignable dictionary using the First Name and Surname Initial for the indexable ID\n",
    "            print(\"Your search returned {} results.\".format(len(result_id)))\n",
    "            output = str(input(\"Would you like to view results? \").strip().capitalize())\n",
    "            if output == \"Yes\":\n",
    "                for k in range(0, len(result_id)):\n",
    "                    print(\"ID: {} | {} | {} | \".format(result_id[num], result_names[num], result_songs[num]))\n",
    "                    num+=1\n",
    "            else:\n",
    "                print(\"Search complete.\")\n",
    "    \n",
    "    # Error handling for the function is written here\n",
    "    except KeyError:\n",
    "        return(print(\"You have entered an incorrect value, please check your entry.\"))\n",
    "    except TypeError:\n",
    "        return(print(\"You can't enter a number or symbol here, please enter a string dictionary name.\"))\n",
    "    except IndexError:\n",
    "        return(print(\"You must enter at least an Initial into the Surname box.\"))"
   ]
  },
  {
   "cell_type": "code",
   "execution_count": 9,
   "metadata": {},
   "outputs": [],
   "source": [
    "def search_song(list_name):\n",
    "    try:\n",
    "        song_name = input(\"Please insert the word/s you would like to find in a song: \").capitalize()\n",
    "        song_name = song_name.rstrip()   # remove end of input whitespace\n",
    "        song_name = song_name.split(' ') # split the words into individual words to detect how many we have\n",
    "\n",
    "        result_id = []\n",
    "        result_names = []\n",
    "        result_songs = []\n",
    "        num = 0 # Index for printing results\n",
    "        \n",
    "        if len(song_name) == 1: # Check if the input is 1 word or many words\n",
    "            song_name = ''.join(song_name) # if it is 1 word, reconnect the word through the join command\n",
    "            for i in range(0, len(list_name)): # range of the whole class-based list\n",
    "                if song_name in list_name[i].getSongName():\n",
    "                    # Add matching values to assignable lists \n",
    "                    result_id.append(i)      \n",
    "                    result_names.append(list_name[i].getName())\n",
    "                    result_songs.append(list_name[i].getSongName()) \n",
    "                    \n",
    "        else: # Loop the list and match each word with a value\n",
    "            for i in range(0, len(list_name)): # range of the whole dictionary +1 as end of dictionary is missed otherwise\n",
    "                song_name = [item.capitalize() for item in song_name] # capitalise each string\n",
    "                for j in range(0, len(song_name)):\n",
    "                    if song_name[j] in list_name[i].getSongName(): # search each word for a match\n",
    "                        # Add matching values to assignable lists\n",
    "                        result_id.append(i)     \n",
    "                        result_names.append(list_name[i].getName())\n",
    "                        result_songs.append(list_name[i].getSongName())\n",
    "\n",
    "        if len(result_id) == 0: # If the length of the list is 0, we found no matches\n",
    "            print(\"Your search returned no results.\")\n",
    "        else:\n",
    "            print(\"Your search returned {} results.\".format(len(result_id)))\n",
    "            output = str(input(\"Would you like to view results? \").capitalize().rstrip())\n",
    "            if output == \"Yes\":\n",
    "                for k in range(0, len(result_id)):\n",
    "                    print(\"ID: {} | {} | {}\".format(result_id[num], result_names[num], result_songs[num]))\n",
    "                    num+=1\n",
    "            else:\n",
    "                print(\"Search complete.\")\n",
    "                    \n",
    "    # Error handling for the function is written here\n",
    "    except KeyError as keyerror:\n",
    "        return(print(\"You have entered an incorrect value, please check your entry.\", keyerror))\n",
    "    except TypeError as typeerror:\n",
    "        return(print(\"You can't enter a number or symbol here, please enter a string dictionary name.\", typeerror)) "
   ]
  },
  {
   "cell_type": "code",
   "execution_count": 10,
   "metadata": {},
   "outputs": [
    {
     "name": "stdout",
     "output_type": "stream",
     "text": [
      "Finished reading the command for file loading.\n"
     ]
    }
   ],
   "source": [
    "song_searcher = file_loader().read_file()"
   ]
  },
  {
   "cell_type": "code",
   "execution_count": 11,
   "metadata": {},
   "outputs": [
    {
     "data": {
      "text/plain": [
       "'Duration: 158648, Explicit: 0, Instrumentalness: 0.563, Key: 10, Mode: 1, Release Date: 1928'"
      ]
     },
     "execution_count": 11,
     "metadata": {},
     "output_type": "execute_result"
    }
   ],
   "source": [
    "song_searcher[0].getExtras()"
   ]
  },
  {
   "cell_type": "code",
   "execution_count": 12,
   "metadata": {
    "scrolled": true
   },
   "outputs": [],
   "source": [
    "# search_for = search_artist(song_searcher)\n",
    "# search_for"
   ]
  },
  {
   "cell_type": "code",
   "execution_count": 13,
   "metadata": {},
   "outputs": [],
   "source": [
    "class similarity_metric(object):\n",
    "    def __init__(self, value1, value2):\n",
    "        __metaclass__ = IterRegistry\n",
    "        _registry = []\n",
    "        \n",
    "    # These do work for x by x conversion however\n",
    "        # Our defined target chosen by the user\n",
    "        self.target = value1\n",
    "        # Our defined library of all other values\n",
    "        self.library = value2\n",
    "        \n",
    "    # Returns object in string format for readability\n",
    "    def __repr__(self):\n",
    "        return f'Target: {self.target}, Comparison: {self.library}'\n",
    "    #TODO change the above names later\n",
    "    \n",
    "    def euclidean(self):\n",
    "        a = np.array(self.target)\n",
    "        b = np.array(self.library)\n",
    "        return np.linalg.norm(a - b)\n",
    "        \n",
    "    def manhattan(self):\n",
    "        a = np.array(self.target)\n",
    "        b = np.array(self.library)\n",
    "        #return np.abs(a - b) # This works\n",
    "        return manhattan_distances([a, b])\n",
    "        \n",
    "    def cosine(self):\n",
    "        a = np.array(self.target)\n",
    "        b = np.array(self.library)\n",
    "        return 1 - distance.cosine(a, b)\n",
    "\n",
    "    def jaccard(self):\n",
    "        a = np.array(self.target)\n",
    "        b = np.array(self.library)\n",
    "        return distance.jaccard(a, b)\n",
    "    \n",
    "    def pearson(self):\n",
    "        a = self.target\n",
    "        b = self.library\n",
    "        return np.corrcoef(a, b)\n"
   ]
  },
  {
   "cell_type": "code",
   "execution_count": 14,
   "metadata": {},
   "outputs": [],
   "source": [
    "# Class for Similar Artist, inherits from the SM class\n",
    "class similar_artist(similarity_metric):\n",
    "    pass"
   ]
  },
  {
   "cell_type": "code",
   "execution_count": 15,
   "metadata": {},
   "outputs": [],
   "source": [
    "# Class for Similar Music, inherits from the SM class\n",
    "class similar_music(similarity_metric):\n",
    "    pass"
   ]
  },
  {
   "cell_type": "code",
   "execution_count": 16,
   "metadata": {},
   "outputs": [],
   "source": [
    "# Class for All similarities, inherits from the SM class\n",
    "class similar_all(similarity_metric):\n",
    "    pass"
   ]
  },
  {
   "cell_type": "code",
   "execution_count": 17,
   "metadata": {},
   "outputs": [],
   "source": [
    "# Function to create the df and do the similarity comparison\n",
    "\n",
    "def similarity_caller(list_name):\n",
    "    pass"
   ]
  },
  {
   "cell_type": "code",
   "execution_count": 18,
   "metadata": {},
   "outputs": [
    {
     "data": {
      "text/html": [
       "<div>\n",
       "<style scoped>\n",
       "    .dataframe tbody tr th:only-of-type {\n",
       "        vertical-align: middle;\n",
       "    }\n",
       "\n",
       "    .dataframe tbody tr th {\n",
       "        vertical-align: top;\n",
       "    }\n",
       "\n",
       "    .dataframe thead th {\n",
       "        text-align: right;\n",
       "    }\n",
       "</style>\n",
       "<table border=\"1\" class=\"dataframe\">\n",
       "  <thead>\n",
       "    <tr style=\"text-align: right;\">\n",
       "      <th></th>\n",
       "      <th>Acousticness</th>\n",
       "      <th>Danceability</th>\n",
       "      <th>Energy</th>\n",
       "      <th>Liveness</th>\n",
       "      <th>Loudness</th>\n",
       "      <th>Popularity</th>\n",
       "      <th>Speechiness</th>\n",
       "      <th>Tempo</th>\n",
       "      <th>Valence</th>\n",
       "      <th>Explicit</th>\n",
       "      <th>Instrumentalness</th>\n",
       "    </tr>\n",
       "  </thead>\n",
       "  <tbody>\n",
       "    <tr>\n",
       "      <th>0</th>\n",
       "      <td>0.995</td>\n",
       "      <td>0.708</td>\n",
       "      <td>0.1950</td>\n",
       "      <td>0.1510</td>\n",
       "      <td>-12.428</td>\n",
       "      <td>0</td>\n",
       "      <td>0.0506</td>\n",
       "      <td>118.469</td>\n",
       "      <td>0.7790</td>\n",
       "      <td>0</td>\n",
       "      <td>0.563</td>\n",
       "    </tr>\n",
       "    <tr>\n",
       "      <th>1</th>\n",
       "      <td>0.994</td>\n",
       "      <td>0.379</td>\n",
       "      <td>0.0135</td>\n",
       "      <td>0.0763</td>\n",
       "      <td>-28.454</td>\n",
       "      <td>0</td>\n",
       "      <td>0.0462</td>\n",
       "      <td>83.972</td>\n",
       "      <td>0.0767</td>\n",
       "      <td>0</td>\n",
       "      <td>0.901</td>\n",
       "    </tr>\n",
       "    <tr>\n",
       "      <th>2</th>\n",
       "      <td>0.604</td>\n",
       "      <td>0.749</td>\n",
       "      <td>0.2200</td>\n",
       "      <td>0.1190</td>\n",
       "      <td>-19.924</td>\n",
       "      <td>0</td>\n",
       "      <td>0.9290</td>\n",
       "      <td>107.177</td>\n",
       "      <td>0.8800</td>\n",
       "      <td>0</td>\n",
       "      <td>0.000</td>\n",
       "    </tr>\n",
       "    <tr>\n",
       "      <th>3</th>\n",
       "      <td>0.995</td>\n",
       "      <td>0.781</td>\n",
       "      <td>0.1300</td>\n",
       "      <td>0.1110</td>\n",
       "      <td>-14.734</td>\n",
       "      <td>0</td>\n",
       "      <td>0.0926</td>\n",
       "      <td>108.003</td>\n",
       "      <td>0.7200</td>\n",
       "      <td>0</td>\n",
       "      <td>0.887</td>\n",
       "    </tr>\n",
       "    <tr>\n",
       "      <th>4</th>\n",
       "      <td>0.990</td>\n",
       "      <td>0.210</td>\n",
       "      <td>0.2040</td>\n",
       "      <td>0.0980</td>\n",
       "      <td>-16.829</td>\n",
       "      <td>1</td>\n",
       "      <td>0.0424</td>\n",
       "      <td>62.149</td>\n",
       "      <td>0.0693</td>\n",
       "      <td>0</td>\n",
       "      <td>0.908</td>\n",
       "    </tr>\n",
       "  </tbody>\n",
       "</table>\n",
       "</div>"
      ],
      "text/plain": [
       "   Acousticness  Danceability  Energy  Liveness  Loudness  Popularity  \\\n",
       "0         0.995         0.708  0.1950    0.1510   -12.428           0   \n",
       "1         0.994         0.379  0.0135    0.0763   -28.454           0   \n",
       "2         0.604         0.749  0.2200    0.1190   -19.924           0   \n",
       "3         0.995         0.781  0.1300    0.1110   -14.734           0   \n",
       "4         0.990         0.210  0.2040    0.0980   -16.829           1   \n",
       "\n",
       "   Speechiness    Tempo  Valence  Explicit  Instrumentalness  \n",
       "0       0.0506  118.469   0.7790         0             0.563  \n",
       "1       0.0462   83.972   0.0767         0             0.901  \n",
       "2       0.9290  107.177   0.8800         0             0.000  \n",
       "3       0.0926  108.003   0.7200         0             0.887  \n",
       "4       0.0424   62.149   0.0693         0             0.908  "
      ]
     },
     "execution_count": 18,
     "metadata": {},
     "output_type": "execute_result"
    }
   ],
   "source": [
    "# Create a dataframe from the class object Track\n",
    "\n",
    "music_df = pd.DataFrame.from_records([s.to_dict() for s in song_searcher])\n",
    "music_df.head()"
   ]
  },
  {
   "cell_type": "markdown",
   "metadata": {},
   "source": [
    "## Data Cleaning"
   ]
  },
  {
   "cell_type": "code",
   "execution_count": 19,
   "metadata": {},
   "outputs": [
    {
     "data": {
      "text/plain": [
       "Acousticness        0\n",
       "Danceability        0\n",
       "Energy              0\n",
       "Liveness            0\n",
       "Loudness            0\n",
       "Popularity          0\n",
       "Speechiness         0\n",
       "Tempo               0\n",
       "Valence             0\n",
       "Explicit            0\n",
       "Instrumentalness    0\n",
       "dtype: int64"
      ]
     },
     "execution_count": 19,
     "metadata": {},
     "output_type": "execute_result"
    }
   ],
   "source": [
    "music_df.isnull().sum()\n",
    "# No empty values present"
   ]
  },
  {
   "cell_type": "code",
   "execution_count": 20,
   "metadata": {},
   "outputs": [
    {
     "data": {
      "text/plain": [
       "Acousticness        float64\n",
       "Danceability        float64\n",
       "Energy              float64\n",
       "Liveness            float64\n",
       "Loudness            float64\n",
       "Popularity            int64\n",
       "Speechiness         float64\n",
       "Tempo               float64\n",
       "Valence             float64\n",
       "Explicit              int64\n",
       "Instrumentalness    float64\n",
       "dtype: object"
      ]
     },
     "execution_count": 20,
     "metadata": {},
     "output_type": "execute_result"
    }
   ],
   "source": [
    "music_df.dtypes"
   ]
  },
  {
   "cell_type": "code",
   "execution_count": 21,
   "metadata": {},
   "outputs": [
    {
     "data": {
      "text/html": [
       "<div>\n",
       "<style scoped>\n",
       "    .dataframe tbody tr th:only-of-type {\n",
       "        vertical-align: middle;\n",
       "    }\n",
       "\n",
       "    .dataframe tbody tr th {\n",
       "        vertical-align: top;\n",
       "    }\n",
       "\n",
       "    .dataframe thead th {\n",
       "        text-align: right;\n",
       "    }\n",
       "</style>\n",
       "<table border=\"1\" class=\"dataframe\">\n",
       "  <thead>\n",
       "    <tr style=\"text-align: right;\">\n",
       "      <th></th>\n",
       "      <th>Acousticness</th>\n",
       "      <th>Danceability</th>\n",
       "      <th>Energy</th>\n",
       "      <th>Liveness</th>\n",
       "      <th>Loudness</th>\n",
       "      <th>Speechiness</th>\n",
       "      <th>Tempo</th>\n",
       "      <th>Valence</th>\n",
       "      <th>Explicit</th>\n",
       "      <th>Instrumentalness</th>\n",
       "    </tr>\n",
       "  </thead>\n",
       "  <tbody>\n",
       "    <tr>\n",
       "      <th>count</th>\n",
       "      <td>169909.000000</td>\n",
       "      <td>169909.000000</td>\n",
       "      <td>169909.000000</td>\n",
       "      <td>169909.000000</td>\n",
       "      <td>169909.000000</td>\n",
       "      <td>169909.000000</td>\n",
       "      <td>169909.000000</td>\n",
       "      <td>169909.000000</td>\n",
       "      <td>169909.000000</td>\n",
       "      <td>169909.000000</td>\n",
       "    </tr>\n",
       "    <tr>\n",
       "      <th>mean</th>\n",
       "      <td>0.493214</td>\n",
       "      <td>0.538150</td>\n",
       "      <td>0.488593</td>\n",
       "      <td>0.206690</td>\n",
       "      <td>-11.370289</td>\n",
       "      <td>0.094058</td>\n",
       "      <td>116.948017</td>\n",
       "      <td>0.532095</td>\n",
       "      <td>0.084863</td>\n",
       "      <td>0.161937</td>\n",
       "    </tr>\n",
       "    <tr>\n",
       "      <th>std</th>\n",
       "      <td>0.376627</td>\n",
       "      <td>0.175346</td>\n",
       "      <td>0.267390</td>\n",
       "      <td>0.176796</td>\n",
       "      <td>5.666765</td>\n",
       "      <td>0.149937</td>\n",
       "      <td>30.726937</td>\n",
       "      <td>0.262408</td>\n",
       "      <td>0.278679</td>\n",
       "      <td>0.309329</td>\n",
       "    </tr>\n",
       "    <tr>\n",
       "      <th>min</th>\n",
       "      <td>0.000000</td>\n",
       "      <td>0.000000</td>\n",
       "      <td>0.000000</td>\n",
       "      <td>0.000000</td>\n",
       "      <td>-60.000000</td>\n",
       "      <td>0.000000</td>\n",
       "      <td>0.000000</td>\n",
       "      <td>0.000000</td>\n",
       "      <td>0.000000</td>\n",
       "      <td>0.000000</td>\n",
       "    </tr>\n",
       "    <tr>\n",
       "      <th>25%</th>\n",
       "      <td>0.094500</td>\n",
       "      <td>0.417000</td>\n",
       "      <td>0.263000</td>\n",
       "      <td>0.098400</td>\n",
       "      <td>-14.470000</td>\n",
       "      <td>0.034900</td>\n",
       "      <td>93.516000</td>\n",
       "      <td>0.322000</td>\n",
       "      <td>0.000000</td>\n",
       "      <td>0.000000</td>\n",
       "    </tr>\n",
       "    <tr>\n",
       "      <th>50%</th>\n",
       "      <td>0.492000</td>\n",
       "      <td>0.548000</td>\n",
       "      <td>0.481000</td>\n",
       "      <td>0.135000</td>\n",
       "      <td>-10.474000</td>\n",
       "      <td>0.045000</td>\n",
       "      <td>114.778000</td>\n",
       "      <td>0.544000</td>\n",
       "      <td>0.000000</td>\n",
       "      <td>0.000204</td>\n",
       "    </tr>\n",
       "    <tr>\n",
       "      <th>75%</th>\n",
       "      <td>0.888000</td>\n",
       "      <td>0.667000</td>\n",
       "      <td>0.710000</td>\n",
       "      <td>0.263000</td>\n",
       "      <td>-7.118000</td>\n",
       "      <td>0.075400</td>\n",
       "      <td>135.712000</td>\n",
       "      <td>0.749000</td>\n",
       "      <td>0.000000</td>\n",
       "      <td>0.086800</td>\n",
       "    </tr>\n",
       "    <tr>\n",
       "      <th>max</th>\n",
       "      <td>0.996000</td>\n",
       "      <td>0.988000</td>\n",
       "      <td>1.000000</td>\n",
       "      <td>1.000000</td>\n",
       "      <td>3.855000</td>\n",
       "      <td>0.969000</td>\n",
       "      <td>244.091000</td>\n",
       "      <td>1.000000</td>\n",
       "      <td>1.000000</td>\n",
       "      <td>1.000000</td>\n",
       "    </tr>\n",
       "  </tbody>\n",
       "</table>\n",
       "</div>"
      ],
      "text/plain": [
       "        Acousticness   Danceability         Energy       Liveness  \\\n",
       "count  169909.000000  169909.000000  169909.000000  169909.000000   \n",
       "mean        0.493214       0.538150       0.488593       0.206690   \n",
       "std         0.376627       0.175346       0.267390       0.176796   \n",
       "min         0.000000       0.000000       0.000000       0.000000   \n",
       "25%         0.094500       0.417000       0.263000       0.098400   \n",
       "50%         0.492000       0.548000       0.481000       0.135000   \n",
       "75%         0.888000       0.667000       0.710000       0.263000   \n",
       "max         0.996000       0.988000       1.000000       1.000000   \n",
       "\n",
       "            Loudness    Speechiness          Tempo        Valence  \\\n",
       "count  169909.000000  169909.000000  169909.000000  169909.000000   \n",
       "mean      -11.370289       0.094058     116.948017       0.532095   \n",
       "std         5.666765       0.149937      30.726937       0.262408   \n",
       "min       -60.000000       0.000000       0.000000       0.000000   \n",
       "25%       -14.470000       0.034900      93.516000       0.322000   \n",
       "50%       -10.474000       0.045000     114.778000       0.544000   \n",
       "75%        -7.118000       0.075400     135.712000       0.749000   \n",
       "max         3.855000       0.969000     244.091000       1.000000   \n",
       "\n",
       "            Explicit  Instrumentalness  \n",
       "count  169909.000000     169909.000000  \n",
       "mean        0.084863          0.161937  \n",
       "std         0.278679          0.309329  \n",
       "min         0.000000          0.000000  \n",
       "25%         0.000000          0.000000  \n",
       "50%         0.000000          0.000204  \n",
       "75%         0.000000          0.086800  \n",
       "max         1.000000          1.000000  "
      ]
     },
     "execution_count": 21,
     "metadata": {},
     "output_type": "execute_result"
    }
   ],
   "source": [
    "music_df = music_df.drop(['Popularity'], axis = 1)\n",
    "\n",
    "music_df.describe()"
   ]
  },
  {
   "cell_type": "code",
   "execution_count": 22,
   "metadata": {},
   "outputs": [
    {
     "name": "stdout",
     "output_type": "stream",
     "text": [
      "[[0.99899598 0.71659919 0.195      0.151      0.74500039 0.05221878\n",
      "  0.48534768 0.779      0.         0.563     ]\n",
      " [0.99799197 0.38360324 0.0135     0.0763     0.49402553 0.04767802\n",
      "  0.34401924 0.0767     0.         0.901     ]\n",
      " [0.6064257  0.75809717 0.22       0.119      0.62760943 0.95872033\n",
      "  0.43908624 0.88       0.         0.        ]\n",
      " [0.99899598 0.79048583 0.13       0.111      0.70888732 0.09556244\n",
      "  0.44247023 0.72       0.         0.887     ]\n",
      " [0.9939759  0.21255061 0.204      0.098      0.67607862 0.04375645\n",
      "  0.25461406 0.0693     0.         0.908     ]]\n"
     ]
    }
   ],
   "source": [
    "scaler = MinMaxScaler()\n",
    "music_df = scaler.fit_transform(music_df)\n",
    "\n",
    "print(music_df[:5])"
   ]
  },
  {
   "cell_type": "markdown",
   "metadata": {},
   "source": [
    "# Chosen Method - Content-Based Filtering"
   ]
  },
  {
   "cell_type": "code",
   "execution_count": 23,
   "metadata": {
    "scrolled": true
   },
   "outputs": [],
   "source": [
    "# Testing\n",
    "\n",
    "# df_subset = music_df.sample(n=10000, random_state=1)\n",
    "# df_subset.head()\n",
    "# target = np.array(df_subset)[30]\n",
    "# result = []\n",
    "\n",
    "# for i in range(len(df_subset)):\n",
    "#     compare = np.array(music_df)[i]\n",
    "#     result.append((similarity_metric(target, compare)).euclidean())\n",
    "    \n",
    "# print(result[0:40])"
   ]
  },
  {
   "cell_type": "code",
   "execution_count": 24,
   "metadata": {},
   "outputs": [
    {
     "name": "stdout",
     "output_type": "stream",
     "text": [
      "[[1.         0.50591522]\n",
      " [0.50591522 1.        ]]\n",
      "0.8408082305986077\n",
      "[[0.    2.333]\n",
      " [2.333 0.   ]]\n",
      "1.049220186614802\n",
      "1.0\n",
      "\n",
      "\n",
      "[0.999 0.776 0.23  0.133 0.772 0.205 0.492 0.868 0.    0.605]\n",
      "[0.988 0.365 0.295 0.72  0.756 0.08  0.303 0.18  0.    0.846]\n"
     ]
    }
   ],
   "source": [
    "# Testing out 9 feature values vs 9 feature values using the metrics\n",
    "\n",
    "feature = 'Tempo'\n",
    "id_num = 30\n",
    "feature_list = []\n",
    "manhattan_list = []\n",
    "i = 0\n",
    "\n",
    "#one = np.array([[20,30,40,20,10,30,20,10,23.44]])\n",
    "#two = np.array([[10,1000,328.4,100,109,293,10,45,3291]])\n",
    "\n",
    "#print(df[1])\n",
    "\n",
    "one = music_df[id_num].round(3)\n",
    "two = music_df[90000].round(3)\n",
    "#one = np.sum(one)\n",
    "#two = np.sum(two)\n",
    "\n",
    "new_entry = similarity_metric(one,two) \n",
    "print(new_entry.pearson())\n",
    "print(new_entry.cosine())\n",
    "print(new_entry.manhattan())\n",
    "print(new_entry.euclidean())\n",
    "print(new_entry.jaccard())\n",
    "print('\\n')\n",
    "print(one)\n",
    "print(two)\n",
    "\n",
    "one = np.sum(one)\n",
    "two = np.sum(two)\n",
    "\n",
    "# for val in df[id_num]:\n",
    "#     print(val)"
   ]
  },
  {
   "cell_type": "code",
   "execution_count": 152,
   "metadata": {
    "scrolled": true
   },
   "outputs": [
    {
     "name": "stdout",
     "output_type": "stream",
     "text": [
      "Please enter the first name of the artist you want to find: nirvana\n",
      "Please enter the surname of the artist you want to find:  \n",
      "Your search returned 156 results.\n",
      "Would you like to view results? no\n",
      "Search complete.\n"
     ]
    }
   ],
   "source": [
    "searcher = search_artist(song_searcher)\n",
    "searcher"
   ]
  },
  {
   "cell_type": "code",
   "execution_count": 151,
   "metadata": {},
   "outputs": [
    {
     "data": {
      "text/plain": [
       "True"
      ]
     },
     "execution_count": 151,
     "metadata": {},
     "output_type": "execute_result"
    }
   ],
   "source": [
    "song_searcher[94851].getSongName() == song_searcher[45159].getSongName()"
   ]
  },
  {
   "cell_type": "code",
   "execution_count": 26,
   "metadata": {},
   "outputs": [
    {
     "name": "stdout",
     "output_type": "stream",
     "text": [
      "[1.5830334803787316, 1.7324482676259052, 1.5525920262580248, 1.7646605905952566, 1.6322947037836029, 1.683749090571395, 1.3971528191289597, 1.6111508309280047, 1.3570320556272795, 1.6243814207260558, 1.615477019335156, 1.7180337598545612, 1.674626226953346, 1.752932685530166, 1.6131856681733816, 1.4760165988226555, 1.6558345327960762, 1.690771421570639, 1.455732461683808, 1.559289261169973]\n",
      "Wall time: 2.37 s\n"
     ]
    }
   ],
   "source": [
    "%%time\n",
    "\n",
    "results = []\n",
    "id_num = 4903 #5000\n",
    "i = 0\n",
    "\n",
    "target = music_df[id_num].round(3)\n",
    "\n",
    "for i in range(len(music_df)):\n",
    "    compare = music_df[i].round(3)\n",
    "    results.append(similarity_metric(target, compare).euclidean())\n",
    "    #i += 1 \n",
    "print(results[:20])"
   ]
  },
  {
   "cell_type": "code",
   "execution_count": 77,
   "metadata": {},
   "outputs": [],
   "source": [
    "results = [i.round(5) for i in results]"
   ]
  },
  {
   "cell_type": "code",
   "execution_count": 78,
   "metadata": {},
   "outputs": [
    {
     "data": {
      "text/plain": [
       "[60044, 45159, 60380, 94851, 158542, 77072, 67952, 105078, 134323, 116098]"
      ]
     },
     "execution_count": 78,
     "metadata": {},
     "output_type": "execute_result"
    }
   ],
   "source": [
    "sorted_results = sorted(range(len(results)), key=lambda x: results[x], reverse=False)\n",
    "sorted_results.pop(0) #Drop the first value as we don't need it\n",
    "sorted_results[0:10]"
   ]
  },
  {
   "cell_type": "code",
   "execution_count": 133,
   "metadata": {},
   "outputs": [
    {
     "name": "stdout",
     "output_type": "stream",
     "text": [
      "Your Chosen Artist: Artist Name/s: 'Queensrÿche'\n",
      "The 10 most similar Tracks to your Artist are: \n",
      "Artist Name/s: 'Nirvana' Song Name: Territorial Pissings , Score: 0.07816\n",
      "Artist Name/s: 'Nirvana' Song Name: Territorial Pissings , Score: 0.07816\n",
      "Artist Name/s: 'Nirvana' Song Name: Territorial Pissings , Score: 0.07816\n",
      "Artist Name/s: 'Nirvana' Song Name: Territorial Pissings , Score: 0.07816\n",
      "Artist Name/s: 'Sum 41' Song Name: Screaming Bloody Murder , Score: 0.10953\n",
      "Artist Name/s: 'Bad Religion' Song Name: Skyscraper , Score: 0.1102\n",
      "Artist Name/s: 'System Of A Down' Song Name: Suggestions , Score: 0.11354\n",
      "Artist Name/s: 'The Devil Wears Prada' Song Name: Still Fly , Score: 0.11967\n",
      "Artist Name/s: 'Jin Hashimoto' Song Name: STAND PROUD , Score: 0.13054\n",
      "Artist Name/s: 'Pennywise' Song Name: It's Up To Me , Score: 0.13477\n"
     ]
    }
   ],
   "source": [
    "i = 1\n",
    "n = 10\n",
    "final = []\n",
    "\n",
    "print('Your Chosen Artist:', song_searcher[id_num].getName())\n",
    "print('The {} most similar Tracks to your Artist are: '.format(n))\n",
    "\n",
    "for element in sorted_results:\n",
    "    # This will skip if the first song is by the same artist, but the score is different\n",
    "    if song_searcher[id_num].getName() == song_searcher[element].getName() \\\n",
    "    and song_searcher[id_num].getSongName() == song_searcher[element].getSongName():\n",
    "        continue \n",
    "        \n",
    "    if song_searcher[element].getSongName() == song_searcher[element-1].getSongName():\n",
    "        continue\n",
    "\n",
    "    print(song_searcher[element].getName(), song_searcher[element].getSongName(), ', Score:', results[element])\n",
    "    i += 1\n",
    "    if i > n:\n",
    "        break"
   ]
  },
  {
   "cell_type": "code",
   "execution_count": 99,
   "metadata": {},
   "outputs": [
    {
     "name": "stdout",
     "output_type": "stream",
     "text": [
      "Your Chosen Song: Artist Name/s: 'Queensrÿche' Song Name: The Mission - Remastered 2003\n",
      "The 10 most similar Tracks to your song are: \n"
     ]
    },
    {
     "ename": "TypeError",
     "evalue": "'list' object cannot be interpreted as an integer",
     "output_type": "error",
     "traceback": [
      "\u001b[1;31m---------------------------------------------------------------------------\u001b[0m",
      "\u001b[1;31mTypeError\u001b[0m                                 Traceback (most recent call last)",
      "\u001b[1;32m<ipython-input-99-3b683e2c8f90>\u001b[0m in \u001b[0;36m<module>\u001b[1;34m\u001b[0m\n\u001b[0;32m     13\u001b[0m     \u001b[0mresult_score\u001b[0m\u001b[1;33m.\u001b[0m\u001b[0mappend\u001b[0m\u001b[1;33m(\u001b[0m\u001b[0mresults\u001b[0m\u001b[1;33m[\u001b[0m\u001b[0melement\u001b[0m\u001b[1;33m]\u001b[0m\u001b[1;33m)\u001b[0m\u001b[1;33m\u001b[0m\u001b[1;33m\u001b[0m\u001b[0m\n\u001b[0;32m     14\u001b[0m \u001b[1;33m\u001b[0m\u001b[0m\n\u001b[1;32m---> 15\u001b[1;33m     \u001b[1;32mfor\u001b[0m \u001b[0mj\u001b[0m \u001b[1;32min\u001b[0m \u001b[0mrange\u001b[0m\u001b[1;33m(\u001b[0m\u001b[0mresult_score\u001b[0m\u001b[1;33m)\u001b[0m\u001b[1;33m:\u001b[0m\u001b[1;33m\u001b[0m\u001b[1;33m\u001b[0m\u001b[0m\n\u001b[0m\u001b[0;32m     16\u001b[0m         \u001b[1;32mif\u001b[0m \u001b[0mresult_names\u001b[0m\u001b[1;33m[\u001b[0m\u001b[0mj\u001b[0m\u001b[1;33m]\u001b[0m \u001b[1;33m==\u001b[0m \u001b[0mresult_names\u001b[0m\u001b[1;33m[\u001b[0m\u001b[0mj\u001b[0m\u001b[1;33m]\u001b[0m\u001b[1;33m:\u001b[0m\u001b[1;33m\u001b[0m\u001b[1;33m\u001b[0m\u001b[0m\n\u001b[0;32m     17\u001b[0m             \u001b[0mprint\u001b[0m\u001b[1;33m(\u001b[0m\u001b[1;34m'no'\u001b[0m\u001b[1;33m)\u001b[0m\u001b[1;33m\u001b[0m\u001b[1;33m\u001b[0m\u001b[0m\n",
      "\u001b[1;31mTypeError\u001b[0m: 'list' object cannot be interpreted as an integer"
     ]
    }
   ],
   "source": [
    "result_names = []\n",
    "result_songs = []\n",
    "result_score = []\n",
    "i = 1\n",
    "n = 10\n",
    "\n",
    "print('Your Chosen Song:', song_searcher[id_num].getName(), song_searcher[id_num].getSongName())\n",
    "print('The {} most similar Tracks to your song are: '.format(n))\n",
    "\n",
    "for element in sorted_results:\n",
    "    result_names.append(song_searcher[element].getName())\n",
    "    result_songs.append(song_searcher[element].getSongName())\n",
    "    result_score.append(results[element])\n",
    "    \n",
    "    for j in range(result_score):\n",
    "        if result_names[j] == result_names[j]:\n",
    "            print('no')\n",
    "    \n",
    "    \n",
    "    print(song_searcher[element].getName(), song_searcher[element].getSongName(), ', Score:', results[element])\n",
    "    i += 1\n",
    "    if i > n:\n",
    "        break"
   ]
  },
  {
   "cell_type": "code",
   "execution_count": null,
   "metadata": {},
   "outputs": [],
   "source": []
  },
  {
   "cell_type": "code",
   "execution_count": null,
   "metadata": {},
   "outputs": [],
   "source": []
  },
  {
   "cell_type": "code",
   "execution_count": null,
   "metadata": {},
   "outputs": [],
   "source": []
  },
  {
   "cell_type": "code",
   "execution_count": 288,
   "metadata": {},
   "outputs": [],
   "source": [
    "#music_df.head(15)"
   ]
  },
  {
   "cell_type": "markdown",
   "metadata": {},
   "source": [
    "## Models?"
   ]
  },
  {
   "cell_type": "code",
   "execution_count": 270,
   "metadata": {},
   "outputs": [],
   "source": [
    "train_data, test_data = train_test_split(music_df, test_size = 0.20)"
   ]
  },
  {
   "cell_type": "code",
   "execution_count": 272,
   "metadata": {},
   "outputs": [
    {
     "data": {
      "text/html": [
       "<div>\n",
       "<style scoped>\n",
       "    .dataframe tbody tr th:only-of-type {\n",
       "        vertical-align: middle;\n",
       "    }\n",
       "\n",
       "    .dataframe tbody tr th {\n",
       "        vertical-align: top;\n",
       "    }\n",
       "\n",
       "    .dataframe thead th {\n",
       "        text-align: right;\n",
       "    }\n",
       "</style>\n",
       "<table border=\"1\" class=\"dataframe\">\n",
       "  <thead>\n",
       "    <tr style=\"text-align: right;\">\n",
       "      <th></th>\n",
       "      <th>Music_ID</th>\n",
       "      <th>Acousticness</th>\n",
       "      <th>Danceability</th>\n",
       "      <th>Energy</th>\n",
       "      <th>Liveness</th>\n",
       "      <th>Loudness</th>\n",
       "      <th>Popularity</th>\n",
       "      <th>Speechiness</th>\n",
       "      <th>Tempo</th>\n",
       "      <th>Valence</th>\n",
       "      <th>Explicit</th>\n",
       "      <th>Key</th>\n",
       "      <th>Instrumentalness</th>\n",
       "      <th>Duration in ms</th>\n",
       "      <th>Year</th>\n",
       "      <th>Similarity_Score</th>\n",
       "    </tr>\n",
       "  </thead>\n",
       "  <tbody>\n",
       "    <tr>\n",
       "      <th>73558</th>\n",
       "      <td>6PH0AFkmiAIJAjaaUU52kt</td>\n",
       "      <td>0.227</td>\n",
       "      <td>0.6570</td>\n",
       "      <td>0.5900</td>\n",
       "      <td>0.0868</td>\n",
       "      <td>-12.960</td>\n",
       "      <td>25</td>\n",
       "      <td>0.0593</td>\n",
       "      <td>90.392</td>\n",
       "      <td>0.9400</td>\n",
       "      <td>0</td>\n",
       "      <td>10</td>\n",
       "      <td>0.000008</td>\n",
       "      <td>278613</td>\n",
       "      <td>1975</td>\n",
       "      <td>0.584592</td>\n",
       "    </tr>\n",
       "    <tr>\n",
       "      <th>156403</th>\n",
       "      <td>6aX2us6wkm65BFqs8deyiF</td>\n",
       "      <td>0.982</td>\n",
       "      <td>0.6190</td>\n",
       "      <td>0.1090</td>\n",
       "      <td>0.1110</td>\n",
       "      <td>-17.236</td>\n",
       "      <td>29</td>\n",
       "      <td>0.0366</td>\n",
       "      <td>104.953</td>\n",
       "      <td>0.5160</td>\n",
       "      <td>0</td>\n",
       "      <td>1</td>\n",
       "      <td>0.001390</td>\n",
       "      <td>108080</td>\n",
       "      <td>1970</td>\n",
       "      <td>1.298863</td>\n",
       "    </tr>\n",
       "    <tr>\n",
       "      <th>1879</th>\n",
       "      <td>6cTUDQprxFCjcXw691qwBV</td>\n",
       "      <td>0.986</td>\n",
       "      <td>0.0657</td>\n",
       "      <td>0.0207</td>\n",
       "      <td>0.3030</td>\n",
       "      <td>-30.377</td>\n",
       "      <td>12</td>\n",
       "      <td>0.0492</td>\n",
       "      <td>59.357</td>\n",
       "      <td>0.0399</td>\n",
       "      <td>0</td>\n",
       "      <td>6</td>\n",
       "      <td>0.849000</td>\n",
       "      <td>207600</td>\n",
       "      <td>1958</td>\n",
       "      <td>1.882188</td>\n",
       "    </tr>\n",
       "    <tr>\n",
       "      <th>50247</th>\n",
       "      <td>4YyZfCiRe2CkbCd5TJ2sJC</td>\n",
       "      <td>0.463</td>\n",
       "      <td>0.5900</td>\n",
       "      <td>0.3920</td>\n",
       "      <td>0.1420</td>\n",
       "      <td>-14.848</td>\n",
       "      <td>19</td>\n",
       "      <td>0.0417</td>\n",
       "      <td>112.863</td>\n",
       "      <td>0.5430</td>\n",
       "      <td>0</td>\n",
       "      <td>7</td>\n",
       "      <td>0.001620</td>\n",
       "      <td>139133</td>\n",
       "      <td>1966</td>\n",
       "      <td>0.795641</td>\n",
       "    </tr>\n",
       "    <tr>\n",
       "      <th>58092</th>\n",
       "      <td>1HCggtENkkw7lHSOoHVakV</td>\n",
       "      <td>0.724</td>\n",
       "      <td>0.5590</td>\n",
       "      <td>0.7550</td>\n",
       "      <td>0.2570</td>\n",
       "      <td>-8.795</td>\n",
       "      <td>26</td>\n",
       "      <td>0.0507</td>\n",
       "      <td>140.834</td>\n",
       "      <td>0.5780</td>\n",
       "      <td>0</td>\n",
       "      <td>7</td>\n",
       "      <td>0.000000</td>\n",
       "      <td>215773</td>\n",
       "      <td>1969</td>\n",
       "      <td>0.696190</td>\n",
       "    </tr>\n",
       "  </tbody>\n",
       "</table>\n",
       "</div>"
      ],
      "text/plain": [
       "                      Music_ID  Acousticness  Danceability  Energy  Liveness  \\\n",
       "73558   6PH0AFkmiAIJAjaaUU52kt         0.227        0.6570  0.5900    0.0868   \n",
       "156403  6aX2us6wkm65BFqs8deyiF         0.982        0.6190  0.1090    0.1110   \n",
       "1879    6cTUDQprxFCjcXw691qwBV         0.986        0.0657  0.0207    0.3030   \n",
       "50247   4YyZfCiRe2CkbCd5TJ2sJC         0.463        0.5900  0.3920    0.1420   \n",
       "58092   1HCggtENkkw7lHSOoHVakV         0.724        0.5590  0.7550    0.2570   \n",
       "\n",
       "        Loudness  Popularity  Speechiness    Tempo  Valence  Explicit  Key  \\\n",
       "73558    -12.960          25       0.0593   90.392   0.9400         0   10   \n",
       "156403   -17.236          29       0.0366  104.953   0.5160         0    1   \n",
       "1879     -30.377          12       0.0492   59.357   0.0399         0    6   \n",
       "50247    -14.848          19       0.0417  112.863   0.5430         0    7   \n",
       "58092     -8.795          26       0.0507  140.834   0.5780         0    7   \n",
       "\n",
       "        Instrumentalness  Duration in ms  Year  Similarity_Score  \n",
       "73558           0.000008          278613  1975          0.584592  \n",
       "156403          0.001390          108080  1970          1.298863  \n",
       "1879            0.849000          207600  1958          1.882188  \n",
       "50247           0.001620          139133  1966          0.795641  \n",
       "58092           0.000000          215773  1969          0.696190  "
      ]
     },
     "execution_count": 272,
     "metadata": {},
     "output_type": "execute_result"
    }
   ],
   "source": [
    "train_data.head()"
   ]
  },
  {
   "cell_type": "code",
   "execution_count": 273,
   "metadata": {
    "scrolled": false
   },
   "outputs": [
    {
     "ename": "ValueError",
     "evalue": "could not convert string to float: '6PH0AFkmiAIJAjaaUU52kt'",
     "output_type": "error",
     "traceback": [
      "\u001b[1;31m---------------------------------------------------------------------------\u001b[0m",
      "\u001b[1;31mValueError\u001b[0m                                Traceback (most recent call last)",
      "\u001b[1;32m<ipython-input-273-8aef49260598>\u001b[0m in \u001b[0;36m<module>\u001b[1;34m\u001b[0m\n\u001b[0;32m      1\u001b[0m \u001b[0mscaler\u001b[0m \u001b[1;33m=\u001b[0m \u001b[0mMinMaxScaler\u001b[0m\u001b[1;33m(\u001b[0m\u001b[1;33m)\u001b[0m\u001b[1;33m\u001b[0m\u001b[1;33m\u001b[0m\u001b[0m\n\u001b[1;32m----> 2\u001b[1;33m \u001b[0mtrain_data\u001b[0m \u001b[1;33m=\u001b[0m \u001b[0mscaler\u001b[0m\u001b[1;33m.\u001b[0m\u001b[0mfit_transform\u001b[0m\u001b[1;33m(\u001b[0m\u001b[0mtrain_data\u001b[0m\u001b[1;33m)\u001b[0m\u001b[1;33m\u001b[0m\u001b[1;33m\u001b[0m\u001b[0m\n\u001b[0m\u001b[0;32m      3\u001b[0m \u001b[1;33m\u001b[0m\u001b[0m\n\u001b[0;32m      4\u001b[0m \u001b[0mtrain_data\u001b[0m\u001b[1;33m[\u001b[0m\u001b[1;33m:\u001b[0m\u001b[1;36m5\u001b[0m\u001b[1;33m]\u001b[0m\u001b[1;33m\u001b[0m\u001b[1;33m\u001b[0m\u001b[0m\n",
      "\u001b[1;32mc:\\users\\brian\\appdata\\local\\programs\\python\\python37-32\\lib\\site-packages\\sklearn\\base.py\u001b[0m in \u001b[0;36mfit_transform\u001b[1;34m(self, X, y, **fit_params)\u001b[0m\n\u001b[0;32m    551\u001b[0m         \u001b[1;32mif\u001b[0m \u001b[0my\u001b[0m \u001b[1;32mis\u001b[0m \u001b[1;32mNone\u001b[0m\u001b[1;33m:\u001b[0m\u001b[1;33m\u001b[0m\u001b[1;33m\u001b[0m\u001b[0m\n\u001b[0;32m    552\u001b[0m             \u001b[1;31m# fit method of arity 1 (unsupervised transformation)\u001b[0m\u001b[1;33m\u001b[0m\u001b[1;33m\u001b[0m\u001b[1;33m\u001b[0m\u001b[0m\n\u001b[1;32m--> 553\u001b[1;33m             \u001b[1;32mreturn\u001b[0m \u001b[0mself\u001b[0m\u001b[1;33m.\u001b[0m\u001b[0mfit\u001b[0m\u001b[1;33m(\u001b[0m\u001b[0mX\u001b[0m\u001b[1;33m,\u001b[0m \u001b[1;33m**\u001b[0m\u001b[0mfit_params\u001b[0m\u001b[1;33m)\u001b[0m\u001b[1;33m.\u001b[0m\u001b[0mtransform\u001b[0m\u001b[1;33m(\u001b[0m\u001b[0mX\u001b[0m\u001b[1;33m)\u001b[0m\u001b[1;33m\u001b[0m\u001b[1;33m\u001b[0m\u001b[0m\n\u001b[0m\u001b[0;32m    554\u001b[0m         \u001b[1;32melse\u001b[0m\u001b[1;33m:\u001b[0m\u001b[1;33m\u001b[0m\u001b[1;33m\u001b[0m\u001b[0m\n\u001b[0;32m    555\u001b[0m             \u001b[1;31m# fit method of arity 2 (supervised transformation)\u001b[0m\u001b[1;33m\u001b[0m\u001b[1;33m\u001b[0m\u001b[1;33m\u001b[0m\u001b[0m\n",
      "\u001b[1;32mc:\\users\\brian\\appdata\\local\\programs\\python\\python37-32\\lib\\site-packages\\sklearn\\preprocessing\\data.py\u001b[0m in \u001b[0;36mfit\u001b[1;34m(self, X, y)\u001b[0m\n\u001b[0;32m    323\u001b[0m         \u001b[1;31m# Reset internal state before fitting\u001b[0m\u001b[1;33m\u001b[0m\u001b[1;33m\u001b[0m\u001b[1;33m\u001b[0m\u001b[0m\n\u001b[0;32m    324\u001b[0m         \u001b[0mself\u001b[0m\u001b[1;33m.\u001b[0m\u001b[0m_reset\u001b[0m\u001b[1;33m(\u001b[0m\u001b[1;33m)\u001b[0m\u001b[1;33m\u001b[0m\u001b[1;33m\u001b[0m\u001b[0m\n\u001b[1;32m--> 325\u001b[1;33m         \u001b[1;32mreturn\u001b[0m \u001b[0mself\u001b[0m\u001b[1;33m.\u001b[0m\u001b[0mpartial_fit\u001b[0m\u001b[1;33m(\u001b[0m\u001b[0mX\u001b[0m\u001b[1;33m,\u001b[0m \u001b[0my\u001b[0m\u001b[1;33m)\u001b[0m\u001b[1;33m\u001b[0m\u001b[1;33m\u001b[0m\u001b[0m\n\u001b[0m\u001b[0;32m    326\u001b[0m \u001b[1;33m\u001b[0m\u001b[0m\n\u001b[0;32m    327\u001b[0m     \u001b[1;32mdef\u001b[0m \u001b[0mpartial_fit\u001b[0m\u001b[1;33m(\u001b[0m\u001b[0mself\u001b[0m\u001b[1;33m,\u001b[0m \u001b[0mX\u001b[0m\u001b[1;33m,\u001b[0m \u001b[0my\u001b[0m\u001b[1;33m=\u001b[0m\u001b[1;32mNone\u001b[0m\u001b[1;33m)\u001b[0m\u001b[1;33m:\u001b[0m\u001b[1;33m\u001b[0m\u001b[1;33m\u001b[0m\u001b[0m\n",
      "\u001b[1;32mc:\\users\\brian\\appdata\\local\\programs\\python\\python37-32\\lib\\site-packages\\sklearn\\preprocessing\\data.py\u001b[0m in \u001b[0;36mpartial_fit\u001b[1;34m(self, X, y)\u001b[0m\n\u001b[0;32m    351\u001b[0m         X = check_array(X, copy=self.copy,\n\u001b[0;32m    352\u001b[0m                         \u001b[0mestimator\u001b[0m\u001b[1;33m=\u001b[0m\u001b[0mself\u001b[0m\u001b[1;33m,\u001b[0m \u001b[0mdtype\u001b[0m\u001b[1;33m=\u001b[0m\u001b[0mFLOAT_DTYPES\u001b[0m\u001b[1;33m,\u001b[0m\u001b[1;33m\u001b[0m\u001b[1;33m\u001b[0m\u001b[0m\n\u001b[1;32m--> 353\u001b[1;33m                         force_all_finite=\"allow-nan\")\n\u001b[0m\u001b[0;32m    354\u001b[0m \u001b[1;33m\u001b[0m\u001b[0m\n\u001b[0;32m    355\u001b[0m         \u001b[0mdata_min\u001b[0m \u001b[1;33m=\u001b[0m \u001b[0mnp\u001b[0m\u001b[1;33m.\u001b[0m\u001b[0mnanmin\u001b[0m\u001b[1;33m(\u001b[0m\u001b[0mX\u001b[0m\u001b[1;33m,\u001b[0m \u001b[0maxis\u001b[0m\u001b[1;33m=\u001b[0m\u001b[1;36m0\u001b[0m\u001b[1;33m)\u001b[0m\u001b[1;33m\u001b[0m\u001b[1;33m\u001b[0m\u001b[0m\n",
      "\u001b[1;32mc:\\users\\brian\\appdata\\local\\programs\\python\\python37-32\\lib\\site-packages\\sklearn\\utils\\validation.py\u001b[0m in \u001b[0;36mcheck_array\u001b[1;34m(array, accept_sparse, accept_large_sparse, dtype, order, copy, force_all_finite, ensure_2d, allow_nd, ensure_min_samples, ensure_min_features, warn_on_dtype, estimator)\u001b[0m\n\u001b[0;32m    494\u001b[0m             \u001b[1;32mtry\u001b[0m\u001b[1;33m:\u001b[0m\u001b[1;33m\u001b[0m\u001b[1;33m\u001b[0m\u001b[0m\n\u001b[0;32m    495\u001b[0m                 \u001b[0mwarnings\u001b[0m\u001b[1;33m.\u001b[0m\u001b[0msimplefilter\u001b[0m\u001b[1;33m(\u001b[0m\u001b[1;34m'error'\u001b[0m\u001b[1;33m,\u001b[0m \u001b[0mComplexWarning\u001b[0m\u001b[1;33m)\u001b[0m\u001b[1;33m\u001b[0m\u001b[1;33m\u001b[0m\u001b[0m\n\u001b[1;32m--> 496\u001b[1;33m                 \u001b[0marray\u001b[0m \u001b[1;33m=\u001b[0m \u001b[0mnp\u001b[0m\u001b[1;33m.\u001b[0m\u001b[0masarray\u001b[0m\u001b[1;33m(\u001b[0m\u001b[0marray\u001b[0m\u001b[1;33m,\u001b[0m \u001b[0mdtype\u001b[0m\u001b[1;33m=\u001b[0m\u001b[0mdtype\u001b[0m\u001b[1;33m,\u001b[0m \u001b[0morder\u001b[0m\u001b[1;33m=\u001b[0m\u001b[0morder\u001b[0m\u001b[1;33m)\u001b[0m\u001b[1;33m\u001b[0m\u001b[1;33m\u001b[0m\u001b[0m\n\u001b[0m\u001b[0;32m    497\u001b[0m             \u001b[1;32mexcept\u001b[0m \u001b[0mComplexWarning\u001b[0m\u001b[1;33m:\u001b[0m\u001b[1;33m\u001b[0m\u001b[1;33m\u001b[0m\u001b[0m\n\u001b[0;32m    498\u001b[0m                 raise ValueError(\"Complex data not supported\\n\"\n",
      "\u001b[1;32mc:\\users\\brian\\appdata\\local\\programs\\python\\python37-32\\lib\\site-packages\\numpy\\core\\_asarray.py\u001b[0m in \u001b[0;36masarray\u001b[1;34m(a, dtype, order)\u001b[0m\n\u001b[0;32m     83\u001b[0m \u001b[1;33m\u001b[0m\u001b[0m\n\u001b[0;32m     84\u001b[0m     \"\"\"\n\u001b[1;32m---> 85\u001b[1;33m     \u001b[1;32mreturn\u001b[0m \u001b[0marray\u001b[0m\u001b[1;33m(\u001b[0m\u001b[0ma\u001b[0m\u001b[1;33m,\u001b[0m \u001b[0mdtype\u001b[0m\u001b[1;33m,\u001b[0m \u001b[0mcopy\u001b[0m\u001b[1;33m=\u001b[0m\u001b[1;32mFalse\u001b[0m\u001b[1;33m,\u001b[0m \u001b[0morder\u001b[0m\u001b[1;33m=\u001b[0m\u001b[0morder\u001b[0m\u001b[1;33m)\u001b[0m\u001b[1;33m\u001b[0m\u001b[1;33m\u001b[0m\u001b[0m\n\u001b[0m\u001b[0;32m     86\u001b[0m \u001b[1;33m\u001b[0m\u001b[0m\n\u001b[0;32m     87\u001b[0m \u001b[1;33m\u001b[0m\u001b[0m\n",
      "\u001b[1;31mValueError\u001b[0m: could not convert string to float: '6PH0AFkmiAIJAjaaUU52kt'"
     ]
    }
   ],
   "source": [
    "scaler = MinMaxScaler()\n",
    "train_data = scaler.fit_transform(train_data)\n",
    "\n",
    "train_data[:5]"
   ]
  },
  {
   "cell_type": "code",
   "execution_count": 274,
   "metadata": {},
   "outputs": [
    {
     "data": {
      "text/html": [
       "<div>\n",
       "<style scoped>\n",
       "    .dataframe tbody tr th:only-of-type {\n",
       "        vertical-align: middle;\n",
       "    }\n",
       "\n",
       "    .dataframe tbody tr th {\n",
       "        vertical-align: top;\n",
       "    }\n",
       "\n",
       "    .dataframe thead th {\n",
       "        text-align: right;\n",
       "    }\n",
       "</style>\n",
       "<table border=\"1\" class=\"dataframe\">\n",
       "  <thead>\n",
       "    <tr style=\"text-align: right;\">\n",
       "      <th></th>\n",
       "      <th>Music_ID</th>\n",
       "      <th>Acousticness</th>\n",
       "      <th>Danceability</th>\n",
       "      <th>Energy</th>\n",
       "      <th>Liveness</th>\n",
       "      <th>Loudness</th>\n",
       "      <th>Popularity</th>\n",
       "      <th>Speechiness</th>\n",
       "      <th>Tempo</th>\n",
       "      <th>Valence</th>\n",
       "      <th>Explicit</th>\n",
       "      <th>Key</th>\n",
       "      <th>Instrumentalness</th>\n",
       "      <th>Duration in ms</th>\n",
       "      <th>Year</th>\n",
       "      <th>Similarity_Score</th>\n",
       "    </tr>\n",
       "  </thead>\n",
       "  <tbody>\n",
       "    <tr>\n",
       "      <th>56220</th>\n",
       "      <td>21S0lvJB77bkJ56d2zLi1K</td>\n",
       "      <td>0.69700</td>\n",
       "      <td>0.369</td>\n",
       "      <td>0.559</td>\n",
       "      <td>0.1580</td>\n",
       "      <td>-8.036</td>\n",
       "      <td>0</td>\n",
       "      <td>0.0387</td>\n",
       "      <td>161.956</td>\n",
       "      <td>0.654</td>\n",
       "      <td>0</td>\n",
       "      <td>2</td>\n",
       "      <td>0.000000</td>\n",
       "      <td>191240</td>\n",
       "      <td>1950</td>\n",
       "      <td>0.740904</td>\n",
       "    </tr>\n",
       "    <tr>\n",
       "      <th>2530</th>\n",
       "      <td>6L1PUtG3JcH80oWSD9H8DO</td>\n",
       "      <td>0.59600</td>\n",
       "      <td>0.555</td>\n",
       "      <td>0.300</td>\n",
       "      <td>0.6610</td>\n",
       "      <td>-12.495</td>\n",
       "      <td>19</td>\n",
       "      <td>0.2500</td>\n",
       "      <td>149.984</td>\n",
       "      <td>0.487</td>\n",
       "      <td>0</td>\n",
       "      <td>10</td>\n",
       "      <td>0.000000</td>\n",
       "      <td>211560</td>\n",
       "      <td>1964</td>\n",
       "      <td>0.972268</td>\n",
       "    </tr>\n",
       "    <tr>\n",
       "      <th>133011</th>\n",
       "      <td>0jmHObvVIbWJse3OoE4Jmz</td>\n",
       "      <td>0.00815</td>\n",
       "      <td>0.350</td>\n",
       "      <td>0.827</td>\n",
       "      <td>0.1000</td>\n",
       "      <td>-6.692</td>\n",
       "      <td>47</td>\n",
       "      <td>0.0678</td>\n",
       "      <td>165.040</td>\n",
       "      <td>0.475</td>\n",
       "      <td>0</td>\n",
       "      <td>1</td>\n",
       "      <td>0.000125</td>\n",
       "      <td>198400</td>\n",
       "      <td>1995</td>\n",
       "      <td>0.523596</td>\n",
       "    </tr>\n",
       "    <tr>\n",
       "      <th>156730</th>\n",
       "      <td>20BOBwCIaz9S0u4k8jSBSQ</td>\n",
       "      <td>0.59700</td>\n",
       "      <td>0.718</td>\n",
       "      <td>0.561</td>\n",
       "      <td>0.1670</td>\n",
       "      <td>-11.343</td>\n",
       "      <td>32</td>\n",
       "      <td>0.0318</td>\n",
       "      <td>138.733</td>\n",
       "      <td>0.951</td>\n",
       "      <td>0</td>\n",
       "      <td>7</td>\n",
       "      <td>0.136000</td>\n",
       "      <td>148440</td>\n",
       "      <td>1973</td>\n",
       "      <td>0.680949</td>\n",
       "    </tr>\n",
       "    <tr>\n",
       "      <th>36477</th>\n",
       "      <td>0g6DTs0e247XDNCMOhZydE</td>\n",
       "      <td>0.51000</td>\n",
       "      <td>0.425</td>\n",
       "      <td>0.522</td>\n",
       "      <td>0.0718</td>\n",
       "      <td>-8.719</td>\n",
       "      <td>27</td>\n",
       "      <td>0.0336</td>\n",
       "      <td>129.994</td>\n",
       "      <td>0.105</td>\n",
       "      <td>0</td>\n",
       "      <td>2</td>\n",
       "      <td>0.005050</td>\n",
       "      <td>334960</td>\n",
       "      <td>1983</td>\n",
       "      <td>1.004932</td>\n",
       "    </tr>\n",
       "  </tbody>\n",
       "</table>\n",
       "</div>"
      ],
      "text/plain": [
       "                      Music_ID  Acousticness  Danceability  Energy  Liveness  \\\n",
       "56220   21S0lvJB77bkJ56d2zLi1K       0.69700         0.369   0.559    0.1580   \n",
       "2530    6L1PUtG3JcH80oWSD9H8DO       0.59600         0.555   0.300    0.6610   \n",
       "133011  0jmHObvVIbWJse3OoE4Jmz       0.00815         0.350   0.827    0.1000   \n",
       "156730  20BOBwCIaz9S0u4k8jSBSQ       0.59700         0.718   0.561    0.1670   \n",
       "36477   0g6DTs0e247XDNCMOhZydE       0.51000         0.425   0.522    0.0718   \n",
       "\n",
       "        Loudness  Popularity  Speechiness    Tempo  Valence  Explicit  Key  \\\n",
       "56220     -8.036           0       0.0387  161.956    0.654         0    2   \n",
       "2530     -12.495          19       0.2500  149.984    0.487         0   10   \n",
       "133011    -6.692          47       0.0678  165.040    0.475         0    1   \n",
       "156730   -11.343          32       0.0318  138.733    0.951         0    7   \n",
       "36477     -8.719          27       0.0336  129.994    0.105         0    2   \n",
       "\n",
       "        Instrumentalness  Duration in ms  Year  Similarity_Score  \n",
       "56220           0.000000          191240  1950          0.740904  \n",
       "2530            0.000000          211560  1964          0.972268  \n",
       "133011          0.000125          198400  1995          0.523596  \n",
       "156730          0.136000          148440  1973          0.680949  \n",
       "36477           0.005050          334960  1983          1.004932  "
      ]
     },
     "execution_count": 274,
     "metadata": {},
     "output_type": "execute_result"
    }
   ],
   "source": [
    "test_data[:5]"
   ]
  },
  {
   "cell_type": "code",
   "execution_count": null,
   "metadata": {},
   "outputs": [],
   "source": []
  },
  {
   "cell_type": "markdown",
   "metadata": {},
   "source": [
    "## Testing Manhattan - need to fix, dont run for now"
   ]
  },
  {
   "cell_type": "code",
   "execution_count": 77,
   "metadata": {},
   "outputs": [],
   "source": [
    "# The code basis for one target to all values in the same column\n",
    "\n",
    "\n",
    "feature = 'Tempo'\n",
    "feature_list = []\n",
    "manhattan_list = []\n",
    "i = 0\n",
    "\n",
    "for val in df[feature]: \n",
    "    feature_list.append(similarity_metric(df[feature][45000], val))\n",
    "    manhattan_score = feature_list[i].manhattan()\n",
    "    manhattan_list.append(manhattan_score)\n",
    "    i += 1 \n",
    "\n",
    "#print(euclidean_list)\n",
    "#print(tempo_list) #Indent this if you want one-by-one printing\n",
    "#tempo_list = np.array(tempo_list)"
   ]
  },
  {
   "cell_type": "markdown",
   "metadata": {},
   "source": [
    "### Need this for later"
   ]
  },
  {
   "cell_type": "code",
   "execution_count": null,
   "metadata": {},
   "outputs": [],
   "source": [
    "# for i in range(0,9): # Loop through the 9 expected features\n",
    "# for value in feature_list, feature_list2: # take values over the loop and compare them\n",
    "# x = (feature_list[i]) \n",
    "# y = (feature_list2[i]) \n",
    "# distance = math.sqrt((x - y) ** 2 ) #one-dimensional euclidean formula\n",
    "# print(key_list[i].strip('[]').strip(' '), round(distance, 3)) # print all feature metrics"
   ]
  },
  {
   "cell_type": "code",
   "execution_count": null,
   "metadata": {
    "scrolled": true
   },
   "outputs": [],
   "source": [
    "print(len(manhattan_list))\n",
    "print(manhattan_list[25:35])"
   ]
  },
  {
   "cell_type": "code",
   "execution_count": null,
   "metadata": {},
   "outputs": [],
   "source": [
    "for i in range(0, len(manhattan_list)):\n",
    "    if abs(manhattan_list[i]) <= 0:\n",
    "        print(i,':', manhattan_list[i])"
   ]
  },
  {
   "cell_type": "markdown",
   "metadata": {},
   "source": [
    "## Testing Cosine"
   ]
  },
  {
   "cell_type": "code",
   "execution_count": 59,
   "metadata": {},
   "outputs": [
    {
     "name": "stdout",
     "output_type": "stream",
     "text": [
      "Wall time: 7.84 s\n"
     ]
    }
   ],
   "source": [
    "%%time\n",
    "# The code basis for one target to all values in the same column\n",
    " \n",
    "feature = 'Tempo'\n",
    "#feature_list = []\n",
    "cosine_list = []\n",
    "i = 0\n",
    "\n",
    "for val in df[feature]:   \n",
    "    result = (similarity_metric(df[feature][45000], val)).cosine()\n",
    "    cosine_list.append(result)\n",
    "#     cosine_score = feature_list[i].cosine()\n",
    "#     cosine_list.append(cosine_score)\n",
    "    i += 1\n",
    "\n",
    "#print(euclidean_list)\n",
    "#print(tempo_list) #Indent this if you want one-by-one printing\n",
    "#tempo_list = np.array(tempo_list)"
   ]
  },
  {
   "cell_type": "code",
   "execution_count": 60,
   "metadata": {},
   "outputs": [
    {
     "name": "stdout",
     "output_type": "stream",
     "text": [
      "169909\n",
      "[1.0, 1.0, 1.0, 1.0, 1.0, 1.0, 1.0, 1.0, 1.0, 1.0, 1.0, 1.0, 1.0, 1.0, 1.0, 0.9999999999999998, 1.0, 1.0, 1.0, 1.0, 1.0, 1.0, 1.0, 1.0, 1.0, 0.9999999999999998, 1.0, 1.0, 1.0, 1.0, 1.0, 1.0, 1.0000000000000002, 1.0, 1.0, 0.9999999999999999, 1.0, 1.0000000000000002, 1.0, 1.0, 1.0, 1.0, 1.0000000000000002, 1.0, 0.9999999999999999, 1.0, 1.0, 1.0, 1.0, 1.0, 1.0, 1.0, 1.0, 1.0, 1.0, 1.0, 1.0, 1.0, 1.0, 1.0, 0.9999999999999998, 1.0, 1.0000000000000002, 1.0, 1.0, 0.9999999999999999, 1.0, 1.0, 1.0, 1.0, 1.0, 1.0, 1.0, 1.0, 1.0]\n"
     ]
    }
   ],
   "source": [
    "print(len(cosine_list))\n",
    "print(cosine_list[25:100])"
   ]
  },
  {
   "cell_type": "code",
   "execution_count": 62,
   "metadata": {
    "scrolled": true
   },
   "outputs": [
    {
     "name": "stdout",
     "output_type": "stream",
     "text": [
      "158323\n"
     ]
    }
   ],
   "source": [
    "addition = 0\n",
    "\n",
    "for i in range(0, len(cosine_list)):\n",
    "    if abs(cosine_list[i]) <= 1:\n",
    "        addition +=1\n",
    "print(addition)"
   ]
  },
  {
   "cell_type": "markdown",
   "metadata": {},
   "source": [
    "## Testing Jaccard"
   ]
  },
  {
   "cell_type": "code",
   "execution_count": 92,
   "metadata": {},
   "outputs": [
    {
     "name": "stdout",
     "output_type": "stream",
     "text": [
      "Wall time: 5.34 s\n"
     ]
    }
   ],
   "source": [
    "%%time\n",
    "\n",
    "feature = 'Valence'\n",
    "feature_list = []\n",
    "jaccard_list = []\n",
    "id_num = 45000\n",
    "i = 0\n",
    "\n",
    "for val in df[feature]:   \n",
    "    \n",
    "    feature_list.append(similarity_metric(df[feature][id_num], val))\n",
    "    jaccard_score = feature_list[i].jaccard()\n",
    "    jaccard_list.append(jaccard_score)\n",
    "    i += 1"
   ]
  },
  {
   "cell_type": "code",
   "execution_count": 93,
   "metadata": {},
   "outputs": [
    {
     "name": "stdout",
     "output_type": "stream",
     "text": [
      "169909\n",
      "[1.0, 1.0, 1.0, 1.0, 1.0, 1.0, 1.0, 1.0, 1.0, 1.0]\n"
     ]
    }
   ],
   "source": [
    "print(len(jaccard_list))\n",
    "print(jaccard_list[25:35])"
   ]
  },
  {
   "cell_type": "code",
   "execution_count": 94,
   "metadata": {},
   "outputs": [
    {
     "name": "stdout",
     "output_type": "stream",
     "text": [
      "1245 : 0.0\n",
      "1340 : 0.0\n",
      "5276 : 0.0\n",
      "6050 : 0.0\n",
      "6182 : 0.0\n",
      "6233 : 0.0\n",
      "7058 : 0.0\n",
      "7555 : 0.0\n",
      "8361 : 0.0\n",
      "8943 : 0.0\n",
      "9386 : 0.0\n",
      "9555 : 0.0\n",
      "9749 : 0.0\n",
      "11551 : 0.0\n",
      "12517 : 0.0\n",
      "12818 : 0.0\n",
      "15231 : 0.0\n",
      "16276 : 0.0\n",
      "18650 : 0.0\n",
      "20355 : 0.0\n",
      "23191 : 0.0\n",
      "23597 : 0.0\n",
      "23709 : 0.0\n",
      "24481 : 0.0\n",
      "24562 : 0.0\n",
      "24676 : 0.0\n",
      "26056 : 0.0\n",
      "26609 : 0.0\n",
      "26660 : 0.0\n",
      "29788 : 0.0\n",
      "31220 : 0.0\n",
      "31358 : 0.0\n",
      "31669 : 0.0\n",
      "31877 : 0.0\n",
      "33887 : 0.0\n",
      "34000 : 0.0\n",
      "36187 : 0.0\n",
      "36782 : 0.0\n",
      "37515 : 0.0\n",
      "37700 : 0.0\n",
      "38317 : 0.0\n",
      "39151 : 0.0\n",
      "39363 : 0.0\n",
      "39481 : 0.0\n",
      "40163 : 0.0\n",
      "40468 : 0.0\n",
      "41216 : 0.0\n",
      "41692 : 0.0\n",
      "41835 : 0.0\n",
      "41922 : 0.0\n",
      "42328 : 0.0\n",
      "42617 : 0.0\n",
      "45000 : 0.0\n",
      "46926 : 0.0\n",
      "47643 : 0.0\n",
      "47668 : 0.0\n",
      "51876 : 0.0\n",
      "52122 : 0.0\n",
      "52321 : 0.0\n",
      "52426 : 0.0\n",
      "52853 : 0.0\n",
      "53812 : 0.0\n",
      "56490 : 0.0\n",
      "57247 : 0.0\n",
      "57629 : 0.0\n",
      "59687 : 0.0\n",
      "63435 : 0.0\n",
      "63646 : 0.0\n",
      "65933 : 0.0\n",
      "67042 : 0.0\n",
      "67406 : 0.0\n",
      "68480 : 0.0\n",
      "69726 : 0.0\n",
      "69734 : 0.0\n",
      "70248 : 0.0\n",
      "70272 : 0.0\n",
      "70984 : 0.0\n",
      "71659 : 0.0\n",
      "72084 : 0.0\n",
      "73366 : 0.0\n",
      "75350 : 0.0\n",
      "77527 : 0.0\n",
      "78295 : 0.0\n",
      "80640 : 0.0\n",
      "81563 : 0.0\n",
      "83374 : 0.0\n",
      "84538 : 0.0\n",
      "84959 : 0.0\n",
      "85260 : 0.0\n",
      "88547 : 0.0\n",
      "91763 : 0.0\n",
      "91813 : 0.0\n",
      "93388 : 0.0\n",
      "93509 : 0.0\n",
      "94433 : 0.0\n",
      "94532 : 0.0\n",
      "94691 : 0.0\n",
      "95475 : 0.0\n",
      "97896 : 0.0\n",
      "98508 : 0.0\n",
      "98649 : 0.0\n",
      "99685 : 0.0\n",
      "99914 : 0.0\n",
      "100706 : 0.0\n",
      "100766 : 0.0\n",
      "102777 : 0.0\n",
      "104893 : 0.0\n",
      "106133 : 0.0\n",
      "107481 : 0.0\n",
      "108837 : 0.0\n",
      "108858 : 0.0\n",
      "109377 : 0.0\n",
      "110107 : 0.0\n",
      "114430 : 0.0\n",
      "114710 : 0.0\n",
      "114918 : 0.0\n",
      "115131 : 0.0\n",
      "116980 : 0.0\n",
      "118050 : 0.0\n",
      "119708 : 0.0\n",
      "119989 : 0.0\n",
      "120993 : 0.0\n",
      "122854 : 0.0\n",
      "123677 : 0.0\n",
      "125503 : 0.0\n",
      "126090 : 0.0\n",
      "126226 : 0.0\n",
      "126527 : 0.0\n",
      "131327 : 0.0\n",
      "132412 : 0.0\n",
      "136658 : 0.0\n",
      "137110 : 0.0\n",
      "137473 : 0.0\n",
      "139723 : 0.0\n",
      "140136 : 0.0\n",
      "141582 : 0.0\n",
      "142519 : 0.0\n",
      "142555 : 0.0\n",
      "143115 : 0.0\n",
      "143892 : 0.0\n",
      "145292 : 0.0\n",
      "146081 : 0.0\n",
      "146912 : 0.0\n",
      "147555 : 0.0\n",
      "148417 : 0.0\n",
      "148932 : 0.0\n",
      "151815 : 0.0\n",
      "153268 : 0.0\n",
      "154851 : 0.0\n",
      "155519 : 0.0\n",
      "159217 : 0.0\n",
      "161844 : 0.0\n",
      "161884 : 0.0\n",
      "163273 : 0.0\n",
      "163627 : 0.0\n",
      "164992 : 0.0\n",
      "168923 : 0.0\n"
     ]
    }
   ],
   "source": [
    "for i in range(0, len(jaccard_list)):\n",
    "    if jaccard_list[i] <= 0:\n",
    "        print(i,':', jaccard_list[i])"
   ]
  },
  {
   "cell_type": "markdown",
   "metadata": {},
   "source": [
    "## Testing Pearson"
   ]
  },
  {
   "cell_type": "code",
   "execution_count": 95,
   "metadata": {},
   "outputs": [
    {
     "name": "stdout",
     "output_type": "stream",
     "text": [
      "Wall time: 9.88 s\n"
     ]
    }
   ],
   "source": [
    "%%time\n",
    "\n",
    "feature = 'Energy'\n",
    "feature_list = []\n",
    "pearson_list = []\n",
    "i = 0\n",
    "\n",
    "for val in df[feature]:   \n",
    "#     val = np.array([val])\n",
    "    feature_list.append(similarity_metric(df[feature][45000], val))\n",
    "    pearson_score = feature_list[i].pearson()\n",
    "    pearson_list.append(pearson_score)\n",
    "    i += 1"
   ]
  },
  {
   "cell_type": "code",
   "execution_count": 96,
   "metadata": {},
   "outputs": [
    {
     "name": "stdout",
     "output_type": "stream",
     "text": [
      "169909\n",
      "[1.0, 1.0, 1.0, 1.0, 1.0, 1.0, 1.0, 1.0, 1.0, 1.0]\n"
     ]
    }
   ],
   "source": [
    "print(len(pearson_list))\n",
    "print(pearson_list[25:35])"
   ]
  },
  {
   "cell_type": "code",
   "execution_count": 97,
   "metadata": {},
   "outputs": [],
   "source": [
    "for i in range(0, len(pearson_list)):\n",
    "    if pearson_list[i] <= 0:\n",
    "        print(i,':', pearson_list[i])"
   ]
  },
  {
   "cell_type": "markdown",
   "metadata": {},
   "source": [
    "## Testing Euclidean"
   ]
  },
  {
   "cell_type": "code",
   "execution_count": 98,
   "metadata": {},
   "outputs": [
    {
     "name": "stdout",
     "output_type": "stream",
     "text": [
      "Wall time: 3.86 s\n"
     ]
    }
   ],
   "source": [
    "%%time\n",
    "\n",
    "# The code basis for one target to all values in the same column\n",
    " \n",
    "feature_list = []\n",
    "euclidean_list = []\n",
    "\n",
    "feature = 'Tempo'\n",
    "id_num = 4500 \n",
    "i = 0 # Index\n",
    "\n",
    "# lines = iter(open('something.txt', 'r'))\n",
    "# for val in lines:\n",
    "#     if val == \"!\":\n",
    "#         lines.next()\n",
    "#         continue\n",
    "#     <etc>\n",
    "\n",
    "for val in df[feature]: \n",
    "    \n",
    "    #TODO fix this, need to assign 1 when the number is the same\n",
    "    feature_list.append(similarity_metric(df[feature][id_num], val))\n",
    "    #if i == id_num:\n",
    "    #    val = 1.0\n",
    "    euclidean_score = feature_list[i].euclidean()\n",
    "    euclidean_list.append(euclidean_score)\n",
    "    i += 1 \n",
    "    \n",
    "#print(euclidean_list)\n",
    "#print(tempo_list) #Indent this if you want one-by-one printing\n",
    "#tempo_list = np.array(tempo_list)"
   ]
  },
  {
   "cell_type": "code",
   "execution_count": 99,
   "metadata": {},
   "outputs": [
    {
     "name": "stdout",
     "output_type": "stream",
     "text": [
      "169909\n",
      "[26.33699999999999, 17.11099999999999, 32.152, 18.776999999999973, 13.361000000000004, 20.132000000000005, 2.0490000000000066, 12.146, 72.468, 20.700000000000003]\n"
     ]
    }
   ],
   "source": [
    "print(len(euclidean_list))\n",
    "print(euclidean_list[25:35])"
   ]
  },
  {
   "cell_type": "code",
   "execution_count": 100,
   "metadata": {},
   "outputs": [
    {
     "name": "stdout",
     "output_type": "stream",
     "text": [
      "4500 : 0.0\n",
      "13760 : 0.0\n"
     ]
    }
   ],
   "source": [
    "for i in range(0, len(euclidean_list)):\n",
    "    if euclidean_list[i] <= 0:\n",
    "        print(i,':', euclidean_list[i])"
   ]
  },
  {
   "cell_type": "code",
   "execution_count": 105,
   "metadata": {},
   "outputs": [
    {
     "data": {
      "text/plain": [
       "213.01864418167722"
      ]
     },
     "execution_count": 105,
     "metadata": {},
     "output_type": "execute_result"
    }
   ],
   "source": [
    "new_value = [[25.223, 25],[220.110, 111]]\n",
    "new_value = similarity_metric(new_value[0],new_value[1]).euclidean()\n",
    "new_value"
   ]
  },
  {
   "cell_type": "code",
   "execution_count": null,
   "metadata": {},
   "outputs": [],
   "source": [
    "def euclidean_similarity(dict_name, id1, id2):\n",
    "    import math\n",
    "    \n",
    "    def feature_select():\n",
    "        feature_select = [\"Accoustiness\", \"Danceability\", \"Energy\", \"Liveness\", \"Loudness\", \"Popularity\", \"Speechiness\", \"Tempo\", \"Valence\"]\n",
    "        for number, feature in enumerate(feature_select, start=1):\n",
    "            print(number, feature) # Present a list of options to the user for feature choice\n",
    "    \n",
    "    try:   \n",
    "        dict_name = dict_name\n",
    "    \n",
    "        if id1 == '': # If the positional argument is entered as '', then ask for an int ID\n",
    "            id1 = int(input(\"Please insert your first id for music features: \"))\n",
    "        else:\n",
    "            id1 = id1\n",
    "        \n",
    "        if id2 == '': # If the positional argument is entered as '', then ask for an int ID\n",
    "            id2 = int(input(\"Please insert your second id for music features: \"))\n",
    "        else:\n",
    "            id2 = id2\n",
    "                \n",
    "        if id1 == id2: # check to make sure the user is not entering the same ID twice\n",
    "            print(\"You can't have the same ID, please choose 2 different IDs.\")\n",
    "            euclidean_similarity(dict_name, '','')\n",
    "        else:\n",
    "            print(\"If you are working with defined artist lists, enter 'Artist'\")\n",
    "            feature_select()\n",
    "            query = input(\"Which feature do you want to use for comparison? Enter the feature name or enter 'No' to compare all features. \").capitalize().rstrip()\n",
    "\n",
    "            if query == '' or query == \"No\".capitalize(): # if query entry is no or left empty, go here\n",
    "                print(\"Comparing all respective features using Euclidean.\\n\")\n",
    "                # take values from the dictionary from the end,to avoid the string values at the beginning\n",
    "                feature_list = list(dict_name[id1].values())[-9:] \n",
    "                feature_list2 = list(dict_name[id2].values())[-9:]\n",
    "                key_list = str(list(dict_name[id1].keys())[-9:]).split(',') # take the associated key names\n",
    "            \n",
    "                for i in range(0,9): # Loop through the 9 expected features\n",
    "                    for value in feature_list, feature_list2: # take values over the loop and compare them\n",
    "                        x = (feature_list[i]) \n",
    "                        y = (feature_list2[i]) \n",
    "                        distance = math.sqrt((x - y) ** 2 ) #one-dimensional euclidean formula\n",
    "                    print(key_list[i].strip('[]').strip(' '), round(distance, 3)) # print all feature metrics\n",
    "            \n",
    "            else:\n",
    "                if query == 'Artist' and len(dict_name) == 2: # must be working with chosen artists\n",
    "                    x = []\n",
    "                    y = []\n",
    "                    \n",
    "                    # To avoid issues with math such as sqrt, create 2 new lists and assign all values to those lists\n",
    "                    for value in dict_name[id1]:\n",
    "                        x.append(value)\n",
    "                    for value in dict_name[id2]:\n",
    "                        y.append(value)\n",
    "                    distance = math.sqrt(sum([(a - b) ** 2 for a, b in zip(x, y)])) # multi-dimensional euclidean\n",
    "                    return(print(\"Euclidean distance of {} and {}:\".format(id1, id2), round(distance, 3)))\n",
    "                \n",
    "                else: # must be working with default dictionary and values\n",
    "                    # Assign our queried features to our x and y variables\n",
    "                    x = dict_name[id1][query]\n",
    "                    y = dict_name[id2][query]\n",
    "                    distance = math.sqrt((x - y) ** 2 ) #one-dimensional euclidean formula   \n",
    "                    print(\"Euclidean Distance of {} for ID {} and ID {} is\".format(query, id1, id2), round(distance, 3))\n",
    "            \n",
    "    # Error handling for the function is written here\n",
    "    except KeyError as keyerror:\n",
    "        print(\"That feature doesn't exist.\", keyerror)\n",
    "        euclidean_similarity(dict_name,'','')\n",
    "    except ValueError as valueerror:\n",
    "        print(\"Your entry is invalid, please make sure your entry was the correct format.\")\n",
    "        euclidean_similarity(dict_name,'','')\n",
    "    except TypeError as typeerror:\n",
    "        print(\"Invalid type entered.\")\n",
    "    except IndexError:\n",
    "        print(\"There was a problem, did you enter your dictionary name correctly?\")\n",
    "    except ZeroDivisionError:\n",
    "        print(\"Sorry, but you cannot divide by 0, metric will restart.\")\n",
    "        euclidean_similarity(dict_name,'','')\n",
    "    except AttributeError:\n",
    "        print(\"You can't compare all features of an artist you have defined.\")\n",
    "        euclidean_similarity(dict_name,'','')"
   ]
  },
  {
   "cell_type": "markdown",
   "metadata": {},
   "source": [
    "## Functions for the Metric choices\n",
    "### Needs to be adjusted for current use, might be removed"
   ]
  },
  {
   "cell_type": "code",
   "execution_count": null,
   "metadata": {},
   "outputs": [],
   "source": [
    "# Function for metric selection\n",
    "def metric_choice(dict_name):\n",
    "    metric = int(input(\"Which metric would you like to use from the selection: Enter the number: \"))\n",
    "    if metric == 1:\n",
    "        euclidean_similarity(dict_name, '', '')\n",
    "    elif metric == 2:\n",
    "        cosine_similarity(dict_name, '', '')\n",
    "    elif metric == 3:\n",
    "        pearson_similarity(dict_name, '', '')\n",
    "    elif metric == 4:\n",
    "        jaccard_similarity(dict_name, '', '')\n",
    "    elif metric == 5:\n",
    "        manhattan_similarity(dict_name, '', '')\n",
    "    else:\n",
    "        print(\"Your selection is incorrect.\")\n",
    "        if metric == '': # If entry is blank, end the program\n",
    "            print(\"You entered nothing, the program will end.\")\n",
    "        else:\n",
    "            metric_choice(dict_name) # Restart the metric choice\n",
    "                \n",
    "def metric_selection():\n",
    "    metric_select = [\"Euclidean\", \"Cosine\", \"Pearson\", \"Jaccard\", \"Manhattan\"]\n",
    "    for number, metric in enumerate(metric_select, start=1):\n",
    "        print(number, metric) # Present a list of options to the user for metric choice                "
   ]
  }
 ],
 "metadata": {
  "kernelspec": {
   "display_name": "Python 3",
   "language": "python",
   "name": "python3"
  },
  "language_info": {
   "codemirror_mode": {
    "name": "ipython",
    "version": 3
   },
   "file_extension": ".py",
   "mimetype": "text/x-python",
   "name": "python",
   "nbconvert_exporter": "python",
   "pygments_lexer": "ipython3",
   "version": "3.7.4"
  }
 },
 "nbformat": 4,
 "nbformat_minor": 4
}
