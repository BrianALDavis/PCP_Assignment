{
 "cells": [
  {
   "cell_type": "markdown",
   "metadata": {},
   "source": [
    "### PCP Assignment 2 Module 2 - similarity_module"
   ]
  },
  {
   "cell_type": "code",
   "execution_count": 94,
   "metadata": {},
   "outputs": [],
   "source": [
    "from load_dataset_module import read_File\n",
    "from load_dataset_module import Artist, Song, Track, IterRegistry, Extras   # Classes\n",
    "import pandas as pd\n",
    "import numpy as np\n",
    "import math\n",
    "from scipy.spatial import distance \n",
    "from numpy.linalg import norm\n",
    "from sklearn.metrics.pairwise import manhattan_distances\n",
    "from sklearn.metrics.pairwise import cosine_similarity\n",
    "\n",
    "# Disable warnings, these are not required for the user to see (might be removed)\n",
    "import warnings\n",
    "warnings.filterwarnings('ignore')\n",
    "\n",
    "# These will change over time\n",
    "from sklearn.model_selection import train_test_split\n",
    "from sklearn.metrics import mean_squared_error\n"
   ]
  },
  {
   "cell_type": "code",
   "execution_count": 87,
   "metadata": {},
   "outputs": [],
   "source": [
    "# Creating logging capabilities\n",
    "\n",
    "# import logging\n",
    "# logging.warning('Watch out!')  # will print a message to the console\n",
    "# logging.info('I told you so')  # will not print anything"
   ]
  },
  {
   "cell_type": "code",
   "execution_count": 5,
   "metadata": {},
   "outputs": [],
   "source": [
    "def search_artist(list_name):\n",
    "    try:\n",
    "        fName = str(input(\"Please enter the first name of the artist you want to find: \").strip().capitalize())\n",
    "        lName = str(input(\"Please enter the surname of the artist you want to find. At least an Initial entry is required: \"\\\n",
    "                         ).strip().capitalize())\n",
    "    \n",
    "        # Create empty dictionary and lists for the inputs\n",
    "        results_dict = {}\n",
    "        result_names = []\n",
    "        result_songs = []\n",
    "        result_id = []\n",
    "        num = 0 # Index for printing results\n",
    "        \n",
    "        # Loop through the dictionary, extract all matching artist + song values\n",
    "        for i in range(0, len(list_name)): # range of the whole class-based list\n",
    "            if fName + \" \" + lName in list_name[i].getName():\n",
    "                result_names.append(list_name[i].getName())\n",
    "                result_songs.append(list_name[i].getSongName())\n",
    "                result_id.append(i) \n",
    "                \n",
    "        if len(result_id) == 0: # If the length of the list above is 0, we found no matches\n",
    "            print(\"Your search returned no results.\")\n",
    "        else:\n",
    "            # return an assignable dictionary using the First Name and Surname Initial for the indexable ID\n",
    "            print(\"Your search returned {} results.\".format(len(result_id)))\n",
    "            output = str(input(\"Would you like to view results? \").strip().capitalize())\n",
    "            if output == \"Yes\":\n",
    "                for k in range(0, len(result_id)):\n",
    "                    print(\"ID: {} | {} | {} | \".format(result_id[num], result_names[num], result_songs[num]))\n",
    "                    num+=1\n",
    "            else:\n",
    "                print(\"Search complete.\")\n",
    "    \n",
    "    # Error handling for the function is written here\n",
    "    except KeyError:\n",
    "        return(print(\"You have entered an incorrect value, please check your entry.\"))\n",
    "    except TypeError:\n",
    "        return(print(\"You can't enter a number or symbol here, please enter a string dictionary name.\"))\n",
    "    except IndexError:\n",
    "        return(print(\"You must enter at least an Initial into the Surname box.\"))"
   ]
  },
  {
   "cell_type": "code",
   "execution_count": 6,
   "metadata": {},
   "outputs": [],
   "source": [
    "def search_song(list_name):\n",
    "    try:\n",
    "        song_name = input(\"Please insert the word/s you would like to find in a song: \").capitalize()\n",
    "        song_name = song_name.rstrip()   # remove end of input whitespace\n",
    "        song_name = song_name.split(' ') # split the words into individual words to detect how many we have\n",
    "\n",
    "        result_id = []\n",
    "        result_names = []\n",
    "        result_songs = []\n",
    "        num = 0 # Index for printing results\n",
    "        \n",
    "        if len(song_name) == 1: # Check if the input is 1 word or many words\n",
    "            song_name = ''.join(song_name) # if it is 1 word, reconnect the word through the join command\n",
    "            for i in range(0, len(list_name)): # range of the whole class-based list\n",
    "                if song_name in list_name[i].getSongName():\n",
    "                    # Add matching values to assignable lists \n",
    "                    result_id.append(i)      \n",
    "                    result_names.append(list_name[i].getName())\n",
    "                    result_songs.append(list_name[i].getSongName()) \n",
    "                    \n",
    "        else: # Loop the list and match each word with a value\n",
    "            for i in range(0, len(list_name)): # range of the whole dictionary +1 as end of dictionary is missed otherwise\n",
    "                song_name = [item.capitalize() for item in song_name] # capitalise each string\n",
    "                for j in range(0, len(song_name)):\n",
    "                    if song_name[j] in list_name[i].getSongName(): # search each word for a match\n",
    "                        # Add matching values to assignable lists\n",
    "                        result_id.append(i)     \n",
    "                        result_names.append(list_name[i].getName())\n",
    "                        result_songs.append(list_name[i].getSongName())\n",
    "\n",
    "        if len(result_id) == 0: # If the length of the list is 0, we found no matches\n",
    "            print(\"Your search returned no results.\")\n",
    "        else:\n",
    "            print(\"Your search returned {} results.\".format(len(result_id)))\n",
    "            output = str(input(\"Would you like to view results? \").capitalize().rstrip())\n",
    "            if output == \"Yes\":\n",
    "                for k in range(0, len(result_id)):\n",
    "                    print(\"ID: {} | {} | {}\".format(result_id[num], result_names[num], result_songs[num]))\n",
    "                    num+=1\n",
    "            else:\n",
    "                print(\"Search complete.\")\n",
    "                    \n",
    "    # Error handling for the function is written here\n",
    "    except KeyError as keyerror:\n",
    "        return(print(\"You have entered an incorrect value, please check your entry.\", keyerror))\n",
    "    except TypeError as typeerror:\n",
    "        return(print(\"You can't enter a number or symbol here, please enter a string dictionary name.\", typeerror)) "
   ]
  },
  {
   "cell_type": "code",
   "execution_count": 7,
   "metadata": {},
   "outputs": [
    {
     "name": "stdout",
     "output_type": "stream",
     "text": [
      "Finished reading the command for file loading.\n"
     ]
    }
   ],
   "source": [
    "song_searcher = read_File()"
   ]
  },
  {
   "cell_type": "code",
   "execution_count": 8,
   "metadata": {},
   "outputs": [
    {
     "data": {
      "text/plain": [
       "'Duration: 158648, Explicit: 0, Instrumentalness: 0.563, Key: 10, Mode: 1, Release Date: 1928'"
      ]
     },
     "execution_count": 8,
     "metadata": {},
     "output_type": "execute_result"
    }
   ],
   "source": [
    "song_searcher[0].getExtras()"
   ]
  },
  {
   "cell_type": "code",
   "execution_count": 9,
   "metadata": {
    "scrolled": true
   },
   "outputs": [],
   "source": [
    "# search_for = search_artist(song_searcher)\n",
    "# search_for"
   ]
  },
  {
   "cell_type": "code",
   "execution_count": 10,
   "metadata": {},
   "outputs": [],
   "source": [
    "class similarity_metric(object):\n",
    "    def __init__(self, value1, value2):\n",
    "        __metaclass__ = IterRegistry\n",
    "        _registry = []\n",
    "        \n",
    "    # These do work for x by x conversion however\n",
    "        # Our defined target chosen by the user\n",
    "        self.target = value1\n",
    "        # Our defined library of all other values\n",
    "        self.library = value2\n",
    "        \n",
    "    # Returns object in string format for readability\n",
    "    def __repr__(self):\n",
    "        return f'Target: {self.target}, Comparison: {self.library}'\n",
    "    #TODO change the above names later\n",
    "    \n",
    "    def euclidean(self):\n",
    "        a = np.array(self.target)\n",
    "        b = np.array(self.library)\n",
    "        return np.linalg.norm(a - b)\n",
    "        \n",
    "    def manhattan(self):\n",
    "        a = np.array(self.target)\n",
    "        b = np.array(self.library)\n",
    "        #return np.abs(a - b) # This works\n",
    "        return manhattan_distances([a, b])\n",
    "        \n",
    "    def cosine(self):\n",
    "        a = np.array(self.target)\n",
    "        b = np.array(self.library)\n",
    "        return 1 - distance.cosine(a, b)\n",
    "\n",
    "    def jaccard(self):\n",
    "        a = np.array(self.target)\n",
    "        b = np.array(self.library)\n",
    "        return distance.jaccard(a, b)\n",
    "    \n",
    "    def pearson(self):\n",
    "        a = np.array(self.target)\n",
    "        b = np.array(self.library)\n",
    "        return np.corrcoef([a, b])\n"
   ]
  },
  {
   "cell_type": "code",
   "execution_count": 11,
   "metadata": {},
   "outputs": [],
   "source": [
    "# Class for Similar Artist, inherits from the SM class\n",
    "class similar_artist(similarity_metric):\n",
    "    pass"
   ]
  },
  {
   "cell_type": "code",
   "execution_count": 12,
   "metadata": {},
   "outputs": [],
   "source": [
    "# Class for Similar Music, inherits from the SM class\n",
    "class similar_music(similarity_metric):\n",
    "    pass"
   ]
  },
  {
   "cell_type": "code",
   "execution_count": 13,
   "metadata": {},
   "outputs": [],
   "source": [
    "# Class for All similarities, inherits from the SM class\n",
    "class similar_all(similarity_metric):\n",
    "    pass"
   ]
  },
  {
   "cell_type": "code",
   "execution_count": 14,
   "metadata": {},
   "outputs": [],
   "source": [
    "# Function to create the df and do the similarity comparison\n",
    "\n",
    "def similarity_caller(list_name):\n",
    "    pass"
   ]
  },
  {
   "cell_type": "code",
   "execution_count": 131,
   "metadata": {},
   "outputs": [
    {
     "data": {
      "text/html": [
       "<div>\n",
       "<style scoped>\n",
       "    .dataframe tbody tr th:only-of-type {\n",
       "        vertical-align: middle;\n",
       "    }\n",
       "\n",
       "    .dataframe tbody tr th {\n",
       "        vertical-align: top;\n",
       "    }\n",
       "\n",
       "    .dataframe thead th {\n",
       "        text-align: right;\n",
       "    }\n",
       "</style>\n",
       "<table border=\"1\" class=\"dataframe\">\n",
       "  <thead>\n",
       "    <tr style=\"text-align: right;\">\n",
       "      <th></th>\n",
       "      <th>Acousticness</th>\n",
       "      <th>Danceability</th>\n",
       "      <th>Energy</th>\n",
       "      <th>Liveness</th>\n",
       "      <th>Loudness</th>\n",
       "      <th>Speechiness</th>\n",
       "      <th>Tempo</th>\n",
       "      <th>Valence</th>\n",
       "      <th>Instrumentalness</th>\n",
       "    </tr>\n",
       "  </thead>\n",
       "  <tbody>\n",
       "    <tr>\n",
       "      <th>0</th>\n",
       "      <td>0.998996</td>\n",
       "      <td>0.716599</td>\n",
       "      <td>0.1950</td>\n",
       "      <td>0.1510</td>\n",
       "      <td>0.745000</td>\n",
       "      <td>0.052219</td>\n",
       "      <td>0.485348</td>\n",
       "      <td>0.7790</td>\n",
       "      <td>0.563</td>\n",
       "    </tr>\n",
       "    <tr>\n",
       "      <th>1</th>\n",
       "      <td>0.997992</td>\n",
       "      <td>0.383603</td>\n",
       "      <td>0.0135</td>\n",
       "      <td>0.0763</td>\n",
       "      <td>0.494026</td>\n",
       "      <td>0.047678</td>\n",
       "      <td>0.344019</td>\n",
       "      <td>0.0767</td>\n",
       "      <td>0.901</td>\n",
       "    </tr>\n",
       "    <tr>\n",
       "      <th>2</th>\n",
       "      <td>0.606426</td>\n",
       "      <td>0.758097</td>\n",
       "      <td>0.2200</td>\n",
       "      <td>0.1190</td>\n",
       "      <td>0.627609</td>\n",
       "      <td>0.958720</td>\n",
       "      <td>0.439086</td>\n",
       "      <td>0.8800</td>\n",
       "      <td>0.000</td>\n",
       "    </tr>\n",
       "    <tr>\n",
       "      <th>3</th>\n",
       "      <td>0.998996</td>\n",
       "      <td>0.790486</td>\n",
       "      <td>0.1300</td>\n",
       "      <td>0.1110</td>\n",
       "      <td>0.708887</td>\n",
       "      <td>0.095562</td>\n",
       "      <td>0.442470</td>\n",
       "      <td>0.7200</td>\n",
       "      <td>0.887</td>\n",
       "    </tr>\n",
       "    <tr>\n",
       "      <th>4</th>\n",
       "      <td>0.993976</td>\n",
       "      <td>0.212551</td>\n",
       "      <td>0.2040</td>\n",
       "      <td>0.0980</td>\n",
       "      <td>0.676079</td>\n",
       "      <td>0.043756</td>\n",
       "      <td>0.254614</td>\n",
       "      <td>0.0693</td>\n",
       "      <td>0.908</td>\n",
       "    </tr>\n",
       "  </tbody>\n",
       "</table>\n",
       "</div>"
      ],
      "text/plain": [
       "   Acousticness  Danceability  Energy  Liveness  Loudness  Speechiness  \\\n",
       "0      0.998996      0.716599  0.1950    0.1510  0.745000     0.052219   \n",
       "1      0.997992      0.383603  0.0135    0.0763  0.494026     0.047678   \n",
       "2      0.606426      0.758097  0.2200    0.1190  0.627609     0.958720   \n",
       "3      0.998996      0.790486  0.1300    0.1110  0.708887     0.095562   \n",
       "4      0.993976      0.212551  0.2040    0.0980  0.676079     0.043756   \n",
       "\n",
       "      Tempo  Valence  Instrumentalness  \n",
       "0  0.485348   0.7790             0.563  \n",
       "1  0.344019   0.0767             0.901  \n",
       "2  0.439086   0.8800             0.000  \n",
       "3  0.442470   0.7200             0.887  \n",
       "4  0.254614   0.0693             0.908  "
      ]
     },
     "execution_count": 131,
     "metadata": {},
     "output_type": "execute_result"
    }
   ],
   "source": [
    "# Create a dataframe from the class object Track\n",
    "\n",
    "df = pd.DataFrame.from_records([s.to_dict() for s in song_searcher])\n",
    "df = df.drop(['Music_ID', 'Release Date', 'Duration in ms', 'Key','Explicit', 'Popularity'], axis = 1)\n",
    "# TODO these need to be removed from the Track class' to_dict method\n",
    "\n",
    "def normalise(row):\n",
    "    new_row = (row - row.min())/(row.max()-row.min())\n",
    "    return new_row\n",
    "\n",
    "#Normalise the data so it's all to the same scale (0-1)\n",
    "df = df.apply(normalise)\n",
    "df.head()\n",
    "\n",
    "#print(df['Acousticness'][4000])"
   ]
  },
  {
   "cell_type": "markdown",
   "metadata": {},
   "source": [
    "https://towardsdatascience.com/how-to-build-a-recommendation-engine-quick-and-simple-aec8c71a823e\n",
    "https://towardsdatascience.com/evaluate-your-recommendation-engine-using-ndcg-759a851452d1\n",
    "https://spark.apache.org/docs/2.2.0/ml-collaborative-filtering.html\n",
    "https://www.elastic.co/guide/en/elasticsearch/reference/current/search-aggregations-bucket-significantterms-aggregation.html\n",
    "https://realpython.com/build-recommendation-engine-collaborative-filtering/  \n",
    "https://towardsdatascience.com/how-to-build-a-simple-song-recommender-296fcbc8c85"
   ]
  },
  {
   "cell_type": "code",
   "execution_count": 141,
   "metadata": {
    "scrolled": true
   },
   "outputs": [
    {
     "name": "stdout",
     "output_type": "stream",
     "text": [
      "Wall time: 30.9 s\n"
     ]
    },
    {
     "data": {
      "text/html": [
       "<div>\n",
       "<style scoped>\n",
       "    .dataframe tbody tr th:only-of-type {\n",
       "        vertical-align: middle;\n",
       "    }\n",
       "\n",
       "    .dataframe tbody tr th {\n",
       "        vertical-align: top;\n",
       "    }\n",
       "\n",
       "    .dataframe thead th {\n",
       "        text-align: right;\n",
       "    }\n",
       "</style>\n",
       "<table border=\"1\" class=\"dataframe\">\n",
       "  <thead>\n",
       "    <tr style=\"text-align: right;\">\n",
       "      <th></th>\n",
       "      <th>Acousticness</th>\n",
       "      <th>Danceability</th>\n",
       "      <th>Energy</th>\n",
       "      <th>Liveness</th>\n",
       "      <th>Loudness</th>\n",
       "      <th>Speechiness</th>\n",
       "      <th>Tempo</th>\n",
       "      <th>Valence</th>\n",
       "      <th>Instrumentalness</th>\n",
       "      <th>Similarity_Score</th>\n",
       "    </tr>\n",
       "  </thead>\n",
       "  <tbody>\n",
       "    <tr>\n",
       "      <th>8196</th>\n",
       "      <td>0.992972</td>\n",
       "      <td>0.224696</td>\n",
       "      <td>0.0113</td>\n",
       "      <td>0.0873</td>\n",
       "      <td>0.419419</td>\n",
       "      <td>0.044376</td>\n",
       "      <td>0.303329</td>\n",
       "      <td>0.0917</td>\n",
       "      <td>0.954000</td>\n",
       "      <td>1.124312</td>\n",
       "    </tr>\n",
       "    <tr>\n",
       "      <th>3852</th>\n",
       "      <td>0.893574</td>\n",
       "      <td>0.260121</td>\n",
       "      <td>0.3380</td>\n",
       "      <td>0.1960</td>\n",
       "      <td>0.711471</td>\n",
       "      <td>0.040867</td>\n",
       "      <td>0.535263</td>\n",
       "      <td>0.0393</td>\n",
       "      <td>0.864000</td>\n",
       "      <td>1.039046</td>\n",
       "    </tr>\n",
       "    <tr>\n",
       "      <th>1717</th>\n",
       "      <td>0.388554</td>\n",
       "      <td>0.517206</td>\n",
       "      <td>0.2450</td>\n",
       "      <td>0.2840</td>\n",
       "      <td>0.626231</td>\n",
       "      <td>0.347781</td>\n",
       "      <td>0.377576</td>\n",
       "      <td>0.8170</td>\n",
       "      <td>0.000000</td>\n",
       "      <td>0.941192</td>\n",
       "    </tr>\n",
       "    <tr>\n",
       "      <th>2190</th>\n",
       "      <td>0.995984</td>\n",
       "      <td>0.615385</td>\n",
       "      <td>0.1830</td>\n",
       "      <td>0.0757</td>\n",
       "      <td>0.633952</td>\n",
       "      <td>0.046852</td>\n",
       "      <td>0.386413</td>\n",
       "      <td>0.3860</td>\n",
       "      <td>0.000000</td>\n",
       "      <td>0.827578</td>\n",
       "    </tr>\n",
       "    <tr>\n",
       "      <th>3975</th>\n",
       "      <td>0.391566</td>\n",
       "      <td>0.804656</td>\n",
       "      <td>0.5260</td>\n",
       "      <td>0.1150</td>\n",
       "      <td>0.737515</td>\n",
       "      <td>0.076883</td>\n",
       "      <td>0.372062</td>\n",
       "      <td>0.8960</td>\n",
       "      <td>0.000002</td>\n",
       "      <td>0.925457</td>\n",
       "    </tr>\n",
       "  </tbody>\n",
       "</table>\n",
       "</div>"
      ],
      "text/plain": [
       "      Acousticness  Danceability  Energy  Liveness  Loudness  Speechiness  \\\n",
       "8196      0.992972      0.224696  0.0113    0.0873  0.419419     0.044376   \n",
       "3852      0.893574      0.260121  0.3380    0.1960  0.711471     0.040867   \n",
       "1717      0.388554      0.517206  0.2450    0.2840  0.626231     0.347781   \n",
       "2190      0.995984      0.615385  0.1830    0.0757  0.633952     0.046852   \n",
       "3975      0.391566      0.804656  0.5260    0.1150  0.737515     0.076883   \n",
       "\n",
       "         Tempo  Valence  Instrumentalness  Similarity_Score  \n",
       "8196  0.303329   0.0917          0.954000          1.124312  \n",
       "3852  0.535263   0.0393          0.864000          1.039046  \n",
       "1717  0.377576   0.8170          0.000000          0.941192  \n",
       "2190  0.386413   0.3860          0.000000          0.827578  \n",
       "3975  0.372062   0.8960          0.000002          0.925457  "
      ]
     },
     "execution_count": 141,
     "metadata": {},
     "output_type": "execute_result"
    }
   ],
   "source": [
    "%%time\n",
    "\n",
    "# Testing some methods\n",
    "\n",
    "#def get_title_from_index(index):\n",
    "#    return df[df.index == index][\"title\"].values[0]\n",
    "\n",
    "#id_num = int(input('Please enter a song ID number: '))\n",
    "\n",
    "\n",
    "\n",
    "#df['Combined'] = df.groupby(df, axis = 0)\n",
    "\n",
    "#print(target)\n",
    "\n",
    "# one = np.array(df)[id_num].round(3)\n",
    "# two = np.array(df)[90000].round(3)\n",
    "# new_entry = similarity_metric(one,two) \n",
    "# print(new_entry.cosine())\n",
    "\n",
    "#cosine_similarity(df)\n",
    "\n",
    "df_subset = df.head(10000)\n",
    "df_subset.head()\n",
    "target = np.array(df_subset)[30]\n",
    "result = []\n",
    "\n",
    "for i in range(len(df_subset)):\n",
    "    compare = np.array(df)[i]\n",
    "    result.append((similarity_metric(target, compare)).euclidean())\n",
    "    \n",
    "df_subset['Similarity_Score'] = result\n"
   ]
  },
  {
   "cell_type": "code",
   "execution_count": 144,
   "metadata": {},
   "outputs": [
    {
     "name": "stdout",
     "output_type": "stream",
     "text": [
      "8000\n"
     ]
    }
   ],
   "source": [
    "train_data, test_data = train_test_split(df_subset, test_size = 0.20)\n",
    "print(len(train_data))"
   ]
  },
  {
   "cell_type": "code",
   "execution_count": 143,
   "metadata": {
    "scrolled": false
   },
   "outputs": [
    {
     "data": {
      "text/html": [
       "<div>\n",
       "<style scoped>\n",
       "    .dataframe tbody tr th:only-of-type {\n",
       "        vertical-align: middle;\n",
       "    }\n",
       "\n",
       "    .dataframe tbody tr th {\n",
       "        vertical-align: top;\n",
       "    }\n",
       "\n",
       "    .dataframe thead th {\n",
       "        text-align: right;\n",
       "    }\n",
       "</style>\n",
       "<table border=\"1\" class=\"dataframe\">\n",
       "  <thead>\n",
       "    <tr style=\"text-align: right;\">\n",
       "      <th></th>\n",
       "      <th>Acousticness</th>\n",
       "      <th>Danceability</th>\n",
       "      <th>Energy</th>\n",
       "      <th>Liveness</th>\n",
       "      <th>Loudness</th>\n",
       "      <th>Speechiness</th>\n",
       "      <th>Tempo</th>\n",
       "      <th>Valence</th>\n",
       "      <th>Instrumentalness</th>\n",
       "      <th>Similarity_Score</th>\n",
       "    </tr>\n",
       "  </thead>\n",
       "  <tbody>\n",
       "    <tr>\n",
       "      <th>0</th>\n",
       "      <td>0.998996</td>\n",
       "      <td>0.716599</td>\n",
       "      <td>0.1950</td>\n",
       "      <td>0.1510</td>\n",
       "      <td>0.745000</td>\n",
       "      <td>0.052219</td>\n",
       "      <td>0.485348</td>\n",
       "      <td>0.7790</td>\n",
       "      <td>0.563</td>\n",
       "      <td>0.197488</td>\n",
       "    </tr>\n",
       "    <tr>\n",
       "      <th>1</th>\n",
       "      <td>0.997992</td>\n",
       "      <td>0.383603</td>\n",
       "      <td>0.0135</td>\n",
       "      <td>0.0763</td>\n",
       "      <td>0.494026</td>\n",
       "      <td>0.047678</td>\n",
       "      <td>0.344019</td>\n",
       "      <td>0.0767</td>\n",
       "      <td>0.901</td>\n",
       "      <td>1.020675</td>\n",
       "    </tr>\n",
       "    <tr>\n",
       "      <th>2</th>\n",
       "      <td>0.606426</td>\n",
       "      <td>0.758097</td>\n",
       "      <td>0.2200</td>\n",
       "      <td>0.1190</td>\n",
       "      <td>0.627609</td>\n",
       "      <td>0.958720</td>\n",
       "      <td>0.439086</td>\n",
       "      <td>0.8800</td>\n",
       "      <td>0.000</td>\n",
       "      <td>1.054487</td>\n",
       "    </tr>\n",
       "    <tr>\n",
       "      <th>3</th>\n",
       "      <td>0.998996</td>\n",
       "      <td>0.790486</td>\n",
       "      <td>0.1300</td>\n",
       "      <td>0.1110</td>\n",
       "      <td>0.708887</td>\n",
       "      <td>0.095562</td>\n",
       "      <td>0.442470</td>\n",
       "      <td>0.7200</td>\n",
       "      <td>0.887</td>\n",
       "      <td>0.361269</td>\n",
       "    </tr>\n",
       "    <tr>\n",
       "      <th>4</th>\n",
       "      <td>0.993976</td>\n",
       "      <td>0.212551</td>\n",
       "      <td>0.2040</td>\n",
       "      <td>0.0980</td>\n",
       "      <td>0.676079</td>\n",
       "      <td>0.043756</td>\n",
       "      <td>0.254614</td>\n",
       "      <td>0.0693</td>\n",
       "      <td>0.908</td>\n",
       "      <td>1.068119</td>\n",
       "    </tr>\n",
       "  </tbody>\n",
       "</table>\n",
       "</div>"
      ],
      "text/plain": [
       "   Acousticness  Danceability  Energy  Liveness  Loudness  Speechiness  \\\n",
       "0      0.998996      0.716599  0.1950    0.1510  0.745000     0.052219   \n",
       "1      0.997992      0.383603  0.0135    0.0763  0.494026     0.047678   \n",
       "2      0.606426      0.758097  0.2200    0.1190  0.627609     0.958720   \n",
       "3      0.998996      0.790486  0.1300    0.1110  0.708887     0.095562   \n",
       "4      0.993976      0.212551  0.2040    0.0980  0.676079     0.043756   \n",
       "\n",
       "      Tempo  Valence  Instrumentalness  Similarity_Score  \n",
       "0  0.485348   0.7790             0.563          0.197488  \n",
       "1  0.344019   0.0767             0.901          1.020675  \n",
       "2  0.439086   0.8800             0.000          1.054487  \n",
       "3  0.442470   0.7200             0.887          0.361269  \n",
       "4  0.254614   0.0693             0.908          1.068119  "
      ]
     },
     "execution_count": 143,
     "metadata": {},
     "output_type": "execute_result"
    }
   ],
   "source": [
    "df_subset.head()"
   ]
  },
  {
   "cell_type": "code",
   "execution_count": null,
   "metadata": {},
   "outputs": [],
   "source": []
  },
  {
   "cell_type": "code",
   "execution_count": null,
   "metadata": {},
   "outputs": [],
   "source": []
  },
  {
   "cell_type": "code",
   "execution_count": null,
   "metadata": {},
   "outputs": [],
   "source": []
  },
  {
   "cell_type": "code",
   "execution_count": null,
   "metadata": {},
   "outputs": [],
   "source": []
  },
  {
   "cell_type": "code",
   "execution_count": 83,
   "metadata": {},
   "outputs": [
    {
     "name": "stdout",
     "output_type": "stream",
     "text": [
      "[[1.         0.56005454]\n",
      " [0.56005454 1.        ]]\n",
      "0.8342149357922475\n",
      "[[0.    2.616]\n",
      " [2.616 0.   ]]\n",
      "1.0842010883595348\n",
      "1.0\n",
      "\n",
      "\n",
      "[0.999 0.776 0.23  0.133 0.772 0.    0.205 0.492 0.868 0.    0.182 0.605]\n",
      "[0.988 0.365 0.295 0.72  0.756 0.01  0.08  0.303 0.18  0.    0.455 0.846]\n"
     ]
    }
   ],
   "source": [
    "# Testing out 9 feature values vs 9 feature values using the metrics\n",
    "\n",
    "feature = 'Tempo'\n",
    "id_num = 30\n",
    "feature_list = []\n",
    "manhattan_list = []\n",
    "i = 0\n",
    "\n",
    "#one = np.array([[20,30,40,20,10,30,20,10,23.44]])\n",
    "#two = np.array([[10,1000,328.4,100,109,293,10,45,3291]])\n",
    "\n",
    "#print(df[1])\n",
    "\n",
    "one = np.array(df)[id_num].round(3)\n",
    "two = np.array(df)[90000].round(3)\n",
    "#one = np.sum(one)\n",
    "#two = np.sum(two)\n",
    "\n",
    "new_entry = similarity_metric(one,two) \n",
    "print(new_entry.pearson())\n",
    "print(new_entry.cosine())\n",
    "print(new_entry.manhattan())\n",
    "print(new_entry.euclidean())\n",
    "print(new_entry.jaccard())\n",
    "print('\\n')\n",
    "print(one)\n",
    "print(two)\n",
    "\n",
    "one = np.sum(one)\n",
    "two = np.sum(two)\n",
    "\n",
    "# for val in df[id_num]:\n",
    "#     print(val)"
   ]
  },
  {
   "cell_type": "code",
   "execution_count": 85,
   "metadata": {},
   "outputs": [
    {
     "name": "stdout",
     "output_type": "stream",
     "text": [
      "[0.9643650760992956, 1.0354226190305098, 1.1674759098157015, 0.8813058492941029, 1.1977896309452676, 0.8843076387773657, 0.9161331780914824, 0.842436941260294, 0.7376991256603195, 1.2419339757008019, 1.0887148386974432, 1.1025425161870177, 0.9651942809610924, 0.8943153806124549, 0.7265672714897087, 0.7090133990271269, 0.8860586888011427, 0.8028075734570521, 0.5361902647381804, 0.6577993615077473, 1.0110885223361998, 0.6379655163094632, 0.9596353474106715, 1.1336225121265013, 0.9860527369263776, 0.4859012245302537, 0.943239100122551, 1.1282730166054669, 0.9841239759298622, 1.0248414511523232, 0.7541220060441148, 0.40669398815325514, 1.1179445424527998, 0.7569015788066503, 0.681615727518079, 0.7643297717608546, 0.5803447251418764, 0.6801470429252781, 1.072100741535048, 1.0528057750601485, 0.7746612162745725, 1.1466036804406305, 0.871837140755084, 0.7087312607751968, 1.2023726543796642, 1.0478549517943787, 0.7288346863315439, 0.7119691004531025, 1.1204017136723774, 0.7648529270389177, 1.1676900273617137, 1.125921844534513, 0.5319774431308155, 0.7692853826766761, 0.8484102781084161, 0.5932115979985556, 1.121739720255996, 0.9877752780870758, 1.1498695578194946, 0.7984985911070852, 0.9556673061269805, 0.46840153714521476, 0.7868926229162401, 0.9754486147409304, 0.7622335600063802, 1.0728932845348598, 1.0942577392917996, 0.387556447501522, 0.7122499561249548, 1.0157755657624374, 0.8765272385955841, 0.6236184731067546, 0.628410693734599, 0.4917316341257699, 0.7851114570556209, 0.7632168761236874, 1.266254318847521, 1.077729093974919, 0.731368580129062, 1.1604740410711478, 0.8383316766053875, 0.8472897969408105, 0.5022947341949744, 0.8074032449773781, 0.8383913167489273, 0.7888599368709251, 1.10049988641526, 1.2416118556135003, 0.7329392880723478, 0.9239588735436226, 1.0665833300778707, 0.8931405264570632, 0.6729784543356495, 0.8436231386110744, 0.5270673581241776, 0.5244997616777342, 0.8760136985230311, 1.2357184145265458, 0.8530533394811839, 1.3321411336641475, 0.8246211251235321, 0.6913754406977441, 1.0405767631462852, 0.5621387729022079, 1.0537551897855593, 0.6072067193304106, 0.9513148795220223, 0.9281163720137686, 0.7576938695805846, 1.0714009520249643, 0.9027735042633893, 0.8382720322186588, 1.137673063757774, 0.7930321557162736, 0.7321202087089251, 0.8613942186943212, 1.063437821407533, 0.4678675026115834, 0.8762419757121888, 0.8567963585356791, 0.30413812651491096, 0.8664871608973788, 0.7041306696913578, 0.8745284443630179, 0.48641546028061244, 0.9644687656943589, 0.677569184659397, 0.9731392500562291, 1.0339245620450268, 1.1747765745025733, 1.2049896265113655, 0.6285698051927089, 0.5625833271614081, 0.9158056562393575, 0.7263607918933951, 1.0124722218411724, 0.4684015371452148, 0.8398214095865858, 0.719027120489902, 0.8439786727163193, 0.7413501197140256, 0.39987498046264414, 0.685200700525036, 0.7418894796396563, 0.4406812907306141, 0.48631265663151313, 0.8651011501552868, 0.3524202037341219, 1.1482595525402781, 0.944351629426243, 0.696419413859206, 0.8629020801921851, 0.9858498871532115, 1.034698023579827, 0.5698245343963351, 0.5961543424315553, 0.3672873534441392, 0.5943904440685432, 1.1484772527133482, 1.0356640381899913, 0.7000714249274856, 0.6750555532695068, 0.6728298447601742, 0.4605431575867781, 1.212559276901546, 0.6477653896280658, 0.9966945369570358, 1.257298691640137, 0.9936800289831732, 0.722080327941428, 0.9782126558167197, 0.5138093031466052, 0.4851803788283282, 0.8260750571225353, 0.816639455328972, 0.6542935121182236, 0.7822403722641782, 0.5442425929675111, 0.4270831300812525, 0.7211795892841115, 0.7516648189186454, 1.0746162105607753, 0.49, 0.7121095421351972, 0.7632823854904554, 0.7624303246854758, 0.8591274643497321, 0.34496376621320685, 0.8297590011563598, 0.40779897008207366, 0.5991660871578097, 0.3119294792096445, 0.5319774431308155, 0.6587867636800242, 0.5178802950489622, 0.6613622305514582, 0.8269220035771209, 0.7256721022610694, 0.6456779382943171, 0.4468780594300866, 1.0231813133555556, 0.6558200972827838, 1.074337004854622, 1.0318914671611543, 1.5332644912082194, 1.0036433629531958, 0.40975602497095753, 0.708519583356734, 0.4818713521262704, 0.9255268769733269, 1.0615554625171497, 0.719027120489902, 0.8928605714219887, 0.7215261603018979, 0.8173738434767779, 1.5478372007417318, 0.5936328831862332, 0.8050465825031493, 0.27820855486487106, 0.4414748010928823, 0.43543082114154485, 0.8703447592764605, 1.7545939701252822, 1.0327148686835101, 1.7738376475878508, 1.7200581385522993, 0.9963433143249367, 0.3957271787481876, 1.6246538092775333, 0.593548650070068, 1.6946386045408028, 1.6341664541900252, 1.7770199773778572, 0.45354161881794264, 0.8636550237218563, 0.51254268114958, 0.9485778829384544, 1.5327100182356739, 0.38935844667863573, 1.0453229166147655, 1.5231874474272693, 1.4439182802361081, 1.0388936422945325, 0.988736567544662, 0.47728398255126897, 0.46626172907499064, 1.5400973995173164, 1.7786792853125601, 1.3376471881628578, 1.593361227091961, 0.6110646446980876, 0.8310234653726694, 0.8919080670113934, 0.600416522091123, 1.0129659421717987, 0.9566608594481119, 0.5591064299397746, 0.4192851058647326, 0.35791060336346564, 0.6899275324264136, 1.306636904422954, 1.0565983153497833, 0.46626172907499064, 1.0359054010864117, 0.9380831519646858, 0.8009993757800316, 0.30626785662227113, 1.120267825120404, 0.8316249154516717, 1.6182397844571736, 1.6962311163281967, 0.5730619512757762, 1.4382628410690446, 0.42965102117881676, 0.9387757985802574, 0.9312357381458253, 0.4106093033529562, 0.630158710167526, 0.41916583830269377, 1.2074352984735868, 0.7892401408950256, 0.8649277426467485, 0.902219485491197, 0.7126710321038733, 1.0840664186294122, 0.40743097574926723, 1.7008527273106278, 1.603184331260757, 1.0700934538627922, 0.7994998436522673, 0.9432391001225512, 0.7472616676907762, 0.6054750201288241, 1.7142053552593983, 1.1407892005098925, 0.6075360071633614, 1.5757855184002676, 1.6644218215344329, 0.7001428425685718, 0.7374957626996916, 0.0, 0.6122091146005587, 0.8117265549432273, 0.7555130707009642, 0.5581218504950332, 1.0523307464861036, 0.8891569040388767, 0.7211795892841116, 0.9816312953446421, 0.8794884877018004, 0.7142128534267638, 0.7054785609782909, 0.8352843827104635, 0.7219418259112017, 0.7825599018605541, 0.8449852069711042, 0.7688953114696434, 0.7230490993010088, 0.8392258337301112, 0.7291090453423275, 0.8728115489611719, 0.570087712549569, 0.9506313691436865, 0.4784349485562274, 0.6041522986797286, 1.0293201639917484, 0.6220932405998317, 0.8916277250063505, 0.39268307832143723, 0.7027090436304346, 0.4479955356920423, 0.5490901565316938, 1.0348912986396204, 0.9595311355031685, 0.7838367176906171, 0.9273079315955406, 0.3752332607858744, 0.9700000000000001, 0.7373601562330311, 0.3579106033634656, 0.8375559682791353, 0.6121274377121156, 0.7367496182557546, 0.8497058314499201, 0.5453439281774393, 0.7400675644831356, 0.7137926869897169, 0.39293765408777, 0.7076722405181654, 0.5912698199637794, 0.3522782990761707, 0.7534586916347837, 1.156070932079862, 1.0348912986396206, 0.4136423575989287, 0.7997499609252883, 1.5945218719101975, 0.3897435053981015, 0.5, 1.6772596698186004, 0.96317184344228, 0.4031128874149275, 0.9528378665859161, 0.46335731352812376, 1.614868415692127, 1.0056838469419702, 0.7287660804400821, 0.9687104830649867, 0.9075241043630743, 0.4523273151159457, 0.7234638899074369, 0.7755643106796497, 0.875328509760764, 0.8903370148432558, 0.44102154142399885, 0.8862843787408194, 1.1067971810589328, 0.7790378681424929, 1.4601369798755184, 0.40472212689696124, 0.9021640649017229, 1.6800297616411441, 1.4791889669680476, 0.56859475903318, 1.1865496196956957, 0.9694843990493092, 1.4941218156495808, 0.4217819341792628, 0.6296030495478878, 0.7445804187594515, 0.682934843158555, 1.0645656391223606, 0.9153141537199128, 0.7861933604400382, 0.7527283706623527, 0.7464583042608609, 0.7092249290598859, 1.0893117092916975, 1.4778362561528933, 0.4739198244429115, 0.6466065264130885, 1.2423365083583433, 0.7493330367733696, 0.5298112871579842, 0.500499750249688, 0.38275318418009274, 0.7567694497005016, 1.4515508947329405, 0.9538343671728337, 0.7385797181076665, 1.528201557386983, 0.9491575211733825, 1.4705781176122539, 0.5842088667591412, 0.8717224328879004, 1.6734993277560646, 1.5354803808580557, 0.9149863386958299, 0.7777531742140303, 1.5266957784706159, 1.715021865749822, 0.7808969202141856, 0.603241245274227, 1.010989614189978, 0.6821290200541243, 0.8196950652529268, 1.688697723099075, 0.6951258878793107, 0.7974333827975851, 0.6322183167229497, 0.6658828725834597, 0.947100839404126, 0.363318042491699, 0.4646504062195577, 0.5562373594069353, 0.9055385138137416, 0.7558438992278763, 0.6161168720299746, 0.9633794683301072, 1.028737089833938, 0.7527947927556353, 0.5670978751503131, 1.4590407807871582, 0.6687301398920196, 0.42567593307585533, 1.798638373881754, 0.9762684057163787, 0.6753517601961218, 1.771778767228008, 1.6420414123888594, 0.6707458535093602, 0.8077747210701756, 0.5440588203494178, 1.6938417871808453, 1.171110584018435, 1.082635672791175, 0.5994163828258283, 0.7988742078700501, 0.7692203845452876, 0.8955445270895245, 0.874242529278918, 0.38639358172723315, 0.8542833253669416, 0.4651881339845203, 0.9267146270562475, 0.6816157275180789, 0.6599242380758567, 0.9897474425326898, 1.131370849898476, 0.8742997197757757, 0.43197222132910357, 0.8438009243891594, 0.9265527507918802, 0.47318072657283927, 0.9542012366372201, 1.217620630574236, 1.092291169972549, 0.80049984384758, 0.8315046602394961, 0.8405950273467003, 0.5560575509783138, 0.5644466316668034, 0.9386160024205853, 0.8363611660042567, 0.5690342696182717, 1.1139120252515458, 0.5281098370604358, 0.8826664149042944, 0.5768015256567894, 0.7639371701913711, 0.9647279409242795, 0.5769748694700663, 0.4414748010928823, 0.6875318174455638, 0.7565051222562873, 0.3924283374069717, 0.5859180830116101, 0.9027181176868003, 0.9149863386958299, 0.8772684879784524, 0.40509258201058185, 0.7607890640644093, 0.8754427451295715, 0.6392964883369844, 0.2954657340538831, 0.7940403012442125, 1.0258167477673583, 0.9361089680160103, 0.92, 0.9241753080449618, 0.9392550239418471, 0.5533534132902769, 0.9736015612148534, 0.8903370148432557, 0.6153048025166065, 0.6479197481170025, 0.8164557550780079, 0.3781534080237807, 0.3351119216023208, 0.7643297717608545, 0.9177690341256889, 1.174563748802082, 0.47000000000000003, 0.48476798574163293, 0.8277680834629951, 0.4453088815642464, 0.8143709228600932, 0.5486346689738082, 0.9386692708297211, 0.7684399781375251, 0.9132907532653552, 0.6206448259673161, 1.0289314845994364, 1.2892633555639434, 1.3458826100369972, 0.8666602563865496, 0.8082078940470702, 0.40099875311526845, 0.9191300234460846, 0.9140568910084317, 1.035519193448388, 1.386614582355169, 1.0826818553942799, 0.991110488290786, 0.8672946442818611, 0.7321885003194191, 0.7213875518748574, 0.9467312184564317, 0.783836717690617, 1.4515853402401113, 0.771686464828819, 0.8047981113297918, 0.41472882706655445, 0.9980981915623333, 0.6393746945258313, 0.9422844581123049, 0.6948381106416084, 0.6832276341015489, 1.5836982035728904, 0.48918299234540036, 0.6143289021363069, 1.5946472964263914, 0.9177690341256889, 1.0661144403862093, 0.6315061361538777, 1.5605768164367944, 0.38118237105091834, 1.0451794104363137, 0.811480129146734, 0.6779380502671317, 1.558492861709671, 0.7991870869827664, 0.6873136110975834, 0.535723809439155, 1.3826785598974187, 1.5730543537970962, 1.5673225577397907, 0.9117017056033184, 0.7854298186343577, 0.7408103670980855, 1.6393901305058536, 0.91498633869583, 0.951577637400123, 0.3488552708502482, 1.3226110539383829, 0.8090117428072352, 1.6093166251549134, 1.6001874890149592, 0.6969935437290651, 1.6009372255026115, 0.8917959407846618, 0.8059776671843952, 1.588143570336133, 0.7032780389006896, 1.6117381921391576, 0.7502666192761077, 1.6203086125797146, 1.0513324878457813, 0.9892926766129424, 1.3643313380553859, 1.733666634621547, 0.8400595217006948, 1.6301226947687097, 0.4503332099679081, 0.6310309025713401, 1.7208137609863539, 1.5802531442778402, 0.7089428749906442, 0.3989987468652001, 0.9177690341256889, 1.5271869564660379, 1.6497272501841025, 0.9394147114027969, 0.8435045939412542, 0.735255057786072, 0.5399073994677236, 0.8852683209061534, 0.4464302857109943, 0.8915716460273959, 0.5837807807730571, 0.4114608122288197, 1.5997812350443419, 0.6486909896090742, 0.41868842830916636, 0.6685057965343307, 0.7683749084919419, 0.747127833774114, 0.8884818512496471, 1.6471490521504117, 1.0000999950004998, 0.7787168933572713, 0.9329523031752481, 1.0187737727287645, 1.1945710527214362, 0.580430874437258, 1.0797684937059426, 1.5662375298785303, 1.317763256431139, 1.3354774427147769, 0.866083136886985, 1.660873264279969, 0.9000555538409838, 0.6251399843235114, 1.3389548162652838, 0.9333273809334001, 0.9353608929178086, 0.9468368391650168, 1.0363879582472966, 1.5279070652366262, 1.491408730026749, 1.5687893421361583, 1.645539425234169, 0.9892926766129424, 0.6788961628997471, 0.740472821918536, 1.1598275733918384, 0.5605354582896608, 0.9712878049270465, 0.6688796603276258, 0.6897100840208152, 0.5984145720150872, 0.7433034373659253, 1.1254776763667949, 0.6090976933136425, 0.8282511696339463, 0.6857842226239972, 0.9435570994910694, 0.8967162315916892, 0.5284884104689525, 0.8764701934464172, 0.5324471804789656, 0.4610856753359402, 0.6273754856543249, 0.8754427451295715, 0.5940538696111658, 0.9145490692138941, 0.6326136261573885, 0.6813956266369781, 0.9070832376358854, 0.8720091742636656, 0.4670117771534247, 0.8209750300709515, 1.08816359064251, 0.7763375554486592, 1.035229443167069, 0.702353187506115, 0.862496376803984, 0.37229020937972573, 0.4984977432245807, 0.7648529270389178, 0.7681145747868608, 1.103313192162588, 0.4528796749689701, 0.5378661543544081, 0.8022468448052633, 0.5697367813297646, 0.6491532946846994, 0.7935993951610598, 0.8428523002282192, 0.7414849964766651, 0.7813449942247023, 0.9229301165310405, 0.8067837380611982, 0.693685807840985, 0.6248199740725323, 0.3817066936798463, 0.9192388155425117, 0.8021845174272563, 0.8757282683572571, 1.0700467279516348, 0.6938299503480662, 0.4039801975344831, 0.8594184079946158, 0.5211525688318153, 0.8438009243891595, 0.8395832299420946, 0.5221110992882645, 0.4641120554348917, 0.5994163828258283, 1.1960351165413163, 1.03, 0.805791536316931, 0.9143850392476902, 1.113013926238122, 0.6636264009214824, 1.0689246933250258, 0.6940461079784254, 1.0281050529979903, 0.5412023651093923, 0.7866384175718854, 0.4893873721296863, 0.40632499307820086, 0.7345066371381541, 1.1530394615970434, 1.0387492478938314, 0.8613942186943212, 1.0768008172359453, 0.8361817984146748, 1.0788419717456306, 1.0943948099292138, 0.8708042259888269, 0.8702298546935747, 0.7029935988328769, 0.8269824665614138, 0.7491328320131218, 0.815781833580523, 0.644670458451448, 0.6909413868049881, 0.6794115100585212, 0.7177743377970545, 0.48918299234540036, 1.1832159566199234, 0.6827151675479314, 0.930967238950974, 0.4395452195167182, 0.957131129992124, 0.7104927867332644, 0.6270566162636353, 1.475466028073842, 0.36414282912066254, 0.7461233142048304, 0.38223029707232786, 0.8677557259966654, 1.0274726273726225, 0.8079603950689661, 0.776530746332687, 0.4835286961494633, 0.8115417426109394, 0.36945906403822343, 0.5823229344616268, 0.6456779382943171, 0.7370888684548154, 1.1265433857601757, 0.8424962907930218, 0.7803204469959761, 0.9116468614545875, 0.36262928728937494, 1.1533429672044653, 0.3983716857408418, 0.7744675590365293, 0.5678908345800273, 0.7601973427998812, 0.897217922246318, 0.883685464404615, 1.2929423807734048, 0.9232551110067033, 0.8925245094673873, 0.6791906948714772, 0.472652091923859, 0.7903163923391695, 0.5824946351684279, 0.8857200460642177, 0.7294518489934754, 0.8365404951345752, 0.6755738301621815, 0.9402127418834527, 0.39648455203198024, 0.48672374094551835, 0.5793099343184096, 0.5528109984434101, 0.8295179322956197, 0.5644466316668034, 0.8861151166750288, 0.7555792479945436, 1.0261091559868278, 0.9495261976375374, 0.8556284240252893, 0.42766809560686186, 0.7200694410957876, 0.4663689526544407, 0.3255764119219941, 0.9275774900244185, 0.6676076692189808, 0.44766058571198786, 0.6608328079022712, 0.7006425622241343, 0.7280109889280519, 0.7332121111929345, 0.7032069396699666, 0.7609204951898719, 0.7647221717722064, 1.1089183919477574, 0.8237111144084436, 0.7167286794875729, 0.8924124606929242, 0.9892421341612984, 0.5163332257370234, 0.4052159917870962, 1.0974515934655158, 0.7714272486761147, 1.087612063191651, 0.880056816347672, 0.5457105459856901, 0.9734474818910366, 0.7828793010419933, 0.8340263784797216, 0.5934644049983115, 0.7850477692471969, 0.8006247560499239, 0.9033825324855468, 0.4132795663954365, 0.9127431182978045, 0.410731055558257, 0.6166846844214634, 0.6802205524680948, 0.4841487374764082, 0.8392854103342915, 0.48445846055157293, 0.8943712875534412, 0.7919595949289333, 0.34727510708370674, 0.7382411530116699, 0.3672873534441392, 0.6989992846920517, 0.8919641248391104, 0.5913543776789008, 0.6927481504847198, 0.8479976415061543, 1.228087944733601, 0.5126402247190519, 0.6519969325081216, 0.5797413216254298, 0.38457769046058826, 0.42579337712087534, 0.6892024376045112, 0.6090976933136424, 0.9860527369263776, 0.8881441324469806, 0.8406545069170805, 0.5435071296680477, 0.9746794344808964, 0.7852388171760233, 0.4754997371187496, 0.49809637621649083, 0.8273451516749223, 0.8749285685128815, 0.8845337754998392, 0.8190848551890091, 0.8221313763626833, 0.9747307320486002, 0.48846698967279256, 0.5367494760127857, 0.7096477999684069, 0.42532340636273475, 0.7633478892353079, 0.8445708969648433, 0.728079665970696, 0.6116371473349212, 1.0646595700034824, 0.8878062851771213, 0.6922427319950712, 0.83916625289629, 0.928654941299512, 0.49264591747014413, 0.9233634170791044, 0.5161395160225576, 0.3740320841853008, 0.7644605941446558, 0.3252691193458119, 1.0969503179269333, 0.6862943974709397, 0.5602677931132576, 0.8448076704197234, 1.215236602477065, 0.7224956747275377, 0.37775653535048204, 0.9930760293149764, 0.9478923989567593, 0.7892401408950258, 1.0504284840006959, 0.30789608636681304, 0.8333066662399863, 0.91465840618233, 0.8640023148117139, 0.5458021619598076, 0.9520504188329524, 0.4632493928760188, 0.6461423991660042, 0.5979966555090421, 0.8096295449154509, 0.8883692925805123, 1.0776363022838455, 0.8938679992034617, 0.2978254522367086, 0.5632938842203065, 0.9170059977993601, 1.2733813254481157, 1.1029959202100432, 0.8075270893288968, 0.6663332499583073, 0.7349829930005184, 0.5732364259186605, 0.8426743143112884, 0.7969943538068511, 0.9136739024400335, 0.393064880140671, 0.5467174773134658, 0.40472212689696124, 0.5463515351859094, 0.8503528679318956, 1.054466689848475, 0.8204876598706405, 0.9332202312423364, 1.3118688958886098, 0.836181798414675, 0.6723094525588645, 0.5631163290120434, 0.7815369473031969, 0.8957120072880569, 0.9817840903172144, 0.6915200647848189, 0.6916646586316233, 0.47233462714478175, 0.9144397191723467, 0.9141115905621152, 0.48867166891482466, 1.0992724866929038, 0.8036790404135223, 1.09754270987511, 0.6313477647065838, 0.6681317235396026, 0.4621688003316537, 0.33421549934136807, 0.8010617953691213, 0.891403387922662, 0.7791662210337404, 0.5385164807134505, 1.13754120804479, 0.5751521537819363, 0.5367494760127857, 0.9106041950265769, 0.6131883886702356, 0.8229216244576393, 0.8015609770940699, 0.9265527507918802, 0.8007496487667041, 1.0978160137290767, 0.4219004621945798, 0.9503157370053387, 0.5438749856354859, 0.9644169222903547, 0.596322060635023, 0.6367888189973188, 0.6350590523722971, 0.6762396025078685, 0.5853204250664759, 0.8709764635166671, 0.614979674460872, 0.4174925149029621, 0.5578530272392541, 0.6286493458200685, 0.5073460357586328, 0.460217339960154, 0.4338202392696772, 0.7493330367733696, 0.7633478892353079, 1.0111379727811631, 0.7332121111929345, 1.0881176406988355, 0.5281098370604357]\n",
      "Wall time: 4.15 s\n"
     ]
    }
   ],
   "source": [
    "%%time\n",
    "\n",
    "cosine_list = []\n",
    "id_num = 300\n",
    "i = 0\n",
    "\n",
    "target = np.array(df)[id_num].round(2)\n",
    "\n",
    "for i in range(0, 1000):\n",
    "    compare = np.array(df)[i].round(2)\n",
    "    result = (similarity_metric(target, compare)).euclidean()\n",
    "    cosine_list.append(result)\n",
    "    #i += 1 \n",
    "print(cosine_list)"
   ]
  },
  {
   "cell_type": "markdown",
   "metadata": {},
   "source": [
    "## Testing Manhattan - need to fix, dont run for now"
   ]
  },
  {
   "cell_type": "code",
   "execution_count": 77,
   "metadata": {},
   "outputs": [],
   "source": [
    "# The code basis for one target to all values in the same column\n",
    "\n",
    "\n",
    "feature = 'Tempo'\n",
    "feature_list = []\n",
    "manhattan_list = []\n",
    "i = 0\n",
    "\n",
    "for val in df[feature]: \n",
    "    feature_list.append(similarity_metric(df[feature][45000], val))\n",
    "    manhattan_score = feature_list[i].manhattan()\n",
    "    manhattan_list.append(manhattan_score)\n",
    "    i += 1 \n",
    "\n",
    "#print(euclidean_list)\n",
    "#print(tempo_list) #Indent this if you want one-by-one printing\n",
    "#tempo_list = np.array(tempo_list)"
   ]
  },
  {
   "cell_type": "markdown",
   "metadata": {},
   "source": [
    "### Need this for later"
   ]
  },
  {
   "cell_type": "code",
   "execution_count": null,
   "metadata": {},
   "outputs": [],
   "source": [
    "# for i in range(0,9): # Loop through the 9 expected features\n",
    "# for value in feature_list, feature_list2: # take values over the loop and compare them\n",
    "# x = (feature_list[i]) \n",
    "# y = (feature_list2[i]) \n",
    "# distance = math.sqrt((x - y) ** 2 ) #one-dimensional euclidean formula\n",
    "# print(key_list[i].strip('[]').strip(' '), round(distance, 3)) # print all feature metrics"
   ]
  },
  {
   "cell_type": "code",
   "execution_count": null,
   "metadata": {
    "scrolled": true
   },
   "outputs": [],
   "source": [
    "print(len(manhattan_list))\n",
    "print(manhattan_list[25:35])"
   ]
  },
  {
   "cell_type": "code",
   "execution_count": null,
   "metadata": {},
   "outputs": [],
   "source": [
    "for i in range(0, len(manhattan_list)):\n",
    "    if abs(manhattan_list[i]) <= 0:\n",
    "        print(i,':', manhattan_list[i])"
   ]
  },
  {
   "cell_type": "markdown",
   "metadata": {},
   "source": [
    "## Testing Cosine"
   ]
  },
  {
   "cell_type": "code",
   "execution_count": 59,
   "metadata": {},
   "outputs": [
    {
     "name": "stdout",
     "output_type": "stream",
     "text": [
      "Wall time: 7.84 s\n"
     ]
    }
   ],
   "source": [
    "%%time\n",
    "# The code basis for one target to all values in the same column\n",
    " \n",
    "feature = 'Tempo'\n",
    "#feature_list = []\n",
    "cosine_list = []\n",
    "i = 0\n",
    "\n",
    "for val in df[feature]:   \n",
    "    result = (similarity_metric(df[feature][45000], val)).cosine()\n",
    "    cosine_list.append(result)\n",
    "#     cosine_score = feature_list[i].cosine()\n",
    "#     cosine_list.append(cosine_score)\n",
    "    i += 1\n",
    "\n",
    "#print(euclidean_list)\n",
    "#print(tempo_list) #Indent this if you want one-by-one printing\n",
    "#tempo_list = np.array(tempo_list)"
   ]
  },
  {
   "cell_type": "code",
   "execution_count": 60,
   "metadata": {},
   "outputs": [
    {
     "name": "stdout",
     "output_type": "stream",
     "text": [
      "169909\n",
      "[1.0, 1.0, 1.0, 1.0, 1.0, 1.0, 1.0, 1.0, 1.0, 1.0, 1.0, 1.0, 1.0, 1.0, 1.0, 0.9999999999999998, 1.0, 1.0, 1.0, 1.0, 1.0, 1.0, 1.0, 1.0, 1.0, 0.9999999999999998, 1.0, 1.0, 1.0, 1.0, 1.0, 1.0, 1.0000000000000002, 1.0, 1.0, 0.9999999999999999, 1.0, 1.0000000000000002, 1.0, 1.0, 1.0, 1.0, 1.0000000000000002, 1.0, 0.9999999999999999, 1.0, 1.0, 1.0, 1.0, 1.0, 1.0, 1.0, 1.0, 1.0, 1.0, 1.0, 1.0, 1.0, 1.0, 1.0, 0.9999999999999998, 1.0, 1.0000000000000002, 1.0, 1.0, 0.9999999999999999, 1.0, 1.0, 1.0, 1.0, 1.0, 1.0, 1.0, 1.0, 1.0]\n"
     ]
    }
   ],
   "source": [
    "print(len(cosine_list))\n",
    "print(cosine_list[25:100])"
   ]
  },
  {
   "cell_type": "code",
   "execution_count": 62,
   "metadata": {
    "scrolled": true
   },
   "outputs": [
    {
     "name": "stdout",
     "output_type": "stream",
     "text": [
      "158323\n"
     ]
    }
   ],
   "source": [
    "addition = 0\n",
    "\n",
    "for i in range(0, len(cosine_list)):\n",
    "    if abs(cosine_list[i]) <= 1:\n",
    "        addition +=1\n",
    "print(addition)"
   ]
  },
  {
   "cell_type": "markdown",
   "metadata": {},
   "source": [
    "## Testing Jaccard"
   ]
  },
  {
   "cell_type": "code",
   "execution_count": 92,
   "metadata": {},
   "outputs": [
    {
     "name": "stdout",
     "output_type": "stream",
     "text": [
      "Wall time: 5.34 s\n"
     ]
    }
   ],
   "source": [
    "%%time\n",
    "\n",
    "feature = 'Valence'\n",
    "feature_list = []\n",
    "jaccard_list = []\n",
    "id_num = 45000\n",
    "i = 0\n",
    "\n",
    "for val in df[feature]:   \n",
    "    \n",
    "    feature_list.append(similarity_metric(df[feature][id_num], val))\n",
    "    jaccard_score = feature_list[i].jaccard()\n",
    "    jaccard_list.append(jaccard_score)\n",
    "    i += 1"
   ]
  },
  {
   "cell_type": "code",
   "execution_count": 93,
   "metadata": {},
   "outputs": [
    {
     "name": "stdout",
     "output_type": "stream",
     "text": [
      "169909\n",
      "[1.0, 1.0, 1.0, 1.0, 1.0, 1.0, 1.0, 1.0, 1.0, 1.0]\n"
     ]
    }
   ],
   "source": [
    "print(len(jaccard_list))\n",
    "print(jaccard_list[25:35])"
   ]
  },
  {
   "cell_type": "code",
   "execution_count": 94,
   "metadata": {},
   "outputs": [
    {
     "name": "stdout",
     "output_type": "stream",
     "text": [
      "1245 : 0.0\n",
      "1340 : 0.0\n",
      "5276 : 0.0\n",
      "6050 : 0.0\n",
      "6182 : 0.0\n",
      "6233 : 0.0\n",
      "7058 : 0.0\n",
      "7555 : 0.0\n",
      "8361 : 0.0\n",
      "8943 : 0.0\n",
      "9386 : 0.0\n",
      "9555 : 0.0\n",
      "9749 : 0.0\n",
      "11551 : 0.0\n",
      "12517 : 0.0\n",
      "12818 : 0.0\n",
      "15231 : 0.0\n",
      "16276 : 0.0\n",
      "18650 : 0.0\n",
      "20355 : 0.0\n",
      "23191 : 0.0\n",
      "23597 : 0.0\n",
      "23709 : 0.0\n",
      "24481 : 0.0\n",
      "24562 : 0.0\n",
      "24676 : 0.0\n",
      "26056 : 0.0\n",
      "26609 : 0.0\n",
      "26660 : 0.0\n",
      "29788 : 0.0\n",
      "31220 : 0.0\n",
      "31358 : 0.0\n",
      "31669 : 0.0\n",
      "31877 : 0.0\n",
      "33887 : 0.0\n",
      "34000 : 0.0\n",
      "36187 : 0.0\n",
      "36782 : 0.0\n",
      "37515 : 0.0\n",
      "37700 : 0.0\n",
      "38317 : 0.0\n",
      "39151 : 0.0\n",
      "39363 : 0.0\n",
      "39481 : 0.0\n",
      "40163 : 0.0\n",
      "40468 : 0.0\n",
      "41216 : 0.0\n",
      "41692 : 0.0\n",
      "41835 : 0.0\n",
      "41922 : 0.0\n",
      "42328 : 0.0\n",
      "42617 : 0.0\n",
      "45000 : 0.0\n",
      "46926 : 0.0\n",
      "47643 : 0.0\n",
      "47668 : 0.0\n",
      "51876 : 0.0\n",
      "52122 : 0.0\n",
      "52321 : 0.0\n",
      "52426 : 0.0\n",
      "52853 : 0.0\n",
      "53812 : 0.0\n",
      "56490 : 0.0\n",
      "57247 : 0.0\n",
      "57629 : 0.0\n",
      "59687 : 0.0\n",
      "63435 : 0.0\n",
      "63646 : 0.0\n",
      "65933 : 0.0\n",
      "67042 : 0.0\n",
      "67406 : 0.0\n",
      "68480 : 0.0\n",
      "69726 : 0.0\n",
      "69734 : 0.0\n",
      "70248 : 0.0\n",
      "70272 : 0.0\n",
      "70984 : 0.0\n",
      "71659 : 0.0\n",
      "72084 : 0.0\n",
      "73366 : 0.0\n",
      "75350 : 0.0\n",
      "77527 : 0.0\n",
      "78295 : 0.0\n",
      "80640 : 0.0\n",
      "81563 : 0.0\n",
      "83374 : 0.0\n",
      "84538 : 0.0\n",
      "84959 : 0.0\n",
      "85260 : 0.0\n",
      "88547 : 0.0\n",
      "91763 : 0.0\n",
      "91813 : 0.0\n",
      "93388 : 0.0\n",
      "93509 : 0.0\n",
      "94433 : 0.0\n",
      "94532 : 0.0\n",
      "94691 : 0.0\n",
      "95475 : 0.0\n",
      "97896 : 0.0\n",
      "98508 : 0.0\n",
      "98649 : 0.0\n",
      "99685 : 0.0\n",
      "99914 : 0.0\n",
      "100706 : 0.0\n",
      "100766 : 0.0\n",
      "102777 : 0.0\n",
      "104893 : 0.0\n",
      "106133 : 0.0\n",
      "107481 : 0.0\n",
      "108837 : 0.0\n",
      "108858 : 0.0\n",
      "109377 : 0.0\n",
      "110107 : 0.0\n",
      "114430 : 0.0\n",
      "114710 : 0.0\n",
      "114918 : 0.0\n",
      "115131 : 0.0\n",
      "116980 : 0.0\n",
      "118050 : 0.0\n",
      "119708 : 0.0\n",
      "119989 : 0.0\n",
      "120993 : 0.0\n",
      "122854 : 0.0\n",
      "123677 : 0.0\n",
      "125503 : 0.0\n",
      "126090 : 0.0\n",
      "126226 : 0.0\n",
      "126527 : 0.0\n",
      "131327 : 0.0\n",
      "132412 : 0.0\n",
      "136658 : 0.0\n",
      "137110 : 0.0\n",
      "137473 : 0.0\n",
      "139723 : 0.0\n",
      "140136 : 0.0\n",
      "141582 : 0.0\n",
      "142519 : 0.0\n",
      "142555 : 0.0\n",
      "143115 : 0.0\n",
      "143892 : 0.0\n",
      "145292 : 0.0\n",
      "146081 : 0.0\n",
      "146912 : 0.0\n",
      "147555 : 0.0\n",
      "148417 : 0.0\n",
      "148932 : 0.0\n",
      "151815 : 0.0\n",
      "153268 : 0.0\n",
      "154851 : 0.0\n",
      "155519 : 0.0\n",
      "159217 : 0.0\n",
      "161844 : 0.0\n",
      "161884 : 0.0\n",
      "163273 : 0.0\n",
      "163627 : 0.0\n",
      "164992 : 0.0\n",
      "168923 : 0.0\n"
     ]
    }
   ],
   "source": [
    "for i in range(0, len(jaccard_list)):\n",
    "    if jaccard_list[i] <= 0:\n",
    "        print(i,':', jaccard_list[i])"
   ]
  },
  {
   "cell_type": "markdown",
   "metadata": {},
   "source": [
    "## Testing Pearson"
   ]
  },
  {
   "cell_type": "code",
   "execution_count": 95,
   "metadata": {},
   "outputs": [
    {
     "name": "stdout",
     "output_type": "stream",
     "text": [
      "Wall time: 9.88 s\n"
     ]
    }
   ],
   "source": [
    "%%time\n",
    "\n",
    "feature = 'Energy'\n",
    "feature_list = []\n",
    "pearson_list = []\n",
    "i = 0\n",
    "\n",
    "for val in df[feature]:   \n",
    "#     val = np.array([val])\n",
    "    feature_list.append(similarity_metric(df[feature][45000], val))\n",
    "    pearson_score = feature_list[i].pearson()\n",
    "    pearson_list.append(pearson_score)\n",
    "    i += 1"
   ]
  },
  {
   "cell_type": "code",
   "execution_count": 96,
   "metadata": {},
   "outputs": [
    {
     "name": "stdout",
     "output_type": "stream",
     "text": [
      "169909\n",
      "[1.0, 1.0, 1.0, 1.0, 1.0, 1.0, 1.0, 1.0, 1.0, 1.0]\n"
     ]
    }
   ],
   "source": [
    "print(len(pearson_list))\n",
    "print(pearson_list[25:35])"
   ]
  },
  {
   "cell_type": "code",
   "execution_count": 97,
   "metadata": {},
   "outputs": [],
   "source": [
    "for i in range(0, len(pearson_list)):\n",
    "    if pearson_list[i] <= 0:\n",
    "        print(i,':', pearson_list[i])"
   ]
  },
  {
   "cell_type": "markdown",
   "metadata": {},
   "source": [
    "## Testing Euclidean"
   ]
  },
  {
   "cell_type": "code",
   "execution_count": 98,
   "metadata": {},
   "outputs": [
    {
     "name": "stdout",
     "output_type": "stream",
     "text": [
      "Wall time: 3.86 s\n"
     ]
    }
   ],
   "source": [
    "%%time\n",
    "\n",
    "# The code basis for one target to all values in the same column\n",
    " \n",
    "feature_list = []\n",
    "euclidean_list = []\n",
    "\n",
    "feature = 'Tempo'\n",
    "id_num = 4500 \n",
    "i = 0 # Index\n",
    "\n",
    "# lines = iter(open('something.txt', 'r'))\n",
    "# for val in lines:\n",
    "#     if val == \"!\":\n",
    "#         lines.next()\n",
    "#         continue\n",
    "#     <etc>\n",
    "\n",
    "for val in df[feature]: \n",
    "    \n",
    "    #TODO fix this, need to assign 1 when the number is the same\n",
    "    feature_list.append(similarity_metric(df[feature][id_num], val))\n",
    "    #if i == id_num:\n",
    "    #    val = 1.0\n",
    "    euclidean_score = feature_list[i].euclidean()\n",
    "    euclidean_list.append(euclidean_score)\n",
    "    i += 1 \n",
    "    \n",
    "#print(euclidean_list)\n",
    "#print(tempo_list) #Indent this if you want one-by-one printing\n",
    "#tempo_list = np.array(tempo_list)"
   ]
  },
  {
   "cell_type": "code",
   "execution_count": 99,
   "metadata": {},
   "outputs": [
    {
     "name": "stdout",
     "output_type": "stream",
     "text": [
      "169909\n",
      "[26.33699999999999, 17.11099999999999, 32.152, 18.776999999999973, 13.361000000000004, 20.132000000000005, 2.0490000000000066, 12.146, 72.468, 20.700000000000003]\n"
     ]
    }
   ],
   "source": [
    "print(len(euclidean_list))\n",
    "print(euclidean_list[25:35])"
   ]
  },
  {
   "cell_type": "code",
   "execution_count": 100,
   "metadata": {},
   "outputs": [
    {
     "name": "stdout",
     "output_type": "stream",
     "text": [
      "4500 : 0.0\n",
      "13760 : 0.0\n"
     ]
    }
   ],
   "source": [
    "for i in range(0, len(euclidean_list)):\n",
    "    if euclidean_list[i] <= 0:\n",
    "        print(i,':', euclidean_list[i])"
   ]
  },
  {
   "cell_type": "code",
   "execution_count": 105,
   "metadata": {},
   "outputs": [
    {
     "data": {
      "text/plain": [
       "213.01864418167722"
      ]
     },
     "execution_count": 105,
     "metadata": {},
     "output_type": "execute_result"
    }
   ],
   "source": [
    "new_value = [[25.223, 25],[220.110, 111]]\n",
    "new_value = similarity_metric(new_value[0],new_value[1]).euclidean()\n",
    "new_value"
   ]
  },
  {
   "cell_type": "code",
   "execution_count": null,
   "metadata": {},
   "outputs": [],
   "source": [
    "def euclidean_similarity(dict_name, id1, id2):\n",
    "    import math\n",
    "    \n",
    "    def feature_select():\n",
    "        feature_select = [\"Accoustiness\", \"Danceability\", \"Energy\", \"Liveness\", \"Loudness\", \"Popularity\", \"Speechiness\", \"Tempo\", \"Valence\"]\n",
    "        for number, feature in enumerate(feature_select, start=1):\n",
    "            print(number, feature) # Present a list of options to the user for feature choice\n",
    "    \n",
    "    try:   \n",
    "        dict_name = dict_name\n",
    "    \n",
    "        if id1 == '': # If the positional argument is entered as '', then ask for an int ID\n",
    "            id1 = int(input(\"Please insert your first id for music features: \"))\n",
    "        else:\n",
    "            id1 = id1\n",
    "        \n",
    "        if id2 == '': # If the positional argument is entered as '', then ask for an int ID\n",
    "            id2 = int(input(\"Please insert your second id for music features: \"))\n",
    "        else:\n",
    "            id2 = id2\n",
    "                \n",
    "        if id1 == id2: # check to make sure the user is not entering the same ID twice\n",
    "            print(\"You can't have the same ID, please choose 2 different IDs.\")\n",
    "            euclidean_similarity(dict_name, '','')\n",
    "        else:\n",
    "            print(\"If you are working with defined artist lists, enter 'Artist'\")\n",
    "            feature_select()\n",
    "            query = input(\"Which feature do you want to use for comparison? Enter the feature name or enter 'No' to compare all features. \").capitalize().rstrip()\n",
    "\n",
    "            if query == '' or query == \"No\".capitalize(): # if query entry is no or left empty, go here\n",
    "                print(\"Comparing all respective features using Euclidean.\\n\")\n",
    "                # take values from the dictionary from the end,to avoid the string values at the beginning\n",
    "                feature_list = list(dict_name[id1].values())[-9:] \n",
    "                feature_list2 = list(dict_name[id2].values())[-9:]\n",
    "                key_list = str(list(dict_name[id1].keys())[-9:]).split(',') # take the associated key names\n",
    "            \n",
    "                for i in range(0,9): # Loop through the 9 expected features\n",
    "                    for value in feature_list, feature_list2: # take values over the loop and compare them\n",
    "                        x = (feature_list[i]) \n",
    "                        y = (feature_list2[i]) \n",
    "                        distance = math.sqrt((x - y) ** 2 ) #one-dimensional euclidean formula\n",
    "                    print(key_list[i].strip('[]').strip(' '), round(distance, 3)) # print all feature metrics\n",
    "            \n",
    "            else:\n",
    "                if query == 'Artist' and len(dict_name) == 2: # must be working with chosen artists\n",
    "                    x = []\n",
    "                    y = []\n",
    "                    \n",
    "                    # To avoid issues with math such as sqrt, create 2 new lists and assign all values to those lists\n",
    "                    for value in dict_name[id1]:\n",
    "                        x.append(value)\n",
    "                    for value in dict_name[id2]:\n",
    "                        y.append(value)\n",
    "                    distance = math.sqrt(sum([(a - b) ** 2 for a, b in zip(x, y)])) # multi-dimensional euclidean\n",
    "                    return(print(\"Euclidean distance of {} and {}:\".format(id1, id2), round(distance, 3)))\n",
    "                \n",
    "                else: # must be working with default dictionary and values\n",
    "                    # Assign our queried features to our x and y variables\n",
    "                    x = dict_name[id1][query]\n",
    "                    y = dict_name[id2][query]\n",
    "                    distance = math.sqrt((x - y) ** 2 ) #one-dimensional euclidean formula   \n",
    "                    print(\"Euclidean Distance of {} for ID {} and ID {} is\".format(query, id1, id2), round(distance, 3))\n",
    "            \n",
    "    # Error handling for the function is written here\n",
    "    except KeyError as keyerror:\n",
    "        print(\"That feature doesn't exist.\", keyerror)\n",
    "        euclidean_similarity(dict_name,'','')\n",
    "    except ValueError as valueerror:\n",
    "        print(\"Your entry is invalid, please make sure your entry was the correct format.\")\n",
    "        euclidean_similarity(dict_name,'','')\n",
    "    except TypeError as typeerror:\n",
    "        print(\"Invalid type entered.\")\n",
    "    except IndexError:\n",
    "        print(\"There was a problem, did you enter your dictionary name correctly?\")\n",
    "    except ZeroDivisionError:\n",
    "        print(\"Sorry, but you cannot divide by 0, metric will restart.\")\n",
    "        euclidean_similarity(dict_name,'','')\n",
    "    except AttributeError:\n",
    "        print(\"You can't compare all features of an artist you have defined.\")\n",
    "        euclidean_similarity(dict_name,'','')"
   ]
  },
  {
   "cell_type": "markdown",
   "metadata": {},
   "source": [
    "## Functions for the Metric choices\n",
    "### Needs to be adjusted for current use, might be removed"
   ]
  },
  {
   "cell_type": "code",
   "execution_count": null,
   "metadata": {},
   "outputs": [],
   "source": [
    "# Function for metric selection\n",
    "def metric_choice(dict_name):\n",
    "    metric = int(input(\"Which metric would you like to use from the selection: Enter the number: \"))\n",
    "    if metric == 1:\n",
    "        euclidean_similarity(dict_name, '', '')\n",
    "    elif metric == 2:\n",
    "        cosine_similarity(dict_name, '', '')\n",
    "    elif metric == 3:\n",
    "        pearson_similarity(dict_name, '', '')\n",
    "    elif metric == 4:\n",
    "        jaccard_similarity(dict_name, '', '')\n",
    "    elif metric == 5:\n",
    "        manhattan_similarity(dict_name, '', '')\n",
    "    else:\n",
    "        print(\"Your selection is incorrect.\")\n",
    "        if metric == '': # If entry is blank, end the program\n",
    "            print(\"You entered nothing, the program will end.\")\n",
    "        else:\n",
    "            metric_choice(dict_name) # Restart the metric choice\n",
    "                \n",
    "def metric_selection():\n",
    "    metric_select = [\"Euclidean\", \"Cosine\", \"Pearson\", \"Jaccard\", \"Manhattan\"]\n",
    "    for number, metric in enumerate(metric_select, start=1):\n",
    "        print(number, metric) # Present a list of options to the user for metric choice                "
   ]
  }
 ],
 "metadata": {
  "kernelspec": {
   "display_name": "Python 3",
   "language": "python",
   "name": "python3"
  },
  "language_info": {
   "codemirror_mode": {
    "name": "ipython",
    "version": 3
   },
   "file_extension": ".py",
   "mimetype": "text/x-python",
   "name": "python",
   "nbconvert_exporter": "python",
   "pygments_lexer": "ipython3",
   "version": "3.7.4"
  }
 },
 "nbformat": 4,
 "nbformat_minor": 4
}
