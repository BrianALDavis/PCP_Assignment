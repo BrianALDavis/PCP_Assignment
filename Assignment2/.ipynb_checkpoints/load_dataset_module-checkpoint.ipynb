{
 "cells": [
  {
   "cell_type": "markdown",
   "metadata": {},
   "source": [
    "### PCP Module 1 - load_dataset_module"
   ]
  },
  {
   "cell_type": "code",
   "execution_count": 1,
   "metadata": {},
   "outputs": [],
   "source": [
    "import pandas as pd\n",
    "import numpy as np"
   ]
  },
  {
   "cell_type": "code",
   "execution_count": 2,
   "metadata": {},
   "outputs": [],
   "source": [
    "def artist_music():\n",
    "    try:\n",
    "        df_artists = pd.read_csv(\"data.csv\", encoding = 'utf8', delimiter = ',', \n",
    "                                 usecols=['artists','name','acousticness','danceability','energy','liveness','loudness','popularity','speechiness','tempo','valence'])\n",
    "        # Possibly add index here later, not currently needed\n",
    "        artists = df_artists.to_dict(orient='records')\n",
    "        return artists       #return the dictionary for use\n",
    "    \n",
    "    except IOError as ioerr: # catch any file errors to prevent crashing of the program\n",
    "        print('File error: ' + str(ioerr))\n",
    "    finally:\n",
    "        print('Finished reading the command for artist music.')"
   ]
  },
  {
   "cell_type": "code",
   "execution_count": 8,
   "metadata": {},
   "outputs": [],
   "source": [
    "def music_features():\n",
    "    try:\n",
    "        df_features = pd.read_csv('data.csv', encoding = 'utf8', delimiter=',', \n",
    "                                  usecols=['id', 'name', 'acousticness','danceability','energy','liveness','loudness','popularity','speechiness','tempo','valence'])\n",
    "        \n",
    "        features = df_features.to_dict(orient='records')\n",
    "        return features\n",
    "        \n",
    "    except IOError as ioerr: # catch any file errors to prevent crashing of the program\n",
    "        print('File error: ' + str(ioerr))\n",
    "    finally:\n",
    "        print('Finished reading the command for music features.')"
   ]
  },
  {
   "cell_type": "code",
   "execution_count": 9,
   "metadata": {},
   "outputs": [
    {
     "name": "stdout",
     "output_type": "stream",
     "text": [
      "Finished reading the command for music features.\n"
     ]
    }
   ],
   "source": [
    "features = music_features()"
   ]
  },
  {
   "cell_type": "code",
   "execution_count": 10,
   "metadata": {},
   "outputs": [
    {
     "data": {
      "text/plain": [
       "{'acousticness': 0.9940000000000001,\n",
       " 'danceability': 0.379,\n",
       " 'energy': 0.0135,\n",
       " 'id': '6KuQTIu1KoTTkLXKrwlLPV',\n",
       " 'liveness': 0.0763,\n",
       " 'loudness': -28.454,\n",
       " 'name': 'Fantasiestücke, Op. 111: Più tosto lento',\n",
       " 'popularity': 0,\n",
       " 'speechiness': 0.0462,\n",
       " 'tempo': 83.97200000000002,\n",
       " 'valence': 0.0767}"
      ]
     },
     "execution_count": 10,
     "metadata": {},
     "output_type": "execute_result"
    }
   ],
   "source": [
    "features[1]"
   ]
  },
  {
   "cell_type": "code",
   "execution_count": 4,
   "metadata": {},
   "outputs": [
    {
     "name": "stdout",
     "output_type": "stream",
     "text": [
      "Finished reading the command for artist music.\n"
     ]
    }
   ],
   "source": [
    "artist = artist_music()"
   ]
  },
  {
   "cell_type": "code",
   "execution_count": 5,
   "metadata": {},
   "outputs": [
    {
     "data": {
      "text/plain": [
       "0.9940000000000001"
      ]
     },
     "execution_count": 5,
     "metadata": {},
     "output_type": "execute_result"
    }
   ],
   "source": [
    "artist[1]['acousticness']"
   ]
  },
  {
   "cell_type": "code",
   "execution_count": 5,
   "metadata": {},
   "outputs": [
    {
     "data": {
      "text/plain": [
       "{'acousticness': 0.688,\n",
       " 'artists': \"['DEVO']\",\n",
       " 'danceability': 0.753,\n",
       " 'energy': 0.5720000000000001,\n",
       " 'liveness': 0.0748,\n",
       " 'loudness': -14.818,\n",
       " 'name': 'The Day My Baby Gave Me a Surprize',\n",
       " 'popularity': 26,\n",
       " 'speechiness': 0.115,\n",
       " 'tempo': 145.44,\n",
       " 'valence': 0.9670000000000001}"
      ]
     },
     "execution_count": 5,
     "metadata": {},
     "output_type": "execute_result"
    }
   ],
   "source": [
    "artist[20000]"
   ]
  },
  {
   "cell_type": "code",
   "execution_count": 6,
   "metadata": {},
   "outputs": [
    {
     "data": {
      "text/plain": [
       "{'acousticness': 0.983,\n",
       " 'artists': \"['Ignacio Corsini']\",\n",
       " 'danceability': 0.6679999999999999,\n",
       " 'duration_ms': 151840,\n",
       " 'energy': 0.261,\n",
       " 'explicit': 0,\n",
       " 'id': '6ZSXaYQBOPDDmKeqaOfBa2',\n",
       " 'instrumentalness': 0.0232,\n",
       " 'key': 7,\n",
       " 'liveness': 0.122,\n",
       " 'loudness': -16.91,\n",
       " 'mode': 0,\n",
       " 'name': 'Abuelita - Remasterizado',\n",
       " 'popularity': 0,\n",
       " 'release_date': '1928-05-14',\n",
       " 'speechiness': 0.10099999999999999,\n",
       " 'tempo': 120.553,\n",
       " 'valence': 0.7020000000000001,\n",
       " 'year': 1928}"
      ]
     },
     "execution_count": 6,
     "metadata": {},
     "output_type": "execute_result"
    }
   ],
   "source": [
    "df_artist = pd.read_csv('data.csv', encoding='utf8', delimiter = ',').to_dict(orient='records')\n",
    "df_artist[34]"
   ]
  },
  {
   "cell_type": "markdown",
   "metadata": {},
   "source": [
    "### Define the classes"
   ]
  },
  {
   "cell_type": "code",
   "execution_count": 19,
   "metadata": {},
   "outputs": [],
   "source": [
    "class Artist(object):\n",
    "    def __init__(self, name):\n",
    "        self.name = name"
   ]
  },
  {
   "cell_type": "code",
   "execution_count": 27,
   "metadata": {},
   "outputs": [],
   "source": [
    "class Song(object):\n",
    "    def __init__(self, \n",
    "                 name, \n",
    "                 music_ID,\n",
    "                 acousticness, \n",
    "                 danceability, \n",
    "                 energy, \n",
    "                 liveness, \n",
    "                 loudness, \n",
    "                 popularity, \n",
    "                 speechiness, \n",
    "                 tempo, \n",
    "                 valence):\n",
    "        \n",
    "        self.name = name\n",
    "        self.music_ID = music_ID\n",
    "        self.acousticness = acousticness\n",
    "        self.danceability = danceability\n",
    "        self.energy = energy\n",
    "        self.liveness = liveness\n",
    "        self.loudness = loudness\n",
    "        self.popularity = popularity\n",
    "        self.speechiness = speechiness\n",
    "        self.tempo = tempo\n",
    "        self.valence = valence\n",
    "    \n",
    "    def features(self):\n",
    "        return self.name,self.music_ID, self.danceability, self.energy"
   ]
  },
  {
   "cell_type": "code",
   "execution_count": 21,
   "metadata": {},
   "outputs": [
    {
     "data": {
      "text/plain": [
       "'Ignacio Corsini'"
      ]
     },
     "execution_count": 21,
     "metadata": {},
     "output_type": "execute_result"
    }
   ],
   "source": [
    "new_artist = Artist(df_artist[34]['artists'].strip(\"'[]'\"))\n",
    "\n",
    "new_artist.name"
   ]
  },
  {
   "cell_type": "code",
   "execution_count": 24,
   "metadata": {},
   "outputs": [
    {
     "data": {
      "text/plain": [
       "'6ZSXaYQBOPDDmKeqaOfBa2'"
      ]
     },
     "execution_count": 24,
     "metadata": {},
     "output_type": "execute_result"
    }
   ],
   "source": [
    "feature_set = df_artist[34]\n",
    "\n",
    "feature_set['id']"
   ]
  },
  {
   "cell_type": "code",
   "execution_count": 28,
   "metadata": {},
   "outputs": [
    {
     "data": {
      "text/plain": [
       "('Abuelita - Remasterizado', '6ZSXaYQBOPDDmKeqaOfBa2', 3, 4)"
      ]
     },
     "execution_count": 28,
     "metadata": {},
     "output_type": "execute_result"
    }
   ],
   "source": [
    "new_feature = Song(feature_set['name'],feature_set['id'],2,3,4,5,6,7,8,9,10)\n",
    "\n",
    "new_feature.features()"
   ]
  }
 ],
 "metadata": {
  "kernelspec": {
   "display_name": "Python 3",
   "language": "python",
   "name": "python3"
  },
  "language_info": {
   "codemirror_mode": {
    "name": "ipython",
    "version": 3
   },
   "file_extension": ".py",
   "mimetype": "text/x-python",
   "name": "python",
   "nbconvert_exporter": "python",
   "pygments_lexer": "ipython3",
   "version": "3.7.4"
  }
 },
 "nbformat": 4,
 "nbformat_minor": 4
}
