{
 "cells": [
  {
   "cell_type": "markdown",
   "metadata": {},
   "source": [
    "### PCP Assignment 2 Module 1 - load_dataset_module"
   ]
  },
  {
   "cell_type": "code",
   "execution_count": 1,
   "metadata": {},
   "outputs": [],
   "source": [
    "import pandas as pd # Load the library we need\n",
    "#import numpy as np"
   ]
  },
  {
   "cell_type": "markdown",
   "metadata": {},
   "source": [
    "### Define the classes"
   ]
  },
  {
   "cell_type": "code",
   "execution_count": 2,
   "metadata": {},
   "outputs": [],
   "source": [
    "# Use a metaclass to make classes iterable later\n",
    "class IterRegistry(type):\n",
    "    def __iter__(cls):\n",
    "        return iter(cls.registry)"
   ]
  },
  {
   "cell_type": "code",
   "execution_count": 3,
   "metadata": {},
   "outputs": [],
   "source": [
    "class Artist(object):\n",
    "    __metaclass__ = IterRegistry\n",
    "    _registry = []\n",
    "    \n",
    "    def __init__(self, artistname, **kwargs):\n",
    "        self._registry.append(self)\n",
    "        self.artistname = artistname\n",
    "        \n",
    "        super().__init__(**kwargs)\n",
    "        \n",
    "    # Returns object in string format for readability\n",
    "    def __repr__(self):\n",
    "        # Allows the ability to print out all names\n",
    "        return \"Name: % s\" % (self.artistname)\n",
    "        \n",
    "    def getName(self):\n",
    "        return f'Artist Name/s: {self.artistname.strip(\"[]\")}'\n",
    "    \n",
    "#     def __getitem__(self, index):\n",
    "#         return self[index]\n",
    "#         print(self[index])\n",
    "    \n",
    "    def __index__(self):\n",
    "        return self.artistname\n",
    "    \n",
    "    def setName(self):\n",
    "        pass"
   ]
  },
  {
   "cell_type": "code",
   "execution_count": 4,
   "metadata": {},
   "outputs": [],
   "source": [
    "class Song(object):\n",
    "    __metaclass__ = IterRegistry\n",
    "    _registry = []\n",
    "    \n",
    "    def __init__(self, \n",
    "                 songname, \n",
    "                 music_ID,\n",
    "                 acousticness, \n",
    "                 danceability, \n",
    "                 energy, \n",
    "                 liveness, \n",
    "                 loudness, \n",
    "                 popularity, \n",
    "                 speechiness, \n",
    "                 tempo, \n",
    "                 valence,\n",
    "                 **kwargs):\n",
    "        \n",
    "        super().__init__(**kwargs)\n",
    "        \n",
    "        self._registry.append(self)\n",
    "        \n",
    "        self.songname = songname\n",
    "        self.music_ID = music_ID\n",
    "        self.acousticness = acousticness\n",
    "        self.danceability = danceability\n",
    "        self.energy = energy\n",
    "        self.liveness = liveness\n",
    "        self.loudness = loudness\n",
    "        self.popularity = popularity\n",
    "        self.speechiness = speechiness\n",
    "        self.tempo = tempo\n",
    "        self.valence = valence\n",
    "        \n",
    "    # Returns object in string format for readability\n",
    "    def __repr__(self):\n",
    "        # Allows the ability to print out all names\n",
    "        return f'Song Name: {self.songname}, ID: {self.music_ID}, Acousticness: {self.acousticness}, Danceability: {self.danceability}, Energy: {self.energy}, Liveness: {self.liveness}, Loudness: {self.loudness}, Popularity: {self.popularity}, Speechiness: {self.speechiness}, Tempo: {self.tempo}, Valence: {self.valence}'\n",
    "  \n",
    "    def getFeatures(self):\n",
    "        return self.songname, self.music_ID, self.acousticness, self.danceability, self.energy, self.liveness, self.loudness, self.popularity, self.speechiness, self.tempo, self.valence\n",
    "    \n",
    "    def getComparisonFeatures(self):\n",
    "        return self.acousticness, self.danceability, self.energy, self.liveness, self.loudness, self.popularity, self.speechiness, self.tempo, self.valence\n",
    "    \n",
    "    def getSongName(self):\n",
    "        return f'Song Name: {self.songname}'"
   ]
  },
  {
   "cell_type": "code",
   "execution_count": 5,
   "metadata": {},
   "outputs": [],
   "source": [
    "# Could use a class for the extra features from the csv, but not sure yet\n",
    "# Left here just in case\n",
    "class Extras():\n",
    "    pass"
   ]
  },
  {
   "cell_type": "code",
   "execution_count": 6,
   "metadata": {},
   "outputs": [],
   "source": [
    "# Define a sub-class that inherits all features from the above classes\n",
    "\n",
    "class Track(Artist, Song):\n",
    "    __metaclass__ = IterRegistry\n",
    "    _registry = []\n",
    "    \n",
    "    def __init__(self, an, sn, ID, acc, dan, en, live, loud, popu, spe, tem, val):\n",
    "        super().__init__(artistname = an,\n",
    "                         songname = sn,\n",
    "                         music_ID = ID,\n",
    "                         acousticness = acc,\n",
    "                         danceability = dan,\n",
    "                         energy = en,\n",
    "                         liveness = live,\n",
    "                         loudness = loud,\n",
    "                         popularity = popu,\n",
    "                         speechiness = spe,\n",
    "                         tempo = tem,\n",
    "                         valence = val)\n",
    "    \n",
    "    # Override inherited repr so that the output is correct\n",
    "    def __repr__(self):\n",
    "        return f'Artist Name/s: {self.artistname.strip(\"[]\")}, Song Name: {self.songname}, ID: {self.music_ID}, Acousticness: {self.acousticness}, Danceability: {self.danceability}, Energy: {self.energy}, Liveness: {self.liveness}, Loudness: {self.loudness}, Popularity: {self.popularity}, Speechiness: {self.speechiness}, Tempo: {self.tempo}, Valence: {self.valence}'\n"
   ]
  },
  {
   "cell_type": "code",
   "execution_count": 8,
   "metadata": {},
   "outputs": [],
   "source": [
    "#print(help(Track))"
   ]
  },
  {
   "cell_type": "markdown",
   "metadata": {},
   "source": [
    "### Create the Functions"
   ]
  },
  {
   "cell_type": "code",
   "execution_count": 9,
   "metadata": {},
   "outputs": [],
   "source": [
    "def artist_music():\n",
    "    try:\n",
    "        df_artists = pd.read_csv(\"data.csv\", encoding = 'utf8', delimiter = ',')\n",
    "#         df_artists.index += 1\n",
    "#         artists = df_artists.to_dict(orient='records')\n",
    "\n",
    "        artist_list = []\n",
    "        for name in df_artists.artists:\n",
    "            name = name.strip(\"[]\")\n",
    "            artist_list.append(Artist(name))\n",
    "            \n",
    "        return artist_list       #return the dictionary for use\n",
    "    \n",
    "    except IOError as ioerr: # catch any file errors to prevent crashing of the program\n",
    "        print('File error: ' + str(ioerr))\n",
    "    finally:\n",
    "        print('Finished reading the command for artist name file reading.')"
   ]
  },
  {
   "cell_type": "code",
   "execution_count": 10,
   "metadata": {},
   "outputs": [],
   "source": [
    "def music_features():\n",
    "    try:\n",
    "        features = pd.read_csv('data.csv', encoding = 'utf8', delimiter=',', low_memory=False,\n",
    "                                   usecols=['id', 'name', 'acousticness','danceability','energy','liveness','loudness','popularity','speechiness','tempo','valence'])\n",
    "        \n",
    "        song_features_list = []\n",
    "        for value in zip(features.name,                          \n",
    "                         features.id, \n",
    "                         features.acousticness, \n",
    "                         features.danceability, \n",
    "                         features.energy,\n",
    "                         features.liveness,\n",
    "                         features.loudness,\n",
    "                         features.popularity,\n",
    "                         features.speechiness,\n",
    "                         features.tempo,\n",
    "                         features.valence):\n",
    "\n",
    "            song_features_list.append(Song(value[0],\n",
    "                                           value[1],\n",
    "                                           value[2],\n",
    "                                           value[3],\n",
    "                                           value[4],\n",
    "                                           value[5],\n",
    "                                           value[6],\n",
    "                                           value[7],\n",
    "                                           value[8],\n",
    "                                           value[9],\n",
    "                                           value[10]))\n",
    "        \n",
    "        return song_features_list\n",
    "        del song_features_list # Delete from memory when finished \n",
    "        \n",
    "    except IOError as ioerr: # catch any file errors to prevent crashing of the program\n",
    "        print('File error: ' + str(ioerr))\n",
    "    finally:\n",
    "        print('Finished reading the command for music features.')"
   ]
  },
  {
   "cell_type": "code",
   "execution_count": 11,
   "metadata": {},
   "outputs": [],
   "source": [
    "def read_wholeFile():\n",
    "    try:\n",
    "        df_file = pd.read_csv('data.csv', encoding = 'utf8', delimiter=',', low_memory=False,\n",
    "                              usecols=['artists', 'id', 'name', 'acousticness','danceability','energy','liveness','loudness','popularity','speechiness','tempo','valence'])\n",
    "        \n",
    "        file_list = []\n",
    "\n",
    "        for value in zip(df_file.artists,\n",
    "                         df_file.name,                          \n",
    "                         df_file.id, \n",
    "                         df_file.acousticness, \n",
    "                         df_file.danceability, \n",
    "                         df_file.energy,\n",
    "                         df_file.liveness,\n",
    "                         df_file.loudness,\n",
    "                         df_file.popularity,\n",
    "                         df_file.speechiness,\n",
    "                         df_file.tempo,\n",
    "                         df_file.valence):\n",
    "\n",
    "            file_list.append(Track (value[0],\n",
    "                                    value[1],\n",
    "                                    value[2],\n",
    "                                    value[3],\n",
    "                                    value[4],\n",
    "                                    value[5],\n",
    "                                    value[6],\n",
    "                                    value[7],\n",
    "                                    value[8],\n",
    "                                    value[9],\n",
    "                                    value[10],\n",
    "                                    value[11]))\n",
    "        \n",
    "        return file_list\n",
    "        del file_list # Delete from memory when finished \n",
    "        \n",
    "    except IOError as ioerr: # catch any file errors to prevent crashing of the program\n",
    "        print('File error: ' + str(ioerr))\n",
    "    finally:\n",
    "        print('Finished reading the command for full file loading.')"
   ]
  }
 ],
 "metadata": {
  "kernelspec": {
   "display_name": "Python 3",
   "language": "python",
   "name": "python3"
  },
  "language_info": {
   "codemirror_mode": {
    "name": "ipython",
    "version": 3
   },
   "file_extension": ".py",
   "mimetype": "text/x-python",
   "name": "python",
   "nbconvert_exporter": "python",
   "pygments_lexer": "ipython3",
   "version": "3.7.4"
  }
 },
 "nbformat": 4,
 "nbformat_minor": 4
}
