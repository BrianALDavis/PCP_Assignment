{
 "cells": [
  {
   "cell_type": "markdown",
   "metadata": {
    "deletable": false,
    "editable": false
   },
   "source": [
    "# PCP Assignment 2 - Main Notebook: Created by Brian Davis"
   ]
  },
  {
   "cell_type": "markdown",
   "metadata": {
    "deletable": false,
    "editable": false
   },
   "source": [
    "## Welcome to the Intelligent Recommendation Service!"
   ]
  },
  {
   "cell_type": "markdown",
   "metadata": {
    "deletable": false
   },
   "source": [
    "All code needed to execute the program can be found here.  \n",
    "\n",
    "The module calls needed if a user wants to run individual metrics; \n",
    "\n",
    "For Comparison:\n",
    "* Euclidean Distance\n",
    "    * Similarity metric(dataframe_name, first_id, second_id).euclidean()\n",
    "* Cosine Similarity\n",
    "    * Similarity_metric(dataframe_name, first_id, second_id).cosine()\n",
    "* Pearson Correlation\n",
    "    * Similarity_metric(dataframe_name, first_id, second_id).pearson()\n",
    "* Jaccard Similarity\n",
    "    * Similarity_metric(dataframe_name, first_id, second_id).jaccard()\n",
    "* Manhattan Distance\n",
    "    * Similarity_metric(dataframe_name, first_id, second_id).manhattan()\n",
    "    \n",
    "For Recommendation:\n",
    "* Artist Recommendation\n",
    "    * Recommendation(dataframe_name, class_list_name).get_artist_recommendation()\n",
    "* Song Recommendation\n",
    "    * Recommendation(dataframe_name, class_list_name).get_song_recommendation()\n",
    "* Track Recommendation\n",
    "    * Recommendation(dataframe_name, class_list_name).get_target_recommendation()\n",
    "* K Nearest Neighbor Algorithm Recommendation\n",
    "    * Recommendation(dataframe_name, class_list_name).get_knn_recommendation()\n",
    "\n",
    "Please make sure to run the code from top to bottom, the first few code blocks create the program.  \n",
    "The data structures are created before the main function is called.  \n",
    "\n",
    "Individual code blocks can be found below the main function if the user prefers this method."
   ]
  },
  {
   "cell_type": "markdown",
   "metadata": {
    "deletable": false,
    "editable": false
   },
   "source": [
    "### Import the required modules"
   ]
  },
  {
   "cell_type": "code",
   "execution_count": null,
   "metadata": {
    "deletable": false
   },
   "outputs": [],
   "source": [
    "from load_dataset_module import Artist, Song, Track, IterRegistry, Extras, File_loader # Classes\n",
    "from similarity_module import Searcher, Similarity_metric, Comparison, Recommendation\n",
    "import pandas as pd\n",
    "import numpy as np\n",
    "import math\n",
    "from scipy.spatial import distance \n",
    "from numpy.linalg import norm\n",
    "from sklearn.metrics.pairwise import manhattan_distances\n",
    "from sklearn.neighbors import NearestNeighbors as knn\n",
    "from sklearn.preprocessing import MinMaxScaler\n",
    "\n",
    "# For evaluation purposes\n",
    "from sklearn.metrics import mean_squared_error as mse\n",
    "from sklearn.metrics import mean_absolute_error as mae\n",
    "from sklearn.metrics import accuracy_score\n",
    "import seaborn as sns\n",
    "import matplotlib.pyplot as plt\n",
    "\n",
    "# Disable warnings, these are not required for the user to see (might be removed)\n",
    "import warnings\n",
    "warnings.filterwarnings('ignore')"
   ]
  },
  {
   "cell_type": "markdown",
   "metadata": {
    "deletable": false
   },
   "source": [
    "### Requirements for data use are loaded here"
   ]
  },
  {
   "cell_type": "code",
   "execution_count": null,
   "metadata": {
    "deletable": false
   },
   "outputs": [],
   "source": [
    "# Define the data structures by assigning them\n",
    "\n",
    "# Class List\n",
    "song_searcher = File_loader().read_file()\n",
    "\n",
    "# Dataframe\n",
    "music_df = pd.DataFrame.from_records([s.to_dict() for s in song_searcher])"
   ]
  },
  {
   "cell_type": "code",
   "execution_count": null,
   "metadata": {},
   "outputs": [],
   "source": [
    "# Creating logging capabilities\n",
    "\n",
    "# import logging\n",
    "# logging.warning('Watch out!')  # will print a message to the console\n",
    "# logging.info('I told you so')  # will not print anything"
   ]
  },
  {
   "cell_type": "markdown",
   "metadata": {
    "deletable": false
   },
   "source": [
    "### Main Execution Class"
   ]
  },
  {
   "cell_type": "code",
   "execution_count": null,
   "metadata": {
    "deletable": false
   },
   "outputs": [],
   "source": [
    "class Main():\n",
    "    def __init__(self, list_name, class_list):\n",
    "        self.list_name = list_name\n",
    "        self.class_list = class_list\n",
    "        \n",
    "    # Print the list of valid recommendation options\n",
    "    def recommend_select(self):\n",
    "        recommendSelect = [\"Artist Recommendation\", \"Song Recommendation\", \"Target Recommendation\", \"Algorithmic Recommendation (KNN)\"]\n",
    "        for number, option in enumerate(recommendSelect, start=1):\n",
    "            print(number, option) # Present a list of options to the user for recommendation\n",
    "\n",
    "    # Define the direction of the UI\n",
    "    def direction(self):\n",
    "        list_name = self.list_name\n",
    "        class_list = self.class_list\n",
    "        \n",
    "        # Let the user choose an option here\n",
    "        selection = str(input(\"What would you like to do? Please enter 'Comparison' or 'Recommendation'. \").strip().capitalize())\n",
    "        if selection == \"Comparison\" or selection == \"Compare\":\n",
    "            # Call the Comparison class measure feature method\n",
    "            Comparison(list_name, '','').measure_feature()\n",
    "        \n",
    "        elif selection == \"Recommendation\" or selection == \"Recommend\":\n",
    "            # Call the recommend select method\n",
    "            Main(list_name,class_list).recommend_select()\n",
    "            # Dependant on response from user, call the Recommendation class' specific method\n",
    "            response = int(input(\"Please select an option from the list. Enter the number: \"))\n",
    "            if response == 1:\n",
    "                 Recommendation(list_name, class_list).get_artist_recommendation()\n",
    "            elif response == 2:\n",
    "                 Recommendation(list_name, class_list).get_song_recommendation()\n",
    "            elif response == 3: \n",
    "                 Recommendation(list_name, class_list).get_target_recommendation()\n",
    "            elif response == 4: \n",
    "                 Recommendation(list_name, class_list).get_knn_recommendation()\n",
    "            else:\n",
    "                print(\"No valid response entered, the program will use the Algorithmic(KNN) option.\")\n",
    "                Recommendation(list_name, class_list).get_knn_recommendation()\n",
    "        else:\n",
    "            print(\"No valid option chosen, the program will end.\")\n",
    "        \n",
    "    def UI(self):\n",
    "        list_name = self.list_name\n",
    "        class_list = self.class_list\n",
    "        increment = 0\n",
    "        \n",
    "        try:\n",
    "            print(\"Welcome to the Intelligent Recommendation Service!\")\n",
    "            # printing length of dataframe\n",
    "            print(\"We have {} Songs in our Library!\".format(len(list_name), \"\\n\"))\n",
    "\n",
    "            # Ask the user for their input\n",
    "            user_input = str(input(\"Do you know the ID number/s of the Artist/s / Songs you want to use? Please enter yes or no. \").strip().capitalize())\n",
    "            if user_input == \"Yes\":\n",
    "                Main(list_name, class_list).direction()\n",
    "            elif user_input == \"No\":\n",
    "                while user_input == \"No\":   # < This enables the incrementor\n",
    "                    increment += 1\n",
    "                    remain = 4 - increment\n",
    "                    which_search = str(input(\"What would you like to search for? Enter Artist or Song: \").strip().capitalize())\n",
    "                    # Call the Searcher class search artist method\n",
    "                    if which_search == \"Artist\":\n",
    "                        Searcher(class_list).search_artist()\n",
    "                        query = str(input(\"Do you want to search again, or continue? Please enter search or continue: \"))\n",
    "                        if query == \"continue\":\n",
    "                            Main(list_name, class_list).direction()\n",
    "                            # This needs to be reset to avoid returning to the loop\n",
    "                            user_input = \"\"\n",
    "                            \n",
    "                        # Loop while the user wants to keep searching\n",
    "                        while query == \"search\":\n",
    "                            Searcher(class_list).search_artist()\n",
    "                            query = str(input(\"Do you want to search again, or continue? Please enter search or continue: \"))\n",
    "                            # When user wants to continue, move the program forward\n",
    "                            if query == \"continue\":\n",
    "                                Main(list_name, class_list).direction()\n",
    "                                # This needs to be reset to avoid returning to the loop\n",
    "                                user_input = \"\"\n",
    "                        \n",
    "                    # Call the Searcher class search song method\n",
    "                    elif which_search == \"Song\":\n",
    "                        Searcher(class_list).search_song()\n",
    "                        query = str(input(\"Do you want to search again, or continue? Please enter search or continue: \"))\n",
    "                        if query == \"continue\":\n",
    "                            Main(list_name, class_list).direction()\n",
    "                            # This needs to be reset to avoid returning to the loop\n",
    "                            user_input = \"\"\n",
    "\n",
    "                        # Loop while the user wants to keep searching\n",
    "                        while query == \"search\":\n",
    "                            Searcher(class_list).search_song()\n",
    "                            query = str(input(\"Do you want to search again, or continue? Please enter search or continue: \"))\n",
    "                            # When user wants to continue, move the program forward\n",
    "                            if query == \"continue\":\n",
    "                                Main(list_name, class_list).direction()\n",
    "                                # This needs to be reset to avoid returning to the loop\n",
    "                                user_input = \"\"  \n",
    "                    else:\n",
    "                        if increment == 4:\n",
    "                            print(\"You have entered an incorrect value 3 times, the program will end. \")\n",
    "                            break    # Program ends\n",
    "                        else:\n",
    "                            print(\"Your input wasn't recognised, please try again. Attempts remaining: {}\".format(remain))\n",
    "            else:\n",
    "                print(\"No valid option entered, the program will end.\")\n",
    "\n",
    "        except ValueError:\n",
    "            print(\"You have entered an incorrect value, the program will end.\")\n",
    "        except NameError as nameerr: # Shouldn't get here in normal use\n",
    "            print(\"Error in declaring a name, please check your entries.\", nameerr)"
   ]
  },
  {
   "cell_type": "markdown",
   "metadata": {
    "deletable": false,
    "editable": false
   },
   "source": [
    "# Main Program Execution"
   ]
  },
  {
   "cell_type": "code",
   "execution_count": null,
   "metadata": {
    "deletable": false,
    "scrolled": false
   },
   "outputs": [],
   "source": [
    "# Runs the program - requires the dictionary names as arguments\n",
    "try: \n",
    "    Main(music_df, song_searcher).UI()\n",
    "    print(\"\\n\",\"Thanks for using our Service! See you again soon!\")\n",
    "except NameError:\n",
    "    print(\"Dictionary Name/s is missing, did you forget to run the code blocks above?\")"
   ]
  },
  {
   "cell_type": "markdown",
   "metadata": {
    "deletable": false,
    "editable": false
   },
   "source": [
    "## Individual code blocks are below to run single sections of the Program"
   ]
  },
  {
   "cell_type": "markdown",
   "metadata": {
    "deletable": false
   },
   "source": [
    "You can use the code blocks below if you prefer not to run the single main function above.  \n",
    "Please make sure that the code blocks above are loaded beforehand.  \n",
    "Error catching is not provided here unless necessary, please load the data code block to avoid errors."
   ]
  },
  {
   "cell_type": "markdown",
   "metadata": {},
   "source": [
    "### Artist Searching"
   ]
  },
  {
   "cell_type": "code",
   "execution_count": null,
   "metadata": {
    "scrolled": true
   },
   "outputs": [],
   "source": [
    "# Search for an artist\n",
    "artist = Searcher(song_searcher).search_artist()"
   ]
  },
  {
   "cell_type": "markdown",
   "metadata": {},
   "source": [
    "### Song Searching"
   ]
  },
  {
   "cell_type": "code",
   "execution_count": null,
   "metadata": {
    "scrolled": true
   },
   "outputs": [],
   "source": [
    "# Search for a song\n",
    "song = Searcher(song_searcher).search_song()"
   ]
  },
  {
   "cell_type": "markdown",
   "metadata": {},
   "source": [
    "### Get All Information based on ID"
   ]
  },
  {
   "cell_type": "code",
   "execution_count": null,
   "metadata": {},
   "outputs": [],
   "source": [
    "# Enter the ID you want\n",
    "# Run the below command, change the ID to the one you want information for\n",
    "# NOTE: Extra features are not printed by default, see the GET EXTRAS code block below\n",
    "\n",
    "song_searcher[0]"
   ]
  },
  {
   "cell_type": "markdown",
   "metadata": {
    "deletable": false
   },
   "source": [
    "### Get Artist Name"
   ]
  },
  {
   "cell_type": "code",
   "execution_count": null,
   "metadata": {},
   "outputs": [],
   "source": [
    "# Enter the ID you want\n",
    "# Use the getName() method to get the ID artist name\n",
    "\n",
    "song_searcher[0].getName()"
   ]
  },
  {
   "cell_type": "markdown",
   "metadata": {},
   "source": [
    "### Get Song Name"
   ]
  },
  {
   "cell_type": "code",
   "execution_count": null,
   "metadata": {},
   "outputs": [],
   "source": [
    "# Enter the ID you want\n",
    "# Use the getSongName() method to get the ID song name\n",
    "\n",
    "song_searcher[0].getSongName()"
   ]
  },
  {
   "cell_type": "markdown",
   "metadata": {},
   "source": [
    "### Get Features"
   ]
  },
  {
   "cell_type": "code",
   "execution_count": null,
   "metadata": {},
   "outputs": [],
   "source": [
    "# Enter the ID you want\n",
    "# Use the getFeatures() method to get the ID features\n",
    "\n",
    "song_searcher[0].getFeatures()"
   ]
  },
  {
   "cell_type": "markdown",
   "metadata": {},
   "source": [
    "### Get Comparison Features"
   ]
  },
  {
   "cell_type": "code",
   "execution_count": null,
   "metadata": {},
   "outputs": [],
   "source": [
    "# Enter the ID you want\n",
    "# Use the getComparisonFeatures() method to get the ID features without song name or music ID\n",
    "\n",
    "song_searcher[0].getComparisonFeatures()"
   ]
  },
  {
   "cell_type": "markdown",
   "metadata": {},
   "source": [
    "### Get Extras "
   ]
  },
  {
   "cell_type": "code",
   "execution_count": null,
   "metadata": {},
   "outputs": [],
   "source": [
    "# Enter the ID you want\n",
    "# Use the getFExtras() method to get only the extra feature values\n",
    "\n",
    "song_searcher[0].getExtras()"
   ]
  },
  {
   "cell_type": "markdown",
   "metadata": {},
   "source": [
    "### Comparison Class Call"
   ]
  },
  {
   "cell_type": "code",
   "execution_count": null,
   "metadata": {},
   "outputs": [],
   "source": [
    "# Run this code to instantiate the Comparison section the UI\n",
    "# Metric choice is made within\n",
    "\n",
    "Comparison(music_df, '', '').measure_feature()"
   ]
  },
  {
   "cell_type": "markdown",
   "metadata": {},
   "source": [
    "### Euclidean Comparison"
   ]
  },
  {
   "cell_type": "code",
   "execution_count": null,
   "metadata": {},
   "outputs": [],
   "source": [
    "# Enter two numbers to get the Euclidean Comparison Result\n",
    "\n",
    "Comparison(music_df, 0, 0).euclidean()"
   ]
  },
  {
   "cell_type": "markdown",
   "metadata": {},
   "source": [
    "### Cosine Comparison"
   ]
  },
  {
   "cell_type": "code",
   "execution_count": null,
   "metadata": {},
   "outputs": [],
   "source": [
    "# Enter two numbers to get the Cosine Comparison Result\n",
    "\n",
    "Comparison(music_df, 0, 0).cosine()"
   ]
  },
  {
   "cell_type": "markdown",
   "metadata": {},
   "source": [
    "### Pearson Correlation Comparison"
   ]
  },
  {
   "cell_type": "code",
   "execution_count": null,
   "metadata": {},
   "outputs": [],
   "source": [
    "# Enter two numbers to get the Pearson Comparison Result\n",
    "# NOTE: Issues with the pearson correlation mean \n",
    "# it is not callable outside of the Recommendation section the program\n",
    "\n",
    "#Comparison(music_df, 0, 0).pearson()\n",
    "np.corrcoef([0,0])"
   ]
  },
  {
   "cell_type": "markdown",
   "metadata": {},
   "source": [
    "### Jaccard Comparison"
   ]
  },
  {
   "cell_type": "code",
   "execution_count": null,
   "metadata": {},
   "outputs": [],
   "source": [
    "# Enter two numbers to get the Jaccard Comparison Result\n",
    "\n",
    "Comparison(music_df, 0, 0).jaccard()"
   ]
  },
  {
   "cell_type": "markdown",
   "metadata": {},
   "source": [
    "### Manhattan Comparison"
   ]
  },
  {
   "cell_type": "code",
   "execution_count": null,
   "metadata": {},
   "outputs": [],
   "source": [
    "# Enter two numbers to get the Manhattan Comparison Result\n",
    "# NOTE: DO NOT remove the square brackets around the input numbers or the metric will break\n",
    "\n",
    "try: \n",
    "    manhattan = Comparison(music_df, [0], [0]).manhattan()\n",
    "except ValueError:\n",
    "    print(\"Don't remove the square brackets.\")\n",
    "print(manhattan)"
   ]
  },
  {
   "cell_type": "markdown",
   "metadata": {},
   "source": [
    "### Artist Recommendation"
   ]
  },
  {
   "cell_type": "code",
   "execution_count": null,
   "metadata": {},
   "outputs": [],
   "source": [
    "# This code will run the artist recommendation method\n",
    "\n",
    "Recommendation(music_df, song_searcher).get_artist_recommendation()"
   ]
  },
  {
   "cell_type": "markdown",
   "metadata": {},
   "source": [
    "### Song Recommendation"
   ]
  },
  {
   "cell_type": "code",
   "execution_count": null,
   "metadata": {},
   "outputs": [],
   "source": [
    "# This code will run the song recommendation method\n",
    "\n",
    "Recommendation(music_df, song_searcher).get_song_recommendation()"
   ]
  },
  {
   "cell_type": "markdown",
   "metadata": {},
   "source": [
    "### Target Recommendation"
   ]
  },
  {
   "cell_type": "code",
   "execution_count": null,
   "metadata": {},
   "outputs": [],
   "source": [
    "# This code will run the target recommendation method\n",
    "\n",
    "Recommendation(music_df, song_searcher).get_target_recommendation()"
   ]
  },
  {
   "cell_type": "markdown",
   "metadata": {},
   "source": [
    "### Algorithmic (KNN) Recommendation"
   ]
  },
  {
   "cell_type": "code",
   "execution_count": null,
   "metadata": {},
   "outputs": [],
   "source": [
    "# This code will run the knn recommendation method\n",
    "\n",
    "Recommendation(music_df, song_searcher).get_knn_recommendation()"
   ]
  },
  {
   "cell_type": "markdown",
   "metadata": {},
   "source": [
    "## Evaluations"
   ]
  },
  {
   "cell_type": "markdown",
   "metadata": {},
   "source": [
    "This section contains the evaluations done, these can be ran if the user wants to see the results of this.   \n",
    "The code is kept here for some informational purposes."
   ]
  },
  {
   "cell_type": "code",
   "execution_count": null,
   "metadata": {},
   "outputs": [],
   "source": [
    "# #%%time\n",
    "\n",
    "# scaler = MinMaxScaler()\n",
    "# music_df = pd.DataFrame.from_records([s.to_dict() for s in song_searcher])\n",
    "\n",
    "# results = []\n",
    "# id_num = 400\n",
    "# i = 0\n",
    "\n",
    "# copy_df = scaler.fit_transform(music_df)\n",
    "\n",
    "# target = copy_df[id_num]\n",
    "\n",
    "# music_df = music_df.drop([id_num])\n",
    "\n",
    "# music_df = scaler.fit_transform(music_df)\n",
    "\n",
    "# for i in range(len(music_df)):\n",
    "#     compare = music_df[i]\n",
    "#     results.append(Similarity_metric(music_df, target, compare).pearson())\n",
    "#     #i += 1 \n",
    "\n",
    "# results = [i for i in results]\n",
    "\n",
    "# sorted_results = sorted(range(len(results)), key=lambda x: results[x], reverse=True) #cosine and pearson need reverse true\n",
    "# first_ten = sorted_results[0:10]\n",
    "\n",
    "# sim_result = []\n",
    "# sim_result.append(first_ten)\n",
    "\n",
    "# sim_result = np.array(sim_result)\n",
    "# sim_result = sim_result.flatten()"
   ]
  },
  {
   "cell_type": "code",
   "execution_count": null,
   "metadata": {},
   "outputs": [],
   "source": [
    "# id_num = 400\n",
    "\n",
    "# scaler = MinMaxScaler()\n",
    "# music_df = pd.DataFrame.from_records([s.to_dict() for s in song_searcher])\n",
    "\n",
    "# copy_df = scaler.fit_transform(music_df)\n",
    "\n",
    "# target = copy_df[id_num]\n",
    "# target = target.reshape(1,-1)\n",
    "\n",
    "# music_df = music_df.drop([id_num])\n",
    "\n",
    "# music_df = scaler.fit_transform(music_df)\n",
    "\n",
    "# #music_df = np.delete(music_df, target)\n",
    "\n",
    "# neigh = knn(metric='correlation', n_neighbors=10, n_jobs=1)\n",
    "# neigh.fit(music_df)\n",
    "\n",
    "# knn_result = neigh.kneighbors(target, return_distance=False) \n",
    "# knn_result = knn_result.flatten()\n",
    "# for element in knn_result:\n",
    "#     print(song_searcher[element].getName())"
   ]
  },
  {
   "cell_type": "code",
   "execution_count": null,
   "metadata": {},
   "outputs": [],
   "source": [
    "# print(knn_result)\n",
    "# print(sim_result)\n",
    "\n",
    "# acc = accuracy_score(knn_result, sim_result)\n",
    "# print(\"Accuracy is %0.2f\" % acc)\n",
    "\n",
    "# print(mse(knn_result, sim_result))\n",
    "# print(mae(knn_result, sim_result))"
   ]
  }
 ],
 "metadata": {
  "kernelspec": {
   "display_name": "Python 3",
   "language": "python",
   "name": "python3"
  },
  "language_info": {
   "codemirror_mode": {
    "name": "ipython",
    "version": 3
   },
   "file_extension": ".py",
   "mimetype": "text/x-python",
   "name": "python",
   "nbconvert_exporter": "python",
   "pygments_lexer": "ipython3",
   "version": "3.7.4"
  }
 },
 "nbformat": 4,
 "nbformat_minor": 4
}
