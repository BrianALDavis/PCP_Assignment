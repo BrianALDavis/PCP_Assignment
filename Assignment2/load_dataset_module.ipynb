{
 "cells": [
  {
   "cell_type": "markdown",
   "metadata": {},
   "source": [
    "### PCP Module 1 - load_dataset_module"
   ]
  },
  {
   "cell_type": "code",
   "execution_count": 1,
   "metadata": {},
   "outputs": [],
   "source": [
    "import pandas as pd\n",
    "import numpy as np"
   ]
  },
  {
   "cell_type": "code",
   "execution_count": 2,
   "metadata": {},
   "outputs": [],
   "source": [
    "def artist_music():\n",
    "    try:\n",
    "        df_artists = pd.read_csv(\"data.csv\", encoding = 'utf8', delimiter = ',', \n",
    "                                 usecols=['artists','name','acousticness','danceability','energy','liveness','loudness','popularity','speechiness','tempo','valence'])\n",
    "        df_artists.index += 1\n",
    "        artists = df_artists.to_dict(orient='index')\n",
    "        return artists       #return the dictionary for use\n",
    "    \n",
    "    except IOError as ioerr: # catch any file errors to prevent crashing of the program\n",
    "        print('File error: ' + str(ioerr))\n",
    "    finally:\n",
    "        print('Finished reading the command for artist music.')"
   ]
  },
  {
   "cell_type": "code",
   "execution_count": 3,
   "metadata": {},
   "outputs": [],
   "source": [
    "def music_features():\n",
    "    try:\n",
    "        df_features = pd.read_csv('data.csv', encoding = 'utf8', delimiter=',', \n",
    "                                  usecols=['id', 'name', 'acousticness','danceability','energy','liveness','loudness','popularity','speechiness','tempo','valence'])\n",
    "        df_features.index += 1\n",
    "        features = df_features.to_dict(orient='index')\n",
    "        return features\n",
    "        \n",
    "    except IOError as ioerr: # catch any file errors to prevent crashing of the program\n",
    "        print('File error: ' + str(ioerr))\n",
    "    finally:\n",
    "        print('Finished reading the command for music features.')"
   ]
  },
  {
   "cell_type": "code",
   "execution_count": 4,
   "metadata": {},
   "outputs": [
    {
     "name": "stdout",
     "output_type": "stream",
     "text": [
      "Finished reading the command for music features.\n"
     ]
    }
   ],
   "source": [
    "features = music_features()"
   ]
  },
  {
   "cell_type": "code",
   "execution_count": 5,
   "metadata": {},
   "outputs": [
    {
     "data": {
      "text/plain": [
       "{'acousticness': 0.995,\n",
       " 'danceability': 0.708,\n",
       " 'energy': 0.195,\n",
       " 'id': '6KbQ3uYMLKb5jDxLF7wYDD',\n",
       " 'liveness': 0.151,\n",
       " 'loudness': -12.427999999999999,\n",
       " 'name': 'Singende Bataillone 1. Teil',\n",
       " 'popularity': 0,\n",
       " 'speechiness': 0.0506,\n",
       " 'tempo': 118.469,\n",
       " 'valence': 0.779}"
      ]
     },
     "execution_count": 5,
     "metadata": {},
     "output_type": "execute_result"
    }
   ],
   "source": [
    "features[1]"
   ]
  },
  {
   "cell_type": "code",
   "execution_count": 6,
   "metadata": {},
   "outputs": [
    {
     "name": "stdout",
     "output_type": "stream",
     "text": [
      "Finished reading the command for artist music.\n"
     ]
    }
   ],
   "source": [
    "artist = artist_music()"
   ]
  },
  {
   "cell_type": "code",
   "execution_count": 7,
   "metadata": {},
   "outputs": [
    {
     "data": {
      "text/plain": [
       "0.995"
      ]
     },
     "execution_count": 7,
     "metadata": {},
     "output_type": "execute_result"
    }
   ],
   "source": [
    "artist[1]['acousticness']"
   ]
  },
  {
   "cell_type": "code",
   "execution_count": 8,
   "metadata": {},
   "outputs": [
    {
     "data": {
      "text/plain": [
       "{'acousticness': 0.995,\n",
       " 'artists': \"['Carl Woitschach']\",\n",
       " 'danceability': 0.708,\n",
       " 'energy': 0.195,\n",
       " 'liveness': 0.151,\n",
       " 'loudness': -12.427999999999999,\n",
       " 'name': 'Singende Bataillone 1. Teil',\n",
       " 'popularity': 0,\n",
       " 'speechiness': 0.0506,\n",
       " 'tempo': 118.469,\n",
       " 'valence': 0.779}"
      ]
     },
     "execution_count": 8,
     "metadata": {},
     "output_type": "execute_result"
    }
   ],
   "source": [
    "artist[1]"
   ]
  },
  {
   "cell_type": "code",
   "execution_count": 9,
   "metadata": {},
   "outputs": [
    {
     "data": {
      "text/plain": [
       "{'acousticness': 0.987,\n",
       " 'artists': \"['George Butterworth', 'John Cameron']\",\n",
       " 'danceability': 0.23800000000000002,\n",
       " 'duration_ms': 173293,\n",
       " 'energy': 0.0324,\n",
       " 'explicit': 0,\n",
       " 'id': '6Z6DJ8L7WMy2WHbXe3jR9I',\n",
       " 'instrumentalness': 0.000986,\n",
       " 'key': 7,\n",
       " 'liveness': 0.11199999999999999,\n",
       " 'loudness': -24.361,\n",
       " 'mode': 0,\n",
       " 'name': 'A Shropshire Lad: Oh Fair Enough are Sky and Plain',\n",
       " 'popularity': 0,\n",
       " 'release_date': '1928',\n",
       " 'speechiness': 0.0541,\n",
       " 'tempo': 172.321,\n",
       " 'valence': 0.0379,\n",
       " 'year': 1928}"
      ]
     },
     "execution_count": 9,
     "metadata": {},
     "output_type": "execute_result"
    }
   ],
   "source": [
    "df_artist = pd.read_csv('data.csv', encoding='utf8', delimiter = ',').to_dict(orient='records')\n",
    "df_artist[33]"
   ]
  },
  {
   "cell_type": "markdown",
   "metadata": {},
   "source": [
    "### Define the classes"
   ]
  },
  {
   "cell_type": "code",
   "execution_count": 10,
   "metadata": {},
   "outputs": [],
   "source": [
    "class Song(object):\n",
    "    def __init__(self, \n",
    "                 name, \n",
    "                 music_ID,\n",
    "                 acousticness, \n",
    "                 danceability, \n",
    "                 energy, \n",
    "                 liveness, \n",
    "                 loudness, \n",
    "                 popularity, \n",
    "                 speechiness, \n",
    "                 tempo, \n",
    "                 valence):\n",
    "        \n",
    "        self.name = name\n",
    "        self.music_ID = music_ID\n",
    "        self.acousticness = acousticness\n",
    "        self.danceability = danceability\n",
    "        self.energy = energy\n",
    "        self.liveness = liveness\n",
    "        self.loudness = loudness\n",
    "        self.popularity = popularity\n",
    "        self.speechiness = speechiness\n",
    "        self.tempo = tempo\n",
    "        self.valence = valence\n",
    "    \n",
    "    def getFeatures(self):\n",
    "        return self.name, self.music_ID, self.danceability, self.energy\n",
    "    \n",
    "    def get(self):\n",
    "        pass"
   ]
  },
  {
   "cell_type": "code",
   "execution_count": 73,
   "metadata": {},
   "outputs": [],
   "source": [
    "class Artist(object):\n",
    "    def __init__(self, name):\n",
    "        self.name = name"
   ]
  },
  {
   "cell_type": "code",
   "execution_count": 74,
   "metadata": {},
   "outputs": [
    {
     "data": {
      "text/plain": [
       "\"['DEVO']\""
      ]
     },
     "execution_count": 74,
     "metadata": {},
     "output_type": "execute_result"
    }
   ],
   "source": [
    "artists = pd.read_csv('data.csv', encoding = 'utf8', delimiter = ',')\n",
    "# artists = artists.to_dict(orient='records')\n",
    "# print (artists['artists'])\n",
    "\n",
    "artist_list =[]\n",
    "\n",
    "for name in artists.artists:\n",
    "    artist_list.append(Artist(name))\n",
    "\n",
    "# for artist in artist_list:\n",
    "#     print(artist.name)\n",
    "    \n",
    "artist_list[20000].name"
   ]
  },
  {
   "cell_type": "markdown",
   "metadata": {},
   "source": [
    "### Adjust later, this is the basis for using a class though to read the file"
   ]
  },
  {
   "cell_type": "code",
   "execution_count": 104,
   "metadata": {},
   "outputs": [],
   "source": [
    "def artist_music():\n",
    "    try:\n",
    "        df_artists = pd.read_csv(\"data.csv\", encoding = 'utf8', delimiter = ',')\n",
    "#         df_artists.index += 1\n",
    "#         artists = df_artists.to_dict(orient='records')\n",
    "    \n",
    "        artist_list = []\n",
    "        for name in df_artists.artists:\n",
    "            artist_list.append(Artist(name))\n",
    "        return artist_list       #return the dictionary for use\n",
    "    \n",
    "    except IOError as ioerr: # catch any file errors to prevent crashing of the program\n",
    "        print('File error: ' + str(ioerr))\n",
    "    finally:\n",
    "        print('Finished reading the command for artist music.')"
   ]
  },
  {
   "cell_type": "code",
   "execution_count": 105,
   "metadata": {},
   "outputs": [
    {
     "name": "stdout",
     "output_type": "stream",
     "text": [
      "Finished reading the command for artist music.\n"
     ]
    }
   ],
   "source": [
    "artist = artist_music()"
   ]
  },
  {
   "cell_type": "code",
   "execution_count": 107,
   "metadata": {},
   "outputs": [
    {
     "data": {
      "text/plain": [
       "\"Moritz Moszkowski', 'Vladimir Horowitz\""
      ]
     },
     "execution_count": 107,
     "metadata": {},
     "output_type": "execute_result"
    }
   ],
   "source": [
    "artist[20].name.strip(\"'[]'\")"
   ]
  },
  {
   "cell_type": "code",
   "execution_count": 69,
   "metadata": {},
   "outputs": [],
   "source": [
    "# class Artist(object):\n",
    "#     def __init__(self, row, header):\n",
    "#         self.__dict__ = dict(zip(header, row))"
   ]
  },
  {
   "cell_type": "code",
   "execution_count": 72,
   "metadata": {},
   "outputs": [
    {
     "ename": "AttributeError",
     "evalue": "'Artist' object has no attribute 'acousticness'",
     "output_type": "error",
     "traceback": [
      "\u001b[1;31m---------------------------------------------------------------------------\u001b[0m",
      "\u001b[1;31mAttributeError\u001b[0m                            Traceback (most recent call last)",
      "\u001b[1;32m<ipython-input-72-54613305c9bc>\u001b[0m in \u001b[0;36m<module>\u001b[1;34m\u001b[0m\n\u001b[0;32m      5\u001b[0m \u001b[0minstances\u001b[0m \u001b[1;33m=\u001b[0m \u001b[1;33m[\u001b[0m\u001b[0mArtist\u001b[0m\u001b[1;33m(\u001b[0m\u001b[0mi\u001b[0m\u001b[1;33m,\u001b[0m \u001b[0mdata\u001b[0m\u001b[1;33m[\u001b[0m\u001b[1;36m0\u001b[0m\u001b[1;33m]\u001b[0m\u001b[1;33m)\u001b[0m \u001b[1;32mfor\u001b[0m \u001b[0mi\u001b[0m \u001b[1;32min\u001b[0m \u001b[0mdata\u001b[0m\u001b[1;33m[\u001b[0m\u001b[1;36m1\u001b[0m\u001b[1;33m:\u001b[0m\u001b[1;33m]\u001b[0m\u001b[1;33m]\u001b[0m\u001b[1;33m\u001b[0m\u001b[1;33m\u001b[0m\u001b[0m\n\u001b[0;32m      6\u001b[0m \u001b[1;33m\u001b[0m\u001b[0m\n\u001b[1;32m----> 7\u001b[1;33m \u001b[0minstances\u001b[0m\u001b[1;33m[\u001b[0m\u001b[1;36m1\u001b[0m\u001b[1;33m]\u001b[0m\u001b[1;33m.\u001b[0m\u001b[0macousticness\u001b[0m\u001b[1;33m\u001b[0m\u001b[1;33m\u001b[0m\u001b[0m\n\u001b[0m",
      "\u001b[1;31mAttributeError\u001b[0m: 'Artist' object has no attribute 'acousticness'"
     ]
    }
   ],
   "source": [
    "# import csv\n",
    "\n",
    "# data = pd.read_csv('data.csv', encoding = 'utf8', delimiter = ',')\n",
    "# data = list(data)\n",
    "# instances = [Artist(i, data[0]) for i in data[1:]]\n",
    "\n",
    "# instances[1].acousticness"
   ]
  },
  {
   "cell_type": "code",
   "execution_count": 13,
   "metadata": {},
   "outputs": [
    {
     "data": {
      "text/plain": [
       "\"George Butterworth', 'John Cameron\""
      ]
     },
     "execution_count": 13,
     "metadata": {},
     "output_type": "execute_result"
    }
   ],
   "source": [
    "new_artist = Artist(artist[34]['artists'].strip(\"'[]'\"))\n",
    "\n",
    "new_artist.name"
   ]
  },
  {
   "cell_type": "code",
   "execution_count": 14,
   "metadata": {},
   "outputs": [
    {
     "data": {
      "text/plain": [
       "'6Z6DJ8L7WMy2WHbXe3jR9I'"
      ]
     },
     "execution_count": 14,
     "metadata": {},
     "output_type": "execute_result"
    }
   ],
   "source": [
    "feature_set = features[34]\n",
    "\n",
    "feature_set['id']"
   ]
  },
  {
   "cell_type": "code",
   "execution_count": 15,
   "metadata": {},
   "outputs": [
    {
     "name": "stdout",
     "output_type": "stream",
     "text": [
      "('A Shropshire Lad: Oh Fair Enough are Sky and Plain', '6Z6DJ8L7WMy2WHbXe3jR9I', 3, 4)\n"
     ]
    }
   ],
   "source": [
    "new_feature = Song(feature_set['name'],feature_set['id'],2,3,4,5,6,7,8,9,10)\n",
    "\n",
    "print(new_feature.getFeatures())"
   ]
  },
  {
   "cell_type": "code",
   "execution_count": 16,
   "metadata": {},
   "outputs": [
    {
     "data": {
      "text/plain": [
       "{'name': 'A Shropshire Lad: Oh Fair Enough are Sky and Plain',\n",
       " 'music_ID': '6Z6DJ8L7WMy2WHbXe3jR9I',\n",
       " 'acousticness': 2,\n",
       " 'danceability': 3,\n",
       " 'energy': 4,\n",
       " 'liveness': 5,\n",
       " 'loudness': 6,\n",
       " 'popularity': 7,\n",
       " 'speechiness': 8,\n",
       " 'tempo': 9,\n",
       " 'valence': 10}"
      ]
     },
     "execution_count": 16,
     "metadata": {},
     "output_type": "execute_result"
    }
   ],
   "source": [
    "new_feature.__dict__"
   ]
  },
  {
   "cell_type": "code",
   "execution_count": 17,
   "metadata": {},
   "outputs": [
    {
     "name": "stdout",
     "output_type": "stream",
     "text": [
      "George Butterworth', 'John Cameron ('A Shropshire Lad: Oh Fair Enough are Sky and Plain', '6Z6DJ8L7WMy2WHbXe3jR9I', 3, 4)\n"
     ]
    }
   ],
   "source": [
    "print(new_artist.name, new_feature.getFeatures())"
   ]
  },
  {
   "cell_type": "code",
   "execution_count": null,
   "metadata": {},
   "outputs": [],
   "source": []
  }
 ],
 "metadata": {
  "kernelspec": {
   "display_name": "Python 3",
   "language": "python",
   "name": "python3"
  },
  "language_info": {
   "codemirror_mode": {
    "name": "ipython",
    "version": 3
   },
   "file_extension": ".py",
   "mimetype": "text/x-python",
   "name": "python",
   "nbconvert_exporter": "python",
   "pygments_lexer": "ipython3",
   "version": "3.7.4"
  }
 },
 "nbformat": 4,
 "nbformat_minor": 4
}
