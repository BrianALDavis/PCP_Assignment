{
 "cells": [
  {
   "cell_type": "markdown",
   "metadata": {},
   "source": [
    "### PCP Module 1 - load_dataset_module"
   ]
  },
  {
   "cell_type": "code",
   "execution_count": 3,
   "metadata": {},
   "outputs": [],
   "source": [
    "def artist_music():\n",
    "    import re \n",
    "    \n",
    "    try:\n",
    "        with open('data.csv', 'r', encoding='utf8') as file:\n",
    "            artist_music_dict = {}\n",
    "            index=1\n",
    "            next(file) #skips the header\n",
    "\n",
    "            for line in file:\n",
    "                #Use regex to find all commas at the end of a string\n",
    "                line = re.sub(r'(?!(([^\"]*\"){2})*[^\"]*$),', \"/\", line)\n",
    "                csvData = line.split(',')\n",
    "        \n",
    "                #removing the square brackets and single quotes from artists\n",
    "                artist_names = csvData[1]\n",
    "                artist_names = [i.strip('[]') for i in artist_names]\n",
    "                artist_names = [i.strip(\"\\\\'\") for i in artist_names]\n",
    "                artist_names = ''.join(artist_names)\n",
    "        \n",
    "                d = {}\n",
    "                d['ID'] = csvData[6]\n",
    "                d['Artists'] = artist_names\n",
    "                d['Song Name'] = csvData[12]\n",
    "                d['Accoustiness'] = float(csvData[0])\n",
    "                d['Danceability'] = float(csvData[2])\n",
    "                d['Energy'] = float(csvData[4])\n",
    "                d['Liveness'] = float(csvData[9])\n",
    "                d['Loudness'] = float(csvData[10])\n",
    "                d['Popularity'] = float(csvData[13])\n",
    "                d['Speechiness'] = float(csvData[15])\n",
    "                d['Tempo'] = float(csvData[16])\n",
    "                d['Valence'] = float(csvData[17])\n",
    "                artist_music_dict[index] = d\n",
    "                index+=1 \n",
    "        \n",
    "            return artist_music_dict\n",
    "            file.close()\n",
    "            \n",
    "    except IOError as ioerr:\n",
    "        print('File error: ' + str(ioerr))\n",
    "    finally:\n",
    "        print('Finished reading the command for artist music.')"
   ]
  },
  {
   "cell_type": "code",
   "execution_count": 4,
   "metadata": {},
   "outputs": [],
   "source": [
    "def music_features():\n",
    "    import re \n",
    "    \n",
    "    try:\n",
    "        with open('data.csv', 'r', encoding='utf8') as file:\n",
    "            features_dict = {}\n",
    "            index=1\n",
    "            next(file) #skips the header\n",
    "            \n",
    "            for line in file:\n",
    "                #Use regex to find all commas at the end of a string\n",
    "                line = re.sub(r'(?!(([^\"]*\"){2})*[^\"]*$),', \"/\", line)\n",
    "                csvData = line.split(',')\n",
    "\n",
    "                d = {}\n",
    "                d['ID'] = csvData[6]\n",
    "                d['Song Name'] = csvData[12]\n",
    "                d['Accoustiness'] = float(csvData[0])\n",
    "                d['Danceability'] = float(csvData[2])\n",
    "                d['Energy'] = float(csvData[4])\n",
    "                d['Liveness'] = float(csvData[9])\n",
    "                d['Loudness'] = float(csvData[10])\n",
    "                d['Popularity'] = float(csvData[13])\n",
    "                d['Speechiness'] = float(csvData[15])\n",
    "                d['Tempo'] = float(csvData[16])\n",
    "                d['Valence'] = float(csvData[17])\n",
    "                features_dict[index] = d\n",
    "                index+=1 \n",
    "        \n",
    "            return features_dict\n",
    "            file.close()\n",
    "            \n",
    "    except IOError as ioerr:\n",
    "        print('File error: ' + str(ioerr))\n",
    "    finally:\n",
    "        print('Finished reading the command for music features.')"
   ]
  },
  {
   "cell_type": "code",
   "execution_count": 5,
   "metadata": {},
   "outputs": [
    {
     "name": "stdout",
     "output_type": "stream",
     "text": [
      "Finished reading the command for artist music.\n"
     ]
    },
    {
     "data": {
      "text/plain": [
       "{'ID': '6Ukl7n0q3Cjd0Og8uBmVeP',\n",
       " 'Artists': 'Francisco Canaro',\n",
       " 'Song Name': 'Tendrás Que Llorar Conmigo - Instrumental (Remasterizado)',\n",
       " 'Accoustiness': 0.992,\n",
       " 'Danceability': 0.763,\n",
       " 'Energy': 0.132,\n",
       " 'Liveness': 0.112,\n",
       " 'Loudness': -13.002,\n",
       " 'Popularity': 0.0,\n",
       " 'Speechiness': 0.0886,\n",
       " 'Tempo': 111.679,\n",
       " 'Valence': 0.8320000000000001}"
      ]
     },
     "execution_count": 5,
     "metadata": {},
     "output_type": "execute_result"
    }
   ],
   "source": [
    "artist_music()[20]"
   ]
  },
  {
   "cell_type": "code",
   "execution_count": null,
   "metadata": {},
   "outputs": [],
   "source": []
  }
 ],
 "metadata": {
  "kernelspec": {
   "display_name": "Python 3",
   "language": "python",
   "name": "python3"
  },
  "language_info": {
   "codemirror_mode": {
    "name": "ipython",
    "version": 3
   },
   "file_extension": ".py",
   "mimetype": "text/x-python",
   "name": "python",
   "nbconvert_exporter": "python",
   "pygments_lexer": "ipython3",
   "version": "3.7.4"
  }
 },
 "nbformat": 4,
 "nbformat_minor": 4
}
