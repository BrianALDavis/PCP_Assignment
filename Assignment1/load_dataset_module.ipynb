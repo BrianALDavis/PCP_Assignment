{
 "cells": [
  {
   "cell_type": "markdown",
   "metadata": {},
   "source": [
    "### PCP Module 1 - load_dataset_module"
   ]
  },
  {
   "cell_type": "code",
   "execution_count": 1,
   "metadata": {},
   "outputs": [],
   "source": [
    "def artist_music():\n",
    "    import re \n",
    "    \n",
    "    try:\n",
    "        with open('data.csv', 'r', encoding='utf8') as file:\n",
    "            artist_music_dict = {}\n",
    "            index=1\n",
    "            next(file) #skips the header\n",
    "\n",
    "            for line in file:\n",
    "                #Use regex to find all commas at the end of a string\n",
    "                line = re.sub(r'(?!(([^\"]*\"){2})*[^\"]*$),', \":\", line)\n",
    "                csvData = line.split(',')\n",
    "        \n",
    "                #removing the square brackets and single quotes from artists\n",
    "                artist_names = csvData[1]\n",
    "                artist_names = [i.strip('[]') for i in artist_names]\n",
    "                artist_names = [i.strip(\"\\\\'\") for i in artist_names]\n",
    "                artist_names = ''.join(artist_names)\n",
    "        \n",
    "                d = {}\n",
    "                d['ID'] = csvData[6]\n",
    "                d['Artists'] = artist_names\n",
    "                d['Song Name'] = csvData[12]\n",
    "                d['Accoustiness'] = csvData[0]\n",
    "                d['Danceability'] = csvData[2]\n",
    "                d['Energy'] = csvData[4]\n",
    "                d['Liveness'] = csvData[9]\n",
    "                d['Loudness'] = csvData[10]\n",
    "                d['Popularity'] = csvData[13]\n",
    "                d['Speechiness'] = csvData[15]\n",
    "                d['Tempo'] = csvData[16]\n",
    "                d['Valence'] = csvData[17]\n",
    "                artist_music_dict[index] = d\n",
    "                index+=1 \n",
    "        \n",
    "            return artist_music_dict\n",
    "            file.close()\n",
    "            \n",
    "    except IOError as ioerr:\n",
    "        print('File error: ' + str(ioerr))\n",
    "    finally:\n",
    "        print('Finished reading the command for artist music.')"
   ]
  },
  {
   "cell_type": "code",
   "execution_count": 2,
   "metadata": {},
   "outputs": [
    {
     "name": "stdout",
     "output_type": "stream",
     "text": [
      "Finished reading the command for artist music.\n",
      "169909\n"
     ]
    }
   ],
   "source": [
    "print(len(artist_music()))"
   ]
  },
  {
   "cell_type": "code",
   "execution_count": 4,
   "metadata": {},
   "outputs": [
    {
     "name": "stdout",
     "output_type": "stream",
     "text": [
      "Finished reading the command for artist music.\n"
     ]
    }
   ],
   "source": [
    "artists = artist_music()"
   ]
  },
  {
   "cell_type": "code",
   "execution_count": 6,
   "metadata": {},
   "outputs": [
    {
     "data": {
      "text/plain": [
       "{'ID': '6KuQTIu1KoTTkLXKrwlLPV',\n",
       " 'Artists': '\"Robert Schumann: Vladimir Horowitz\"',\n",
       " 'Song Name': '\"Fantasiestücke: Op. 111: Più tosto lento\"',\n",
       " 'Accoustiness': '0.994',\n",
       " 'Danceability': '0.379',\n",
       " 'Energy': '0.0135',\n",
       " 'Liveness': '0.0763',\n",
       " 'Loudness': '-28.454',\n",
       " 'Popularity': '0',\n",
       " 'Speechiness': '0.0462',\n",
       " 'Tempo': '83.97200000000002',\n",
       " 'Valence': '0.0767'}"
      ]
     },
     "execution_count": 6,
     "metadata": {},
     "output_type": "execute_result"
    }
   ],
   "source": [
    "artists[2]"
   ]
  },
  {
   "cell_type": "code",
   "execution_count": 7,
   "metadata": {},
   "outputs": [],
   "source": [
    "def music_features():\n",
    "    import re \n",
    "    \n",
    "    try:\n",
    "        with open('data.csv', 'r', encoding='utf8') as file:\n",
    "            features_dict = {}\n",
    "            index=1\n",
    "            next(file) #skips the header\n",
    "\n",
    "            for line in file: \n",
    "                #Use regex to find all commas at the end of a string\n",
    "                #And then replace them with a ':' to avoid split issues\n",
    "                line = re.sub(r'(?!(([^\"]*\"){2})*[^\"]*$),', \":\", line)\n",
    "                csvData = line.split(',')\n",
    "        \n",
    "                #removing the square brackets and single quotes from artists\n",
    "                artist_names = csvData[1]\n",
    "                artist_names = [i.strip('[]') for i in artist_names]\n",
    "                artist_names = [i.strip(\"\\\\'\") for i in artist_names]\n",
    "                artist_names = ''.join(artist_names)\n",
    "        \n",
    "                d = {}\n",
    "                d['ID'] = csvData[6]\n",
    "                d['Artists'] = artist_names\n",
    "                d['Song Name'] = csvData[12]\n",
    "                d['Accoustiness'] = csvData[0]\n",
    "                d['Danceability'] = csvData[2]\n",
    "                d['Energy'] = csvData[4]\n",
    "                d['Liveness'] = csvData[9]\n",
    "                d['Loudness'] = csvData[10]\n",
    "                d['Popularity'] = csvData[13]\n",
    "                d['Speechiness'] = csvData[15]\n",
    "                d['Tempo'] = csvData[16]\n",
    "                d['Valence'] = csvData[17]\n",
    "                features_dict[index] = d\n",
    "                index+=1 \n",
    "        \n",
    "            return features_dict\n",
    "            file.close()\n",
    "            \n",
    "    except IOError as ioerr:\n",
    "        print('File error: ' + str(ioerr))\n",
    "    finally:\n",
    "        print('Finished reading the command for music features.')"
   ]
  },
  {
   "cell_type": "code",
   "execution_count": 8,
   "metadata": {},
   "outputs": [
    {
     "name": "stdout",
     "output_type": "stream",
     "text": [
      "Finished reading the command for music features.\n"
     ]
    }
   ],
   "source": [
    "features = music_features()"
   ]
  },
  {
   "cell_type": "code",
   "execution_count": 9,
   "metadata": {
    "scrolled": true
   },
   "outputs": [
    {
     "data": {
      "text/plain": [
       "{'ID': '4IR8qww21dJImL5VmpBMPJ',\n",
       " 'Artists': '\"Oρχήστρα Β.Reibold: Τέτος Δημητριάδης\"',\n",
       " 'Song Name': 'Σόνια',\n",
       " 'Accoustiness': '0.68',\n",
       " 'Danceability': '0.5710000000000001',\n",
       " 'Energy': '0.5429999999999999',\n",
       " 'Liveness': '0.477',\n",
       " 'Loudness': '-9.035',\n",
       " 'Popularity': '0',\n",
       " 'Speechiness': '0.0868',\n",
       " 'Tempo': '101.903',\n",
       " 'Valence': '0.7340000000000001'}"
      ]
     },
     "execution_count": 9,
     "metadata": {},
     "output_type": "execute_result"
    }
   ],
   "source": [
    "features[186]"
   ]
  },
  {
   "cell_type": "code",
   "execution_count": null,
   "metadata": {},
   "outputs": [],
   "source": []
  },
  {
   "cell_type": "code",
   "execution_count": null,
   "metadata": {},
   "outputs": [],
   "source": []
  },
  {
   "cell_type": "code",
   "execution_count": null,
   "metadata": {},
   "outputs": [],
   "source": [
    "import re\n",
    "\n",
    "with open('data.csv', 'r', encoding='utf8') as file:\n",
    "    final_dict = {}\n",
    "    index=1\n",
    "    next(file) #skips the header\n",
    "    #data = file.readlines()\n",
    "    #data = [item.replace(\",\", \";\") for item in data]\n",
    "    #data = ' '.join(data)\n",
    "    #print(data[1:50000])\n",
    "    for line in file:\n",
    "        line = re.sub(r'(?!(([^\"]*\"){2})*[^\"]*$),', \":\", line)\n",
    "        #line = [item.replace(\"\\\\\", \"\") for item in line]\n",
    "        #line = ' '.join(line)\n",
    "        csvData = line.split(',')\n",
    "        \n",
    "        #removing the square brackets from artists\n",
    "        artists = [item.replace(\"[\", \"\") for item in csvData[1]]\n",
    "        artists = [item.replace(\"]\", \"\") for item in artists]\n",
    "        artists = ''.join(artists)\n",
    "        \n",
    "        #artist_name_start = line.strip().split('[')\n",
    "        #artist = artist_name_start[1].split(']')\n",
    "        \n",
    "    #    for value in artist:\n",
    "    #        ID = value.split(',')[5:6]\n",
    "           # duration = value.split(',')\n",
    "\n",
    "        d = {}\n",
    "        d['ID'] = csvData[6]\n",
    "        d['Artists'] = artists\n",
    "        d['Song Name'] = csvData[12]\n",
    "        d['Accoustiness'] = csvData[0]\n",
    "        d['Danceability'] = csvData[2]\n",
    "        d['Energy'] = csvData[4]\n",
    "        d['Liveness'] = csvData[9]\n",
    "        d['Loudness'] = csvData[10]\n",
    "        d['Popularity'] = csvData[13]\n",
    "        d['Speechiness'] = csvData[15]\n",
    "        d['Tempo'] = csvData[16]\n",
    "        d['Valence'] = csvData[17]\n",
    "        final_dict[index] = d\n",
    "        index+=1 \n",
    "\n",
    "    file.close()"
   ]
  },
  {
   "cell_type": "code",
   "execution_count": null,
   "metadata": {},
   "outputs": [],
   "source": [
    "print(final_dict[2]['Artists'])"
   ]
  },
  {
   "cell_type": "code",
   "execution_count": null,
   "metadata": {},
   "outputs": [],
   "source": [
    "with open('data.csv', 'r', encoding='utf8') as file:\n",
    "    final_dict = {}\n",
    "    index=1\n",
    "    next(file) #skips the header\n",
    "    data = file.readlines()\n",
    "    print(data)"
   ]
  },
  {
   "cell_type": "code",
   "execution_count": null,
   "metadata": {},
   "outputs": [],
   "source": []
  },
  {
   "cell_type": "code",
   "execution_count": null,
   "metadata": {},
   "outputs": [],
   "source": [
    "def artist_music():\n",
    "    import csv\n",
    "    try:\n",
    "        artists = {}\n",
    "        counter = 1\n",
    "        with open('data.csv', encoding='utf8') as csv_file:\n",
    "            next(csv_file) #skip the headers\n",
    "            reader = csv.reader(csv_file, delimiter=',')\n",
    "            for row in reader:\n",
    "        \n",
    "                d = {}\n",
    "                d['ID'] = row[6]\n",
    "                d['Artists'] = row[1]\n",
    "                d['Song Name'] = row[12]\n",
    "                d['Accoustiness'] = row[0]\n",
    "                d['Danceability'] = row[2]\n",
    "                d['Energy'] = row[4]\n",
    "                d['Liveness'] = row[9]\n",
    "                d['Loudness'] = row[10]\n",
    "                d['Popularity'] = row[13]\n",
    "                d['Speechiness'] = row[15]\n",
    "                d['Tempo'] = row[16]\n",
    "                d['Valence'] = row[17]\n",
    "                artists[counter] = d\n",
    "                counter+=1 \n",
    "   \n",
    "            return artists\n",
    "            csv_file.close()\n",
    "        \n",
    "    except IOError as ioerr:\n",
    "        print('File error: ' + str(ioerr))\n",
    "    finally:\n",
    "        print('Finished reading the command for artist music.')"
   ]
  },
  {
   "cell_type": "code",
   "execution_count": null,
   "metadata": {},
   "outputs": [],
   "source": [
    "def music_features():\n",
    "    import csv\n",
    "    try:\n",
    "        music = {}\n",
    "        counter = 1\n",
    "        with open('data.csv', encoding='utf8') as csv_file:\n",
    "            next(csv_file) #skip the headers\n",
    "            reader = csv.reader(csv_file, delimiter=',')\n",
    "            for row in reader:\n",
    "        \n",
    "                #ID = row[6]\n",
    "        \n",
    "                d = {}\n",
    "                d['ID'] = row[6]\n",
    "                d['Song Name'] = row[12]\n",
    "                d['Accoustiness'] = row[0]\n",
    "                d['Danceability'] = row[2]\n",
    "                d['Energy'] = row[4]\n",
    "                d['Liveness'] = row[9]\n",
    "                d['Loudness'] = row[10]\n",
    "                d['Popularity'] = row[13]\n",
    "                d['Speechiness'] = row[15]\n",
    "                d['Tempo'] = row[16]\n",
    "                d['Valence'] = row[17]\n",
    "                #add more features here\n",
    "                music[counter] = d\n",
    "                counter+=1 \n",
    "   \n",
    "            return music\n",
    "            csv_file.close()\n",
    "        \n",
    "    except IOError as ioerr:\n",
    "        print('File error: ' + str(ioerr))\n",
    "    finally:\n",
    "        print('Finished reading the command for music features.')"
   ]
  },
  {
   "cell_type": "code",
   "execution_count": null,
   "metadata": {},
   "outputs": [],
   "source": [
    "import pandas as pd\n",
    "\n",
    "music_data = pd.read_csv('data.csv').T.to_dict()"
   ]
  }
 ],
 "metadata": {
  "kernelspec": {
   "display_name": "Python 3",
   "language": "python",
   "name": "python3"
  },
  "language_info": {
   "codemirror_mode": {
    "name": "ipython",
    "version": 3
   },
   "file_extension": ".py",
   "mimetype": "text/x-python",
   "name": "python",
   "nbconvert_exporter": "python",
   "pygments_lexer": "ipython3",
   "version": "3.7.4"
  }
 },
 "nbformat": 4,
 "nbformat_minor": 4
}
