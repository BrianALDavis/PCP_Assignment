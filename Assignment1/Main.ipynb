{
 "cells": [
  {
   "cell_type": "markdown",
   "metadata": {},
   "source": [
    "# PCP Assignment 1 - Main Notebook - Brian Davis"
   ]
  },
  {
   "cell_type": "markdown",
   "metadata": {},
   "source": [
    "Welcome to the PCP Main notebook.  \n",
    "All code needed to execute the program can be found here.  \n",
    "\n",
    "The module calls needed if a user wants to run individual metrics;  \n",
    "* Euclidean Distance\n",
    "    * euclidean_similarity(dictionary_name, first_id, second_id)\n",
    "* Cosine Distance\n",
    "    * cosine_similarity(dictionary_name, first_id, second_id)\n",
    "* Pearson Correlation\n",
    "    * pearson_similarity(dictionary_name, first_id, second_id)\n",
    "* Jaccard Distance\n",
    "    * jaccard_similarity(dictionary_name, first_id, second_id)\n",
    "* Manhattan Distance\n",
    "    * manhattan_similarity(dictionary_name, first_id, second_id)\n",
    "\n",
    "Please make sure to run the code from top to bottom, the first few code blocks create the program.  \n",
    "The dictionaries with the data are created before the main function is called.  \n"
   ]
  },
  {
   "cell_type": "markdown",
   "metadata": {},
   "source": [
    "### Import the required modules"
   ]
  },
  {
   "cell_type": "code",
   "execution_count": null,
   "metadata": {},
   "outputs": [],
   "source": [
    "from load_dataset_module import music_features, artist_music\n",
    "from similarity_module import search_artist, search_song, join_artist_dict\n",
    "from similarity_module import euclidean_similarity, cosine_similarity, jaccard_similarity, manhattan_similarity, pearson_similarity"
   ]
  },
  {
   "cell_type": "markdown",
   "metadata": {},
   "source": [
    "### Dictionaries needed are loaded here"
   ]
  },
  {
   "cell_type": "code",
   "execution_count": null,
   "metadata": {},
   "outputs": [],
   "source": [
    "# Define the dictionaries by calling their modules and assigning them\n",
    "artists = artist_music()\n",
    "features = music_features()"
   ]
  },
  {
   "cell_type": "markdown",
   "metadata": {},
   "source": [
    "### Function for the Metric choices within the Main function"
   ]
  },
  {
   "cell_type": "code",
   "execution_count": null,
   "metadata": {},
   "outputs": [],
   "source": [
    "# Function for metric selection\n",
    "def metric_choice(dict_name):\n",
    "    if len(dict_name) == 2: # Check the length, only the artist defined dictionary is length of 2\n",
    "        metric = str(input(\"Which metric would you like to use from the selection: Enter the number: \").capitalize().rstrip())\n",
    "        key_list = str(list(dict_name.keys())).split(',') # take the associated key names\n",
    "        key_list = [key.strip('[]').strip(' ') for key in key_list]\n",
    "        key1 = ''.join(map(str, key_list[0])).strip(\"''\") # Get the first key\n",
    "        key2 = ''.join(map(str, key_list[1])).strip(\"''\") # Get the second key\n",
    "        if metric == 1:\n",
    "            euclidean_similarity(dict_name, key1, key2)\n",
    "        elif metric == 2:\n",
    "            cosine_similarity(dict_name, key1, key2)\n",
    "        elif metric == 3:\n",
    "            pearson_similarity(dict_name, key1, key2)\n",
    "        elif metric == 4:\n",
    "            jaccard_similarity(dict_name, key1, key2)\n",
    "        elif metric == 5:\n",
    "            manhattan_similarity(dict_name, key1, key2)\n",
    "        else:\n",
    "            print(\"Your selection is incorrect.\")\n",
    "            if metric == '': # If entry is blank, end the program\n",
    "                print(\"You entered nothing, the program will end.\")\n",
    "            else:\n",
    "                metric_choice(dict_name) # Restart the metric choice\n",
    "        \n",
    "    else:\n",
    "        metric = int(input(\"Which metric would you like to use from the selection: Enter the number: \").capitalize().rstrip())\n",
    "        if metric == 1:\n",
    "            euclidean_similarity(dict_name, '', '')\n",
    "        elif metric == 2:\n",
    "            cosine_similarity(dict_name, '', '')\n",
    "        elif metric == 3:\n",
    "            pearson_similarity(dict_name, '', '')\n",
    "        elif metric == 4:\n",
    "            jaccard_similarity(dict_name, '', '')\n",
    "        elif metric == 5:\n",
    "            manhattan_similarity(dict_name, '', '')\n",
    "        else:\n",
    "            print(\"Your selection is incorrect.\")\n",
    "            if metric == '': # If entry is blank, end the program\n",
    "                print(\"You entered nothing, the program will end.\")\n",
    "            else:\n",
    "                metric_choice(dict_name) # Restart the metric choice"
   ]
  },
  {
   "cell_type": "markdown",
   "metadata": {},
   "source": [
    "### Main Execution Function"
   ]
  },
  {
   "cell_type": "code",
   "execution_count": null,
   "metadata": {},
   "outputs": [],
   "source": [
    "def main(dict_1, dict_2):\n",
    "    try:\n",
    "       # Assign the dictionaries within the function\n",
    "        artists = dict_1\n",
    "        features = dict_2\n",
    "    \n",
    "        # Let the user choose a dictionary to use\n",
    "        selection = str(input(\"What would you like to do? Please enter 'Artist' or 'Song'. \").capitalize().rstrip())\n",
    "        if selection == \"Artist\":\n",
    "            choice = str(input(\"You have chosen Artist, would you like to search for 2 artists? \").capitalize().rstrip())\n",
    "            if choice == \"Yes\":\n",
    "                artist_choices = {} # Create an empty dictionary for the artist searching\n",
    "                while len(artist_choices) != 2: # Create a loop while the dictionary doesnt have 2 keys (2 artists)\n",
    "                    artist = search_artist(artists)\n",
    "                    artist_choices = join_artist_dict(artist_choices, artist)\n",
    "                    print(\"\\n\",\"Artist Dictionary contains \", artist_choices)\n",
    "                    \n",
    "                metric_select = [\"Euclidean\", \"Cosine\", \"Pearson\", \"Jaccard\", \"Manhattan\"]\n",
    "                for number, letter in enumerate(metric_select, start=1):\n",
    "                    print(number, letter) # Present a list of options to the user for metric choice\n",
    "                metric_choice(artist_choices)\n",
    "                # Program ends\n",
    "                \n",
    "            elif choice == \"No\":\n",
    "                metric_select = [\"Euclidean\", \"Cosine\", \"Pearson\", \"Jaccard\", \"Manhattan\"]\n",
    "                for number, letter in enumerate(metric_select, start=1):\n",
    "                    print(number, letter) # Present a list of options to the user for metric choice\n",
    "                metric_choice(artists)\n",
    "                # Program ends\n",
    "                    \n",
    "            else: # Input was wrong, raise an error and resatrt program\n",
    "                raise ValueError\n",
    "            \n",
    "        elif selection == \"Song\":\n",
    "            song_choice = str(input(\"You have chosen Song, would you like to search for a song? \").capitalize().rstrip())\n",
    "            if song_choice == \"Yes\" or song_choice == \"No\":\n",
    "                while song_choice == \"Yes\": # Loop until the user says they don't want to search for a song anymore\n",
    "                    search_song(artists)\n",
    "                    song_choice = str(input(\"Would you like to search for another song? \").capitalize().rstrip())\n",
    "\n",
    "                if song_choice == \"No\":\n",
    "                    metric_select = [\"Euclidean\", \"Cosine\", \"Pearson\", \"Jaccard\", \"Manhattan\"]\n",
    "                    for number, letter in enumerate(metric_select, start=1):\n",
    "                        print(number, letter) # Present a list of options to the user for metric choice\n",
    "                    metric_choice(features)\n",
    "                    # Program ends\n",
    "            else: # Input was wrong, raise an error and restart program\n",
    "                raise ValueError\n",
    "            \n",
    "        else: # Input was wrong, raise an error and restart program\n",
    "            raise ValueError \n",
    "        \n",
    "    except ValueError:\n",
    "        print(\"You have entered an incorrect value, the program will restart.\")\n",
    "        main(artists, features) # Restart the program\n",
    "    except AttributeError: # Reaches here if \n",
    "        print(\"There was a problem joining the artist dictionary, please try again.\")\n",
    "    except NameError: # Shouldn't get here in normal use\n",
    "        print(\"Error in declaring a name, please check your entries.\")\n",
    "    except TypeError: # Reaches here if an artist search turns up empty\n",
    "        print(\"One of the searches returned no values, please try again.\")"
   ]
  },
  {
   "cell_type": "markdown",
   "metadata": {},
   "source": [
    "# Let's run the Program"
   ]
  },
  {
   "cell_type": "markdown",
   "metadata": {},
   "source": [
    "Here are the features that you can compare within the program.\n",
    "\n",
    "* Accoustiness  \n",
    "* Danceability  \n",
    "* Energy  \n",
    "* Liveness  \n",
    "* Loudness  \n",
    "* Popularity  \n",
    "* Speechiness  \n",
    "* Tempo  \n",
    "* Valence  "
   ]
  },
  {
   "cell_type": "code",
   "execution_count": null,
   "metadata": {
    "scrolled": true
   },
   "outputs": [],
   "source": [
    "# Runs the program - requires the dictionary names as arguments\n",
    "try: \n",
    "    main(artists, features)\n",
    "except NameError:\n",
    "    print(\"Dictionary Name/s is wrong, did you forget to run the code blocks above?\")"
   ]
  },
  {
   "cell_type": "markdown",
   "metadata": {},
   "source": [
    "## Individual code blocks are below to run single sections of the Program"
   ]
  },
  {
   "cell_type": "markdown",
   "metadata": {},
   "source": [
    "You can use the code blocks below if you prefer not to run the single main function above.  \n",
    "Please make sure that the code blocks above for the dictionaries are loaded beforehand.  "
   ]
  },
  {
   "cell_type": "markdown",
   "metadata": {},
   "source": [
    "### Artist Search Function Call"
   ]
  },
  {
   "cell_type": "code",
   "execution_count": null,
   "metadata": {
    "scrolled": true
   },
   "outputs": [],
   "source": [
    "artist_search = search_artist(artists)"
   ]
  },
  {
   "cell_type": "code",
   "execution_count": null,
   "metadata": {
    "scrolled": true
   },
   "outputs": [],
   "source": [
    "artist_search2 = search_artist(artists)"
   ]
  },
  {
   "cell_type": "markdown",
   "metadata": {},
   "source": [
    "### Dictionary Join Function Call"
   ]
  },
  {
   "cell_type": "code",
   "execution_count": null,
   "metadata": {},
   "outputs": [],
   "source": [
    "new_dict = join_artist_dict(artist_search, artist_search2)"
   ]
  },
  {
   "cell_type": "code",
   "execution_count": null,
   "metadata": {},
   "outputs": [],
   "source": [
    "print(new_dict)"
   ]
  },
  {
   "cell_type": "markdown",
   "metadata": {},
   "source": [
    "#### Define keys for function call"
   ]
  },
  {
   "cell_type": "code",
   "execution_count": null,
   "metadata": {},
   "outputs": [],
   "source": [
    "# Get the keys and assign them to variables\n",
    "key_list = str(list(new_dict.keys())).split(',') # take the associated key names\n",
    "key_list = [key.strip('[]').strip(' ') for key in key_list]\n",
    "key1 = ''.join(map(str, key_list[0])).strip(\"''\")\n",
    "key2 = ''.join(map(str, key_list[1])).strip(\"''\")"
   ]
  },
  {
   "cell_type": "markdown",
   "metadata": {},
   "source": [
    "### Euclidean Metric Call"
   ]
  },
  {
   "cell_type": "code",
   "execution_count": null,
   "metadata": {},
   "outputs": [],
   "source": [
    "# Euclidean against Artist Dictionary\n",
    "euclidean_similarity(artists, '', '')"
   ]
  },
  {
   "cell_type": "code",
   "execution_count": null,
   "metadata": {},
   "outputs": [],
   "source": [
    "# Euclidean against Music Dictionary\n",
    "euclidean_similarity(features, '', '')"
   ]
  },
  {
   "cell_type": "code",
   "execution_count": null,
   "metadata": {},
   "outputs": [],
   "source": [
    "# Euclidean against Defined Artist Dictionary\n",
    "euclidean_similarity(new_dict, key1, key2)"
   ]
  },
  {
   "cell_type": "markdown",
   "metadata": {},
   "source": [
    "### Cosine Metric Call"
   ]
  },
  {
   "cell_type": "code",
   "execution_count": null,
   "metadata": {},
   "outputs": [],
   "source": [
    "# Cosine against Artist Dictionary\n",
    "cosine_similarity(artists, '', '')"
   ]
  },
  {
   "cell_type": "code",
   "execution_count": null,
   "metadata": {},
   "outputs": [],
   "source": [
    "# Cosine against Music Dictionary\n",
    "cosine_similarity(features, '','')"
   ]
  },
  {
   "cell_type": "code",
   "execution_count": null,
   "metadata": {},
   "outputs": [],
   "source": [
    "# Cosine against Defined Artist Dictionary\n",
    "cosine_similarity(new_dict, key1, key2)"
   ]
  },
  {
   "cell_type": "markdown",
   "metadata": {},
   "source": [
    "### Pearson Metric Call"
   ]
  },
  {
   "cell_type": "code",
   "execution_count": null,
   "metadata": {},
   "outputs": [],
   "source": [
    "# Pearson against Artist Dictionary\n",
    "pearson_similarity(artists, '', '')"
   ]
  },
  {
   "cell_type": "code",
   "execution_count": null,
   "metadata": {},
   "outputs": [],
   "source": [
    "# Pearson against Music Dictionary\n",
    "pearson_similarity(features, '','')"
   ]
  },
  {
   "cell_type": "code",
   "execution_count": null,
   "metadata": {},
   "outputs": [],
   "source": [
    "# Pearson against Defined Artist Dictionary - Expect not to work if list sizes differ\n",
    "pearson_similarity(new_dict, key1, key2)"
   ]
  },
  {
   "cell_type": "markdown",
   "metadata": {},
   "source": [
    "### Jaccard Metric Call"
   ]
  },
  {
   "cell_type": "code",
   "execution_count": null,
   "metadata": {},
   "outputs": [],
   "source": [
    "# Jaccard against Artist Dictionary\n",
    "jaccard_similarity(artists, '', '')"
   ]
  },
  {
   "cell_type": "code",
   "execution_count": null,
   "metadata": {},
   "outputs": [],
   "source": [
    "# Jaccard against Music Dictionary\n",
    "jaccard_similarity(features, '','')"
   ]
  },
  {
   "cell_type": "code",
   "execution_count": null,
   "metadata": {},
   "outputs": [],
   "source": [
    "# Jaccard against Defined Artist Dictionary\n",
    "jaccard_similarity(new_dict, key1, key2)"
   ]
  },
  {
   "cell_type": "markdown",
   "metadata": {},
   "source": [
    "### Manhattan Metric Call"
   ]
  },
  {
   "cell_type": "code",
   "execution_count": null,
   "metadata": {},
   "outputs": [],
   "source": [
    "# Manhattan against Artist Dictionary\n",
    "manhattan_similarity(artists, '', '')"
   ]
  },
  {
   "cell_type": "code",
   "execution_count": null,
   "metadata": {},
   "outputs": [],
   "source": [
    "# Manhattan against Music Dictionary\n",
    "manhattan_similarity(features, '','')"
   ]
  },
  {
   "cell_type": "code",
   "execution_count": null,
   "metadata": {},
   "outputs": [],
   "source": [
    "# Manhattan against Defined Artist Dictionary\n",
    "manhattan_similarity(new_dict, key1, key2)"
   ]
  }
 ],
 "metadata": {
  "kernelspec": {
   "display_name": "Python 3",
   "language": "python",
   "name": "python3"
  },
  "language_info": {
   "codemirror_mode": {
    "name": "ipython",
    "version": 3
   },
   "file_extension": ".py",
   "mimetype": "text/x-python",
   "name": "python",
   "nbconvert_exporter": "python",
   "pygments_lexer": "ipython3",
   "version": "3.7.4"
  }
 },
 "nbformat": 4,
 "nbformat_minor": 4
}
