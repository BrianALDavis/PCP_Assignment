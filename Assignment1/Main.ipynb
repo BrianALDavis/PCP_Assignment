{
 "cells": [
  {
   "cell_type": "markdown",
   "metadata": {},
   "source": [
    "### PCP Module 1 - Main"
   ]
  },
  {
   "cell_type": "code",
   "execution_count": 1,
   "metadata": {},
   "outputs": [
    {
     "name": "stdout",
     "output_type": "stream",
     "text": [
      "Finished reading the command for artist music.\n"
     ]
    }
   ],
   "source": [
    "from load_dataset_module import artist_music"
   ]
  },
  {
   "cell_type": "code",
   "execution_count": 2,
   "metadata": {},
   "outputs": [],
   "source": [
    "from load_dataset_module import music_features"
   ]
  },
  {
   "cell_type": "code",
   "execution_count": 3,
   "metadata": {},
   "outputs": [
    {
     "name": "stdout",
     "output_type": "stream",
     "text": [
      "Finished reading the command for artist music.\n"
     ]
    }
   ],
   "source": [
    "artists = artist_music()"
   ]
  },
  {
   "cell_type": "code",
   "execution_count": 13,
   "metadata": {},
   "outputs": [
    {
     "data": {
      "text/plain": [
       "{'ID': '6KuQTIu1KoTTkLXKrwlLPV',\n",
       " 'Artists': '\"Robert Schumann/ Vladimir Horowitz\"',\n",
       " 'Song Name': '\"Fantasiestücke/ Op. 111: Più tosto lento\"',\n",
       " 'Accoustiness': 0.994,\n",
       " 'Danceability': 0.379,\n",
       " 'Energy': 0.0135,\n",
       " 'Liveness': 0.0763,\n",
       " 'Loudness': -28.454,\n",
       " 'Popularity': 0.0,\n",
       " 'Speechiness': 0.0462,\n",
       " 'Tempo': 83.97200000000002,\n",
       " 'Valence': 0.0767}"
      ]
     },
     "execution_count": 13,
     "metadata": {},
     "output_type": "execute_result"
    }
   ],
   "source": [
    "artists[2]"
   ]
  },
  {
   "cell_type": "code",
   "execution_count": 5,
   "metadata": {},
   "outputs": [
    {
     "name": "stdout",
     "output_type": "stream",
     "text": [
      "Finished reading the command for music features.\n"
     ]
    }
   ],
   "source": [
    "music_features = music_features()"
   ]
  },
  {
   "cell_type": "code",
   "execution_count": 6,
   "metadata": {},
   "outputs": [
    {
     "data": {
      "text/plain": [
       "{'ID': '5aWDCuqB309xaFwkEj2HXg',\n",
       " 'Song Name': '\"Sonata for Violin and Piano No. 1/ Op. 2: II. Allegro furioso\"',\n",
       " 'Accoustiness': 0.926,\n",
       " 'Danceability': 0.409,\n",
       " 'Energy': 0.264,\n",
       " 'Liveness': 0.294,\n",
       " 'Loudness': -17.375999999999998,\n",
       " 'Popularity': 0.0,\n",
       " 'Speechiness': 0.0449,\n",
       " 'Tempo': 159.635,\n",
       " 'Valence': 0.468}"
      ]
     },
     "execution_count": 6,
     "metadata": {},
     "output_type": "execute_result"
    }
   ],
   "source": [
    "music_features[25000]"
   ]
  },
  {
   "cell_type": "code",
   "execution_count": 7,
   "metadata": {},
   "outputs": [],
   "source": [
    "tempo = music_features[80]['Accoustiness'] \n",
    "tempo2 = music_features[150]['Accoustiness']"
   ]
  },
  {
   "cell_type": "code",
   "execution_count": 8,
   "metadata": {},
   "outputs": [
    {
     "name": "stdout",
     "output_type": "stream",
     "text": [
      "0.989\n",
      "0.996\n",
      "0.9929718875502008\n"
     ]
    }
   ],
   "source": [
    "print(tempo)\n",
    "print(tempo2)\n",
    "\n",
    "print(tempo / tempo2)"
   ]
  },
  {
   "cell_type": "code",
   "execution_count": null,
   "metadata": {},
   "outputs": [],
   "source": []
  }
 ],
 "metadata": {
  "kernelspec": {
   "display_name": "Python 3",
   "language": "python",
   "name": "python3"
  },
  "language_info": {
   "codemirror_mode": {
    "name": "ipython",
    "version": 3
   },
   "file_extension": ".py",
   "mimetype": "text/x-python",
   "name": "python",
   "nbconvert_exporter": "python",
   "pygments_lexer": "ipython3",
   "version": "3.7.4"
  }
 },
 "nbformat": 4,
 "nbformat_minor": 4
}
