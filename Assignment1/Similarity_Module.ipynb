{
 "cells": [
  {
   "cell_type": "markdown",
   "metadata": {},
   "source": [
    "### PCP Module 1 - similarity_module"
   ]
  },
  {
   "cell_type": "code",
   "execution_count": 6,
   "metadata": {},
   "outputs": [],
   "source": [
    "from load_dataset_module import music_features\n",
    "from load_dataset_module import artist_music\n",
    "\n",
    "import warnings\n",
    "warnings.filterwarnings('ignore')"
   ]
  },
  {
   "cell_type": "code",
   "execution_count": 7,
   "metadata": {},
   "outputs": [
    {
     "name": "stdout",
     "output_type": "stream",
     "text": [
      "Finished reading the command for music features.\n"
     ]
    }
   ],
   "source": [
    "features = music_features()"
   ]
  },
  {
   "cell_type": "code",
   "execution_count": 8,
   "metadata": {},
   "outputs": [
    {
     "name": "stdout",
     "output_type": "stream",
     "text": [
      "Finished reading the command for artist music.\n"
     ]
    }
   ],
   "source": [
    "artists = artist_music()"
   ]
  },
  {
   "cell_type": "code",
   "execution_count": 9,
   "metadata": {},
   "outputs": [
    {
     "data": {
      "text/plain": [
       "{'ID': '6XD6qJykJ91uC9AYb84ZeY',\n",
       " 'Song Name': 'Chapter 4.12 - Zamek kaniowski',\n",
       " 'Accoustiness': 0.6859999999999999,\n",
       " 'Danceability': 0.715,\n",
       " 'Energy': 0.22,\n",
       " 'Liveness': 0.206,\n",
       " 'Loudness': -19.788,\n",
       " 'Popularity': 0.0,\n",
       " 'Speechiness': 0.948,\n",
       " 'Tempo': 113.214,\n",
       " 'Valence': 0.545}"
      ]
     },
     "execution_count": 9,
     "metadata": {},
     "output_type": "execute_result"
    }
   ],
   "source": [
    "features[30]"
   ]
  },
  {
   "cell_type": "code",
   "execution_count": 10,
   "metadata": {},
   "outputs": [
    {
     "data": {
      "text/plain": [
       "{'ID': '6bKJYhoaWIohnhspidbdW7',\n",
       " 'Artists': 'Seweryn Goszczyński',\n",
       " 'Song Name': 'Chapter 2.11 - Zamek kaniowski',\n",
       " 'Accoustiness': 0.777,\n",
       " 'Danceability': 0.738,\n",
       " 'Energy': 0.282,\n",
       " 'Liveness': 0.29,\n",
       " 'Loudness': -16.555999999999994,\n",
       " 'Popularity': 0.0,\n",
       " 'Speechiness': 0.952,\n",
       " 'Tempo': 140.612,\n",
       " 'Valence': 0.703}"
      ]
     },
     "execution_count": 10,
     "metadata": {},
     "output_type": "execute_result"
    }
   ],
   "source": [
    "artists[40]"
   ]
  },
  {
   "cell_type": "code",
   "execution_count": 169,
   "metadata": {},
   "outputs": [],
   "source": [
    "def search_artist():\n",
    "    try:\n",
    "        feature = str(input(\"Please enter the feature you want to find for the artists' songs: \").capitalize())\n",
    "        fName = str(input(\"Please enter the first name of the artist you want to find: \").capitalize())\n",
    "        lName = str(input(\"Please enter the surname of the artist you want to find (entry can be left blank): \").capitalize())\n",
    "    \n",
    "        # make this output a dict, so it can be used for the other functions\n",
    "        results_dict = {}\n",
    "        results = []\n",
    "        for i in range(1, len(artists)+1):\n",
    "            if fName + \" \" + lName in artists[i]['Artists']:\n",
    "                print(\"ID:\", i, \"|\", \"Artist/s:\", artists[i]['Artists'])\n",
    "                results.append(artists[i][feature])\n",
    "                \n",
    "        if len(results) == '':\n",
    "            return None\n",
    "        else:\n",
    "            results_dict[fName] = results\n",
    "    \n",
    "        return results_dict\n",
    "    except KeyError:\n",
    "        return(print(\"You have entered an incorrect value, please check your entry.\"))"
   ]
  },
  {
   "cell_type": "code",
   "execution_count": 255,
   "metadata": {},
   "outputs": [
    {
     "name": "stdout",
     "output_type": "stream",
     "text": [
      "Please enter the feature you want to find for the artists' songs: tempo\n",
      "Please enter the first name of the artist you want to find: carl\n",
      "Please enter the surname of the artist you want to find (entry can be left blank): \n",
      "ID: 1 | Artist/s: Carl Woitschach\n",
      "ID: 8 | Artist/s: Carl Woitschach\n",
      "ID: 275 | Artist/s: Carl Verheyen\n",
      "ID: 282 | Artist/s: Carl Verheyen\n",
      "ID: 306 | Artist/s: \"Ludwig van Beethoven/ Orchestre De La Société Des Concerts Du Conservatoire/ Carl Schuricht\"\n",
      "ID: 315 | Artist/s: \"Ludwig van Beethoven/ Orchestre De La Société Des Concerts Du Conservatoire/ Carl Schuricht\"\n",
      "ID: 333 | Artist/s: \"Ludwig van Beethoven/ Orchestre De La Société Des Concerts Du Conservatoire/ Carl Schuricht\"\n",
      "ID: 339 | Artist/s: \"Ludwig van Beethoven/ Orchestre De La Société Des Concerts Du Conservatoire/ Carl Schuricht\"\n",
      "ID: 349 | Artist/s: \"Ludwig van Beethoven/ Wilma Lipp/ Marga Höffgen/ Murray Dickie/ Gottlob Frick/ Chorale Elisabeth Brasseur/ Orchestre De La Société Des Concerts Du Conservatoire/ Carl Schuricht\"\n",
      "ID: 402 | Artist/s: \"Richard Levitt/ Charles Byrd/ Carl Tucker\"\n",
      "ID: 1253 | Artist/s: \"Carl Millöcker/ Ljuba Welitsch/ Rudolf Moralt/ Vienna State Opera Orchestra\"\n",
      "ID: 1277 | Artist/s: \"Carl Maria von Weber/ Arturo Toscanini\"\n",
      "ID: 1778 | Artist/s: Carl Perkins\n",
      "ID: 1919 | Artist/s: Carl Perkins\n",
      "ID: 3022 | Artist/s: Carl Perkins\n",
      "ID: 3401 | Artist/s: \"Carl Anderson/ Ted Neeley\"\n",
      "ID: 3438 | Artist/s: \"Carl Anderson/ Bob Bingham/ Kurt Yaghjian\"\n",
      "ID: 3557 | Artist/s: \"Carl Orff/ Cleveland Orchestra/ Michael Tilson Thomas\"\n",
      "ID: 6959 | Artist/s: Carl Carlton\n",
      "ID: 8201 | Artist/s: Carl Woitschach\n",
      "ID: 8204 | Artist/s: Carl Woitschach\n",
      "ID: 8228 | Artist/s: Carl Woitschach\n",
      "ID: 8344 | Artist/s: \"Carl Maria von Weber/ Karl Böhm/ Staatskapelle Dresden\"\n",
      "ID: 8361 | Artist/s: Carl Verheyen\n",
      "ID: 8601 | Artist/s: \"Wolfgang Amadeus Mozart/ Berliner Philharmoniker/ Carl Schuricht\"\n",
      "ID: 9726 | Artist/s: Carl Perkins\n",
      "ID: 10006 | Artist/s: Carl Perkins\n",
      "ID: 11505 | Artist/s: \"Ted Neeley/ Carl Anderson\"\n",
      "ID: 16376 | Artist/s: Carl Verheyen\n",
      "ID: 16393 | Artist/s: Carl Verheyen\n",
      "ID: 16403 | Artist/s: Carl Verheyen\n",
      "ID: 16416 | Artist/s: Carl Verheyen\n",
      "ID: 16587 | Artist/s: \"Ludwig van Beethoven/ Berliner Philharmoniker/ Carl Schuricht\"\n",
      "ID: 16928 | Artist/s: \"Gene Autry/ Cass County Boys/ The King Sisters/ Carl Cotner\"\n",
      "ID: 17475 | Artist/s: \"Carl Leopold Sjöberg/ Jussi Björling\"\n",
      "ID: 18461 | Artist/s: Carl Butler\n",
      "ID: 19078 | Artist/s: Carl Perkins\n",
      "ID: 21695 | Artist/s: \"Carl Ditters von Dittersdorf/ Failoni Kamarazenekar/ Hanspeter Gmür\"\n",
      "ID: 24354 | Artist/s: Carl Verheyen\n",
      "ID: 24580 | Artist/s: \"Ludwig van Beethoven/ Berliner Philharmoniker/ Carl Schuricht\"\n",
      "ID: 26074 | Artist/s: \"Johann Sebastian Bach/ Carl Philipp Emanuel Bach Chamber Orchestra/ Hartmut Haenchen\"\n",
      "ID: 28831 | Artist/s: \"Carl Maria von Weber/ Berliner Philharmoniker/ Herbert von Karajan\"\n",
      "ID: 29902 | Artist/s: \"Diddy/ Ginuwine/ Twista/ Carl Thomas\"\n",
      "ID: 32502 | Artist/s: \"Richard Levitt/ Charles Byrd/ Carl Tucker\"\n",
      "ID: 32600 | Artist/s: \"Ludwig van Beethoven/ Berliner Philharmoniker/ Carl Schuricht\"\n",
      "ID: 32602 | Artist/s: \"Ludwig van Beethoven/ Berliner Philharmoniker/ Carl Schuricht\"\n",
      "ID: 33383 | Artist/s: \"Carl Maria von Weber/ George and Madeleine Brown\"\n",
      "ID: 34020 | Artist/s: Carl Perkins\n",
      "ID: 35072 | Artist/s: \"Johnny Cash/ The Carter Family/ The Statler Brothers/ Carl Perkins\"\n",
      "ID: 35123 | Artist/s: \"Johann Sebastian Bach/ Hartmut Haenchen/ Kammerorchester \"\"Carl Philipp Emanuel Bach\"\"\"\n",
      "ID: 35473 | Artist/s: \"Carl Anderson/ Bob Bingham/ Kurt Yaghjian\"\n",
      "ID: 40507 | Artist/s: \"Wolfgang Amadeus Mozart/ Berliner Philharmoniker/ Carl Schuricht\"\n",
      "ID: 41538 | Artist/s: Carl Perkins\n",
      "ID: 42057 | Artist/s: \"Nancy Wilson/ Carl Anderson\"\n",
      "ID: 43520 | Artist/s: \"Carl Orff/ Brighton Festival Chorus/ Royal Philharmonic Orchestra/ Antal Doráti\"\n",
      "ID: 48239 | Artist/s: \"Johann Strauss II/ Carl Tausig/ Sergei Rachmaninoff\"\n",
      "ID: 48279 | Artist/s: \"Robert Schumann/ Carl Tausig/ Sergei Rachmaninoff\"\n",
      "ID: 49116 | Artist/s: Carl Perkins\n",
      "ID: 50553 | Artist/s: \"Johnny Cash/ The Carter Family/ The Statler Brothers/ Carl Perkins\"\n",
      "ID: 52975 | Artist/s: \"Carl Stamitz/ Christian Benda/ Pražský komorní orchestr\"\n",
      "ID: 55838 | Artist/s: \"Richard Levitt/ Charles Byrd/ Carl Tucker\"\n",
      "ID: 56088 | Artist/s: \"Carl Philipp Emanuel Bach/ Isaac Stern\"\n",
      "ID: 56137 | Artist/s: Carl Sandburg\n",
      "ID: 56998 | Artist/s: Carl Perkins\n",
      "ID: 57988 | Artist/s: \"Johnny Cash/ Carl Perkins\"\n",
      "ID: 58038 | Artist/s: \"Johnny Cash/ Carl Perkins\"\n",
      "ID: 58084 | Artist/s: \"Johnny Cash/ Carl Perkins\"\n",
      "ID: 63530 | Artist/s: \"Carl Philipp Emanuel Bach/ Isaac Stern\"\n",
      "ID: 63787 | Artist/s: \"Johannes Brahms/ Wilhelm Backhaus/ Wiener Philharmoniker/ Carl Schuricht\"\n",
      "ID: 63999 | Artist/s: \"Carl Maria von Weber/ Fritz Reiner\"\n",
      "ID: 64105 | Artist/s: \"Carl Orff/ Janice Harsanyi/ Harve Presnell/ F. Austin Walter/ Philadelphia Orchestra/ Eugene Ormandy/ The Rutgers University Choir/ Rudolf Petrak\"\n",
      "ID: 64134 | Artist/s: Carl Sandburg\n",
      "ID: 65493 | Artist/s: \"Johnny Cash/ The Carter Family/ The Statler Brothers/ Carl Perkins\"\n",
      "ID: 65509 | Artist/s: \"Johnny Cash/ The Carter Family/ The Statler Brothers/ Carl Perkins\"\n",
      "ID: 67399 | Artist/s: \"Carl Orff/ Orchester der Deutschen Oper Berlin/ Eugen Jochum/ Chor der Deutschen Oper Berlin\"\n",
      "ID: 67768 | Artist/s: Carl Smith\n",
      "ID: 68647 | Artist/s: Carl Thomas\n",
      "ID: 70345 | Artist/s: Carl Borg\n",
      "ID: 70678 | Artist/s: \"Richard Levitt/ Charles Byrd/ Carl Tucker\"\n",
      "ID: 70702 | Artist/s: \"Richard Levitt/ Charles Byrd/ Carl Tucker\"\n",
      "ID: 71560 | Artist/s: Carl Perkins\n",
      "ID: 76032 | Artist/s: Carl Thomas\n",
      "ID: 80137 | Artist/s: \"Carl Maria von Weber/ Claudio Arrau/ Désiré Defauw/ Chicago Symphony Orchestra\"\n",
      "ID: 80654 | Artist/s: \"Gene Autry/ \"\"Carl Cotners Orchestra\"\"\"\n",
      "ID: 80683 | Artist/s: \"Gene Autry/ Cass County Boys/ The King Sisters/ Carl Cotner\"\n",
      "ID: 80709 | Artist/s: \"Gene Autry/ \"\"Carl Cotners Orchestra and Chorus\"\"\"\n",
      "ID: 80719 | Artist/s: \"Gene Autry/ Carl Cotner & His Orchestra\"\n",
      "ID: 80727 | Artist/s: \"Gene Autry/ \"\"Carl Cotners Orchestra and Chorus\"\"\"\n",
      "ID: 80728 | Artist/s: \"Gene Autry/ Carl Cotner & His Orchestra\"\n",
      "ID: 80737 | Artist/s: \"Gene Autry/ Carl Cotner & His Orchestra\"\n",
      "ID: 81658 | Artist/s: Carl Perkins\n",
      "ID: 81716 | Artist/s: Carl Perkins\n",
      "ID: 81730 | Artist/s: Carl Perkins\n",
      "ID: 86120 | Artist/s: Carl Douglas\n",
      "ID: 88582 | Artist/s: Carl Woitschach\n",
      "ID: 88613 | Artist/s: \"Carl Maria von Weber/ Berliner Philharmoniker/ Hans Pfitzner\"\n",
      "ID: 89277 | Artist/s: Carl Verheyen\n",
      "ID: 89283 | Artist/s: Carl Verheyen\n",
      "ID: 89293 | Artist/s: Carl Verheyen\n",
      "ID: 89849 | Artist/s: \"Carl Maria von Weber/ Claudio Arrau\"\n",
      "ID: 90014 | Artist/s: \"Carl Maria von Weber/ Hilde Gueden/ Orchester der Deutschen Oper Berlin/ Gerhard Steeger\"\n",
      "ID: 91473 | Artist/s: Carl Perkins\n",
      "ID: 92050 | Artist/s: Carl Butler\n",
      "ID: 92396 | Artist/s: Carl Dawkins\n",
      "ID: 95823 | Artist/s: Carl Thomas\n",
      "ID: 98042 | Artist/s: Carl Woitschach\n",
      "ID: 98051 | Artist/s: Carl Woitschach\n",
      "ID: 98072 | Artist/s: Carl Woitschach\n",
      "ID: 98818 | Artist/s: Carl Verheyen\n",
      "ID: 99304 | Artist/s: \"Richard Levitt/ Charles Byrd/ Carl Tucker\"\n",
      "ID: 99388 | Artist/s: \"Carl Maria von Weber/ Claudio Arrau\"\n",
      "ID: 99422 | Artist/s: \"Carl Maria von Weber/ Claudio Arrau/ Désiré Defauw/ Chicago Symphony Orchestra\"\n",
      "ID: 99429 | Artist/s: \"Carl Maria von Weber/ Claudio Arrau\"\n",
      "ID: 99483 | Artist/s: \"Wolfgang Amadeus Mozart/ Berliner Philharmoniker/ Carl Schuricht\"\n",
      "ID: 100532 | Artist/s: \"Carl Smith/ June Carter Cash\"\n",
      "ID: 100977 | Artist/s: Carl Perkins\n",
      "ID: 105242 | Artist/s: Carl Thomas\n",
      "ID: 105367 | Artist/s: \"Floyd F. McRay/ Carl Feaster/ Claude Walter Feaster/ James Keyes/ William Edwards/ The Crew Cuts\"\n",
      "ID: 105864 | Artist/s: Carl Carlton\n",
      "ID: 107456 | Artist/s: Carl Woitschach\n",
      "ID: 107462 | Artist/s: Carl Woitschach\n",
      "ID: 107482 | Artist/s: Carl Woitschach\n",
      "ID: 108364 | Artist/s: \"Carl Maria von Weber/ Erna Berger/ Staatskapelle Berlin/ Johannes Schüler\"\n",
      "ID: 108450 | Artist/s: \"Anton Bruckner/ Berliner Philharmoniker/ Carl Schuricht\"\n",
      "ID: 108454 | Artist/s: \"Carl Maria von Weber/ Berliner Philharmoniker\"\n",
      "ID: 108465 | Artist/s: \"Anton Bruckner/ Berliner Philharmoniker/ Carl Schuricht\"\n",
      "ID: 108487 | Artist/s: \"Anton Bruckner/ Berliner Philharmoniker/ Carl Schuricht\"\n",
      "ID: 108762 | Artist/s: \"Carl Maria von Weber/ Claudio Arrau\"\n",
      "ID: 108768 | Artist/s: \"Carl Maria von Weber/ Claudio Arrau\"\n",
      "ID: 109032 | Artist/s: \"Carl Maria von Weber/ Maria Müller/ Städtisches Orchester Berlin/ Robert Heger\"\n",
      "ID: 114682 | Artist/s: Carl Thomas\n",
      "ID: 117625 | Artist/s: Carl Verheyen\n",
      "ID: 117671 | Artist/s: \"Carl Maria von Weber/ Karl Böhm/ Staatskapelle Dresden\"\n",
      "ID: 117918 | Artist/s: \"Carl Maria von Weber/ Berliner Philharmoniker\"\n",
      "ID: 117921 | Artist/s: \"Anton Bruckner/ Berliner Philharmoniker/ Carl Schuricht\"\n",
      "ID: 118153 | Artist/s: \"Richard Levitt/ Charles Byrd/ Carl Tucker\"\n",
      "ID: 118208 | Artist/s: \"Richard Levitt/ Charles Byrd/ Carl Tucker\"\n",
      "ID: 118384 | Artist/s: \"Ludwig van Beethoven/ Berliner Philharmoniker/ Carl Schuricht\"\n",
      "ID: 121426 | Artist/s: \"Carl Orff/ John Williams/ Boston Pops Orchestra\"\n",
      "ID: 124230 | Artist/s: Carl Carlton\n",
      "ID: 126501 | Artist/s: Carl Woitschach\n",
      "ID: 126775 | Artist/s: \"Carl Michael Ziehrer/ Julius Patzak/ Staatskapelle Berlin\"\n",
      "ID: 127055 | Artist/s: Carl Verheyen\n",
      "ID: 127321 | Artist/s: Carl Fischer\n",
      "ID: 127457 | Artist/s: \"Richard Levitt/ Charles Byrd/ Carl Tucker\"\n",
      "ID: 127562 | Artist/s: \"Carl Maria von Weber/ Berliner Philharmoniker\"\n",
      "ID: 127722 | Artist/s: \"Ludwig van Beethoven/ Städtisches Orchester Berlin/ Carl Schuricht\"\n",
      "ID: 127807 | Artist/s: \"Carl Maria von Weber/ Maria Müller/ Städtisches Orchester Berlin/ Robert Heger\"\n",
      "ID: 129147 | Artist/s: Carl Perkins\n",
      "ID: 129152 | Artist/s: Carl Perkins\n",
      "ID: 130394 | Artist/s: Carl Perkins\n",
      "ID: 133635 | Artist/s: \"Faith Evans/ Carl Thomas\"\n",
      "ID: 135651 | Artist/s: Carl Woitschach\n",
      "ID: 135654 | Artist/s: Carl Woitschach\n",
      "ID: 135696 | Artist/s: Carl Woitschach\n",
      "ID: 135711 | Artist/s: Carl Woitschach\n",
      "ID: 136000 | Artist/s: \"Carl Maria von Weber/ Karl Böhm/ Staatskapelle Dresden\"\n",
      "ID: 136356 | Artist/s: \"Richard Levitt/ Charles Byrd/ Carl Tucker\"\n",
      "ID: 136460 | Artist/s: \"Carl Maria von Weber/ Claudio Arrau\"\n",
      "ID: 137950 | Artist/s: Carl Perkins\n",
      "ID: 138796 | Artist/s: Carl Belew\n",
      "ID: 139585 | Artist/s: Carl Anderson\n",
      "ID: 140496 | Artist/s: \"Carl Anderson/ Gloria Loring\"\n",
      "ID: 142885 | Artist/s: \"2Pac/ Hussein Fatal/ Papoose/ Carl Thomas\"\n",
      "ID: 144435 | Artist/s: Carl Woitschach\n",
      "ID: 144443 | Artist/s: Carl Woitschach\n",
      "ID: 145221 | Artist/s: \"Carl Maria von Weber/ Claudio Arrau\"\n",
      "ID: 145854 | Artist/s: Carl Sandburg\n",
      "ID: 146456 | Artist/s: Carl Perkins\n",
      "ID: 146784 | Artist/s: Carl Perkins\n",
      "ID: 150454 | Artist/s: Carl Sims\n",
      "ID: 150838 | Artist/s: \"Xavier Davis/ Carl Allen/ Dwayne Burno\"\n",
      "ID: 153043 | Artist/s: Carl Woitschach\n",
      "ID: 153069 | Artist/s: \"Carl Maria von Weber/ Berliner Philharmoniker/ Hans Pfitzner\"\n",
      "ID: 153072 | Artist/s: Carl Woitschach\n",
      "ID: 153297 | Artist/s: Carl Verheyen\n",
      "ID: 153440 | Artist/s: \"Carl Millöcker/ Johannes Heesters/ Staatskapelle Berlin/ Alois Melichar\"\n",
      "ID: 153574 | Artist/s: \"Carl Engel/ Michael Rabin\"\n",
      "ID: 153751 | Artist/s: \"Carl Maria von Weber/ Claudio Arrau/ Désiré Defauw/ Chicago Symphony Orchestra\"\n",
      "ID: 153773 | Artist/s: \"Carl Maria von Weber/ Claudio Arrau\"\n",
      "ID: 155107 | Artist/s: Carl Perkins\n",
      "ID: 156228 | Artist/s: \"Johnny Cash/ Carl Perkins\"\n",
      "ID: 156924 | Artist/s: \"Carl Orff/ Brighton Festival Chorus/ Royal Philharmonic Orchestra/ Antal Doráti\"\n",
      "ID: 156959 | Artist/s: Carl Mann\n",
      "ID: 161805 | Artist/s: Carl Verheyen\n",
      "ID: 161961 | Artist/s: \"Ludwig van Beethoven/ Wilma Lipp/ Marga Höffgen/ Murray Dickie/ Gottlob Frick/ Chorale Elisabeth Brasseur/ Orchestre De La Société Des Concerts Du Conservatoire/ Carl Schuricht\"\n",
      "ID: 161963 | Artist/s: \"Ludwig van Beethoven/ Wilma Lipp/ Marga Höffgen/ Murray Dickie/ Gottlob Frick/ Chorale Elisabeth Brasseur/ Orchestre De La Société Des Concerts Du Conservatoire/ Carl Schuricht\"\n",
      "ID: 161974 | Artist/s: \"Ludwig van Beethoven/ Wilma Lipp/ Marga Höffgen/ Murray Dickie/ Gottlob Frick/ Chorale Elisabeth Brasseur/ Orchestre De La Société Des Concerts Du Conservatoire/ Carl Schuricht\"\n",
      "ID: 163536 | Artist/s: Carl Perkins\n",
      "ID: 163538 | Artist/s: Carl Perkins\n",
      "ID: 163831 | Artist/s: \"Carl Maria von Weber/ Mormon Tabernacle Choir/ Richard P. Condie/ Alexander Schreiner/ The Philadelphia Brass Ensemble & Percussion\"\n",
      "ID: 164734 | Artist/s: Carl Perkins\n",
      "ID: 165175 | Artist/s: Carl Anderson\n",
      "ID: 166805 | Artist/s: \"Carl Nielsen/ Elisabeth Westenholz\"\n"
     ]
    }
   ],
   "source": [
    "return1 = search_artist()"
   ]
  },
  {
   "cell_type": "code",
   "execution_count": 256,
   "metadata": {},
   "outputs": [
    {
     "name": "stdout",
     "output_type": "stream",
     "text": [
      "Please enter the feature you want to find for the artists' songs: tempo\n",
      "Please enter the first name of the artist you want to find: frederick\n",
      "Please enter the surname of the artist you want to find (entry can be left blank): loewe\n",
      "ID: 1692 | Artist/s: \"Frederick Loewe/ My Fair Lady Ensemble (1959)/ Franz Allers/ Cyril Ornadel\"\n",
      "ID: 1725 | Artist/s: \"Frederick Loewe/ Robert Coote/ Rex Harrison/ Betty Woolfe/ My Fair Lady Ensemble (1959)/ Cyril Ornadel/ Franz Allers\"\n",
      "ID: 91800 | Artist/s: \"Frederick Loewe/ Robert Goulet/ Franz Allers\"\n",
      "ID: 91815 | Artist/s: \"Frederick Loewe/ Richard Burton/ Franz Allers\"\n",
      "ID: 100872 | Artist/s: \"Frederick Loewe/ Julie Andrews/ Betty Woolfe/ My Fair Lady Ensemble (1959)/ Franz Allers/ Cyril Ornadel\"\n",
      "ID: 101282 | Artist/s: \"Frederick Loewe/ Robert Goulet/ Franz Allers\"\n",
      "ID: 101297 | Artist/s: \"Frederick Loewe/ Julie Andrews/ Franz Allers\"\n",
      "ID: 101306 | Artist/s: \"Frederick Loewe/ Julie Andrews/ The Camelot Ensemble/ Franz Allers\"\n",
      "ID: 101320 | Artist/s: \"Frederick Loewe/ Richard Burton/ Franz Allers\"\n",
      "ID: 110290 | Artist/s: \"Frederick Loewe/ Leonard Weir/ Franz Allers/ Cyril Ornadel\"\n",
      "ID: 110298 | Artist/s: \"Frederick Loewe/ Julie Andrews/ My Fair Lady Ensemble (1959)/ Franz Allers/ Cyril Ornadel\"\n",
      "ID: 110643 | Artist/s: \"Frederick Loewe/ Richard Burton/ Franz Allers\"\n",
      "ID: 110669 | Artist/s: \"Frederick Loewe/ Richard Burton/ The Camelot Ensemble/ Franz Allers\"\n",
      "ID: 110683 | Artist/s: \"Frederick Loewe/ Julie Andrews/ Bruce Yarnell/ James Gannon/ John Cullum/ Franz Allers\"\n",
      "ID: 110698 | Artist/s: \"Frederick Loewe/ Julie Andrews/ Richard Burton/ Franz Allers\"\n",
      "ID: 110704 | Artist/s: \"Frederick Loewe/ Julie Andrews/ Franz Allers\"\n",
      "ID: 110707 | Artist/s: \"Frederick Loewe/ The Camelot Orchestra/ Franz Allers\"\n",
      "ID: 110717 | Artist/s: \"Frederick Loewe/ Mary Sue Berry/ Franz Allers\"\n",
      "ID: 110730 | Artist/s: \"Frederick Loewe/ Julie Andrews/ Franz Allers\"\n",
      "ID: 120122 | Artist/s: \"Frederick Loewe/ The Camelot Ensemble/ Franz Allers\"\n",
      "ID: 120148 | Artist/s: \"Frederick Loewe/ Roddy McDowall/ Franz Allers\"\n",
      "ID: 120193 | Artist/s: \"Frederick Loewe/ The Camelot Orchestra/ Franz Allers\"\n",
      "ID: 120202 | Artist/s: \"Frederick Loewe/ The Camelot Ensemble/ Franz Allers\"\n",
      "ID: 129051 | Artist/s: \"Goddard Lieberson/ Alan Jay Lerner/ Frederick Loewe\"\n",
      "ID: 137864 | Artist/s: \"Frederick Loewe/ Julie Andrews/ Rex Harrison/ Robert Coote/ Franz Allers/ Cyril Ornadel\"\n",
      "ID: 137882 | Artist/s: \"Frederick Loewe/ Stanley Holloway/ My Fair Lady Ensemble (1959)/ Franz Allers/ Cyril Ornadel\"\n",
      "ID: 137908 | Artist/s: \"Frederick Loewe/ Rex Harrison/ Robert Coote/ Franz Allers/ Cyril Ornadel\"\n",
      "ID: 137926 | Artist/s: \"Frederick Loewe/ Rex Harrison/ Franz Allers/ Cyril Ornadel\"\n",
      "ID: 146529 | Artist/s: \"Frederick Loewe/ Stanley Holloway/ Alan Dudley/ Bob Chisholm/ Zena Dare/ My Fair Lady Ensemble (1959)/ Cyril Ornadel/ Franz Allers\"\n",
      "ID: 146551 | Artist/s: \"Frederick Loewe/ Julie Andrews/ Franz Allers/ Cyril Ornadel\"\n",
      "ID: 146555 | Artist/s: \"Frederick Loewe/ Rex Harrison/ Franz Allers/ Cyril Ornadel\"\n",
      "ID: 146557 | Artist/s: \"Frederick Loewe/ Julie Andrews/ Rex Harrison/ Franz Allers/ Cyril Ornadel\"\n",
      "ID: 146583 | Artist/s: \"Frederick Loewe/ Julie Andrews/ Leonard Weir/ Franz Allers/ Cyril Ornadel\"\n",
      "ID: 155019 | Artist/s: \"Frederick Loewe/ My Fair Lady Orchestra (1959)/ Cyril Ornadel/ Franz Allers\"\n",
      "ID: 163423 | Artist/s: \"Frederick Loewe/ Percy Faith & His Orchestra/ Percy Faith\"\n",
      "ID: 163471 | Artist/s: \"Frederick Loewe/ Rex Harrison/ Franz Allers/ Cyril Ornadel\"\n"
     ]
    }
   ],
   "source": [
    "return2 = search_artist()"
   ]
  },
  {
   "cell_type": "code",
   "execution_count": 257,
   "metadata": {},
   "outputs": [
    {
     "name": "stdout",
     "output_type": "stream",
     "text": [
      "{'Carl': [118.469, 123.31, 176.673, 154.805, 75.906, 67.333, 136.66899999999998, 68.465, 84.554, 95.998, 130.091, 147.332, 117.759, 89.292, 79.493, 107.304, 90.395, 148.645, 121.418, 120.22, 121.738, 115.65, 124.0, 101.263, 87.01799999999999, 168.891, 175.578, 119.183, 90.029, 115.295, 138.425, 102.314, 80.44, 181.1, 88.23, 125.878, 161.817, 87.014, 130.4, 79.825, 126.122, 121.859, 135.939, 87.647, 82.831, 136.26, 97.773, 92.189, 97.703, 100.28, 115.288, 81.8, 110.774, 87.82, 122.686, 76.49, 159.872, 100.619, 131.257, 91.276, 119.806, 134.391, 79.33800000000002, 110.643, 109.37, 92.847, 96.718, 102.462, 99.037, 121.487, 81.59100000000002, 0.0, 96.564, 91.475, 69.538, 96.57, 143.14, 88.76, 96.206, 191.062, 161.037, 100.013, 117.625, 159.865, 181.058, 96.079, 177.225, 102.651, 82.286, 124.644, 168.891, 175.468, 170.15200000000004, 102.035, 116.072, 70.658, 95.19, 98.189, 144.059, 75.896, 101.668, 87.493, 113.907, 88.14, 186.081, 115.561, 119.497, 114.444, 107.105, 129.75799999999998, 91.029, 99.06, 75.896, 87.62799999999999, 114.358, 89.936, 89.824, 130.041, 114.226, 113.51, 87.396, 121.471, 109.475, 94.621, 111.476, 84.898, 84.314, 77.97800000000002, 77.97800000000002, 83.88, 83.10600000000002, 90.072, 118.654, 109.417, 78.297, 79.83800000000002, 93.973, 117.031, 138.815, 114.218, 117.6, 95.641, 107.013, 145.892, 143.127, 89.26799999999999, 75.788, 73.14, 157.259, 100.619, 103.146, 89.59100000000002, 105.812, 119.728, 118.754, 116.534, 137.813, 116.193, 130.22899999999998, 172.261, 114.279, 124.714, 80.521, 187.328, 120.32, 113.936, 91.029, 100.924, 80.376, 112.942, 163.926, 107.506, 116.137, 70.124, 122.655, 79.48899999999998, 172.423, 101.375, 77.512, 130.22899999999998, 110.774, 97.804, 77.476, 173.44099999999997, 84.92200000000003, 84.226, 73.15100000000002, 90.139, 104.746, 82.073, 136.9, 104.956, 119.747, 156.612], 'Frederick': [120.821, 165.176, 71.418, 112.8, 71.641, 73.667, 130.093, 123.883, 132.71, 83.345, 116.034, 126.907, 77.092, 143.423, 120.726, 75.168, 75.149, 172.33900000000003, 76.80199999999998, 111.519, 135.161, 129.244, 77.743, 138.972, 78.06, 122.537, 133.342, 88.22200000000002, 123.59, 114.366, 105.935, 59.476000000000006, 113.947, 83.568, 193.651, 142.433]}\n"
     ]
    }
   ],
   "source": [
    "return1.update(return2)\n",
    "print(return1)"
   ]
  },
  {
   "cell_type": "code",
   "execution_count": 258,
   "metadata": {},
   "outputs": [
    {
     "name": "stdout",
     "output_type": "stream",
     "text": [
      "If you are working with defined artist lists, enter 'Yes'\n",
      "Do you want to compare a specific feature? Enter no or leave the entry blank if you want to compare all features. yes\n",
      "Euclidean distance from x to y:  256.87298007186354\n"
     ]
    }
   ],
   "source": [
    "euclidean_similarity(return1, 'Frederick', 'Carl')"
   ]
  },
  {
   "cell_type": "code",
   "execution_count": 259,
   "metadata": {},
   "outputs": [
    {
     "name": "stdout",
     "output_type": "stream",
     "text": [
      "If you are working with defined artist lists, enter 'Yes'\n",
      "Do you want to compare a specific feature? Enter no or leave the entry blank if you want to compare all features. \n",
      "Comparing all respective features.\n",
      "\n",
      "'Accoustiness' 0.296\n",
      "'Danceability' 0.303\n",
      "'Energy' 0.236\n",
      "'Liveness' 0.019\n",
      "'Loudness' 5.512\n",
      "'Popularity' 50.0\n",
      "'Speechiness' 0.001\n",
      "'Tempo' 47.581\n",
      "'Valence' 0.256\n"
     ]
    }
   ],
   "source": [
    "euclidean_similarity(artists, 91, 143091)"
   ]
  },
  {
   "cell_type": "markdown",
   "metadata": {},
   "source": [
    "## Euclidean Similarity Function"
   ]
  },
  {
   "cell_type": "code",
   "execution_count": 249,
   "metadata": {},
   "outputs": [],
   "source": [
    "def euclidean_similarity(dict_name, id1, id2):\n",
    "    import math\n",
    "    \n",
    "    try:   \n",
    "        dict_name = dict_name\n",
    "    \n",
    "        if id1 == '':\n",
    "            id1 = int(input(\"Please insert your first id for music features: \"))\n",
    "        else:\n",
    "            id1 = id1\n",
    "        \n",
    "        if id2 == '':\n",
    "            id2 = int(input(\"Please insert your second id for music features: \"))\n",
    "        else:\n",
    "            id2 = id2\n",
    "                \n",
    "        if id1 == id2:\n",
    "            print(\"You can't have the same ID, please choose 2 different IDs.\")\n",
    "        else:\n",
    "            print(\"If you are working with defined artist lists, enter 'Yes'\")\n",
    "            query = input(\"Do you want to compare a specific feature? Enter no or leave the entry blank if you want to compare all features. \").capitalize()\n",
    "\n",
    "            if query == '' or query == \"No\".capitalize():\n",
    "                print(\"Comparing all respective features.\\n\")\n",
    "                feature_list = list(dict_name[id1].values())[-9:]\n",
    "                feature_list2 = list(dict_name[id2].values())[-9:]\n",
    "                key_list = str(list(dict_name[id1].keys())[-9:]).split(',')\n",
    "            \n",
    "                for i in range(0,9):\n",
    "                    for value in feature_list, feature_list2:\n",
    "                        x = (feature_list[i]) \n",
    "                        y = (feature_list2[i]) \n",
    "                        distance = math.sqrt((x - y) ** 2 ) #one-dimensional euclidean formula\n",
    "                    print(key_list[i].strip('[]').strip(' '), round(distance, 3))\n",
    "            \n",
    "            else:\n",
    "                if len(dict_name) == 2: # must be working with chosen artists\n",
    "                    x = []\n",
    "                    y = []\n",
    "                    \n",
    "                    for value in dict_name[id1]:\n",
    "                        x.append(value)\n",
    "                    for value in dict_name[id2]:\n",
    "                        y.append(value)\n",
    "                    distance = math.sqrt(sum([(a - b) ** 2 for a, b in zip(x, y)]))\n",
    "                    return(print(\"Euclidean distance from x to y: \",distance))\n",
    "                \n",
    "                else: # must be working with default dictionary and values\n",
    "                    x = dict_name[id1][query]\n",
    "                    y = dict_name[id2][query]\n",
    "                    distance = math.sqrt((x - y) ** 2 ) #one-dimensional euclidean formula   \n",
    "                    return(print(\"Euclidean Distance of\", query, \"is\", round(distance, 3)))\n",
    "            \n",
    "    except KeyError as keyerror:\n",
    "        print(\"That feature doesn't exist.\", keyerror)\n",
    "    except ValueError as valueerror:\n",
    "        print(\"Your entry is invalid, please make sure your entry was the correct format.\")\n",
    "    except TypeError as typeerror:\n",
    "        print(\"Invalid type entered.\", typeerror)\n",
    "    except IndexError:\n",
    "        print(\"There was a problem, did you enter your dictionary name correctly?\")\n",
    "    except ZeroDivisionError:\n",
    "        print(\"Sorry, but you cannot divide by 0.\")\n",
    "    except AttributeError:\n",
    "        print(\"You can't compare all features of an artist you have defined.\")"
   ]
  },
  {
   "cell_type": "code",
   "execution_count": 7,
   "metadata": {},
   "outputs": [
    {
     "name": "stdout",
     "output_type": "stream",
     "text": [
      "Please insert your first id for music features: 30\n",
      "Please insert your second id for music features: 40\n",
      "Do you want to compare a specific feature? Enter no or leave the entry blank if you want to compare all features. \n",
      "Comparing all respective features.\n",
      "\n",
      "'Accoustiness' 0.091\n",
      "'Danceability' 0.023\n",
      "'Energy' 0.062\n",
      "'Liveness' 0.084\n",
      "'Loudness' 3.232\n",
      "'Popularity' 0.0\n",
      "'Speechiness' 0.004\n",
      "'Tempo' 27.398\n",
      "'Valence' 0.158\n"
     ]
    }
   ],
   "source": [
    "try:\n",
    "    euclidean_similarity(features, '','')\n",
    "except TypeError:\n",
    "    print(\"Sorry, did you forget to enter any values? Please make sure you enter dictionary name, ID1 and ID2 to compare.\")"
   ]
  },
  {
   "cell_type": "markdown",
   "metadata": {},
   "source": [
    "## Cosine Similarity Function"
   ]
  },
  {
   "cell_type": "code",
   "execution_count": 9,
   "metadata": {},
   "outputs": [],
   "source": [
    "def cosine_similarity(dict_name, id1, id2):\n",
    "    import math\n",
    "    \n",
    "    def square_rooted(x):\n",
    "        return round(math.sqrt(sum([a*a for a in x])),3)\n",
    "    \n",
    "    def cosine(x, y):\n",
    "        numerator = sum(a*b for a,b in zip(x,y))\n",
    "        denominator = square_rooted(x)*square_rooted(y)\n",
    "        return round(numerator/float(denominator),3)\n",
    "    \n",
    "    try:   \n",
    "        dict_name = dict_name\n",
    "    \n",
    "        if id1 == '':\n",
    "            id1 = int(input(\"Please insert your first id for music features: \"))\n",
    "        else:\n",
    "            id1 = id1\n",
    "        \n",
    "        if id2 == '':\n",
    "            id2 = int(input(\"Please insert your second id for music features: \"))\n",
    "        else:\n",
    "            id2 = id2\n",
    "                \n",
    "        if id1 == id2:\n",
    "            print(\"You can't have the same ID, please choose 2 different IDs.\")\n",
    "        else:\n",
    "            query = input(\"Do you want to compare a specific feature? Enter no or leave the entry blank if you want to compare all features. \").capitalize()\n",
    "\n",
    "            if query == '' or query == \"No\".capitalize():\n",
    "                print(\"Comparing all respective features.\\n\")\n",
    "                feature_list = list(dict_name[id1].values())[-9:]\n",
    "                feature_list2 = list(dict_name[id2].values())[-9:]\n",
    "                key_list = str(list(dict_name[id1].keys())[-9:]).split(',')\n",
    "            \n",
    "                for i in range(0,9):\n",
    "                    for value in feature_list, feature_list2:\n",
    "                        if i == 5: #divisible by zero issue comes up if this is not present\n",
    "                            continue\n",
    "                        x = (feature_list[i]) \n",
    "                        y = (feature_list2[i]) \n",
    "                        distance = cosine([x],[y])\n",
    "                    print(key_list[i].strip('[]').strip(' '), round(distance, 3))\n",
    "            \n",
    "            else:\n",
    "                x = dict_name[id1][query]\n",
    "                y = dict_name[id2][query]\n",
    "                \n",
    "                #if len(list(x)) or len(list(y)) > 1:\n",
    "                    #compare them all\n",
    "                #else: do what is below\n",
    "                \n",
    "                distance = cosine([x],[y])\n",
    "                print(\"Cosine Similarity of\", query, \"is\", round(distance, 3))\n",
    "            \n",
    "    except KeyError as keyerror:\n",
    "        print(\"That feature doesn't exist.\", keyerror)\n",
    "    except ValueError as valueerror:\n",
    "        print(\"Your entry is invalid, please make sure your entry was the correct format.\")\n",
    "    except TypeError as typeerror:\n",
    "        print(\"Invalid type entered.\", typeerror)\n",
    "    except IndexError:\n",
    "        print(\"There was a problem, did you enter your dictionary name correctly?\")\n",
    "    except ZeroDivisionError:\n",
    "        print(\"Sorry, but you cannot divide by 0\")"
   ]
  },
  {
   "cell_type": "code",
   "execution_count": 10,
   "metadata": {},
   "outputs": [
    {
     "name": "stdout",
     "output_type": "stream",
     "text": [
      "Do you want to compare a specific feature? Enter no or leave the entry blank if you want to compare all features. \n",
      "Comparing all respective features.\n",
      "\n",
      "'Accoustiness' 1.0\n",
      "'Danceability' 1.0\n",
      "'Energy' 1.0\n",
      "'Liveness' 1.0\n",
      "'Loudness' 1.0\n",
      "'Popularity' 1.0\n",
      "'Speechiness' 1.0\n",
      "'Tempo' 1.0\n",
      "'Valence' 1.0\n"
     ]
    }
   ],
   "source": [
    "cosine_similarity(features, 30, 40)"
   ]
  },
  {
   "cell_type": "code",
   "execution_count": 11,
   "metadata": {},
   "outputs": [
    {
     "name": "stdout",
     "output_type": "stream",
     "text": [
      "0.763\n"
     ]
    }
   ],
   "source": [
    "import math\n",
    "def square_rooted(x):\n",
    "    return round(math.sqrt(sum([a*a for a in x])),3)\n",
    "    \n",
    "def cosine(x, y):\n",
    "    numerator = sum(a*b for a,b in zip(x,y))\n",
    "    denominator = square_rooted(x)*square_rooted(y)\n",
    "    return round(numerator/float(denominator),3)\n",
    "\n",
    "print(cosine([3, 4, 54], [43,54,67.8]))"
   ]
  },
  {
   "cell_type": "markdown",
   "metadata": {},
   "source": [
    "## Pearson Correlation Similarity Function"
   ]
  },
  {
   "cell_type": "code",
   "execution_count": 12,
   "metadata": {},
   "outputs": [],
   "source": [
    "def pearson_similarity(dict_name, id1, id2):\n",
    "    import math\n",
    "    import numpy as np\n",
    "    \n",
    "    try:   \n",
    "        dict_name = dict_name\n",
    "    \n",
    "        if id1 == '':\n",
    "            id1 = int(input(\"Please insert your first id for music features: \"))\n",
    "        else:\n",
    "            id1 = id1\n",
    "        \n",
    "        if id2 == '':\n",
    "            id2 = int(input(\"Please insert your second id for music features: \"))\n",
    "        else:\n",
    "            id2 = id2\n",
    "                \n",
    "        if id1 == id2:\n",
    "            print(\"You can't have the same ID, please choose 2 different IDs.\")\n",
    "        else:\n",
    "            query = input(\"Do you want to compare a specific feature? Enter no or leave the entry blank if you want to compare all features. \").capitalize()\n",
    "\n",
    "            if query == '' or query == \"No\".capitalize():\n",
    "                print(\"Comparing all respective features.\\n\")\n",
    "                feature_list = list(dict_name[id1].values())[-9:]\n",
    "                feature_list2 = list(dict_name[id2].values())[-9:]\n",
    "                key_list = str(list(dict_name[id1].keys())[-9:]).split(',')\n",
    "            \n",
    "                for i in range(0,9):\n",
    "                    for value in feature_list, feature_list2:\n",
    "                        #if i == 5: #skip popularity\n",
    "                        #    continue\n",
    "                        x = (feature_list[i]) \n",
    "                        y = (feature_list2[i]) \n",
    "                        pearson_corr = np.corrcoef([x,y])\n",
    "                    print(key_list[i].strip('[]').strip(' '), pearson_corr)\n",
    "            \n",
    "            else:\n",
    "                x = dict_name[id1][query]\n",
    "                y = dict_name[id2][query]\n",
    "                \n",
    "                #if len(list(x)) or len(list(y)) > 1:\n",
    "                    #compare them all\n",
    "                #else: do what is below\n",
    "                \n",
    "                pearson_corr = np.corrcoef([x,y])\n",
    "                return(pearson_corr)\n",
    "            \n",
    "    except KeyError as keyerror:\n",
    "        print(\"That feature doesn't exist.\", keyerror)\n",
    "    except ValueError as valueerror:\n",
    "        print(\"Your entry is invalid, please make sure your entry was the correct format.\", valueerror)\n",
    "    except TypeError as typeerror:\n",
    "        print(\"Invalid type entered.\", typeerror)\n",
    "    except IndexError:\n",
    "        print(\"There was a problem, did you enter your dictionary name correctly?\")\n",
    "    except ZeroDivisionError:\n",
    "        print(\"Sorry, but you cannot divide by 0\")"
   ]
  },
  {
   "cell_type": "code",
   "execution_count": 13,
   "metadata": {},
   "outputs": [
    {
     "name": "stdout",
     "output_type": "stream",
     "text": [
      "Do you want to compare a specific feature? Enter no or leave the entry blank if you want to compare all features. \n",
      "Comparing all respective features.\n",
      "\n",
      "'Accoustiness' 1.0\n",
      "'Danceability' 1.0\n",
      "'Energy' 1.0\n",
      "'Liveness' 1.0\n",
      "'Loudness' 1.0\n",
      "'Popularity' nan\n",
      "'Speechiness' 1.0\n",
      "'Tempo' 1.0\n",
      "'Valence' 1.0\n"
     ]
    }
   ],
   "source": [
    "pearson_similarity(features, 30, 40)"
   ]
  },
  {
   "cell_type": "markdown",
   "metadata": {},
   "source": [
    "## Jaccard Similarity Function"
   ]
  },
  {
   "cell_type": "markdown",
   "metadata": {},
   "source": [
    "J(A, B) = |A∩B| / |A∪B|"
   ]
  },
  {
   "cell_type": "code",
   "execution_count": 14,
   "metadata": {},
   "outputs": [],
   "source": [
    "def jaccard_similarity(dict_name, id1, id2):\n",
    "    import math\n",
    "    \n",
    "    def jaccard(x, y):\n",
    "        intersection = len(list(set(x).intersection(y)))\n",
    "        union = (len(x) + len(y)) - intersection\n",
    "        return float(intersection) / union\n",
    "    \n",
    "    try:   \n",
    "        dict_name = dict_name\n",
    "    \n",
    "        if id1 == '':\n",
    "            id1 = int(input(\"Please insert your first id for music features: \"))\n",
    "        else:\n",
    "            id1 = id1\n",
    "        \n",
    "        if id2 == '':\n",
    "            id2 = int(input(\"Please insert your second id for music features: \"))\n",
    "        else:\n",
    "            id2 = id2\n",
    "                \n",
    "        if id1 == id2:\n",
    "            print(\"You can't have the same ID, please choose 2 different IDs.\")\n",
    "        else:\n",
    "            query = input(\"Do you want to compare a specific feature? Enter no or leave the entry blank if you want to compare all features. \").capitalize()\n",
    "\n",
    "            if query == '' or query == \"No\".capitalize():\n",
    "                print(\"Comparing all respective features.\\n\")\n",
    "                feature_list = list(dict_name[id1].values())[-9:]\n",
    "                feature_list2 = list(dict_name[id2].values())[-9:]\n",
    "                key_list = str(list(dict_name[id1].keys())[-9:]).split(',')\n",
    "            \n",
    "                for i in range(0,9):\n",
    "                    for value in feature_list, feature_list2:\n",
    "                        x = (feature_list[i]) \n",
    "                        y = (feature_list2[i]) \n",
    "                        distance = jaccard([x],[y])\n",
    "                    print(\"Jaccard Similarity:\", key_list[i].strip('[]').strip(' '), round(distance, 3))\n",
    "                    print(\"Jaccard Distance:  \", key_list[i].strip('[]').strip(' '), (1 - round(distance, 3)))\n",
    "            \n",
    "            else:\n",
    "                x = dict_name[id1][query]\n",
    "                y = dict_name[id2][query]\n",
    "                \n",
    "                #if len(list(x)) or len(list(y)) > 1:\n",
    "                    #compare them all\n",
    "                #else: do what is below\n",
    "                \n",
    "                distance = jaccard([x],[y])\n",
    "                print(\"Jaccard Similarity of\", query, \"is\", round(distance, 3))\n",
    "                print(\"Jaccard Distance of\", query, \"is\", (1 - round(distance, 3)))\n",
    "            \n",
    "    except KeyError as keyerror:\n",
    "        print(\"That feature doesn't exist.\", keyerror)\n",
    "    except ValueError as valueerror:\n",
    "        print(\"Your entry is invalid, please make sure your entry was the correct format.\")\n",
    "    except TypeError as typeerror:\n",
    "        print(\"Invalid type entered.\", typeerror)\n",
    "    except IndexError:\n",
    "        print(\"There was a problem, did you enter your dictionary name correctly?\")\n",
    "    except ZeroDivisionError:\n",
    "        print(\"Sorry, but you cannot divide by 0\")"
   ]
  },
  {
   "cell_type": "code",
   "execution_count": 15,
   "metadata": {},
   "outputs": [
    {
     "name": "stdout",
     "output_type": "stream",
     "text": [
      "Do you want to compare a specific feature? Enter no or leave the entry blank if you want to compare all features. \n",
      "Comparing all respective features.\n",
      "\n",
      "Jaccard Similarity: 'Accoustiness' 0.0\n",
      "Jaccard Distance:   'Accoustiness' 1.0\n",
      "Jaccard Similarity: 'Danceability' 0.0\n",
      "Jaccard Distance:   'Danceability' 1.0\n",
      "Jaccard Similarity: 'Energy' 0.0\n",
      "Jaccard Distance:   'Energy' 1.0\n",
      "Jaccard Similarity: 'Liveness' 0.0\n",
      "Jaccard Distance:   'Liveness' 1.0\n",
      "Jaccard Similarity: 'Loudness' 0.0\n",
      "Jaccard Distance:   'Loudness' 1.0\n",
      "Jaccard Similarity: 'Popularity' 1.0\n",
      "Jaccard Distance:   'Popularity' 0.0\n",
      "Jaccard Similarity: 'Speechiness' 0.0\n",
      "Jaccard Distance:   'Speechiness' 1.0\n",
      "Jaccard Similarity: 'Tempo' 0.0\n",
      "Jaccard Distance:   'Tempo' 1.0\n",
      "Jaccard Similarity: 'Valence' 0.0\n",
      "Jaccard Distance:   'Valence' 1.0\n"
     ]
    }
   ],
   "source": [
    "jaccard_similarity(features, 30, 40)"
   ]
  },
  {
   "cell_type": "code",
   "execution_count": 16,
   "metadata": {},
   "outputs": [
    {
     "name": "stdout",
     "output_type": "stream",
     "text": [
      "1\n",
      "3\n"
     ]
    },
    {
     "data": {
      "text/plain": [
       "0.3333333333333333"
      ]
     },
     "execution_count": 16,
     "metadata": {},
     "output_type": "execute_result"
    }
   ],
   "source": [
    "def jaccard(x, y):\n",
    "    intersection = len(list(set(x).intersection(y)))\n",
    "    print(intersection)\n",
    "    union = (len(x) + len(y)) - intersection\n",
    "    print(union)\n",
    "    return float(intersection) / union\n",
    "\n",
    "jaccard([54.3, 25.4], [54.3, 432.112])"
   ]
  },
  {
   "cell_type": "markdown",
   "metadata": {},
   "source": [
    "## Manhattan Similarity Function"
   ]
  },
  {
   "attachments": {
    "image.png": {
     "image/png": "[encoded data removed]"
    }
   },
   "cell_type": "markdown",
   "metadata": {},
   "source": [
    "![image.png](attachment:image.png)"
   ]
  },
  {
   "cell_type": "code",
   "execution_count": 17,
   "metadata": {},
   "outputs": [],
   "source": [
    "def manhattan_similarity(dict_name, id1, id2):\n",
    "    import math\n",
    "    \n",
    "    try:   \n",
    "        dict_name = dict_name\n",
    "    \n",
    "        if id1 == '':\n",
    "            id1 = int(input(\"Please insert your first id for music features: \"))\n",
    "        else:\n",
    "            id1 = id1\n",
    "        \n",
    "        if id2 == '':\n",
    "            id2 = int(input(\"Please insert your second id for music features: \"))\n",
    "        else:\n",
    "            id2 = id2\n",
    "                \n",
    "        if id1 == id2:\n",
    "            print(\"You can't have the same ID, please choose 2 different IDs.\")\n",
    "        else:\n",
    "            query = input(\"Do you want to compare a specific feature? Enter no or leave the entry blank if you want to compare all features. \").capitalize()\n",
    "\n",
    "            if query == '' or query == \"No\".capitalize():\n",
    "                print(\"Comparing all respective features.\\n\")\n",
    "                feature_list = list(dict_name[id1].values())[-9:]\n",
    "                feature_list2 = list(dict_name[id2].values())[-9:]\n",
    "                key_list = str(list(dict_name[id1].keys())[-9:]).split(',')\n",
    "            \n",
    "                for i in range(0,9):\n",
    "                    for value in feature_list, feature_list2:\n",
    "                        x = (feature_list[i]) \n",
    "                        y = (feature_list2[i]) \n",
    "                        distance = abs(x - y) #one-dimensional manhattan\n",
    "                    print(key_list[i].strip('[]').strip(' '), round(distance, 3))\n",
    "            \n",
    "            else:\n",
    "                x = dict_name[id1][query]\n",
    "                y = dict_name[id2][query]\n",
    "                \n",
    "                #if len(list(x)) or len(list(y)) > 1:\n",
    "                    #compare them all\n",
    "                #else: do what is below\n",
    "                \n",
    "                distance = abs(x - y) #one-dimensional manhattan  \n",
    "                return(print(\"Manhattan Distance of\", query, \"is\", round(distance, 3)))\n",
    "            \n",
    "    except KeyError as keyerror:\n",
    "        print(\"That feature doesn't exist.\", keyerror)\n",
    "    except ValueError as valueerror:\n",
    "        print(\"Your entry is invalid, please make sure your entry was the correct format.\")\n",
    "    except TypeError as typeerror:\n",
    "        print(\"Invalid type entered.\", typeerror)\n",
    "    except IndexError:\n",
    "        print(\"There was a problem, did you enter your dictionary name correctly?\")\n",
    "    except ZeroDivisionError:\n",
    "        print(\"Sorry, but you cannot divide by 0\")"
   ]
  },
  {
   "cell_type": "code",
   "execution_count": 18,
   "metadata": {},
   "outputs": [
    {
     "name": "stdout",
     "output_type": "stream",
     "text": [
      "Do you want to compare a specific feature? Enter no or leave the entry blank if you want to compare all features. \n",
      "Comparing all respective features.\n",
      "\n",
      "'Accoustiness' 0.755\n",
      "'Danceability' 0.153\n",
      "'Energy' 0.124\n",
      "'Liveness' 0.291\n",
      "'Loudness' 0.701\n",
      "'Popularity' 42.0\n",
      "'Speechiness' 0.893\n",
      "'Tempo' 48.182\n",
      "'Valence' 0.377\n"
     ]
    }
   ],
   "source": [
    "manhattan_similarity(features, 6000, 40350)"
   ]
  },
  {
   "cell_type": "code",
   "execution_count": 19,
   "metadata": {},
   "outputs": [
    {
     "name": "stdout",
     "output_type": "stream",
     "text": [
      "Do you want to compare a specific feature? Enter no or leave the entry blank if you want to compare all features. \n",
      "Comparing all respective features.\n",
      "\n",
      "'Accoustiness' 0.091\n",
      "'Danceability' 0.023\n",
      "'Energy' 0.062\n",
      "'Liveness' 0.084\n",
      "'Loudness' 3.232\n",
      "'Popularity' 0.0\n",
      "'Speechiness' 0.004\n",
      "'Tempo' 27.398\n",
      "'Valence' 0.158\n",
      "Do you want to compare a specific feature? Enter no or leave the entry blank if you want to compare all features. \n",
      "Comparing all respective features.\n",
      "\n",
      "'Accoustiness' 1.0\n",
      "'Danceability' 1.0\n",
      "'Energy' 1.0\n",
      "'Liveness' 1.0\n",
      "'Loudness' 1.0\n",
      "'Popularity' 1.0\n",
      "'Speechiness' 1.0\n",
      "'Tempo' 1.0\n",
      "'Valence' 1.0\n",
      "Do you want to compare a specific feature? Enter no or leave the entry blank if you want to compare all features. \n",
      "Comparing all respective features.\n",
      "\n",
      "'Accoustiness' 1.0\n",
      "'Danceability' 1.0\n",
      "'Energy' 1.0\n",
      "'Liveness' 1.0\n",
      "'Loudness' 1.0\n",
      "'Popularity' nan\n",
      "'Speechiness' 1.0\n",
      "'Tempo' 1.0\n",
      "'Valence' 1.0\n",
      "Do you want to compare a specific feature? Enter no or leave the entry blank if you want to compare all features. \n",
      "Comparing all respective features.\n",
      "\n",
      "Jaccard Similarity: 'Accoustiness' 0.0\n",
      "Jaccard Distance:   'Accoustiness' 1.0\n",
      "Jaccard Similarity: 'Danceability' 0.0\n",
      "Jaccard Distance:   'Danceability' 1.0\n",
      "Jaccard Similarity: 'Energy' 0.0\n",
      "Jaccard Distance:   'Energy' 1.0\n",
      "Jaccard Similarity: 'Liveness' 0.0\n",
      "Jaccard Distance:   'Liveness' 1.0\n",
      "Jaccard Similarity: 'Loudness' 0.0\n",
      "Jaccard Distance:   'Loudness' 1.0\n",
      "Jaccard Similarity: 'Popularity' 1.0\n",
      "Jaccard Distance:   'Popularity' 0.0\n",
      "Jaccard Similarity: 'Speechiness' 0.0\n",
      "Jaccard Distance:   'Speechiness' 1.0\n",
      "Jaccard Similarity: 'Tempo' 0.0\n",
      "Jaccard Distance:   'Tempo' 1.0\n",
      "Jaccard Similarity: 'Valence' 0.0\n",
      "Jaccard Distance:   'Valence' 1.0\n",
      "Do you want to compare a specific feature? Enter no or leave the entry blank if you want to compare all features. \n",
      "Comparing all respective features.\n",
      "\n",
      "'Accoustiness' 0.091\n",
      "'Danceability' 0.023\n",
      "'Energy' 0.062\n",
      "'Liveness' 0.084\n",
      "'Loudness' 3.232\n",
      "'Popularity' 0.0\n",
      "'Speechiness' 0.004\n",
      "'Tempo' 27.398\n",
      "'Valence' 0.158\n"
     ]
    }
   ],
   "source": [
    "euclidean_similarity(features, 30, 40)\n",
    "cosine_similarity(features, 30, 40)\n",
    "pearson_similarity(features, 30, 40)\n",
    "jaccard_similarity(features, 30, 40)\n",
    "manhattan_similarity(features, 30, 40)"
   ]
  },
  {
   "cell_type": "code",
   "execution_count": 178,
   "metadata": {},
   "outputs": [
    {
     "data": {
      "text/plain": [
       "{'ID': '6OJjveoYwJdIt76y0Pxpxw',\n",
       " 'Artists': 'Carl Woitschach',\n",
       " 'Song Name': 'Per aspera ad astra',\n",
       " 'Accoustiness': 0.988,\n",
       " 'Danceability': 0.555,\n",
       " 'Energy': 0.421,\n",
       " 'Liveness': 0.105,\n",
       " 'Loudness': -9.878,\n",
       " 'Popularity': 0.0,\n",
       " 'Speechiness': 0.0474,\n",
       " 'Tempo': 123.31,\n",
       " 'Valence': 0.857}"
      ]
     },
     "execution_count": 178,
     "metadata": {},
     "output_type": "execute_result"
    }
   ],
   "source": [
    "artists[8]"
   ]
  },
  {
   "cell_type": "code",
   "execution_count": 175,
   "metadata": {},
   "outputs": [
    {
     "data": {
      "text/plain": [
       "{'ID': '6N6tiFZ9vLTSOIxkj8qKrd',\n",
       " 'Artists': '\"Frédéric Chopin/ Vladimir Horowitz\"',\n",
       " 'Song Name': '\"Polonaise-Fantaisie in A-Flat Major/ Op. 61\"',\n",
       " 'Accoustiness': 0.99,\n",
       " 'Danceability': 0.21,\n",
       " 'Energy': 0.204,\n",
       " 'Liveness': 0.098,\n",
       " 'Loudness': -16.829,\n",
       " 'Popularity': 1.0,\n",
       " 'Speechiness': 0.0424,\n",
       " 'Tempo': 62.149,\n",
       " 'Valence': 0.0693}"
      ]
     },
     "execution_count": 175,
     "metadata": {},
     "output_type": "execute_result"
    }
   ],
   "source": [
    "artists[5]"
   ]
  }
 ],
 "metadata": {
  "kernelspec": {
   "display_name": "Python 3",
   "language": "python",
   "name": "python3"
  },
  "language_info": {
   "codemirror_mode": {
    "name": "ipython",
    "version": 3
   },
   "file_extension": ".py",
   "mimetype": "text/x-python",
   "name": "python",
   "nbconvert_exporter": "python",
   "pygments_lexer": "ipython3",
   "version": "3.7.4"
  }
 },
 "nbformat": 4,
 "nbformat_minor": 4
}
