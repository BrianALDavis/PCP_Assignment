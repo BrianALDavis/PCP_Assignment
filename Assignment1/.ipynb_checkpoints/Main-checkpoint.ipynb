{
 "cells": [
  {
   "cell_type": "markdown",
   "metadata": {},
   "source": [
    "### PCP Module 1 - Main"
   ]
  },
  {
   "cell_type": "code",
   "execution_count": 1,
   "metadata": {},
   "outputs": [],
   "source": [
    "from load_dataset_module import music_features\n",
    "from load_dataset_module import artist_music\n",
    "from similarity_module import search_artist\n",
    "from similarity_module import join_artist_dict\n",
    "from similarity_module import euclidean_similarity\n",
    "from similarity_module import cosine_similarity\n",
    "from similarity_module import pearson_similarity\n",
    "from similarity_module import jaccard_similarity\n",
    "from similarity_module import manhattan_similarity"
   ]
  },
  {
   "cell_type": "code",
   "execution_count": 2,
   "metadata": {},
   "outputs": [
    {
     "name": "stdout",
     "output_type": "stream",
     "text": [
      "Finished reading the command for artist music.\n"
     ]
    }
   ],
   "source": [
    "artists = artist_music()"
   ]
  },
  {
   "cell_type": "code",
   "execution_count": 3,
   "metadata": {},
   "outputs": [
    {
     "data": {
      "text/plain": [
       "{'ID': '6KuQTIu1KoTTkLXKrwlLPV',\n",
       " 'Artists': '\"Robert Schumann/ Vladimir Horowitz\"',\n",
       " 'Song Name': '\"Fantasiestücke/ Op. 111: Più tosto lento\"',\n",
       " 'Accoustiness': 0.994,\n",
       " 'Danceability': 0.379,\n",
       " 'Energy': 0.0135,\n",
       " 'Liveness': 0.0763,\n",
       " 'Loudness': -28.454,\n",
       " 'Popularity': 0.0,\n",
       " 'Speechiness': 0.0462,\n",
       " 'Tempo': 83.97200000000002,\n",
       " 'Valence': 0.0767}"
      ]
     },
     "execution_count": 3,
     "metadata": {},
     "output_type": "execute_result"
    }
   ],
   "source": [
    "artists[2]"
   ]
  },
  {
   "cell_type": "code",
   "execution_count": 4,
   "metadata": {},
   "outputs": [
    {
     "name": "stdout",
     "output_type": "stream",
     "text": [
      "Finished reading the command for music features.\n"
     ]
    }
   ],
   "source": [
    "music_features = music_features()"
   ]
  },
  {
   "cell_type": "code",
   "execution_count": 5,
   "metadata": {},
   "outputs": [
    {
     "data": {
      "text/plain": [
       "{'ID': '5aWDCuqB309xaFwkEj2HXg',\n",
       " 'Song Name': '\"Sonata for Violin and Piano No. 1/ Op. 2: II. Allegro furioso\"',\n",
       " 'Accoustiness': 0.926,\n",
       " 'Danceability': 0.409,\n",
       " 'Energy': 0.264,\n",
       " 'Liveness': 0.294,\n",
       " 'Loudness': -17.375999999999998,\n",
       " 'Popularity': 0.0,\n",
       " 'Speechiness': 0.0449,\n",
       " 'Tempo': 159.635,\n",
       " 'Valence': 0.468}"
      ]
     },
     "execution_count": 5,
     "metadata": {},
     "output_type": "execute_result"
    }
   ],
   "source": [
    "music_features[25000]"
   ]
  },
  {
   "cell_type": "code",
   "execution_count": 6,
   "metadata": {},
   "outputs": [
    {
     "name": "stdout",
     "output_type": "stream",
     "text": [
      "Please insert your second id for music features: 48\n",
      "If you are working with defined artist lists, enter 'Yes'\n",
      "Do you want to compare a specific feature? Enter no or leave the entry blank if you want to compare all features. \n",
      "Comparing all respective features.\n",
      "\n",
      "That feature doesn't exist. 0\n"
     ]
    }
   ],
   "source": [
    "euclidean_similarity(music_features, 0,'')"
   ]
  },
  {
   "cell_type": "code",
   "execution_count": 7,
   "metadata": {},
   "outputs": [
    {
     "name": "stdout",
     "output_type": "stream",
     "text": [
      "Please insert your first id for music features: 45\n",
      "If you are working with defined artist lists, enter 'Yes'\n",
      "Do you want to compare a specific feature? Enter no or leave the entry blank if you want to compare all features. \n",
      "Comparing all respective features.\n",
      "\n",
      "Jaccard Similarity: 'Accoustiness' 0.0\n",
      "Jaccard Similarity: 'Danceability' 0.0\n",
      "Jaccard Similarity: 'Energy' 0.0\n",
      "Jaccard Similarity: 'Liveness' 0.0\n",
      "Jaccard Similarity: 'Loudness' 0.0\n",
      "Jaccard Similarity: 'Popularity' 1.0\n",
      "Jaccard Similarity: 'Speechiness' 1.0\n",
      "Jaccard Similarity: 'Tempo' 0.0\n",
      "Jaccard Similarity: 'Valence' 0.0\n"
     ]
    }
   ],
   "source": [
    "jaccard_similarity(music_features,'',40)"
   ]
  },
  {
   "cell_type": "code",
   "execution_count": 8,
   "metadata": {},
   "outputs": [
    {
     "name": "stdout",
     "output_type": "stream",
     "text": [
      "Please insert your second id for music features: 78845\n",
      "If you are working with defined artist lists, enter 'Yes'\n",
      "Do you want to compare a specific feature? Enter no or leave the entry blank if you want to compare all features. \n",
      "Comparing all respective features.\n",
      "\n",
      "'Accoustiness' 1.0\n",
      "'Danceability' 1.0\n",
      "'Energy' 1.0\n",
      "'Liveness' 1.0\n",
      "'Loudness' 1.0\n",
      "'Popularity' 1.0\n",
      "'Speechiness' 1.0\n",
      "'Tempo' 1.0\n",
      "'Valence' 1.0\n"
     ]
    }
   ],
   "source": [
    "pearson_similarity(artists, 550, '')"
   ]
  },
  {
   "cell_type": "code",
   "execution_count": 9,
   "metadata": {},
   "outputs": [
    {
     "name": "stdout",
     "output_type": "stream",
     "text": [
      "Please insert your first id for music features: 47885\n",
      "Please insert your second id for music features: 44458\n",
      "If you are working with defined artist lists, enter 'Yes'\n",
      "Do you want to compare a specific feature? Enter no or leave the entry blank if you want to compare all features. \n",
      "Comparing all respective features.\n",
      "\n",
      "'Accoustiness' 1.024\n",
      "'Danceability' 1.0\n",
      "'Energy' 1.0\n",
      "'Liveness' 1.0\n",
      "'Loudness' 1.0\n",
      "'Popularity' 1.0\n",
      "'Speechiness' 1.008\n",
      "'Tempo' 1.0\n",
      "'Valence' 1.0\n"
     ]
    }
   ],
   "source": [
    "cosine_similarity(artists, '','')"
   ]
  },
  {
   "cell_type": "code",
   "execution_count": 10,
   "metadata": {},
   "outputs": [
    {
     "name": "stdout",
     "output_type": "stream",
     "text": [
      "If you are working with defined artist lists, enter 'Yes'\n",
      "Do you want to compare a specific feature? Enter no or leave the entry blank if you want to compare all features. \n",
      "Comparing all respective features.\n",
      "\n",
      "'Accoustiness' 0.076\n",
      "'Danceability' 0.119\n",
      "'Energy' 0.113\n",
      "'Liveness' 0.016\n",
      "'Loudness' 6.121\n",
      "'Popularity' 6.0\n",
      "'Speechiness' 0.042\n",
      "'Tempo' 11.705\n",
      "'Valence' 0.072\n"
     ]
    }
   ],
   "source": [
    "manhattan_similarity(music_features, 164121, 90999)"
   ]
  },
  {
   "cell_type": "code",
   "execution_count": 15,
   "metadata": {
    "scrolled": true
   },
   "outputs": [
    {
     "name": "stdout",
     "output_type": "stream",
     "text": [
      "Please enter the first name of the artist you want to find: carl\n",
      "Please enter the surname of the artist you want to find (entry can be left blank). If the first name of both artists is the same, you will need to enter a surname initial: w\n",
      "Please enter the feature you want to find for the artists' songs: tempo\n",
      "\n",
      "\n",
      "ID: 1 | Artist/s: Carl Woitschach | Song: Singende Bataillone 1. Teil\n",
      "\n",
      "\n",
      "ID: 8 | Artist/s: Carl Woitschach | Song: Per aspera ad astra\n",
      "\n",
      "\n",
      "ID: 8201 | Artist/s: Carl Woitschach | Song: Singende Bataillone 2. Teil\n",
      "\n",
      "\n",
      "ID: 8204 | Artist/s: Carl Woitschach | Song: \"Lore/ Lore/ Lore\"\n",
      "\n",
      "\n",
      "ID: 8228 | Artist/s: Carl Woitschach | Song: Reserve hat Ruh 2. Teil\n",
      "\n",
      "\n",
      "ID: 88582 | Artist/s: Carl Woitschach | Song: Taxis Marsch\n",
      "\n",
      "\n",
      "ID: 98042 | Artist/s: Carl Woitschach | Song: Preussens Gloria\n",
      "\n",
      "\n",
      "ID: 98051 | Artist/s: Carl Woitschach | Song: Unsere Garde\n",
      "\n",
      "\n",
      "ID: 98072 | Artist/s: Carl Woitschach | Song: Ruhmesmärsche der alten Armee 2. Teil\n",
      "\n",
      "\n",
      "ID: 107456 | Artist/s: Carl Woitschach | Song: Ruhmesmärsche der alten Armee 1. Teil\n",
      "\n",
      "\n",
      "ID: 107462 | Artist/s: Carl Woitschach | Song: Mein Vaterland 2. Teil\n",
      "\n",
      "\n",
      "ID: 107482 | Artist/s: Carl Woitschach | Song: Manöverliebe 2. Teil\n",
      "\n",
      "\n",
      "ID: 126501 | Artist/s: Carl Woitschach | Song: Alle mit uns 2. Teil\n",
      "\n",
      "\n",
      "ID: 135651 | Artist/s: Carl Woitschach | Song: Mein Vaterland 1. Teil\n",
      "\n",
      "\n",
      "ID: 135654 | Artist/s: Carl Woitschach | Song: Manöverleben 1. Teil\n",
      "\n",
      "\n",
      "ID: 135696 | Artist/s: Carl Woitschach | Song: Deutscher Weckruf\n",
      "\n",
      "\n",
      "ID: 135711 | Artist/s: Carl Woitschach | Song: Reserve hat Ruh 1. Teil\n",
      "\n",
      "\n",
      "ID: 144435 | Artist/s: Carl Woitschach | Song: Alle mit uns 1. Teil\n",
      "\n",
      "\n",
      "ID: 144443 | Artist/s: Carl Woitschach | Song: Marsch der Schweizer Nationalgarde\n",
      "\n",
      "\n",
      "ID: 153043 | Artist/s: Carl Woitschach | Song: Unsere Marine\n",
      "\n",
      "\n",
      "ID: 153072 | Artist/s: Carl Woitschach | Song: Kaiser Friedrich Marsch\n"
     ]
    }
   ],
   "source": [
    "artist_search = search_artist(artists)"
   ]
  },
  {
   "cell_type": "code",
   "execution_count": 16,
   "metadata": {},
   "outputs": [
    {
     "name": "stdout",
     "output_type": "stream",
     "text": [
      "{'Carl W': [118.469, 123.31, 120.22, 121.738, 115.65, 116.072, 115.561, 119.497, 114.444, 113.51, 87.396, 121.471, 117.6, 105.812, 119.728, 118.754, 116.534, 120.32, 113.936, 116.137, 122.655]}\n"
     ]
    }
   ],
   "source": [
    "print(artist_search)"
   ]
  },
  {
   "cell_type": "code",
   "execution_count": 17,
   "metadata": {},
   "outputs": [
    {
     "name": "stdout",
     "output_type": "stream",
     "text": [
      "Please enter the first name of the artist you want to find: frederick\n",
      "Please enter the surname of the artist you want to find (entry can be left blank). If the first name of both artists is the same, you will need to enter a surname initial: l\n",
      "Please enter the feature you want to find for the artists' songs: tempo\n",
      "\n",
      "\n",
      "ID: 1692 | Artist/s: \"Frederick Loewe/ My Fair Lady Ensemble (1959)/ Franz Allers/ Cyril Ornadel\" | Song: My Fair Lady: Ascot Gavotte\n",
      "\n",
      "\n",
      "ID: 1725 | Artist/s: \"Frederick Loewe/ Robert Coote/ Rex Harrison/ Betty Woolfe/ My Fair Lady Ensemble (1959)/ Cyril Ornadel/ Franz Allers\" | Song: My Fair Lady: You Did It\n",
      "\n",
      "\n",
      "ID: 91800 | Artist/s: \"Frederick Loewe/ Robert Goulet/ Franz Allers\" | Song: Camelot: If Ever I Would Leave You\n",
      "\n",
      "\n",
      "ID: 91815 | Artist/s: \"Frederick Loewe/ Richard Burton/ Franz Allers\" | Song: Camelot: Camelot\n",
      "\n",
      "\n",
      "ID: 100872 | Artist/s: \"Frederick Loewe/ Julie Andrews/ Betty Woolfe/ My Fair Lady Ensemble (1959)/ Franz Allers/ Cyril Ornadel\" | Song: My Fair Lady: I Could Have Danced All Night\n",
      "\n",
      "\n",
      "ID: 101282 | Artist/s: \"Frederick Loewe/ Robert Goulet/ Franz Allers\" | Song: Camelot: C'est moi\n",
      "\n",
      "\n",
      "ID: 101297 | Artist/s: \"Frederick Loewe/ Julie Andrews/ Franz Allers\" | Song: Camelot: The Simple Joys of Maidenhood\n",
      "\n",
      "\n",
      "ID: 101306 | Artist/s: \"Frederick Loewe/ Julie Andrews/ The Camelot Ensemble/ Franz Allers\" | Song: Camelot: The Lusty Month of May\n",
      "\n",
      "\n",
      "ID: 101320 | Artist/s: \"Frederick Loewe/ Richard Burton/ Franz Allers\" | Song: Camelot: I Wonder What the King Is Doing Tonight\n",
      "\n",
      "\n",
      "ID: 110290 | Artist/s: \"Frederick Loewe/ Leonard Weir/ Franz Allers/ Cyril Ornadel\" | Song: My Fair Lady: On the Street Where You Live\n",
      "\n",
      "\n",
      "ID: 110298 | Artist/s: \"Frederick Loewe/ Julie Andrews/ My Fair Lady Ensemble (1959)/ Franz Allers/ Cyril Ornadel\" | Song: My Fair Lady: Wouldn't It Be Loverly\n",
      "\n",
      "\n",
      "ID: 110643 | Artist/s: \"Frederick Loewe/ Richard Burton/ Franz Allers\" | Song: Camelot: How to Handle a Woman\n",
      "\n",
      "\n",
      "ID: 110669 | Artist/s: \"Frederick Loewe/ Richard Burton/ The Camelot Ensemble/ Franz Allers\" | Song: Camelot: Finale Ultimo\n",
      "\n",
      "\n",
      "ID: 110683 | Artist/s: \"Frederick Loewe/ Julie Andrews/ Bruce Yarnell/ James Gannon/ John Cullum/ Franz Allers\" | Song: Camelot: Then You May Take Me to the Fair\n",
      "\n",
      "\n",
      "ID: 110698 | Artist/s: \"Frederick Loewe/ Julie Andrews/ Richard Burton/ Franz Allers\" | Song: Camelot: What Do the Simple Folk Do?\n",
      "\n",
      "\n",
      "ID: 110704 | Artist/s: \"Frederick Loewe/ Julie Andrews/ Franz Allers\" | Song: Camelot: I Loved You Once in Silence\n",
      "\n",
      "\n",
      "ID: 110707 | Artist/s: \"Frederick Loewe/ The Camelot Orchestra/ Franz Allers\" | Song: Camelot: Overture\n",
      "\n",
      "\n",
      "ID: 110717 | Artist/s: \"Frederick Loewe/ Mary Sue Berry/ Franz Allers\" | Song: Camelot: Follow Me\n",
      "\n",
      "\n",
      "ID: 110730 | Artist/s: \"Frederick Loewe/ Julie Andrews/ Franz Allers\" | Song: Camelot: Before I Gaze at You Again\n",
      "\n",
      "\n",
      "ID: 120122 | Artist/s: \"Frederick Loewe/ The Camelot Ensemble/ Franz Allers\" | Song: Camelot: Guenevere\n",
      "\n",
      "\n",
      "ID: 120148 | Artist/s: \"Frederick Loewe/ Roddy McDowall/ Franz Allers\" | Song: Camelot: The Seven Deadly Virtues\n",
      "\n",
      "\n",
      "ID: 120193 | Artist/s: \"Frederick Loewe/ The Camelot Orchestra/ Franz Allers\" | Song: Camelot: March\n",
      "\n",
      "\n",
      "ID: 120202 | Artist/s: \"Frederick Loewe/ The Camelot Ensemble/ Franz Allers\" | Song: Camelot: Fie on Goodness\n",
      "\n",
      "\n",
      "ID: 129051 | Artist/s: \"Goddard Lieberson/ Alan Jay Lerner/ Frederick Loewe\" | Song: Playback: Alan Jay Lerner and Frederick Loewe (Bonus Track)\n",
      "\n",
      "\n",
      "ID: 137864 | Artist/s: \"Frederick Loewe/ Julie Andrews/ Rex Harrison/ Robert Coote/ Franz Allers/ Cyril Ornadel\" | Song: My Fair Lady: The Rain in Spain\n",
      "\n",
      "\n",
      "ID: 137882 | Artist/s: \"Frederick Loewe/ Stanley Holloway/ My Fair Lady Ensemble (1959)/ Franz Allers/ Cyril Ornadel\" | Song: My Fair Lady: Get Me to the Church on Time\n",
      "\n",
      "\n",
      "ID: 137908 | Artist/s: \"Frederick Loewe/ Rex Harrison/ Robert Coote/ Franz Allers/ Cyril Ornadel\" | Song: My Fair Lady: Why Can't the English?\n",
      "\n",
      "\n",
      "ID: 137926 | Artist/s: \"Frederick Loewe/ Rex Harrison/ Franz Allers/ Cyril Ornadel\" | Song: My Fair Lady: I've Grown Accustomed to Her Face\n",
      "\n",
      "\n",
      "ID: 146529 | Artist/s: \"Frederick Loewe/ Stanley Holloway/ Alan Dudley/ Bob Chisholm/ Zena Dare/ My Fair Lady Ensemble (1959)/ Cyril Ornadel/ Franz Allers\" | Song: My Fair Lady: With a Little Bit of Luck\n",
      "\n",
      "\n",
      "ID: 146551 | Artist/s: \"Frederick Loewe/ Julie Andrews/ Franz Allers/ Cyril Ornadel\" | Song: My Fair Lady: Just You Wait\n",
      "\n",
      "\n",
      "ID: 146555 | Artist/s: \"Frederick Loewe/ Rex Harrison/ Franz Allers/ Cyril Ornadel\" | Song: My Fair Lady: I'm an Ordinary Man\n",
      "\n",
      "\n",
      "ID: 146557 | Artist/s: \"Frederick Loewe/ Julie Andrews/ Rex Harrison/ Franz Allers/ Cyril Ornadel\" | Song: My Fair Lady: Without You\n",
      "\n",
      "\n",
      "ID: 146583 | Artist/s: \"Frederick Loewe/ Julie Andrews/ Leonard Weir/ Franz Allers/ Cyril Ornadel\" | Song: My Fair Lady: Show Me\n",
      "\n",
      "\n",
      "ID: 155019 | Artist/s: \"Frederick Loewe/ My Fair Lady Orchestra (1959)/ Cyril Ornadel/ Franz Allers\" | Song: My Fair Lady: Overture\n",
      "\n",
      "\n",
      "ID: 163423 | Artist/s: \"Frederick Loewe/ Percy Faith & His Orchestra/ Percy Faith\" | Song: Embassy Waltz (Bonus Track)\n",
      "\n",
      "\n",
      "ID: 163471 | Artist/s: \"Frederick Loewe/ Rex Harrison/ Franz Allers/ Cyril Ornadel\" | Song: My Fair Lady: A Hymn to Him\n"
     ]
    }
   ],
   "source": [
    "artist_search2 = search_artist(artists)"
   ]
  },
  {
   "cell_type": "code",
   "execution_count": 18,
   "metadata": {},
   "outputs": [],
   "source": [
    "new_dict = join_artist_dict(artist_search, artist_search2)"
   ]
  },
  {
   "cell_type": "code",
   "execution_count": 19,
   "metadata": {},
   "outputs": [
    {
     "name": "stdout",
     "output_type": "stream",
     "text": [
      "{'Carl W': [118.469, 123.31, 120.22, 121.738, 115.65, 116.072, 115.561, 119.497, 114.444, 113.51, 87.396, 121.471, 117.6, 105.812, 119.728, 118.754, 116.534, 120.32, 113.936, 116.137, 122.655], 'Frederick L': [120.821, 165.176, 71.418, 112.8, 71.641, 73.667, 130.093, 123.883, 132.71, 83.345, 116.034, 126.907, 77.092, 143.423, 120.726, 75.168, 75.149, 172.33900000000003, 76.80199999999998, 111.519, 135.161, 129.244, 77.743, 138.972, 78.06, 122.537, 133.342, 88.22200000000002, 123.59, 114.366, 105.935, 59.476000000000006, 113.947, 83.568, 193.651, 142.433]}\n"
     ]
    }
   ],
   "source": [
    "print(new_dict)"
   ]
  },
  {
   "cell_type": "code",
   "execution_count": 24,
   "metadata": {},
   "outputs": [
    {
     "name": "stdout",
     "output_type": "stream",
     "text": [
      "If you are working with defined artist lists, enter 'Yes'\n",
      "Do you want to compare a specific feature? Enter no or leave the entry blank if you want to compare all features. tempo\n",
      "Invalid type entered. list indices must be integers or slices, not str\n"
     ]
    }
   ],
   "source": [
    "euclidean_similarity(new_dict, 'Carl W', 'Frederick L')"
   ]
  },
  {
   "cell_type": "code",
   "execution_count": 19,
   "metadata": {},
   "outputs": [
    {
     "name": "stdout",
     "output_type": "stream",
     "text": [
      "If you are working with defined artist lists, enter 'Yes'\n",
      "Do you want to compare a specific feature? Enter no or leave the entry blank if you want to compare all features. yes\n",
      "Manhattan Distance from x to y:  3.129\n"
     ]
    }
   ],
   "source": [
    "manhattan_similarity(new_dict, 'Carl P', 'Seweryn G')"
   ]
  },
  {
   "cell_type": "code",
   "execution_count": 20,
   "metadata": {},
   "outputs": [
    {
     "name": "stdout",
     "output_type": "stream",
     "text": [
      "Do you want to compare a specific feature? Enter no or leave the entry blank if you want to compare all features. yes\n",
      "Jaccard Similarity of x to y: 0.038\n"
     ]
    }
   ],
   "source": [
    "jaccard_similarity(new_dict, 'Carl P', 'Seweryn G')"
   ]
  },
  {
   "cell_type": "code",
   "execution_count": 21,
   "metadata": {},
   "outputs": [
    {
     "name": "stdout",
     "output_type": "stream",
     "text": [
      "Do you want to compare a specific feature? Enter no or leave the entry blank if you want to compare all features. yes\n",
      "Your entry is invalid, please make sure your entry was the correct format. all the input array dimensions for the concatenation axis must match exactly, but along dimension 1, the array at index 0 has size 34 and the array at index 1 has size 76\n"
     ]
    }
   ],
   "source": [
    "pearson_similarity(new_dict, 'Carl P', 'Seweryn G')"
   ]
  },
  {
   "cell_type": "code",
   "execution_count": 22,
   "metadata": {},
   "outputs": [
    {
     "name": "stdout",
     "output_type": "stream",
     "text": [
      "Do you want to compare a specific feature? Enter no or leave the entry blank if you want to compare all features. yes]\n",
      "Cosine Similarity of x and y is: 0.642\n"
     ]
    }
   ],
   "source": [
    "cosine_similarity(new_dict, 'Carl P', 'Seweryn G')"
   ]
  },
  {
   "cell_type": "code",
   "execution_count": null,
   "metadata": {},
   "outputs": [],
   "source": []
  }
 ],
 "metadata": {
  "kernelspec": {
   "display_name": "Python 3",
   "language": "python",
   "name": "python3"
  },
  "language_info": {
   "codemirror_mode": {
    "name": "ipython",
    "version": 3
   },
   "file_extension": ".py",
   "mimetype": "text/x-python",
   "name": "python",
   "nbconvert_exporter": "python",
   "pygments_lexer": "ipython3",
   "version": "3.7.4"
  }
 },
 "nbformat": 4,
 "nbformat_minor": 4
}
