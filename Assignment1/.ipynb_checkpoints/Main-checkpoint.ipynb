{
 "cells": [
  {
   "cell_type": "markdown",
   "metadata": {},
   "source": [
    "### PCP Module 1 - Main"
   ]
  },
  {
   "cell_type": "code",
   "execution_count": 1,
   "metadata": {},
   "outputs": [
    {
     "name": "stdout",
     "output_type": "stream",
     "text": [
      "Finished reading the command for artist music.\n"
     ]
    }
   ],
   "source": [
    "from load_dataset_module import artist_music"
   ]
  },
  {
   "cell_type": "code",
   "execution_count": 2,
   "metadata": {},
   "outputs": [],
   "source": [
    "from load_dataset_module import music_features"
   ]
  },
  {
   "cell_type": "code",
   "execution_count": 3,
   "metadata": {},
   "outputs": [
    {
     "name": "stdout",
     "output_type": "stream",
     "text": [
      "Finished reading the command for artist music.\n"
     ]
    }
   ],
   "source": [
    "artists = artist_music()"
   ]
  },
  {
   "cell_type": "code",
   "execution_count": 11,
   "metadata": {},
   "outputs": [
    {
     "data": {
      "text/plain": [
       "{'ID': '6xpA90VSHtmaUhNltHIcVM',\n",
       " 'Artists': '\"Frédéric Chopin/ Vladimir Horowitz\"',\n",
       " 'Song Name': '\"Nocturne in E Minor/ Op. 72/ No. 1\"',\n",
       " 'Accoustiness': '0.989',\n",
       " 'Danceability': '0.28',\n",
       " 'Energy': '0.0463',\n",
       " 'Liveness': '0.0743',\n",
       " 'Loudness': '-19.78',\n",
       " 'Popularity': '1',\n",
       " 'Speechiness': '0.0347',\n",
       " 'Tempo': '100.131',\n",
       " 'Valence': '0.0722'}"
      ]
     },
     "execution_count": 11,
     "metadata": {},
     "output_type": "execute_result"
    }
   ],
   "source": [
    "artists[80]"
   ]
  },
  {
   "cell_type": "code",
   "execution_count": 5,
   "metadata": {},
   "outputs": [
    {
     "name": "stdout",
     "output_type": "stream",
     "text": [
      "Finished reading the command for music features.\n"
     ]
    }
   ],
   "source": [
    "music_features = music_features()"
   ]
  },
  {
   "cell_type": "code",
   "execution_count": 12,
   "metadata": {},
   "outputs": [
    {
     "data": {
      "text/plain": [
       "{'ID': '5aWDCuqB309xaFwkEj2HXg',\n",
       " 'Song Name': '\"Sonata for Violin and Piano No. 1/ Op. 2: II. Allegro furioso\"',\n",
       " 'Accoustiness': '0.926',\n",
       " 'Danceability': '0.409',\n",
       " 'Energy': '0.264',\n",
       " 'Liveness': '0.294',\n",
       " 'Loudness': '-17.375999999999998',\n",
       " 'Popularity': '0',\n",
       " 'Speechiness': '0.0449',\n",
       " 'Tempo': '159.635',\n",
       " 'Valence': '0.468'}"
      ]
     },
     "execution_count": 12,
     "metadata": {},
     "output_type": "execute_result"
    }
   ],
   "source": [
    "music_features[25000]"
   ]
  },
  {
   "cell_type": "code",
   "execution_count": 13,
   "metadata": {},
   "outputs": [],
   "source": [
    "tempo = music_features[80]['Accoustiness'] \n",
    "tempo2 = music_features[169000]['Accoustiness']"
   ]
  },
  {
   "cell_type": "code",
   "execution_count": 14,
   "metadata": {},
   "outputs": [],
   "source": [
    "tempo = float(tempo)\n",
    "tempo2 = float(tempo2)"
   ]
  },
  {
   "cell_type": "code",
   "execution_count": 15,
   "metadata": {},
   "outputs": [
    {
     "data": {
      "text/plain": [
       "float"
      ]
     },
     "execution_count": 15,
     "metadata": {},
     "output_type": "execute_result"
    }
   ],
   "source": [
    "type(tempo)"
   ]
  },
  {
   "cell_type": "code",
   "execution_count": 16,
   "metadata": {},
   "outputs": [
    {
     "name": "stdout",
     "output_type": "stream",
     "text": [
      "0.989\n",
      "2.8e-06\n",
      "353214.28571428574\n"
     ]
    }
   ],
   "source": [
    "print(tempo)\n",
    "print(tempo2)\n",
    "\n",
    "print(tempo / tempo2)"
   ]
  },
  {
   "cell_type": "code",
   "execution_count": null,
   "metadata": {},
   "outputs": [],
   "source": []
  }
 ],
 "metadata": {
  "kernelspec": {
   "display_name": "Python 3",
   "language": "python",
   "name": "python3"
  },
  "language_info": {
   "codemirror_mode": {
    "name": "ipython",
    "version": 3
   },
   "file_extension": ".py",
   "mimetype": "text/x-python",
   "name": "python",
   "nbconvert_exporter": "python",
   "pygments_lexer": "ipython3",
   "version": "3.7.4"
  }
 },
 "nbformat": 4,
 "nbformat_minor": 4
}
