{
 "cells": [
  {
   "cell_type": "markdown",
   "metadata": {},
   "source": [
    "# PCP Assignment 1 - Main Notebook"
   ]
  },
  {
   "cell_type": "markdown",
   "metadata": {},
   "source": [
    "# Created by Brian Davis"
   ]
  },
  {
   "cell_type": "markdown",
   "metadata": {},
   "source": [
    "## Welcome to the Intelligent Recommendation Service!"
   ]
  },
  {
   "cell_type": "markdown",
   "metadata": {
    "deletable": false,
    "editable": false
   },
   "source": [
    "Welcome to the PCP Main notebook.  \n",
    "All code needed to execute the program can be found here.  \n",
    "\n",
    "The module calls needed if a user wants to run individual metrics;  \n",
    "* Euclidean Distance\n",
    "    * euclidean_similarity(dictionary_name, first_id, second_id)\n",
    "* Cosine Similarity\n",
    "    * cosine_similarity(dictionary_name, first_id, second_id)\n",
    "* Pearson Correlation\n",
    "    * pearson_similarity(dictionary_name, first_id, second_id)\n",
    "* Jaccard Similarity\n",
    "    * jaccard_similarity(dictionary_name, first_id, second_id)\n",
    "* Manhattan Distance\n",
    "    * manhattan_similarity(dictionary_name, first_id, second_id)\n",
    "\n",
    "Please make sure to run the code from top to bottom, the first few code blocks create the program.  \n",
    "The dictionaries with the data are created before the main function is called.  \n",
    "\n",
    "Individual code blocks can be found below the main function if the user prefers this method."
   ]
  },
  {
   "cell_type": "markdown",
   "metadata": {},
   "source": [
    "### Important Note\n",
    "#### Code editing has been disabled in the first few code blocks to avoid essentially breaking functionality of the main function.   \n",
    "#### Code blocks found at the bottom of the program can be edited as deemed necessary."
   ]
  },
  {
   "cell_type": "markdown",
   "metadata": {
    "deletable": false,
    "editable": false
   },
   "source": [
    "### Import the required modules"
   ]
  },
  {
   "cell_type": "code",
   "execution_count": 1,
   "metadata": {
    "deletable": false,
    "editable": false
   },
   "outputs": [],
   "source": [
    "from load_dataset_module import music_features, artist_music\n",
    "from similarity_module import search_artist, search_song, join_artist_dict\n",
    "from similarity_module import euclidean_similarity, cosine_similarity, jaccard_similarity, manhattan_similarity, pearson_similarity"
   ]
  },
  {
   "cell_type": "markdown",
   "metadata": {},
   "source": [
    "### Dictionaries needed are loaded here"
   ]
  },
  {
   "cell_type": "code",
   "execution_count": 2,
   "metadata": {
    "deletable": false
   },
   "outputs": [
    {
     "name": "stdout",
     "output_type": "stream",
     "text": [
      "Finished reading the command for artist music.\n",
      "Finished reading the command for music features.\n"
     ]
    }
   ],
   "source": [
    "# Define the dictionaries by calling their modules and assigning them\n",
    "artists = artist_music()\n",
    "features = music_features()"
   ]
  },
  {
   "cell_type": "markdown",
   "metadata": {},
   "source": [
    "### Function for the Metric choices within the Main function"
   ]
  },
  {
   "cell_type": "code",
   "execution_count": 3,
   "metadata": {},
   "outputs": [],
   "source": [
    "# Function for metric selection\n",
    "def metric_choice(dict_name):\n",
    "    if len(dict_name) == 2: # Check the length, only the artist defined dictionary is length of 2\n",
    "        metric = int(input(\"Which metric would you like to use from the selection: Enter the number: \"))\n",
    "        key_list = str(list(dict_name.keys())).split(',') # take the associated key names\n",
    "        key_list = [key.strip('[]').strip(' ') for key in key_list]\n",
    "        key1 = ''.join(map(str, key_list[0])).strip(\"''\") # Get the first key\n",
    "        key2 = ''.join(map(str, key_list[1])).strip(\"''\") # Get the second key\n",
    "        if metric == 1:\n",
    "            euclidean_similarity(dict_name, key1, key2)\n",
    "        elif metric == 2:\n",
    "            cosine_similarity(dict_name, key1, key2)\n",
    "        elif metric == 3:\n",
    "            pearson_similarity(dict_name, key1, key2)\n",
    "        elif metric == 4:\n",
    "            jaccard_similarity(dict_name, key1, key2)\n",
    "        elif metric == 5:\n",
    "            manhattan_similarity(dict_name, key1, key2)\n",
    "        else:\n",
    "            print(\"Your selection is incorrect.\")\n",
    "            if metric == '': # If entry is blank, end the program\n",
    "                print(\"You entered nothing, the program will end.\")\n",
    "            else:\n",
    "                metric_choice(dict_name) # Restart the metric choice\n",
    "        \n",
    "    else:\n",
    "        metric = int(input(\"Which metric would you like to use from the selection: Enter the number: \"))\n",
    "        if metric == 1:\n",
    "            euclidean_similarity(dict_name, '', '')\n",
    "        elif metric == 2:\n",
    "            cosine_similarity(dict_name, '', '')\n",
    "        elif metric == 3:\n",
    "            pearson_similarity(dict_name, '', '')\n",
    "        elif metric == 4:\n",
    "            jaccard_similarity(dict_name, '', '')\n",
    "        elif metric == 5:\n",
    "            manhattan_similarity(dict_name, '', '')\n",
    "        else:\n",
    "            print(\"Your selection is incorrect.\")\n",
    "            if metric == '': # If entry is blank, end the program\n",
    "                print(\"You entered nothing, the program will end.\")\n",
    "            else:\n",
    "                metric_choice(dict_name) # Restart the metric choice\n",
    "                \n",
    "def metric_selection():\n",
    "    metric_select = [\"Euclidean\", \"Cosine\", \"Pearson\", \"Jaccard\", \"Manhattan\"]\n",
    "    for number, metric in enumerate(metric_select, start=1):\n",
    "        print(number, metric) # Present a list of options to the user for metric choice                "
   ]
  },
  {
   "cell_type": "markdown",
   "metadata": {},
   "source": [
    "### Main Execution Function"
   ]
  },
  {
   "cell_type": "code",
   "execution_count": 6,
   "metadata": {},
   "outputs": [],
   "source": [
    "def main(dict_1, dict_2):\n",
    "    try:\n",
    "       # Assign the dictionaries within the function\n",
    "        artists = dict_1\n",
    "        features = dict_2\n",
    "        \n",
    "        print(\"Welcome to the Intelligent Recommendation Service!\")\n",
    "        print(\"We have {} unique Artists and {} unique Songs in our Library!\"\\\n",
    "              .format(len({artists[i]['Artists'] for i in artists}),\\\n",
    "                      len({features[i]['Song Name'] for i in features})), \"\\n\")\n",
    "        # printing unique songs and artist numbers\n",
    "    \n",
    "        # Let the user choose a dictionary to use\n",
    "        selection = str(input(\"What would you like to do? Please enter 'Artist' or 'Song'. \").capitalize().rstrip())\n",
    "        if selection == \"Artist\":\n",
    "            choice = str(input(\"You have chosen Artist, would you like to compare 2 artists? Enter 'Yes' or 'No': \").capitalize().rstrip())\n",
    "            if choice == \"Yes\":\n",
    "                artist_choices = {} # Create an empty dictionary for the artist searching\n",
    "                while len(artist_choices) != 2: # Create a loop while the dictionary doesnt have 2 keys (2 artists)\n",
    "                    artist = search_artist(artists)\n",
    "                    artist_choices = join_artist_dict(artist_choices, artist)\n",
    "                    print(\"\\n\",\"Artist Dictionary contains {} artist/s.\".format(len(artist_choices)))\n",
    "                    \n",
    "                metric_selection()\n",
    "                metric_choice(artist_choices)\n",
    "                # Program ends\n",
    "                \n",
    "            elif choice == \"No\":\n",
    "                search_func = str(input(\"Would you like to search for an artist or compare two songs? Please enter 'Artist': or 'Compare' \").capitalize().rstrip())\n",
    "                if search_func == \"Yes\" or search_func == \"No\" or search_func == \"Artist\" or search_func == \"Compare\":\n",
    "                    while search_func == \"Artist\" or search_func == \"Yes\":\n",
    "                        search_artist(artists)\n",
    "                        search_func = str(input(\"Would you like to search for another artist? \").capitalize().rstrip())\n",
    "                    \n",
    "                    if search_func == \"Compare\" or search_func == \"No\":\n",
    "                        metric_selection()\n",
    "                        metric_choice(artists)\n",
    "                        # Program ends   \n",
    "                else:\n",
    "                    print(\"Your input wasn't recognised, starting metric comparison.\")\n",
    "                    metric_selection()\n",
    "                    metric_choice(artists)\n",
    "                    \n",
    "            else: # Input was wrong, raise an error and restart program\n",
    "                raise ValueError\n",
    "            \n",
    "        elif selection == \"Song\":\n",
    "            song_choice = str(input(\"You have chosen Song, would you like to search for a song? Enter 'Yes' or 'No': \").capitalize().rstrip())\n",
    "            if song_choice == \"Yes\" or song_choice == \"No\":\n",
    "                while song_choice == \"Yes\": # Loop until the user says they don't want to search for a song anymore\n",
    "                    search_song(artists)\n",
    "                    song_choice = str(input(\"Would you like to search for another song? Enter 'Yes' or 'No': \").capitalize().rstrip())\n",
    "\n",
    "                if song_choice == \"No\":\n",
    "                    metric_selection()\n",
    "                    metric_choice(features)\n",
    "                    # Program ends\n",
    "            else: # Input was wrong, raise an error and restart program\n",
    "                raise ValueError\n",
    "            \n",
    "        else: # Input was wrong, raise an error and restart program\n",
    "            exit = str(input(\"Your input wasn't recognised, would you like to quit? \").capitalize().rstrip())\n",
    "            if exit == \"Yes\" or exit == '':\n",
    "                print(\"Program terminated.\")\n",
    "            else: \n",
    "                print(\"Program is restarting.\")\n",
    "                main(artists, features)\n",
    "        \n",
    "    except ValueError:\n",
    "        print(\"You have entered an incorrect value, the program will restart.\")\n",
    "        main(artists, features) # Restart the program\n",
    "    except AttributeError: # Reaches here if one of the artist searches turns up empty\n",
    "        print(\"There was a problem joining the artist dictionary, please try again.\")\n",
    "    except NameError as nameerr: # Shouldn't get here in normal use\n",
    "        print(\"Error in declaring a name, please check your entries.\", nameerr)\n",
    "    except TypeError: # Reaches here if an artist search turns up empty\n",
    "        pass\n",
    "        #print(\"One of the searches returned no values, please try again.\")\n",
    "        \n",
    "    finally:\n",
    "        print(\"\\n\",\"Thanks for using our Service! See you again soon!\")"
   ]
  },
  {
   "cell_type": "markdown",
   "metadata": {},
   "source": [
    "# Main Program Execution"
   ]
  },
  {
   "cell_type": "code",
   "execution_count": 8,
   "metadata": {
    "scrolled": false
   },
   "outputs": [
    {
     "name": "stdout",
     "output_type": "stream",
     "text": [
      "Welcome to the Intelligent Recommendation Service!\n",
      "We have 33374 unique Artists and 132940 unique Songs in our Library! \n",
      "\n",
      "What would you like to do? Please enter 'Artist' or 'Song'. song\n",
      "You have chosen Song, would you like to search for a song? Enter 'Yes' or 'No': no\n",
      "1 Euclidean\n",
      "2 Cosine\n",
      "3 Pearson\n",
      "4 Jaccard\n",
      "5 Manhattan\n",
      "Which metric would you like to use from the selection: Enter the number: 5\n",
      "Please insert your first id for music features: 400\n",
      "Please insert your second id for music features: 40000\n",
      "If you are working with defined artist lists, enter 'Artist'\n",
      "1 Accoustiness\n",
      "2 Danceability\n",
      "3 Energy\n",
      "4 Liveness\n",
      "5 Loudness\n",
      "6 Popularity\n",
      "7 Speechiness\n",
      "8 Tempo\n",
      "9 Valence\n",
      "Which feature do you want to use for comparison? Either enter the feature name or enter 'No' / leave the entry blank if you want to compare all features. no\n",
      "Comparing all respective features using Manhattan.\n",
      "\n",
      "'Accoustiness' 0.837\n",
      "'Danceability' 0.404\n",
      "'Energy' 0.55\n",
      "'Liveness' 0.063\n",
      "'Loudness' 5.974\n",
      "'Popularity' 65.0\n",
      "'Speechiness' 0.023\n",
      "'Tempo' 103.355\n",
      "'Valence' 0.418\n",
      "\n",
      " Thanks for using our Service! See you again soon!\n"
     ]
    }
   ],
   "source": [
    "# Runs the program - requires the dictionary names as arguments\n",
    "try: \n",
    "    main(artists, features)\n",
    "except NameError:\n",
    "    print(\"Dictionary Name/s is missing, did you forget to run the code blocks above?\")"
   ]
  },
  {
   "cell_type": "markdown",
   "metadata": {},
   "source": [
    "## Individual code blocks are below to run single sections of the Program"
   ]
  },
  {
   "cell_type": "markdown",
   "metadata": {},
   "source": [
    "You can use the code blocks below if you prefer not to run the single main function above.  \n",
    "Please make sure that the code blocks above for the dictionaries are loaded beforehand.  "
   ]
  },
  {
   "cell_type": "markdown",
   "metadata": {},
   "source": [
    "### Dictionary Query Function"
   ]
  },
  {
   "cell_type": "markdown",
   "metadata": {},
   "source": [
    "Search options are defined as;\n",
    "* dictionary_name[numerical ID][feature_name]"
   ]
  },
  {
   "cell_type": "code",
   "execution_count": null,
   "metadata": {},
   "outputs": [],
   "source": [
    "# Use this to find artists based on their ID\n",
    "# Use the search function below to find out the ID if you don't know it\n",
    "\n",
    "artists[1] # Change as necessary"
   ]
  },
  {
   "cell_type": "code",
   "execution_count": null,
   "metadata": {},
   "outputs": [],
   "source": [
    "# Use this to find music features based on their ID\n",
    "# Use the search function below to find out the ID if you don't know it\n",
    "\n",
    "features[1] # Change as necessary"
   ]
  },
  {
   "cell_type": "markdown",
   "metadata": {},
   "source": [
    "### Artist Search Function Call"
   ]
  },
  {
   "cell_type": "code",
   "execution_count": null,
   "metadata": {
    "scrolled": true
   },
   "outputs": [],
   "source": [
    "# Search for your first artist\n",
    "artist_search = search_artist(artists)"
   ]
  },
  {
   "cell_type": "code",
   "execution_count": null,
   "metadata": {
    "scrolled": true
   },
   "outputs": [],
   "source": [
    "# Search for your second artist\n",
    "artist_search2 = search_artist(artists)"
   ]
  },
  {
   "cell_type": "markdown",
   "metadata": {},
   "source": [
    "### Dictionary Join Function Call"
   ]
  },
  {
   "cell_type": "code",
   "execution_count": null,
   "metadata": {},
   "outputs": [],
   "source": [
    "# Join the dictionaries together, removing unique IDs\n",
    "new_dict = join_artist_dict(artist_search, artist_search2)"
   ]
  },
  {
   "cell_type": "code",
   "execution_count": null,
   "metadata": {},
   "outputs": [],
   "source": [
    "# Check to make sure it worked correctly by printing the new dictionary\n",
    "print(new_dict)"
   ]
  },
  {
   "cell_type": "markdown",
   "metadata": {},
   "source": [
    "#### Define keys for function call"
   ]
  },
  {
   "cell_type": "code",
   "execution_count": null,
   "metadata": {},
   "outputs": [],
   "source": [
    "# Get the keys and assign them to variables\n",
    "key_list = str(list(new_dict.keys())).split(',') # take the associated key names\n",
    "key_list = [key.strip('[]').strip(' ') for key in key_list]\n",
    "key1 = ''.join(map(str, key_list[0])).strip(\"''\")\n",
    "key2 = ''.join(map(str, key_list[1])).strip(\"''\")"
   ]
  },
  {
   "cell_type": "markdown",
   "metadata": {},
   "source": [
    "### Euclidean Metric Call"
   ]
  },
  {
   "cell_type": "code",
   "execution_count": null,
   "metadata": {},
   "outputs": [],
   "source": [
    "# Euclidean against Artist Dictionary\n",
    "euclidean_similarity(artists, '', '')"
   ]
  },
  {
   "cell_type": "code",
   "execution_count": null,
   "metadata": {},
   "outputs": [],
   "source": [
    "# Euclidean against Music Dictionary\n",
    "euclidean_similarity(features, '', '')"
   ]
  },
  {
   "cell_type": "code",
   "execution_count": null,
   "metadata": {},
   "outputs": [],
   "source": [
    "# Euclidean against Defined Artist Dictionary\n",
    "euclidean_similarity(new_dict, key1, key2)"
   ]
  },
  {
   "cell_type": "markdown",
   "metadata": {},
   "source": [
    "### Cosine Metric Call"
   ]
  },
  {
   "cell_type": "code",
   "execution_count": null,
   "metadata": {},
   "outputs": [],
   "source": [
    "# Cosine against Artist Dictionary\n",
    "cosine_similarity(artists, '', '')"
   ]
  },
  {
   "cell_type": "code",
   "execution_count": null,
   "metadata": {},
   "outputs": [],
   "source": [
    "# Cosine against Music Dictionary\n",
    "cosine_similarity(features, '','')"
   ]
  },
  {
   "cell_type": "code",
   "execution_count": null,
   "metadata": {},
   "outputs": [],
   "source": [
    "# Cosine against Defined Artist Dictionary\n",
    "cosine_similarity(new_dict, key1, key2)"
   ]
  },
  {
   "cell_type": "markdown",
   "metadata": {},
   "source": [
    "### Pearson Metric Call"
   ]
  },
  {
   "cell_type": "code",
   "execution_count": null,
   "metadata": {},
   "outputs": [],
   "source": [
    "# Pearson against Artist Dictionary\n",
    "pearson_similarity(artists, '', '')"
   ]
  },
  {
   "cell_type": "code",
   "execution_count": null,
   "metadata": {},
   "outputs": [],
   "source": [
    "# Pearson against Music Dictionary\n",
    "pearson_similarity(features, '','')"
   ]
  },
  {
   "cell_type": "code",
   "execution_count": null,
   "metadata": {},
   "outputs": [],
   "source": [
    "# Pearson against Defined Artist Dictionary - Expect not to work if list sizes differ\n",
    "pearson_similarity(new_dict, key1, key2)"
   ]
  },
  {
   "cell_type": "markdown",
   "metadata": {},
   "source": [
    "### Jaccard Metric Call"
   ]
  },
  {
   "cell_type": "code",
   "execution_count": null,
   "metadata": {},
   "outputs": [],
   "source": [
    "# Jaccard against Artist Dictionary\n",
    "jaccard_similarity(artists, '', '')"
   ]
  },
  {
   "cell_type": "code",
   "execution_count": null,
   "metadata": {},
   "outputs": [],
   "source": [
    "# Jaccard against Music Dictionary\n",
    "jaccard_similarity(features, '','')"
   ]
  },
  {
   "cell_type": "code",
   "execution_count": null,
   "metadata": {},
   "outputs": [],
   "source": [
    "# Jaccard against Defined Artist Dictionary\n",
    "jaccard_similarity(new_dict, key1, key2)"
   ]
  },
  {
   "cell_type": "markdown",
   "metadata": {},
   "source": [
    "### Manhattan Metric Call"
   ]
  },
  {
   "cell_type": "code",
   "execution_count": null,
   "metadata": {},
   "outputs": [],
   "source": [
    "# Manhattan against Artist Dictionary\n",
    "manhattan_similarity(artists, '', '')"
   ]
  },
  {
   "cell_type": "code",
   "execution_count": null,
   "metadata": {},
   "outputs": [],
   "source": [
    "# Manhattan against Music Dictionary\n",
    "manhattan_similarity(features, '','')"
   ]
  },
  {
   "cell_type": "code",
   "execution_count": null,
   "metadata": {},
   "outputs": [],
   "source": [
    "# Manhattan against Defined Artist Dictionary\n",
    "manhattan_similarity(new_dict, key1, key2)"
   ]
  }
 ],
 "metadata": {
  "kernelspec": {
   "display_name": "Python 3",
   "language": "python",
   "name": "python3"
  },
  "language_info": {
   "codemirror_mode": {
    "name": "ipython",
    "version": 3
   },
   "file_extension": ".py",
   "mimetype": "text/x-python",
   "name": "python",
   "nbconvert_exporter": "python",
   "pygments_lexer": "ipython3",
   "version": "3.7.4"
  }
 },
 "nbformat": 4,
 "nbformat_minor": 4
}
