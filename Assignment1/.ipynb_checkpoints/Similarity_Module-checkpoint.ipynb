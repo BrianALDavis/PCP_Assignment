{
 "cells": [
  {
   "cell_type": "markdown",
   "metadata": {},
   "source": [
    "### PCP Module 1 - similarity_module"
   ]
  },
  {
   "cell_type": "code",
   "execution_count": 1,
   "metadata": {},
   "outputs": [],
   "source": [
    "from load_dataset_module import music_features\n",
    "from load_dataset_module import artist_music"
   ]
  },
  {
   "cell_type": "code",
   "execution_count": 2,
   "metadata": {},
   "outputs": [
    {
     "name": "stdout",
     "output_type": "stream",
     "text": [
      "Finished reading the command for music features.\n"
     ]
    }
   ],
   "source": [
    "features = music_features()"
   ]
  },
  {
   "cell_type": "code",
   "execution_count": 3,
   "metadata": {},
   "outputs": [
    {
     "name": "stdout",
     "output_type": "stream",
     "text": [
      "Finished reading the command for artist music.\n"
     ]
    }
   ],
   "source": [
    "artists = artist_music()"
   ]
  },
  {
   "cell_type": "code",
   "execution_count": 4,
   "metadata": {},
   "outputs": [
    {
     "data": {
      "text/plain": [
       "{'ID': '6Sdpmree8xpGWaedACPMlP',\n",
       " 'Song Name': 'A Shropshire Lad: Is My Team Ploughing?',\n",
       " 'Accoustiness': 0.991,\n",
       " 'Danceability': 0.319,\n",
       " 'Energy': 0.00593,\n",
       " 'Liveness': 0.0691,\n",
       " 'Loudness': -25.789,\n",
       " 'Popularity': 0.0,\n",
       " 'Speechiness': 0.051,\n",
       " 'Tempo': 79.831,\n",
       " 'Valence': 0.16899999999999998}"
      ]
     },
     "execution_count": 4,
     "metadata": {},
     "output_type": "execute_result"
    }
   ],
   "source": [
    "features[16]"
   ]
  },
  {
   "cell_type": "code",
   "execution_count": 5,
   "metadata": {},
   "outputs": [
    {
     "data": {
      "text/plain": [
       "{'ID': '6TFuAErGpJ9FpxQQ1HC8nM',\n",
       " 'Artists': '\"Francisco Canaro/ Luis Scalon\"',\n",
       " 'Song Name': 'Invocación al Tango - Remasterizado',\n",
       " 'Accoustiness': 0.994,\n",
       " 'Danceability': 0.787,\n",
       " 'Energy': 0.156,\n",
       " 'Liveness': 0.11,\n",
       " 'Loudness': -14.056,\n",
       " 'Popularity': 0.0,\n",
       " 'Speechiness': 0.157,\n",
       " 'Tempo': 117.167,\n",
       " 'Valence': 0.8490000000000001}"
      ]
     },
     "execution_count": 5,
     "metadata": {},
     "output_type": "execute_result"
    }
   ],
   "source": [
    "artists[18]"
   ]
  },
  {
   "cell_type": "code",
   "execution_count": 20,
   "metadata": {},
   "outputs": [],
   "source": [
    "def euclidean_similarity(dict_name, id1, id2):\n",
    "    \n",
    "    import math\n",
    "    \n",
    "    try:   \n",
    "        dict_name = dict_name\n",
    "    \n",
    "        if id1 == '':\n",
    "            id1 = int(input(\"Please insert your first id for music features: \"))\n",
    "        else:\n",
    "            id1 = id1\n",
    "        \n",
    "        if id2 == '':\n",
    "            id2 = int(input(\"Please insert your second id for music features: \"))\n",
    "        else:\n",
    "            id2 = id2\n",
    "                \n",
    "        if id1 == id2:\n",
    "            print(\"You can't have the same ID, please choose 2 different IDs.\")\n",
    "        else:\n",
    "            query = input(\"Do you want to compare a specific feature? Enter no or leave the entry blank if you want to compare all features.\").capitalize()\n",
    "\n",
    "            if query == '' or query == \"No\".capitalize():\n",
    "                print(\"Comparing all respective features.\\n\")\n",
    "                feature_list = list(dict_name[id1].values())[-9:]\n",
    "                feature_list2 = list(dict_name[id2].values())[-9:]\n",
    "                key_list = str(list(dict_name[id1].keys())[-9:]).split(',')\n",
    "            \n",
    "                for i in range(0,9):\n",
    "                    for value in feature_list, feature_list2:\n",
    "                        x = (feature_list[i]) \n",
    "                        y = (feature_list2[i]) \n",
    "                        distance = math.sqrt((x - y) ** 2 ) #one-dimensional euclidean formula\n",
    "                    print(key_list[i].strip('[]').strip(' '), distance)\n",
    "            \n",
    "            else:\n",
    "                query1 = dict_name[id1][query]\n",
    "                query2 = dict_name[id2][query]\n",
    "        \n",
    "                x = (query1) \n",
    "                y = (query2)\n",
    "                distance = math.sqrt((x - y) ** 2 ) #one-dimensional euclidean formula   \n",
    "                return(distance)\n",
    "            \n",
    "    except KeyError as keyerror:\n",
    "        print(\"That feature doesn't exist.\", keyerror)\n",
    "    except ValueError as valueerror:\n",
    "        print(\"Your entry is invalid, please make sure your entry was the correct format.\", valueerror)\n",
    "    except TypeError as typeerror:\n",
    "        print(\"Invalid type entered.\", typeerror)\n",
    "    except IndexError:\n",
    "        print(\"There was a problem, did you enter your dictionary name correctly?\")\n",
    "        "
   ]
  },
  {
   "cell_type": "code",
   "execution_count": 29,
   "metadata": {},
   "outputs": [
    {
     "name": "stdout",
     "output_type": "stream",
     "text": [
      "Sorry, did you forget to enter any values? Please make sure you enter dictionary name, ID1 and ID2 to compare.\n"
     ]
    }
   ],
   "source": [
    "try:\n",
    "    euclidean_similarity()\n",
    "except TypeError:\n",
    "    print(\"Sorry, did you forget to enter any values? Please make sure you enter dictionary name, ID1 and ID2 to compare.\")"
   ]
  },
  {
   "cell_type": "code",
   "execution_count": null,
   "metadata": {},
   "outputs": [],
   "source": [
    "feature_list = list(features[30].values())[-9:]\n",
    "feature_list2 = list(features[40].values())[-9:]\n",
    "key_list = str(list(features[1].keys())[-9:]).split(',')"
   ]
  },
  {
   "cell_type": "code",
   "execution_count": 17,
   "metadata": {},
   "outputs": [
    {
     "name": "stdout",
     "output_type": "stream",
     "text": [
      "0 'Accoustiness' 0.12869343417595175\n",
      "1  'Danceability' 0.03252691193458122\n",
      "2  'Energy' 0.08768124086713185\n",
      "3  'Liveness' 0.11879393923933998\n",
      "4  'Loudness' 4.570738233589852\n",
      "5  'Popularity' 0.0\n",
      "6  'Speechiness' 0.005656854249492385\n",
      "7  'Tempo' 38.74662318189805\n",
      "8  'Valence' 0.22344574285494892\n"
     ]
    }
   ],
   "source": [
    "import math\n",
    "for i in range(0,9):\n",
    "    for value in feature_list, feature_list2, key_list:\n",
    "        x = (feature_list[i], feature_list[i]) \n",
    "        y = (feature_list2[i], feature_list2[i])\n",
    "        distance = math.sqrt(sum([(a - b) ** 2 for a, b in zip(x, y)])) \n",
    "    print(i, key_list[i].strip('[]'), distance)"
   ]
  },
  {
   "cell_type": "code",
   "execution_count": null,
   "metadata": {},
   "outputs": [],
   "source": [
    "def cosine_similarity(dict_name, id1, id2):\n",
    "    import math\n",
    "    "
   ]
  },
  {
   "cell_type": "code",
   "execution_count": null,
   "metadata": {},
   "outputs": [],
   "source": [
    "def pearson_similarity(dict_name, id1, id2):\n",
    "    import math\n",
    "    "
   ]
  },
  {
   "cell_type": "code",
   "execution_count": null,
   "metadata": {},
   "outputs": [],
   "source": [
    "def jaccard_similarity(dict_name, id1, id2):\n",
    "    import math\n",
    "    "
   ]
  },
  {
   "cell_type": "code",
   "execution_count": null,
   "metadata": {},
   "outputs": [],
   "source": [
    "def manhattan similarity(dict_name, id1, id2):\n",
    "    import math\n",
    "    "
   ]
  }
 ],
 "metadata": {
  "kernelspec": {
   "display_name": "Python 3",
   "language": "python",
   "name": "python3"
  },
  "language_info": {
   "codemirror_mode": {
    "name": "ipython",
    "version": 3
   },
   "file_extension": ".py",
   "mimetype": "text/x-python",
   "name": "python",
   "nbconvert_exporter": "python",
   "pygments_lexer": "ipython3",
   "version": "3.7.4"
  }
 },
 "nbformat": 4,
 "nbformat_minor": 4
}
