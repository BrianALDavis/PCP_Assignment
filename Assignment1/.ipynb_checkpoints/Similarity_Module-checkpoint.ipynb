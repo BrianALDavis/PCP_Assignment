{
 "cells": [
  {
   "cell_type": "markdown",
   "metadata": {},
   "source": [
    "### PCP Module 1 - similarity_module"
   ]
  },
  {
   "cell_type": "code",
   "execution_count": 1,
   "metadata": {},
   "outputs": [],
   "source": [
    "from load_dataset_module import music_features\n",
    "from load_dataset_module import artist_music\n",
    "\n",
    "import warnings\n",
    "warnings.filterwarnings('ignore')"
   ]
  },
  {
   "cell_type": "code",
   "execution_count": 2,
   "metadata": {},
   "outputs": [
    {
     "name": "stdout",
     "output_type": "stream",
     "text": [
      "Finished reading the command for music features.\n"
     ]
    }
   ],
   "source": [
    "features = music_features()"
   ]
  },
  {
   "cell_type": "code",
   "execution_count": 3,
   "metadata": {},
   "outputs": [
    {
     "name": "stdout",
     "output_type": "stream",
     "text": [
      "Finished reading the command for artist music.\n"
     ]
    }
   ],
   "source": [
    "artists = artist_music()"
   ]
  },
  {
   "cell_type": "code",
   "execution_count": 31,
   "metadata": {},
   "outputs": [],
   "source": [
    "def search_artist():\n",
    "    try:\n",
    "        feature = str(input(\"Please enter the feature you want to find for the artists' songs: \").capitalize())\n",
    "        fName = str(input(\"Please enter the first name of the artist you want to find: \").capitalize())\n",
    "        lName = str(input(\"Please enter the surname of the artist you want to find (entry can be left blank). If the first name of both artists is the same, you will need to enter a surname initial: \"\\\n",
    "                         ).capitalize())\n",
    "    \n",
    "        # make this output a dict, so it can be used for the other functions\n",
    "        results_dict = {}\n",
    "        results = []\n",
    "        for i in range(1, len(artists)+1):\n",
    "            if fName + \" \" + lName in artists[i]['Artists']:\n",
    "                print(\"\\n\")\n",
    "                print(\"ID:\", i, \"|\", \"Artist/s:\", artists[i]['Artists'], \"|\", \"Song:\", artists[i]['Song Name'])\n",
    "                results.append(artists[i][feature])\n",
    "                \n",
    "        if len(results) == '':\n",
    "            return None\n",
    "        else:\n",
    "            # need to decide on a useful ID for the created dictionary\n",
    "            results_dict[fName + \" \" + lName[0]] = results\n",
    "    \n",
    "        return results_dict\n",
    "    except KeyError:\n",
    "        return(print(\"You have entered an incorrect value, please check your entry.\"))"
   ]
  },
  {
   "cell_type": "code",
   "execution_count": 34,
   "metadata": {},
   "outputs": [],
   "source": [
    "def join_artist_dict(dict_a, dict_b):\n",
    "    dict_a = dict_a\n",
    "    dict_b = dict_b\n",
    "    dict_a.update(dict_b)\n",
    "    return dict_a"
   ]
  },
  {
   "cell_type": "code",
   "execution_count": 32,
   "metadata": {
    "scrolled": true
   },
   "outputs": [
    {
     "name": "stdout",
     "output_type": "stream",
     "text": [
      "Please enter the feature you want to find for the artists' songs: tempo\n",
      "Please enter the first name of the artist you want to find: carl\n",
      "Please enter the surname of the artist you want to find (entry can be left blank). If the first name of both artists is the same, you will need to enter a surname initial: p\n",
      "\n",
      "\n",
      "ID: 1778 | Artist/s: Carl Perkins | Song: Right String but the Wrong Yo Yo\n",
      "\n",
      "\n",
      "ID: 1919 | Artist/s: Carl Perkins | Song: Good Rockin' Tonight\n",
      "\n",
      "\n",
      "ID: 3022 | Artist/s: Carl Perkins | Song: All Mama's Children\n",
      "\n",
      "\n",
      "ID: 9726 | Artist/s: Carl Perkins | Song: Blue Suede Shoes\n",
      "\n",
      "\n",
      "ID: 10006 | Artist/s: Carl Perkins | Song: \"Shake/ Rattle and Roll\"\n",
      "\n",
      "\n",
      "ID: 19078 | Artist/s: Carl Perkins | Song: Dixie Fried\n",
      "\n",
      "\n",
      "ID: 26074 | Artist/s: \"Johann Sebastian Bach/ Carl Philipp Emanuel Bach Chamber Orchestra/ Hartmut Haenchen\" | Song: \"Brandenburg Concerto No. 3 in G Major/ BWV 1048: III. Allegro\"\n",
      "\n",
      "\n",
      "ID: 34020 | Artist/s: Carl Perkins | Song: Where the Rio De Rosa Flows\n",
      "\n",
      "\n",
      "ID: 35072 | Artist/s: \"Johnny Cash/ The Carter Family/ The Statler Brothers/ Carl Perkins\" | Song: \"Daddy Sang Bass (with The Carter Family/ The Statler Brothers & Carl Perkins) - Live at San Quentin State Prison/ San Quentin/ CA - February 1969\"\n",
      "\n",
      "\n",
      "ID: 35123 | Artist/s: \"Johann Sebastian Bach/ Hartmut Haenchen/ Kammerorchester \"\"Carl Philipp Emanuel Bach\"\"\" | Song: \"Brandenburg Concerto No. 3 in G Major/ BWV 1048: I. [ ]\"\n",
      "\n",
      "\n",
      "ID: 41538 | Artist/s: Carl Perkins | Song: Sure to Fall\n",
      "\n",
      "\n",
      "ID: 49116 | Artist/s: Carl Perkins | Song: Tennessee\n",
      "\n",
      "\n",
      "ID: 50553 | Artist/s: \"Johnny Cash/ The Carter Family/ The Statler Brothers/ Carl Perkins\" | Song: \"Folsom Prison Blues/I Walk The Line/Ring Of Fire/The Rebel-Johnny Yuma (with The Carter Family/ The Statler Brothers & Carl Perkins) - Live at San Quentin State Prison/ San Quentin/ CA - February 1969\"\n",
      "\n",
      "\n",
      "ID: 56088 | Artist/s: \"Carl Philipp Emanuel Bach/ Isaac Stern\" | Song: \"Violin Sonata in G Minor/ H 542: II. Adagio\"\n",
      "\n",
      "\n",
      "ID: 56998 | Artist/s: Carl Perkins | Song: Sittin' On Top Of The World\n",
      "\n",
      "\n",
      "ID: 57988 | Artist/s: \"Johnny Cash/ Carl Perkins\" | Song: \"The Old Spinning Wheel - Live at Folsom State Prison/ Folsom/ CA (2nd Show) - January 1968\"\n",
      "\n",
      "\n",
      "ID: 58038 | Artist/s: \"Johnny Cash/ Carl Perkins\" | Song: \"Matchbox - Live at Folsom State Prison/ Folsom/ CA (2nd Show) - January 1968\"\n",
      "\n",
      "\n",
      "ID: 58084 | Artist/s: \"Johnny Cash/ Carl Perkins\" | Song: \"Blue Suede Shoes - Live at Folsom State Prison/ Folsom/ CA (2nd Show) - January 1968\"\n",
      "\n",
      "\n",
      "ID: 63530 | Artist/s: \"Carl Philipp Emanuel Bach/ Isaac Stern\" | Song: \"Violin Sonata in G Minor/ H 542: III. Allegro\"\n",
      "\n",
      "\n",
      "ID: 65493 | Artist/s: \"Johnny Cash/ The Carter Family/ The Statler Brothers/ Carl Perkins\" | Song: \"The Old Account Was Settled Long Ago (with The Carter Family/ The Statler Brothers & Carl Perkins) - Live at San Quentin State Prison/ San Quentin/ CA - February 1969\"\n",
      "\n",
      "\n",
      "ID: 65509 | Artist/s: \"Johnny Cash/ The Carter Family/ The Statler Brothers/ Carl Perkins\" | Song: \"He Turned the Water Into Wine (with The Carter Family/ The Statler Brothers & Carl Perkins) - Live at San Quentin State Prison/ San Quentin/ CA - February 1969\"\n",
      "\n",
      "\n",
      "ID: 71560 | Artist/s: Carl Perkins | Song: Pink Pedal Pushers\n",
      "\n",
      "\n",
      "ID: 81658 | Artist/s: Carl Perkins | Song: Blue Suede Shoes\n",
      "\n",
      "\n",
      "ID: 81716 | Artist/s: Carl Perkins | Song: Boppin' the Blues\n",
      "\n",
      "\n",
      "ID: 81730 | Artist/s: Carl Perkins | Song: Matchbox\n",
      "\n",
      "\n",
      "ID: 91473 | Artist/s: Carl Perkins | Song: Honey Don't\n",
      "\n",
      "\n",
      "ID: 100977 | Artist/s: Carl Perkins | Song: Everybody's Trying to Be My Baby\n",
      "\n",
      "\n",
      "ID: 129147 | Artist/s: Carl Perkins | Song: Your True Love\n",
      "\n",
      "\n",
      "ID: 129152 | Artist/s: Carl Perkins | Song: Tennessee\n",
      "\n",
      "\n",
      "ID: 130394 | Artist/s: Carl Perkins | Song: A Lion In the Jungle\n",
      "\n",
      "\n",
      "ID: 137950 | Artist/s: Carl Perkins | Song: \"Gone/ Gone/ Gone\"\n",
      "\n",
      "\n",
      "ID: 146456 | Artist/s: Carl Perkins | Song: Jive After Five\n",
      "\n",
      "\n",
      "ID: 146784 | Artist/s: Carl Perkins | Song: That's All Right\n",
      "\n",
      "\n",
      "ID: 155107 | Artist/s: Carl Perkins | Song: Sure to Fall\n",
      "\n",
      "\n",
      "ID: 156228 | Artist/s: \"Johnny Cash/ Carl Perkins\" | Song: \"Blue Suede Shoes - Live at Folsom State Prison/ Folsom/ CA (1st Show) - January 1968\"\n",
      "\n",
      "\n",
      "ID: 163536 | Artist/s: Carl Perkins | Song: Movie Magg\n",
      "\n",
      "\n",
      "ID: 163538 | Artist/s: Carl Perkins | Song: Only You\n",
      "\n",
      "\n",
      "ID: 164734 | Artist/s: Carl Perkins | Song: Glad All Over\n"
     ]
    }
   ],
   "source": [
    "return1 = search_artist()"
   ]
  },
  {
   "cell_type": "code",
   "execution_count": 33,
   "metadata": {
    "scrolled": true
   },
   "outputs": [
    {
     "name": "stdout",
     "output_type": "stream",
     "text": [
      "Please enter the feature you want to find for the artists' songs: tempo\n",
      "Please enter the first name of the artist you want to find: carl\n",
      "Please enter the surname of the artist you want to find (entry can be left blank). If the first name of both artists is the same, you will need to enter a surname initial: w\n",
      "\n",
      "\n",
      "ID: 1 | Artist/s: Carl Woitschach | Song: Singende Bataillone 1. Teil\n",
      "\n",
      "\n",
      "ID: 8 | Artist/s: Carl Woitschach | Song: Per aspera ad astra\n",
      "\n",
      "\n",
      "ID: 8201 | Artist/s: Carl Woitschach | Song: Singende Bataillone 2. Teil\n",
      "\n",
      "\n",
      "ID: 8204 | Artist/s: Carl Woitschach | Song: \"Lore/ Lore/ Lore\"\n",
      "\n",
      "\n",
      "ID: 8228 | Artist/s: Carl Woitschach | Song: Reserve hat Ruh 2. Teil\n",
      "\n",
      "\n",
      "ID: 88582 | Artist/s: Carl Woitschach | Song: Taxis Marsch\n",
      "\n",
      "\n",
      "ID: 98042 | Artist/s: Carl Woitschach | Song: Preussens Gloria\n",
      "\n",
      "\n",
      "ID: 98051 | Artist/s: Carl Woitschach | Song: Unsere Garde\n",
      "\n",
      "\n",
      "ID: 98072 | Artist/s: Carl Woitschach | Song: Ruhmesmärsche der alten Armee 2. Teil\n",
      "\n",
      "\n",
      "ID: 107456 | Artist/s: Carl Woitschach | Song: Ruhmesmärsche der alten Armee 1. Teil\n",
      "\n",
      "\n",
      "ID: 107462 | Artist/s: Carl Woitschach | Song: Mein Vaterland 2. Teil\n",
      "\n",
      "\n",
      "ID: 107482 | Artist/s: Carl Woitschach | Song: Manöverliebe 2. Teil\n",
      "\n",
      "\n",
      "ID: 126501 | Artist/s: Carl Woitschach | Song: Alle mit uns 2. Teil\n",
      "\n",
      "\n",
      "ID: 135651 | Artist/s: Carl Woitschach | Song: Mein Vaterland 1. Teil\n",
      "\n",
      "\n",
      "ID: 135654 | Artist/s: Carl Woitschach | Song: Manöverleben 1. Teil\n",
      "\n",
      "\n",
      "ID: 135696 | Artist/s: Carl Woitschach | Song: Deutscher Weckruf\n",
      "\n",
      "\n",
      "ID: 135711 | Artist/s: Carl Woitschach | Song: Reserve hat Ruh 1. Teil\n",
      "\n",
      "\n",
      "ID: 144435 | Artist/s: Carl Woitschach | Song: Alle mit uns 1. Teil\n",
      "\n",
      "\n",
      "ID: 144443 | Artist/s: Carl Woitschach | Song: Marsch der Schweizer Nationalgarde\n",
      "\n",
      "\n",
      "ID: 153043 | Artist/s: Carl Woitschach | Song: Unsere Marine\n",
      "\n",
      "\n",
      "ID: 153072 | Artist/s: Carl Woitschach | Song: Kaiser Friedrich Marsch\n"
     ]
    }
   ],
   "source": [
    "return2 = search_artist()"
   ]
  },
  {
   "cell_type": "code",
   "execution_count": 35,
   "metadata": {},
   "outputs": [
    {
     "name": "stdout",
     "output_type": "stream",
     "text": [
      "{'Carl P': [117.759, 89.292, 79.493, 168.891, 175.578, 161.817, 126.122, 92.189, 97.703, 100.28, 110.774, 100.619, 131.257, 134.391, 110.643, 109.37, 92.847, 96.718, 102.462, 96.564, 91.475, 161.037, 168.891, 175.468, 170.15200000000004, 87.493, 89.936, 157.259, 100.619, 103.146, 172.261, 80.376, 112.942, 110.774, 97.804, 104.746, 82.073, 104.956], 'Carl W': [118.469, 123.31, 120.22, 121.738, 115.65, 116.072, 115.561, 119.497, 114.444, 113.51, 87.396, 121.471, 117.6, 105.812, 119.728, 118.754, 116.534, 120.32, 113.936, 116.137, 122.655]}\n"
     ]
    }
   ],
   "source": [
    "result = join_artist_dict(return1, return2)\n",
    "print(result)"
   ]
  },
  {
   "cell_type": "markdown",
   "metadata": {},
   "source": [
    "## Euclidean Similarity Function"
   ]
  },
  {
   "cell_type": "code",
   "execution_count": 18,
   "metadata": {},
   "outputs": [],
   "source": [
    "def euclidean_similarity(dict_name, id1, id2):\n",
    "    import math\n",
    "    \n",
    "    try:   \n",
    "        dict_name = dict_name\n",
    "    \n",
    "        if id1 == '':\n",
    "            id1 = int(input(\"Please insert your first id for music features: \"))\n",
    "        else:\n",
    "            id1 = id1\n",
    "        \n",
    "        if id2 == '':\n",
    "            id2 = int(input(\"Please insert your second id for music features: \"))\n",
    "        else:\n",
    "            id2 = id2\n",
    "                \n",
    "        if id1 == id2:\n",
    "            print(\"You can't have the same ID, please choose 2 different IDs.\")\n",
    "        else:\n",
    "            print(\"If you are working with defined artist lists, enter 'Yes'\")\n",
    "            query = input(\"Do you want to compare a specific feature? Enter no or leave the entry blank if you want to compare all features. \").capitalize()\n",
    "\n",
    "            if query == '' or query == \"No\".capitalize():\n",
    "                print(\"Comparing all respective features.\\n\")\n",
    "                feature_list = list(dict_name[id1].values())[-9:]\n",
    "                feature_list2 = list(dict_name[id2].values())[-9:]\n",
    "                key_list = str(list(dict_name[id1].keys())[-9:]).split(',')\n",
    "            \n",
    "                for i in range(0,9):\n",
    "                    for value in feature_list, feature_list2:\n",
    "                        x = (feature_list[i]) \n",
    "                        y = (feature_list2[i]) \n",
    "                        distance = math.sqrt((x - y) ** 2 ) #one-dimensional euclidean formula\n",
    "                    print(key_list[i].strip('[]').strip(' '), round(distance, 3))\n",
    "            \n",
    "            else:\n",
    "                if len(dict_name) == 2: # must be working with chosen artists\n",
    "                    x = []\n",
    "                    y = []\n",
    "                    \n",
    "                    for value in dict_name[id1]:\n",
    "                        x.append(value)\n",
    "                    for value in dict_name[id2]:\n",
    "                        y.append(value)\n",
    "                    distance = math.sqrt(sum([(a - b) ** 2 for a, b in zip(x, y)]))\n",
    "                    return(print(\"Euclidean distance from x to y: \",distance))\n",
    "                \n",
    "                else: # must be working with default dictionary and values\n",
    "                    x = dict_name[id1][query]\n",
    "                    y = dict_name[id2][query]\n",
    "                    distance = math.sqrt((x - y) ** 2 ) #one-dimensional euclidean formula   \n",
    "                    return(print(\"Euclidean Distance of\", query, \"is\", round(distance, 3)))\n",
    "            \n",
    "    except KeyError as keyerror:\n",
    "        print(\"That feature doesn't exist.\", keyerror)\n",
    "    except ValueError as valueerror:\n",
    "        print(\"Your entry is invalid, please make sure your entry was the correct format.\")\n",
    "    except TypeError as typeerror:\n",
    "        print(\"Invalid type entered.\", typeerror)\n",
    "    except IndexError:\n",
    "        print(\"There was a problem, did you enter your dictionary name correctly?\")\n",
    "    except ZeroDivisionError:\n",
    "        print(\"Sorry, but you cannot divide by 0.\")\n",
    "    except AttributeError:\n",
    "        print(\"You can't compare all features of an artist you have defined.\")"
   ]
  },
  {
   "cell_type": "code",
   "execution_count": 36,
   "metadata": {},
   "outputs": [
    {
     "name": "stdout",
     "output_type": "stream",
     "text": [
      "If you are working with defined artist lists, enter 'Yes'\n",
      "Do you want to compare a specific feature? Enter no or leave the entry blank if you want to compare all features. y\n",
      "Euclidean distance from x to y:  129.6018143160041\n"
     ]
    }
   ],
   "source": [
    "euclidean_similarity(return1, 'Carl P', 'Carl W')"
   ]
  },
  {
   "cell_type": "code",
   "execution_count": 38,
   "metadata": {},
   "outputs": [
    {
     "name": "stdout",
     "output_type": "stream",
     "text": [
      "If you are working with defined artist lists, enter 'Yes'\n",
      "Do you want to compare a specific feature? Enter no or leave the entry blank if you want to compare all features. \n",
      "Comparing all respective features.\n",
      "\n",
      "'Accoustiness' 0.167\n",
      "'Danceability' 0.236\n",
      "'Energy' 0.097\n",
      "'Liveness' 0.43\n",
      "'Loudness' 5.825\n",
      "'Popularity' 3.0\n",
      "'Speechiness' 0.004\n",
      "'Tempo' 1.79\n",
      "'Valence' 0.408\n"
     ]
    }
   ],
   "source": [
    "euclidean_similarity(artists, 91, 1491)"
   ]
  },
  {
   "cell_type": "markdown",
   "metadata": {},
   "source": [
    "## Cosine Similarity Function"
   ]
  },
  {
   "cell_type": "code",
   "execution_count": 9,
   "metadata": {},
   "outputs": [],
   "source": [
    "def cosine_similarity(dict_name, id1, id2):\n",
    "    import math\n",
    "    \n",
    "    def square_rooted(x):\n",
    "        return round(math.sqrt(sum([a*a for a in x])),3)\n",
    "    \n",
    "    def cosine(x, y):\n",
    "        numerator = sum(a*b for a,b in zip(x,y))\n",
    "        denominator = square_rooted(x)*square_rooted(y)\n",
    "        return round(numerator/float(denominator),3)\n",
    "    \n",
    "    try:   \n",
    "        dict_name = dict_name\n",
    "    \n",
    "        if id1 == '':\n",
    "            id1 = int(input(\"Please insert your first id for music features: \"))\n",
    "        else:\n",
    "            id1 = id1\n",
    "        \n",
    "        if id2 == '':\n",
    "            id2 = int(input(\"Please insert your second id for music features: \"))\n",
    "        else:\n",
    "            id2 = id2\n",
    "                \n",
    "        if id1 == id2:\n",
    "            print(\"You can't have the same ID, please choose 2 different IDs.\")\n",
    "        else:\n",
    "            query = input(\"Do you want to compare a specific feature? Enter no or leave the entry blank if you want to compare all features. \").capitalize()\n",
    "\n",
    "            if query == '' or query == \"No\".capitalize():\n",
    "                print(\"Comparing all respective features.\\n\")\n",
    "                feature_list = list(dict_name[id1].values())[-9:]\n",
    "                feature_list2 = list(dict_name[id2].values())[-9:]\n",
    "                key_list = str(list(dict_name[id1].keys())[-9:]).split(',')\n",
    "            \n",
    "                for i in range(0,9):\n",
    "                    for value in feature_list, feature_list2:\n",
    "                        if i == 5: #divisible by zero issue comes up if this is not present\n",
    "                            continue\n",
    "                        x = (feature_list[i]) \n",
    "                        y = (feature_list2[i]) \n",
    "                        distance = cosine([x],[y])\n",
    "                    print(key_list[i].strip('[]').strip(' '), round(distance, 3))\n",
    "            \n",
    "            else:\n",
    "                x = dict_name[id1][query]\n",
    "                y = dict_name[id2][query]\n",
    "                \n",
    "                #if len(list(x)) or len(list(y)) > 1:\n",
    "                    #compare them all\n",
    "                #else: do what is below\n",
    "                \n",
    "                distance = cosine([x],[y])\n",
    "                print(\"Cosine Similarity of\", query, \"is\", round(distance, 3))\n",
    "            \n",
    "    except KeyError as keyerror:\n",
    "        print(\"That feature doesn't exist.\", keyerror)\n",
    "    except ValueError as valueerror:\n",
    "        print(\"Your entry is invalid, please make sure your entry was the correct format.\")\n",
    "    except TypeError as typeerror:\n",
    "        print(\"Invalid type entered.\", typeerror)\n",
    "    except IndexError:\n",
    "        print(\"There was a problem, did you enter your dictionary name correctly?\")\n",
    "    except ZeroDivisionError:\n",
    "        print(\"Sorry, but you cannot divide by 0\")"
   ]
  },
  {
   "cell_type": "code",
   "execution_count": 10,
   "metadata": {},
   "outputs": [
    {
     "name": "stdout",
     "output_type": "stream",
     "text": [
      "Do you want to compare a specific feature? Enter no or leave the entry blank if you want to compare all features. \n",
      "Comparing all respective features.\n",
      "\n",
      "'Accoustiness' 1.0\n",
      "'Danceability' 1.0\n",
      "'Energy' 1.0\n",
      "'Liveness' 1.0\n",
      "'Loudness' 1.0\n",
      "'Popularity' 1.0\n",
      "'Speechiness' 1.0\n",
      "'Tempo' 1.0\n",
      "'Valence' 1.0\n"
     ]
    }
   ],
   "source": [
    "cosine_similarity(features, 30, 40)"
   ]
  },
  {
   "cell_type": "code",
   "execution_count": 11,
   "metadata": {},
   "outputs": [
    {
     "name": "stdout",
     "output_type": "stream",
     "text": [
      "0.763\n"
     ]
    }
   ],
   "source": [
    "import math\n",
    "def square_rooted(x):\n",
    "    return round(math.sqrt(sum([a*a for a in x])),3)\n",
    "    \n",
    "def cosine(x, y):\n",
    "    numerator = sum(a*b for a,b in zip(x,y))\n",
    "    denominator = square_rooted(x)*square_rooted(y)\n",
    "    return round(numerator/float(denominator),3)\n",
    "\n",
    "print(cosine([3, 4, 54], [43,54,67.8]))"
   ]
  },
  {
   "cell_type": "markdown",
   "metadata": {},
   "source": [
    "## Pearson Correlation Similarity Function"
   ]
  },
  {
   "cell_type": "code",
   "execution_count": 12,
   "metadata": {},
   "outputs": [],
   "source": [
    "def pearson_similarity(dict_name, id1, id2):\n",
    "    import math\n",
    "    import numpy as np\n",
    "    \n",
    "    try:   \n",
    "        dict_name = dict_name\n",
    "    \n",
    "        if id1 == '':\n",
    "            id1 = int(input(\"Please insert your first id for music features: \"))\n",
    "        else:\n",
    "            id1 = id1\n",
    "        \n",
    "        if id2 == '':\n",
    "            id2 = int(input(\"Please insert your second id for music features: \"))\n",
    "        else:\n",
    "            id2 = id2\n",
    "                \n",
    "        if id1 == id2:\n",
    "            print(\"You can't have the same ID, please choose 2 different IDs.\")\n",
    "        else:\n",
    "            query = input(\"Do you want to compare a specific feature? Enter no or leave the entry blank if you want to compare all features. \").capitalize()\n",
    "\n",
    "            if query == '' or query == \"No\".capitalize():\n",
    "                print(\"Comparing all respective features.\\n\")\n",
    "                feature_list = list(dict_name[id1].values())[-9:]\n",
    "                feature_list2 = list(dict_name[id2].values())[-9:]\n",
    "                key_list = str(list(dict_name[id1].keys())[-9:]).split(',')\n",
    "            \n",
    "                for i in range(0,9):\n",
    "                    for value in feature_list, feature_list2:\n",
    "                        #if i == 5: #skip popularity\n",
    "                        #    continue\n",
    "                        x = (feature_list[i]) \n",
    "                        y = (feature_list2[i]) \n",
    "                        pearson_corr = np.corrcoef([x,y])\n",
    "                    print(key_list[i].strip('[]').strip(' '), pearson_corr)\n",
    "            \n",
    "            else:\n",
    "                x = dict_name[id1][query]\n",
    "                y = dict_name[id2][query]\n",
    "                \n",
    "                #if len(list(x)) or len(list(y)) > 1:\n",
    "                    #compare them all\n",
    "                #else: do what is below\n",
    "                \n",
    "                pearson_corr = np.corrcoef([x,y])\n",
    "                return(pearson_corr)\n",
    "            \n",
    "    except KeyError as keyerror:\n",
    "        print(\"That feature doesn't exist.\", keyerror)\n",
    "    except ValueError as valueerror:\n",
    "        print(\"Your entry is invalid, please make sure your entry was the correct format.\", valueerror)\n",
    "    except TypeError as typeerror:\n",
    "        print(\"Invalid type entered.\", typeerror)\n",
    "    except IndexError:\n",
    "        print(\"There was a problem, did you enter your dictionary name correctly?\")\n",
    "    except ZeroDivisionError:\n",
    "        print(\"Sorry, but you cannot divide by 0\")"
   ]
  },
  {
   "cell_type": "code",
   "execution_count": 13,
   "metadata": {},
   "outputs": [
    {
     "name": "stdout",
     "output_type": "stream",
     "text": [
      "Do you want to compare a specific feature? Enter no or leave the entry blank if you want to compare all features. \n",
      "Comparing all respective features.\n",
      "\n",
      "'Accoustiness' 1.0\n",
      "'Danceability' 1.0\n",
      "'Energy' 1.0\n",
      "'Liveness' 1.0\n",
      "'Loudness' 1.0\n",
      "'Popularity' nan\n",
      "'Speechiness' 1.0\n",
      "'Tempo' 1.0\n",
      "'Valence' 1.0\n"
     ]
    }
   ],
   "source": [
    "pearson_similarity(features, 30, 40)"
   ]
  },
  {
   "cell_type": "markdown",
   "metadata": {},
   "source": [
    "## Jaccard Similarity Function"
   ]
  },
  {
   "cell_type": "markdown",
   "metadata": {},
   "source": [
    "J(A, B) = |A∩B| / |A∪B|"
   ]
  },
  {
   "cell_type": "code",
   "execution_count": 14,
   "metadata": {},
   "outputs": [],
   "source": [
    "def jaccard_similarity(dict_name, id1, id2):\n",
    "    import math\n",
    "    \n",
    "    def jaccard(x, y):\n",
    "        intersection = len(list(set(x).intersection(y)))\n",
    "        union = (len(x) + len(y)) - intersection\n",
    "        return float(intersection) / union\n",
    "    \n",
    "    try:   \n",
    "        dict_name = dict_name\n",
    "    \n",
    "        if id1 == '':\n",
    "            id1 = int(input(\"Please insert your first id for music features: \"))\n",
    "        else:\n",
    "            id1 = id1\n",
    "        \n",
    "        if id2 == '':\n",
    "            id2 = int(input(\"Please insert your second id for music features: \"))\n",
    "        else:\n",
    "            id2 = id2\n",
    "                \n",
    "        if id1 == id2:\n",
    "            print(\"You can't have the same ID, please choose 2 different IDs.\")\n",
    "        else:\n",
    "            query = input(\"Do you want to compare a specific feature? Enter no or leave the entry blank if you want to compare all features. \").capitalize()\n",
    "\n",
    "            if query == '' or query == \"No\".capitalize():\n",
    "                print(\"Comparing all respective features.\\n\")\n",
    "                feature_list = list(dict_name[id1].values())[-9:]\n",
    "                feature_list2 = list(dict_name[id2].values())[-9:]\n",
    "                key_list = str(list(dict_name[id1].keys())[-9:]).split(',')\n",
    "            \n",
    "                for i in range(0,9):\n",
    "                    for value in feature_list, feature_list2:\n",
    "                        x = (feature_list[i]) \n",
    "                        y = (feature_list2[i]) \n",
    "                        distance = jaccard([x],[y])\n",
    "                    print(\"Jaccard Similarity:\", key_list[i].strip('[]').strip(' '), round(distance, 3))\n",
    "                    print(\"Jaccard Distance:  \", key_list[i].strip('[]').strip(' '), (1 - round(distance, 3)))\n",
    "            \n",
    "            else:\n",
    "                x = dict_name[id1][query]\n",
    "                y = dict_name[id2][query]\n",
    "                \n",
    "                #if len(list(x)) or len(list(y)) > 1:\n",
    "                    #compare them all\n",
    "                #else: do what is below\n",
    "                \n",
    "                distance = jaccard([x],[y])\n",
    "                print(\"Jaccard Similarity of\", query, \"is\", round(distance, 3))\n",
    "                print(\"Jaccard Distance of\", query, \"is\", (1 - round(distance, 3)))\n",
    "            \n",
    "    except KeyError as keyerror:\n",
    "        print(\"That feature doesn't exist.\", keyerror)\n",
    "    except ValueError as valueerror:\n",
    "        print(\"Your entry is invalid, please make sure your entry was the correct format.\")\n",
    "    except TypeError as typeerror:\n",
    "        print(\"Invalid type entered.\", typeerror)\n",
    "    except IndexError:\n",
    "        print(\"There was a problem, did you enter your dictionary name correctly?\")\n",
    "    except ZeroDivisionError:\n",
    "        print(\"Sorry, but you cannot divide by 0\")"
   ]
  },
  {
   "cell_type": "code",
   "execution_count": 15,
   "metadata": {},
   "outputs": [
    {
     "name": "stdout",
     "output_type": "stream",
     "text": [
      "Do you want to compare a specific feature? Enter no or leave the entry blank if you want to compare all features. \n",
      "Comparing all respective features.\n",
      "\n",
      "Jaccard Similarity: 'Accoustiness' 0.0\n",
      "Jaccard Distance:   'Accoustiness' 1.0\n",
      "Jaccard Similarity: 'Danceability' 0.0\n",
      "Jaccard Distance:   'Danceability' 1.0\n",
      "Jaccard Similarity: 'Energy' 0.0\n",
      "Jaccard Distance:   'Energy' 1.0\n",
      "Jaccard Similarity: 'Liveness' 0.0\n",
      "Jaccard Distance:   'Liveness' 1.0\n",
      "Jaccard Similarity: 'Loudness' 0.0\n",
      "Jaccard Distance:   'Loudness' 1.0\n",
      "Jaccard Similarity: 'Popularity' 1.0\n",
      "Jaccard Distance:   'Popularity' 0.0\n",
      "Jaccard Similarity: 'Speechiness' 0.0\n",
      "Jaccard Distance:   'Speechiness' 1.0\n",
      "Jaccard Similarity: 'Tempo' 0.0\n",
      "Jaccard Distance:   'Tempo' 1.0\n",
      "Jaccard Similarity: 'Valence' 0.0\n",
      "Jaccard Distance:   'Valence' 1.0\n"
     ]
    }
   ],
   "source": [
    "jaccard_similarity(features, 30, 40)"
   ]
  },
  {
   "cell_type": "code",
   "execution_count": 16,
   "metadata": {},
   "outputs": [
    {
     "name": "stdout",
     "output_type": "stream",
     "text": [
      "1\n",
      "3\n"
     ]
    },
    {
     "data": {
      "text/plain": [
       "0.3333333333333333"
      ]
     },
     "execution_count": 16,
     "metadata": {},
     "output_type": "execute_result"
    }
   ],
   "source": [
    "def jaccard(x, y):\n",
    "    intersection = len(list(set(x).intersection(y)))\n",
    "    print(intersection)\n",
    "    union = (len(x) + len(y)) - intersection\n",
    "    print(union)\n",
    "    return float(intersection) / union\n",
    "\n",
    "jaccard([54.3, 25.4], [54.3, 432.112])"
   ]
  },
  {
   "cell_type": "markdown",
   "metadata": {},
   "source": [
    "## Manhattan Similarity Function"
   ]
  },
  {
   "attachments": {
    "image.png": {
     "image/png": "[encoded data removed]"
    }
   },
   "cell_type": "markdown",
   "metadata": {},
   "source": [
    "![image.png](attachment:image.png)"
   ]
  },
  {
   "cell_type": "code",
   "execution_count": 17,
   "metadata": {},
   "outputs": [],
   "source": [
    "def manhattan_similarity(dict_name, id1, id2):\n",
    "    import math\n",
    "    \n",
    "    try:   \n",
    "        dict_name = dict_name\n",
    "    \n",
    "        if id1 == '':\n",
    "            id1 = int(input(\"Please insert your first id for music features: \"))\n",
    "        else:\n",
    "            id1 = id1\n",
    "        \n",
    "        if id2 == '':\n",
    "            id2 = int(input(\"Please insert your second id for music features: \"))\n",
    "        else:\n",
    "            id2 = id2\n",
    "                \n",
    "        if id1 == id2:\n",
    "            print(\"You can't have the same ID, please choose 2 different IDs.\")\n",
    "        else:\n",
    "            query = input(\"Do you want to compare a specific feature? Enter no or leave the entry blank if you want to compare all features. \").capitalize()\n",
    "\n",
    "            if query == '' or query == \"No\".capitalize():\n",
    "                print(\"Comparing all respective features.\\n\")\n",
    "                feature_list = list(dict_name[id1].values())[-9:]\n",
    "                feature_list2 = list(dict_name[id2].values())[-9:]\n",
    "                key_list = str(list(dict_name[id1].keys())[-9:]).split(',')\n",
    "            \n",
    "                for i in range(0,9):\n",
    "                    for value in feature_list, feature_list2:\n",
    "                        x = (feature_list[i]) \n",
    "                        y = (feature_list2[i]) \n",
    "                        distance = abs(x - y) #one-dimensional manhattan\n",
    "                    print(key_list[i].strip('[]').strip(' '), round(distance, 3))\n",
    "            \n",
    "            else:\n",
    "                x = dict_name[id1][query]\n",
    "                y = dict_name[id2][query]\n",
    "                \n",
    "                #if len(list(x)) or len(list(y)) > 1:\n",
    "                    #compare them all\n",
    "                #else: do what is below\n",
    "                \n",
    "                distance = abs(x - y) #one-dimensional manhattan  \n",
    "                return(print(\"Manhattan Distance of\", query, \"is\", round(distance, 3)))\n",
    "            \n",
    "    except KeyError as keyerror:\n",
    "        print(\"That feature doesn't exist.\", keyerror)\n",
    "    except ValueError as valueerror:\n",
    "        print(\"Your entry is invalid, please make sure your entry was the correct format.\")\n",
    "    except TypeError as typeerror:\n",
    "        print(\"Invalid type entered.\", typeerror)\n",
    "    except IndexError:\n",
    "        print(\"There was a problem, did you enter your dictionary name correctly?\")\n",
    "    except ZeroDivisionError:\n",
    "        print(\"Sorry, but you cannot divide by 0\")"
   ]
  },
  {
   "cell_type": "code",
   "execution_count": 18,
   "metadata": {},
   "outputs": [
    {
     "name": "stdout",
     "output_type": "stream",
     "text": [
      "Do you want to compare a specific feature? Enter no or leave the entry blank if you want to compare all features. \n",
      "Comparing all respective features.\n",
      "\n",
      "'Accoustiness' 0.755\n",
      "'Danceability' 0.153\n",
      "'Energy' 0.124\n",
      "'Liveness' 0.291\n",
      "'Loudness' 0.701\n",
      "'Popularity' 42.0\n",
      "'Speechiness' 0.893\n",
      "'Tempo' 48.182\n",
      "'Valence' 0.377\n"
     ]
    }
   ],
   "source": [
    "manhattan_similarity(features, 6000, 40350)"
   ]
  },
  {
   "cell_type": "code",
   "execution_count": 19,
   "metadata": {},
   "outputs": [
    {
     "name": "stdout",
     "output_type": "stream",
     "text": [
      "Do you want to compare a specific feature? Enter no or leave the entry blank if you want to compare all features. \n",
      "Comparing all respective features.\n",
      "\n",
      "'Accoustiness' 0.091\n",
      "'Danceability' 0.023\n",
      "'Energy' 0.062\n",
      "'Liveness' 0.084\n",
      "'Loudness' 3.232\n",
      "'Popularity' 0.0\n",
      "'Speechiness' 0.004\n",
      "'Tempo' 27.398\n",
      "'Valence' 0.158\n",
      "Do you want to compare a specific feature? Enter no or leave the entry blank if you want to compare all features. \n",
      "Comparing all respective features.\n",
      "\n",
      "'Accoustiness' 1.0\n",
      "'Danceability' 1.0\n",
      "'Energy' 1.0\n",
      "'Liveness' 1.0\n",
      "'Loudness' 1.0\n",
      "'Popularity' 1.0\n",
      "'Speechiness' 1.0\n",
      "'Tempo' 1.0\n",
      "'Valence' 1.0\n",
      "Do you want to compare a specific feature? Enter no or leave the entry blank if you want to compare all features. \n",
      "Comparing all respective features.\n",
      "\n",
      "'Accoustiness' 1.0\n",
      "'Danceability' 1.0\n",
      "'Energy' 1.0\n",
      "'Liveness' 1.0\n",
      "'Loudness' 1.0\n",
      "'Popularity' nan\n",
      "'Speechiness' 1.0\n",
      "'Tempo' 1.0\n",
      "'Valence' 1.0\n",
      "Do you want to compare a specific feature? Enter no or leave the entry blank if you want to compare all features. \n",
      "Comparing all respective features.\n",
      "\n",
      "Jaccard Similarity: 'Accoustiness' 0.0\n",
      "Jaccard Distance:   'Accoustiness' 1.0\n",
      "Jaccard Similarity: 'Danceability' 0.0\n",
      "Jaccard Distance:   'Danceability' 1.0\n",
      "Jaccard Similarity: 'Energy' 0.0\n",
      "Jaccard Distance:   'Energy' 1.0\n",
      "Jaccard Similarity: 'Liveness' 0.0\n",
      "Jaccard Distance:   'Liveness' 1.0\n",
      "Jaccard Similarity: 'Loudness' 0.0\n",
      "Jaccard Distance:   'Loudness' 1.0\n",
      "Jaccard Similarity: 'Popularity' 1.0\n",
      "Jaccard Distance:   'Popularity' 0.0\n",
      "Jaccard Similarity: 'Speechiness' 0.0\n",
      "Jaccard Distance:   'Speechiness' 1.0\n",
      "Jaccard Similarity: 'Tempo' 0.0\n",
      "Jaccard Distance:   'Tempo' 1.0\n",
      "Jaccard Similarity: 'Valence' 0.0\n",
      "Jaccard Distance:   'Valence' 1.0\n",
      "Do you want to compare a specific feature? Enter no or leave the entry blank if you want to compare all features. \n",
      "Comparing all respective features.\n",
      "\n",
      "'Accoustiness' 0.091\n",
      "'Danceability' 0.023\n",
      "'Energy' 0.062\n",
      "'Liveness' 0.084\n",
      "'Loudness' 3.232\n",
      "'Popularity' 0.0\n",
      "'Speechiness' 0.004\n",
      "'Tempo' 27.398\n",
      "'Valence' 0.158\n"
     ]
    }
   ],
   "source": [
    "euclidean_similarity(features, 30, 40)\n",
    "cosine_similarity(features, 30, 40)\n",
    "pearson_similarity(features, 30, 40)\n",
    "jaccard_similarity(features, 30, 40)\n",
    "manhattan_similarity(features, 30, 40)"
   ]
  },
  {
   "cell_type": "code",
   "execution_count": 178,
   "metadata": {},
   "outputs": [
    {
     "data": {
      "text/plain": [
       "{'ID': '6OJjveoYwJdIt76y0Pxpxw',\n",
       " 'Artists': 'Carl Woitschach',\n",
       " 'Song Name': 'Per aspera ad astra',\n",
       " 'Accoustiness': 0.988,\n",
       " 'Danceability': 0.555,\n",
       " 'Energy': 0.421,\n",
       " 'Liveness': 0.105,\n",
       " 'Loudness': -9.878,\n",
       " 'Popularity': 0.0,\n",
       " 'Speechiness': 0.0474,\n",
       " 'Tempo': 123.31,\n",
       " 'Valence': 0.857}"
      ]
     },
     "execution_count": 178,
     "metadata": {},
     "output_type": "execute_result"
    }
   ],
   "source": [
    "artists[8]"
   ]
  },
  {
   "cell_type": "code",
   "execution_count": 175,
   "metadata": {},
   "outputs": [
    {
     "data": {
      "text/plain": [
       "{'ID': '6N6tiFZ9vLTSOIxkj8qKrd',\n",
       " 'Artists': '\"Frédéric Chopin/ Vladimir Horowitz\"',\n",
       " 'Song Name': '\"Polonaise-Fantaisie in A-Flat Major/ Op. 61\"',\n",
       " 'Accoustiness': 0.99,\n",
       " 'Danceability': 0.21,\n",
       " 'Energy': 0.204,\n",
       " 'Liveness': 0.098,\n",
       " 'Loudness': -16.829,\n",
       " 'Popularity': 1.0,\n",
       " 'Speechiness': 0.0424,\n",
       " 'Tempo': 62.149,\n",
       " 'Valence': 0.0693}"
      ]
     },
     "execution_count": 175,
     "metadata": {},
     "output_type": "execute_result"
    }
   ],
   "source": [
    "artists[5]"
   ]
  }
 ],
 "metadata": {
  "kernelspec": {
   "display_name": "Python 3",
   "language": "python",
   "name": "python3"
  },
  "language_info": {
   "codemirror_mode": {
    "name": "ipython",
    "version": 3
   },
   "file_extension": ".py",
   "mimetype": "text/x-python",
   "name": "python",
   "nbconvert_exporter": "python",
   "pygments_lexer": "ipython3",
   "version": "3.7.4"
  }
 },
 "nbformat": 4,
 "nbformat_minor": 4
}
