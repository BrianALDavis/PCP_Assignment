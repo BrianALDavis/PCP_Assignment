{
 "cells": [
  {
   "cell_type": "markdown",
   "metadata": {},
   "source": [
    "### PCP Module 1 - similarity_module"
   ]
  },
  {
   "cell_type": "code",
   "execution_count": 1,
   "metadata": {},
   "outputs": [],
   "source": [
    "from load_dataset_module import music_features\n",
    "from load_dataset_module import artist_music\n",
    "\n",
    "import warnings\n",
    "warnings.filterwarnings('ignore')"
   ]
  },
  {
   "cell_type": "code",
   "execution_count": 2,
   "metadata": {},
   "outputs": [
    {
     "name": "stdout",
     "output_type": "stream",
     "text": [
      "Finished reading the command for music features.\n"
     ]
    }
   ],
   "source": [
    "features = music_features()"
   ]
  },
  {
   "cell_type": "code",
   "execution_count": 3,
   "metadata": {},
   "outputs": [
    {
     "name": "stdout",
     "output_type": "stream",
     "text": [
      "Finished reading the command for artist music.\n"
     ]
    }
   ],
   "source": [
    "artists = artist_music()"
   ]
  },
  {
   "cell_type": "code",
   "execution_count": 4,
   "metadata": {},
   "outputs": [
    {
     "data": {
      "text/plain": [
       "{'ID': '6XD6qJykJ91uC9AYb84ZeY',\n",
       " 'Song Name': 'Chapter 4.12 - Zamek kaniowski',\n",
       " 'Accoustiness': 0.6859999999999999,\n",
       " 'Danceability': 0.715,\n",
       " 'Energy': 0.22,\n",
       " 'Liveness': 0.206,\n",
       " 'Loudness': -19.788,\n",
       " 'Popularity': 0.0,\n",
       " 'Speechiness': 0.948,\n",
       " 'Tempo': 113.214,\n",
       " 'Valence': 0.545}"
      ]
     },
     "execution_count": 4,
     "metadata": {},
     "output_type": "execute_result"
    }
   ],
   "source": [
    "features[30]"
   ]
  },
  {
   "cell_type": "code",
   "execution_count": 22,
   "metadata": {},
   "outputs": [
    {
     "data": {
      "text/plain": [
       "{'ID': '6bKJYhoaWIohnhspidbdW7',\n",
       " 'Artists': 'Seweryn Goszczyński',\n",
       " 'Song Name': 'Chapter 2.11 - Zamek kaniowski',\n",
       " 'Accoustiness': 0.777,\n",
       " 'Danceability': 0.738,\n",
       " 'Energy': 0.282,\n",
       " 'Liveness': 0.29,\n",
       " 'Loudness': -16.555999999999994,\n",
       " 'Popularity': 0.0,\n",
       " 'Speechiness': 0.952,\n",
       " 'Tempo': 140.612,\n",
       " 'Valence': 0.703}"
      ]
     },
     "execution_count": 22,
     "metadata": {},
     "output_type": "execute_result"
    }
   ],
   "source": [
    "artists[40]"
   ]
  },
  {
   "cell_type": "code",
   "execution_count": 179,
   "metadata": {},
   "outputs": [
    {
     "name": "stdout",
     "output_type": "stream",
     "text": [
      "Please enter the first name of the 1st artist you want to find: vladimir\n",
      "Please enter the surname of the artist you want to find: horowitz\n",
      "Please enter the feature you want to find for the artist you entered: tempo\n",
      "Please enter the first name of the 2nd artist you want to find: carl\n",
      "Please enter the surname of the artist you want to find: Woitschach\n"
     ]
    }
   ],
   "source": [
    "# Need to create a way to index and find an artist entry and return the features\n",
    "\n",
    "feature = str(input(\"Please enter the feature you want to find for the artist you entered: \").capitalize())\n",
    "fName = str(input(\"Please enter the first name of the 1st artist you want to find: \").capitalize())\n",
    "lName = str(input(\"Please enter the surname of the artist you want to find: \").capitalize())\n",
    "\n",
    "save = []\n",
    "for i in range(1, len(artists)+1):\n",
    "    if fName + \" \" + lName in artists[i]['Artists']:\n",
    "        save.append(artists[i][feature])\n",
    "\n",
    "fName = str(input(\"Please enter the first name of the 2nd artist you want to find: \").capitalize())\n",
    "lName = str(input(\"Please enter the surname of the artist you want to find: \").capitalize())\n",
    "\n",
    "save2 = []\n",
    "for i in range(1, len(artists)+1):\n",
    "    if fName + \" \" + lName in artists[i]['Artists']:\n",
    "        save2.append(artists[i][feature])"
   ]
  },
  {
   "cell_type": "markdown",
   "metadata": {},
   "source": [
    "## Euclidean Similarity Function"
   ]
  },
  {
   "cell_type": "code",
   "execution_count": 6,
   "metadata": {},
   "outputs": [],
   "source": [
    "def euclidean_similarity(dict_name, id1, id2):\n",
    "    import math\n",
    "    \n",
    "    try:   \n",
    "        dict_name = dict_name\n",
    "    \n",
    "        if id1 == '':\n",
    "            id1 = int(input(\"Please insert your first id for music features: \"))\n",
    "        else:\n",
    "            id1 = id1\n",
    "        \n",
    "        if id2 == '':\n",
    "            id2 = int(input(\"Please insert your second id for music features: \"))\n",
    "        else:\n",
    "            id2 = id2\n",
    "                \n",
    "        if id1 == id2:\n",
    "            print(\"You can't have the same ID, please choose 2 different IDs.\")\n",
    "        else:\n",
    "            query = input(\"Do you want to compare a specific feature? Enter no or leave the entry blank if you want to compare all features. \").capitalize()\n",
    "\n",
    "            if query == '' or query == \"No\".capitalize():\n",
    "                print(\"Comparing all respective features.\\n\")\n",
    "                feature_list = list(dict_name[id1].values())[-9:]\n",
    "                feature_list2 = list(dict_name[id2].values())[-9:]\n",
    "                key_list = str(list(dict_name[id1].keys())[-9:]).split(',')\n",
    "            \n",
    "                for i in range(0,9):\n",
    "                    for value in feature_list, feature_list2:\n",
    "                        x = (feature_list[i]) \n",
    "                        y = (feature_list2[i]) \n",
    "                        distance = math.sqrt((x - y) ** 2 ) #one-dimensional euclidean formula\n",
    "                    print(key_list[i].strip('[]').strip(' '), round(distance, 3))\n",
    "            \n",
    "            else:\n",
    "                x = dict_name[id1][query]\n",
    "                y = dict_name[id2][query]\n",
    "                \n",
    "                #if len(list(x)) or len(list(y)) > 1:\n",
    "                    #compare them all\n",
    "                #else: do what is below\n",
    "                \n",
    "                distance = math.sqrt((x - y) ** 2 ) #one-dimensional euclidean formula   \n",
    "                return(print(\"Euclidean Distance of\", query, \"is\", round(distance, 3)))\n",
    "            \n",
    "    except KeyError as keyerror:\n",
    "        print(\"That feature doesn't exist.\", keyerror)\n",
    "    except ValueError as valueerror:\n",
    "        print(\"Your entry is invalid, please make sure your entry was the correct format.\")\n",
    "    except TypeError as typeerror:\n",
    "        print(\"Invalid type entered.\", typeerror)\n",
    "    except IndexError:\n",
    "        print(\"There was a problem, did you enter your dictionary name correctly?\")\n",
    "    except ZeroDivisionError:\n",
    "        print(\"Sorry, but you cannot divide by 0\")"
   ]
  },
  {
   "cell_type": "code",
   "execution_count": 7,
   "metadata": {},
   "outputs": [
    {
     "name": "stdout",
     "output_type": "stream",
     "text": [
      "Please insert your first id for music features: 30\n",
      "Please insert your second id for music features: 40\n",
      "Do you want to compare a specific feature? Enter no or leave the entry blank if you want to compare all features. \n",
      "Comparing all respective features.\n",
      "\n",
      "'Accoustiness' 0.091\n",
      "'Danceability' 0.023\n",
      "'Energy' 0.062\n",
      "'Liveness' 0.084\n",
      "'Loudness' 3.232\n",
      "'Popularity' 0.0\n",
      "'Speechiness' 0.004\n",
      "'Tempo' 27.398\n",
      "'Valence' 0.158\n"
     ]
    }
   ],
   "source": [
    "try:\n",
    "    euclidean_similarity(features, '','')\n",
    "except TypeError:\n",
    "    print(\"Sorry, did you forget to enter any values? Please make sure you enter dictionary name, ID1 and ID2 to compare.\")"
   ]
  },
  {
   "cell_type": "markdown",
   "metadata": {},
   "source": [
    "## Cosine Similarity Function"
   ]
  },
  {
   "cell_type": "code",
   "execution_count": 9,
   "metadata": {},
   "outputs": [],
   "source": [
    "def cosine_similarity(dict_name, id1, id2):\n",
    "    import math\n",
    "    \n",
    "    def square_rooted(x):\n",
    "        return round(math.sqrt(sum([a*a for a in x])),3)\n",
    "    \n",
    "    def cosine(x, y):\n",
    "        numerator = sum(a*b for a,b in zip(x,y))\n",
    "        denominator = square_rooted(x)*square_rooted(y)\n",
    "        return round(numerator/float(denominator),3)\n",
    "    \n",
    "    try:   \n",
    "        dict_name = dict_name\n",
    "    \n",
    "        if id1 == '':\n",
    "            id1 = int(input(\"Please insert your first id for music features: \"))\n",
    "        else:\n",
    "            id1 = id1\n",
    "        \n",
    "        if id2 == '':\n",
    "            id2 = int(input(\"Please insert your second id for music features: \"))\n",
    "        else:\n",
    "            id2 = id2\n",
    "                \n",
    "        if id1 == id2:\n",
    "            print(\"You can't have the same ID, please choose 2 different IDs.\")\n",
    "        else:\n",
    "            query = input(\"Do you want to compare a specific feature? Enter no or leave the entry blank if you want to compare all features. \").capitalize()\n",
    "\n",
    "            if query == '' or query == \"No\".capitalize():\n",
    "                print(\"Comparing all respective features.\\n\")\n",
    "                feature_list = list(dict_name[id1].values())[-9:]\n",
    "                feature_list2 = list(dict_name[id2].values())[-9:]\n",
    "                key_list = str(list(dict_name[id1].keys())[-9:]).split(',')\n",
    "            \n",
    "                for i in range(0,9):\n",
    "                    for value in feature_list, feature_list2:\n",
    "                        if i == 5: #divisible by zero issue comes up if this is not present\n",
    "                            continue\n",
    "                        x = (feature_list[i]) \n",
    "                        y = (feature_list2[i]) \n",
    "                        distance = cosine([x],[y])\n",
    "                    print(key_list[i].strip('[]').strip(' '), round(distance, 3))\n",
    "            \n",
    "            else:\n",
    "                x = dict_name[id1][query]\n",
    "                y = dict_name[id2][query]\n",
    "                \n",
    "                #if len(list(x)) or len(list(y)) > 1:\n",
    "                    #compare them all\n",
    "                #else: do what is below\n",
    "                \n",
    "                distance = cosine([x],[y])\n",
    "                print(\"Cosine Similarity of\", query, \"is\", round(distance, 3))\n",
    "            \n",
    "    except KeyError as keyerror:\n",
    "        print(\"That feature doesn't exist.\", keyerror)\n",
    "    except ValueError as valueerror:\n",
    "        print(\"Your entry is invalid, please make sure your entry was the correct format.\")\n",
    "    except TypeError as typeerror:\n",
    "        print(\"Invalid type entered.\", typeerror)\n",
    "    except IndexError:\n",
    "        print(\"There was a problem, did you enter your dictionary name correctly?\")\n",
    "    except ZeroDivisionError:\n",
    "        print(\"Sorry, but you cannot divide by 0\")"
   ]
  },
  {
   "cell_type": "code",
   "execution_count": 10,
   "metadata": {},
   "outputs": [
    {
     "name": "stdout",
     "output_type": "stream",
     "text": [
      "Do you want to compare a specific feature? Enter no or leave the entry blank if you want to compare all features. \n",
      "Comparing all respective features.\n",
      "\n",
      "'Accoustiness' 1.0\n",
      "'Danceability' 1.0\n",
      "'Energy' 1.0\n",
      "'Liveness' 1.0\n",
      "'Loudness' 1.0\n",
      "'Popularity' 1.0\n",
      "'Speechiness' 1.0\n",
      "'Tempo' 1.0\n",
      "'Valence' 1.0\n"
     ]
    }
   ],
   "source": [
    "cosine_similarity(features, 30, 40)"
   ]
  },
  {
   "cell_type": "code",
   "execution_count": 11,
   "metadata": {},
   "outputs": [
    {
     "name": "stdout",
     "output_type": "stream",
     "text": [
      "0.763\n"
     ]
    }
   ],
   "source": [
    "import math\n",
    "def square_rooted(x):\n",
    "    return round(math.sqrt(sum([a*a for a in x])),3)\n",
    "    \n",
    "def cosine(x, y):\n",
    "    numerator = sum(a*b for a,b in zip(x,y))\n",
    "    denominator = square_rooted(x)*square_rooted(y)\n",
    "    return round(numerator/float(denominator),3)\n",
    "\n",
    "print(cosine([3, 4, 54], [43,54,67.8]))"
   ]
  },
  {
   "cell_type": "markdown",
   "metadata": {},
   "source": [
    "## Pearson Correlation Similarity Function"
   ]
  },
  {
   "cell_type": "code",
   "execution_count": 12,
   "metadata": {},
   "outputs": [],
   "source": [
    "def pearson_similarity(dict_name, id1, id2):\n",
    "    import math\n",
    "    import numpy as np\n",
    "    \n",
    "    try:   \n",
    "        dict_name = dict_name\n",
    "    \n",
    "        if id1 == '':\n",
    "            id1 = int(input(\"Please insert your first id for music features: \"))\n",
    "        else:\n",
    "            id1 = id1\n",
    "        \n",
    "        if id2 == '':\n",
    "            id2 = int(input(\"Please insert your second id for music features: \"))\n",
    "        else:\n",
    "            id2 = id2\n",
    "                \n",
    "        if id1 == id2:\n",
    "            print(\"You can't have the same ID, please choose 2 different IDs.\")\n",
    "        else:\n",
    "            query = input(\"Do you want to compare a specific feature? Enter no or leave the entry blank if you want to compare all features. \").capitalize()\n",
    "\n",
    "            if query == '' or query == \"No\".capitalize():\n",
    "                print(\"Comparing all respective features.\\n\")\n",
    "                feature_list = list(dict_name[id1].values())[-9:]\n",
    "                feature_list2 = list(dict_name[id2].values())[-9:]\n",
    "                key_list = str(list(dict_name[id1].keys())[-9:]).split(',')\n",
    "            \n",
    "                for i in range(0,9):\n",
    "                    for value in feature_list, feature_list2:\n",
    "                        #if i == 5: #skip popularity\n",
    "                        #    continue\n",
    "                        x = (feature_list[i]) \n",
    "                        y = (feature_list2[i]) \n",
    "                        pearson_corr = np.corrcoef([x,y])\n",
    "                    print(key_list[i].strip('[]').strip(' '), pearson_corr)\n",
    "            \n",
    "            else:\n",
    "                x = dict_name[id1][query]\n",
    "                y = dict_name[id2][query]\n",
    "                \n",
    "                #if len(list(x)) or len(list(y)) > 1:\n",
    "                    #compare them all\n",
    "                #else: do what is below\n",
    "                \n",
    "                pearson_corr = np.corrcoef([x,y])\n",
    "                return(pearson_corr)\n",
    "            \n",
    "    except KeyError as keyerror:\n",
    "        print(\"That feature doesn't exist.\", keyerror)\n",
    "    except ValueError as valueerror:\n",
    "        print(\"Your entry is invalid, please make sure your entry was the correct format.\", valueerror)\n",
    "    except TypeError as typeerror:\n",
    "        print(\"Invalid type entered.\", typeerror)\n",
    "    except IndexError:\n",
    "        print(\"There was a problem, did you enter your dictionary name correctly?\")\n",
    "    except ZeroDivisionError:\n",
    "        print(\"Sorry, but you cannot divide by 0\")"
   ]
  },
  {
   "cell_type": "code",
   "execution_count": 13,
   "metadata": {},
   "outputs": [
    {
     "name": "stdout",
     "output_type": "stream",
     "text": [
      "Do you want to compare a specific feature? Enter no or leave the entry blank if you want to compare all features. \n",
      "Comparing all respective features.\n",
      "\n",
      "'Accoustiness' 1.0\n",
      "'Danceability' 1.0\n",
      "'Energy' 1.0\n",
      "'Liveness' 1.0\n",
      "'Loudness' 1.0\n",
      "'Popularity' nan\n",
      "'Speechiness' 1.0\n",
      "'Tempo' 1.0\n",
      "'Valence' 1.0\n"
     ]
    }
   ],
   "source": [
    "pearson_similarity(features, 30, 40)"
   ]
  },
  {
   "cell_type": "markdown",
   "metadata": {},
   "source": [
    "## Jaccard Similarity Function"
   ]
  },
  {
   "cell_type": "markdown",
   "metadata": {},
   "source": [
    "J(A, B) = |A∩B| / |A∪B|"
   ]
  },
  {
   "cell_type": "code",
   "execution_count": 14,
   "metadata": {},
   "outputs": [],
   "source": [
    "def jaccard_similarity(dict_name, id1, id2):\n",
    "    import math\n",
    "    \n",
    "    def jaccard(x, y):\n",
    "        intersection = len(list(set(x).intersection(y)))\n",
    "        union = (len(x) + len(y)) - intersection\n",
    "        return float(intersection) / union\n",
    "    \n",
    "    try:   \n",
    "        dict_name = dict_name\n",
    "    \n",
    "        if id1 == '':\n",
    "            id1 = int(input(\"Please insert your first id for music features: \"))\n",
    "        else:\n",
    "            id1 = id1\n",
    "        \n",
    "        if id2 == '':\n",
    "            id2 = int(input(\"Please insert your second id for music features: \"))\n",
    "        else:\n",
    "            id2 = id2\n",
    "                \n",
    "        if id1 == id2:\n",
    "            print(\"You can't have the same ID, please choose 2 different IDs.\")\n",
    "        else:\n",
    "            query = input(\"Do you want to compare a specific feature? Enter no or leave the entry blank if you want to compare all features. \").capitalize()\n",
    "\n",
    "            if query == '' or query == \"No\".capitalize():\n",
    "                print(\"Comparing all respective features.\\n\")\n",
    "                feature_list = list(dict_name[id1].values())[-9:]\n",
    "                feature_list2 = list(dict_name[id2].values())[-9:]\n",
    "                key_list = str(list(dict_name[id1].keys())[-9:]).split(',')\n",
    "            \n",
    "                for i in range(0,9):\n",
    "                    for value in feature_list, feature_list2:\n",
    "                        x = (feature_list[i]) \n",
    "                        y = (feature_list2[i]) \n",
    "                        distance = jaccard([x],[y])\n",
    "                    print(\"Jaccard Similarity:\", key_list[i].strip('[]').strip(' '), round(distance, 3))\n",
    "                    print(\"Jaccard Distance:  \", key_list[i].strip('[]').strip(' '), (1 - round(distance, 3)))\n",
    "            \n",
    "            else:\n",
    "                x = dict_name[id1][query]\n",
    "                y = dict_name[id2][query]\n",
    "                \n",
    "                #if len(list(x)) or len(list(y)) > 1:\n",
    "                    #compare them all\n",
    "                #else: do what is below\n",
    "                \n",
    "                distance = jaccard([x],[y])\n",
    "                print(\"Jaccard Similarity of\", query, \"is\", round(distance, 3))\n",
    "                print(\"Jaccard Distance of\", query, \"is\", (1 - round(distance, 3)))\n",
    "            \n",
    "    except KeyError as keyerror:\n",
    "        print(\"That feature doesn't exist.\", keyerror)\n",
    "    except ValueError as valueerror:\n",
    "        print(\"Your entry is invalid, please make sure your entry was the correct format.\")\n",
    "    except TypeError as typeerror:\n",
    "        print(\"Invalid type entered.\", typeerror)\n",
    "    except IndexError:\n",
    "        print(\"There was a problem, did you enter your dictionary name correctly?\")\n",
    "    except ZeroDivisionError:\n",
    "        print(\"Sorry, but you cannot divide by 0\")"
   ]
  },
  {
   "cell_type": "code",
   "execution_count": 15,
   "metadata": {},
   "outputs": [
    {
     "name": "stdout",
     "output_type": "stream",
     "text": [
      "Do you want to compare a specific feature? Enter no or leave the entry blank if you want to compare all features. \n",
      "Comparing all respective features.\n",
      "\n",
      "Jaccard Similarity: 'Accoustiness' 0.0\n",
      "Jaccard Distance:   'Accoustiness' 1.0\n",
      "Jaccard Similarity: 'Danceability' 0.0\n",
      "Jaccard Distance:   'Danceability' 1.0\n",
      "Jaccard Similarity: 'Energy' 0.0\n",
      "Jaccard Distance:   'Energy' 1.0\n",
      "Jaccard Similarity: 'Liveness' 0.0\n",
      "Jaccard Distance:   'Liveness' 1.0\n",
      "Jaccard Similarity: 'Loudness' 0.0\n",
      "Jaccard Distance:   'Loudness' 1.0\n",
      "Jaccard Similarity: 'Popularity' 1.0\n",
      "Jaccard Distance:   'Popularity' 0.0\n",
      "Jaccard Similarity: 'Speechiness' 0.0\n",
      "Jaccard Distance:   'Speechiness' 1.0\n",
      "Jaccard Similarity: 'Tempo' 0.0\n",
      "Jaccard Distance:   'Tempo' 1.0\n",
      "Jaccard Similarity: 'Valence' 0.0\n",
      "Jaccard Distance:   'Valence' 1.0\n"
     ]
    }
   ],
   "source": [
    "jaccard_similarity(features, 30, 40)"
   ]
  },
  {
   "cell_type": "code",
   "execution_count": 16,
   "metadata": {},
   "outputs": [
    {
     "name": "stdout",
     "output_type": "stream",
     "text": [
      "1\n",
      "3\n"
     ]
    },
    {
     "data": {
      "text/plain": [
       "0.3333333333333333"
      ]
     },
     "execution_count": 16,
     "metadata": {},
     "output_type": "execute_result"
    }
   ],
   "source": [
    "def jaccard(x, y):\n",
    "    intersection = len(list(set(x).intersection(y)))\n",
    "    print(intersection)\n",
    "    union = (len(x) + len(y)) - intersection\n",
    "    print(union)\n",
    "    return float(intersection) / union\n",
    "\n",
    "jaccard([54.3, 25.4], [54.3, 432.112])"
   ]
  },
  {
   "cell_type": "markdown",
   "metadata": {},
   "source": [
    "## Manhattan Similarity Function"
   ]
  },
  {
   "attachments": {
    "image.png": {
     "image/png": "[encoded data removed]"
    }
   },
   "cell_type": "markdown",
   "metadata": {},
   "source": [
    "![image.png](attachment:image.png)"
   ]
  },
  {
   "cell_type": "code",
   "execution_count": 17,
   "metadata": {},
   "outputs": [],
   "source": [
    "def manhattan_similarity(dict_name, id1, id2):\n",
    "    import math\n",
    "    \n",
    "    try:   \n",
    "        dict_name = dict_name\n",
    "    \n",
    "        if id1 == '':\n",
    "            id1 = int(input(\"Please insert your first id for music features: \"))\n",
    "        else:\n",
    "            id1 = id1\n",
    "        \n",
    "        if id2 == '':\n",
    "            id2 = int(input(\"Please insert your second id for music features: \"))\n",
    "        else:\n",
    "            id2 = id2\n",
    "                \n",
    "        if id1 == id2:\n",
    "            print(\"You can't have the same ID, please choose 2 different IDs.\")\n",
    "        else:\n",
    "            query = input(\"Do you want to compare a specific feature? Enter no or leave the entry blank if you want to compare all features. \").capitalize()\n",
    "\n",
    "            if query == '' or query == \"No\".capitalize():\n",
    "                print(\"Comparing all respective features.\\n\")\n",
    "                feature_list = list(dict_name[id1].values())[-9:]\n",
    "                feature_list2 = list(dict_name[id2].values())[-9:]\n",
    "                key_list = str(list(dict_name[id1].keys())[-9:]).split(',')\n",
    "            \n",
    "                for i in range(0,9):\n",
    "                    for value in feature_list, feature_list2:\n",
    "                        x = (feature_list[i]) \n",
    "                        y = (feature_list2[i]) \n",
    "                        distance = abs(x - y) #one-dimensional manhattan\n",
    "                    print(key_list[i].strip('[]').strip(' '), round(distance, 3))\n",
    "            \n",
    "            else:\n",
    "                x = dict_name[id1][query]\n",
    "                y = dict_name[id2][query]\n",
    "                \n",
    "                #if len(list(x)) or len(list(y)) > 1:\n",
    "                    #compare them all\n",
    "                #else: do what is below\n",
    "                \n",
    "                distance = abs(x - y) #one-dimensional manhattan  \n",
    "                return(print(\"Manhattan Distance of\", query, \"is\", round(distance, 3)))\n",
    "            \n",
    "    except KeyError as keyerror:\n",
    "        print(\"That feature doesn't exist.\", keyerror)\n",
    "    except ValueError as valueerror:\n",
    "        print(\"Your entry is invalid, please make sure your entry was the correct format.\")\n",
    "    except TypeError as typeerror:\n",
    "        print(\"Invalid type entered.\", typeerror)\n",
    "    except IndexError:\n",
    "        print(\"There was a problem, did you enter your dictionary name correctly?\")\n",
    "    except ZeroDivisionError:\n",
    "        print(\"Sorry, but you cannot divide by 0\")"
   ]
  },
  {
   "cell_type": "code",
   "execution_count": 18,
   "metadata": {},
   "outputs": [
    {
     "name": "stdout",
     "output_type": "stream",
     "text": [
      "Do you want to compare a specific feature? Enter no or leave the entry blank if you want to compare all features. \n",
      "Comparing all respective features.\n",
      "\n",
      "'Accoustiness' 0.755\n",
      "'Danceability' 0.153\n",
      "'Energy' 0.124\n",
      "'Liveness' 0.291\n",
      "'Loudness' 0.701\n",
      "'Popularity' 42.0\n",
      "'Speechiness' 0.893\n",
      "'Tempo' 48.182\n",
      "'Valence' 0.377\n"
     ]
    }
   ],
   "source": [
    "manhattan_similarity(features, 6000, 40350)"
   ]
  },
  {
   "cell_type": "code",
   "execution_count": 19,
   "metadata": {},
   "outputs": [
    {
     "name": "stdout",
     "output_type": "stream",
     "text": [
      "Do you want to compare a specific feature? Enter no or leave the entry blank if you want to compare all features. \n",
      "Comparing all respective features.\n",
      "\n",
      "'Accoustiness' 0.091\n",
      "'Danceability' 0.023\n",
      "'Energy' 0.062\n",
      "'Liveness' 0.084\n",
      "'Loudness' 3.232\n",
      "'Popularity' 0.0\n",
      "'Speechiness' 0.004\n",
      "'Tempo' 27.398\n",
      "'Valence' 0.158\n",
      "Do you want to compare a specific feature? Enter no or leave the entry blank if you want to compare all features. \n",
      "Comparing all respective features.\n",
      "\n",
      "'Accoustiness' 1.0\n",
      "'Danceability' 1.0\n",
      "'Energy' 1.0\n",
      "'Liveness' 1.0\n",
      "'Loudness' 1.0\n",
      "'Popularity' 1.0\n",
      "'Speechiness' 1.0\n",
      "'Tempo' 1.0\n",
      "'Valence' 1.0\n",
      "Do you want to compare a specific feature? Enter no or leave the entry blank if you want to compare all features. \n",
      "Comparing all respective features.\n",
      "\n",
      "'Accoustiness' 1.0\n",
      "'Danceability' 1.0\n",
      "'Energy' 1.0\n",
      "'Liveness' 1.0\n",
      "'Loudness' 1.0\n",
      "'Popularity' nan\n",
      "'Speechiness' 1.0\n",
      "'Tempo' 1.0\n",
      "'Valence' 1.0\n",
      "Do you want to compare a specific feature? Enter no or leave the entry blank if you want to compare all features. \n",
      "Comparing all respective features.\n",
      "\n",
      "Jaccard Similarity: 'Accoustiness' 0.0\n",
      "Jaccard Distance:   'Accoustiness' 1.0\n",
      "Jaccard Similarity: 'Danceability' 0.0\n",
      "Jaccard Distance:   'Danceability' 1.0\n",
      "Jaccard Similarity: 'Energy' 0.0\n",
      "Jaccard Distance:   'Energy' 1.0\n",
      "Jaccard Similarity: 'Liveness' 0.0\n",
      "Jaccard Distance:   'Liveness' 1.0\n",
      "Jaccard Similarity: 'Loudness' 0.0\n",
      "Jaccard Distance:   'Loudness' 1.0\n",
      "Jaccard Similarity: 'Popularity' 1.0\n",
      "Jaccard Distance:   'Popularity' 0.0\n",
      "Jaccard Similarity: 'Speechiness' 0.0\n",
      "Jaccard Distance:   'Speechiness' 1.0\n",
      "Jaccard Similarity: 'Tempo' 0.0\n",
      "Jaccard Distance:   'Tempo' 1.0\n",
      "Jaccard Similarity: 'Valence' 0.0\n",
      "Jaccard Distance:   'Valence' 1.0\n",
      "Do you want to compare a specific feature? Enter no or leave the entry blank if you want to compare all features. \n",
      "Comparing all respective features.\n",
      "\n",
      "'Accoustiness' 0.091\n",
      "'Danceability' 0.023\n",
      "'Energy' 0.062\n",
      "'Liveness' 0.084\n",
      "'Loudness' 3.232\n",
      "'Popularity' 0.0\n",
      "'Speechiness' 0.004\n",
      "'Tempo' 27.398\n",
      "'Valence' 0.158\n"
     ]
    }
   ],
   "source": [
    "euclidean_similarity(features, 30, 40)\n",
    "cosine_similarity(features, 30, 40)\n",
    "pearson_similarity(features, 30, 40)\n",
    "jaccard_similarity(features, 30, 40)\n",
    "manhattan_similarity(features, 30, 40)"
   ]
  },
  {
   "cell_type": "code",
   "execution_count": 178,
   "metadata": {},
   "outputs": [
    {
     "data": {
      "text/plain": [
       "{'ID': '6OJjveoYwJdIt76y0Pxpxw',\n",
       " 'Artists': 'Carl Woitschach',\n",
       " 'Song Name': 'Per aspera ad astra',\n",
       " 'Accoustiness': 0.988,\n",
       " 'Danceability': 0.555,\n",
       " 'Energy': 0.421,\n",
       " 'Liveness': 0.105,\n",
       " 'Loudness': -9.878,\n",
       " 'Popularity': 0.0,\n",
       " 'Speechiness': 0.0474,\n",
       " 'Tempo': 123.31,\n",
       " 'Valence': 0.857}"
      ]
     },
     "execution_count": 178,
     "metadata": {},
     "output_type": "execute_result"
    }
   ],
   "source": [
    "artists[8]"
   ]
  },
  {
   "cell_type": "code",
   "execution_count": 175,
   "metadata": {},
   "outputs": [
    {
     "data": {
      "text/plain": [
       "{'ID': '6N6tiFZ9vLTSOIxkj8qKrd',\n",
       " 'Artists': '\"Frédéric Chopin/ Vladimir Horowitz\"',\n",
       " 'Song Name': '\"Polonaise-Fantaisie in A-Flat Major/ Op. 61\"',\n",
       " 'Accoustiness': 0.99,\n",
       " 'Danceability': 0.21,\n",
       " 'Energy': 0.204,\n",
       " 'Liveness': 0.098,\n",
       " 'Loudness': -16.829,\n",
       " 'Popularity': 1.0,\n",
       " 'Speechiness': 0.0424,\n",
       " 'Tempo': 62.149,\n",
       " 'Valence': 0.0693}"
      ]
     },
     "execution_count": 175,
     "metadata": {},
     "output_type": "execute_result"
    }
   ],
   "source": [
    "artists[5]"
   ]
  }
 ],
 "metadata": {
  "kernelspec": {
   "display_name": "Python 3",
   "language": "python",
   "name": "python3"
  },
  "language_info": {
   "codemirror_mode": {
    "name": "ipython",
    "version": 3
   },
   "file_extension": ".py",
   "mimetype": "text/x-python",
   "name": "python",
   "nbconvert_exporter": "python",
   "pygments_lexer": "ipython3",
   "version": "3.7.4"
  }
 },
 "nbformat": 4,
 "nbformat_minor": 4
}
